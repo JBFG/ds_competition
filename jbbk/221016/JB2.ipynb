{
 "cells": [
  {
   "cell_type": "code",
   "execution_count": 1,
   "id": "846c1ec8-a30f-4e19-aa89-efa8cabd5428",
   "metadata": {},
   "outputs": [],
   "source": [
    "from jbfg.pandas_utils  import *"
   ]
  },
  {
   "cell_type": "code",
   "execution_count": 2,
   "id": "0255bf61-c74e-4540-a047-3c541814a222",
   "metadata": {},
   "outputs": [],
   "source": [
    "import pandas as pd"
   ]
  },
  {
   "cell_type": "code",
   "execution_count": 4,
   "id": "2f29fa71-f2a1-40c7-a11a-1f5b5565791e",
   "metadata": {},
   "outputs": [],
   "source": [
    "schema = 'l2_jbbk_extnl'"
   ]
  },
  {
   "cell_type": "code",
   "execution_count": 5,
   "id": "bef41017-51f7-414a-b7a9-a85709247b9a",
   "metadata": {},
   "outputs": [],
   "source": [
    "sql1 = 'SELECT * FROM products_info';\n",
    "sql2 = 'SELECT * FROM train_x_past';\n",
    "sql3 = 'SELECT * FROM train_x_current';\n",
    "sql4 = 'SELECT * FROM train_y';\n",
    "sql5 = 'SELECT * FROM test_x_past';\n",
    "sql6 = 'SELECT * FROM test_x_current';"
   ]
  },
  {
   "cell_type": "code",
   "execution_count": 7,
   "id": "70b2308c-c71f-4ce8-9e42-7cc1108daad7",
   "metadata": {},
   "outputs": [],
   "source": [
    "df_products_info = get_df(sql1, schema);\n",
    "df_train_x_past = get_df(sql2, schema);\n",
    "df_train_x_current = get_df(sql3, schema);\n",
    "df_train_y        = get_df(sql4, schema);\n",
    "df_test_x_past    = get_df(sql5, schema);\n",
    "df_test_x_current = get_df(sql6, schema);"
   ]
  },
  {
   "cell_type": "code",
   "execution_count": 8,
   "id": "caff75aa-3aee-4e18-bfc2-03303d905dfb",
   "metadata": {},
   "outputs": [
    {
     "data": {
      "text/plain": [
       "Index(['product_id', 'name', 'category_id', 'division_id', 'category_name',\n",
       "       'division_name'],\n",
       "      dtype='object')"
      ]
     },
     "execution_count": 8,
     "metadata": {},
     "output_type": "execute_result"
    }
   ],
   "source": [
    "df_products_info.columns.str.replace('products_id','product_id')"
   ]
  },
  {
   "cell_type": "code",
   "execution_count": 9,
   "id": "a3dc1673-349c-4c4e-bb24-ee335de97914",
   "metadata": {},
   "outputs": [
    {
     "data": {
      "text/html": [
       "<div>\n",
       "<style scoped>\n",
       "    .dataframe tbody tr th:only-of-type {\n",
       "        vertical-align: middle;\n",
       "    }\n",
       "\n",
       "    .dataframe tbody tr th {\n",
       "        vertical-align: top;\n",
       "    }\n",
       "\n",
       "    .dataframe thead th {\n",
       "        text-align: right;\n",
       "    }\n",
       "</style>\n",
       "<table border=\"1\" class=\"dataframe\">\n",
       "  <thead>\n",
       "    <tr style=\"text-align: right;\">\n",
       "      <th></th>\n",
       "      <th>product_id</th>\n",
       "      <th>name</th>\n",
       "      <th>category_id</th>\n",
       "      <th>division_id</th>\n",
       "      <th>category_name</th>\n",
       "      <th>division_name</th>\n",
       "    </tr>\n",
       "  </thead>\n",
       "  <tbody>\n",
       "    <tr>\n",
       "      <th>0</th>\n",
       "      <td>21709</td>\n",
       "      <td>Sparkling Lemon Water</td>\n",
       "      <td>115</td>\n",
       "      <td>7</td>\n",
       "      <td>water seltzer sparkling water</td>\n",
       "      <td>beverages</td>\n",
       "    </tr>\n",
       "    <tr>\n",
       "      <th>1</th>\n",
       "      <td>20995</td>\n",
       "      <td>Organic Broccoli Florets</td>\n",
       "      <td>116</td>\n",
       "      <td>1</td>\n",
       "      <td>frozen produce</td>\n",
       "      <td>frozen</td>\n",
       "    </tr>\n",
       "    <tr>\n",
       "      <th>2</th>\n",
       "      <td>33000</td>\n",
       "      <td>Pure Irish Butter</td>\n",
       "      <td>36</td>\n",
       "      <td>16</td>\n",
       "      <td>butter</td>\n",
       "      <td>dairy eggs</td>\n",
       "    </tr>\n",
       "    <tr>\n",
       "      <th>3</th>\n",
       "      <td>7781</td>\n",
       "      <td>Organic Sticks Low Moisture Part Skim Mozzarel...</td>\n",
       "      <td>21</td>\n",
       "      <td>16</td>\n",
       "      <td>packaged cheese</td>\n",
       "      <td>dairy eggs</td>\n",
       "    </tr>\n",
       "    <tr>\n",
       "      <th>4</th>\n",
       "      <td>47144</td>\n",
       "      <td>Unsweetened Original Almond Breeze Almond Milk</td>\n",
       "      <td>91</td>\n",
       "      <td>16</td>\n",
       "      <td>soy lactosefree</td>\n",
       "      <td>dairy eggs</td>\n",
       "    </tr>\n",
       "  </tbody>\n",
       "</table>\n",
       "</div>"
      ],
      "text/plain": [
       "  product_id                                               name category_id  \\\n",
       "0      21709                              Sparkling Lemon Water         115   \n",
       "1      20995                           Organic Broccoli Florets         116   \n",
       "2      33000                                  Pure Irish Butter          36   \n",
       "3       7781  Organic Sticks Low Moisture Part Skim Mozzarel...          21   \n",
       "4      47144     Unsweetened Original Almond Breeze Almond Milk          91   \n",
       "\n",
       "  division_id                  category_name division_name  \n",
       "0           7  water seltzer sparkling water     beverages  \n",
       "1           1                 frozen produce        frozen  \n",
       "2          16                         butter    dairy eggs  \n",
       "3          16                packaged cheese    dairy eggs  \n",
       "4          16                soy lactosefree    dairy eggs  "
      ]
     },
     "execution_count": 9,
     "metadata": {},
     "output_type": "execute_result"
    }
   ],
   "source": [
    "df_products_info.head()"
   ]
  },
  {
   "cell_type": "code",
   "execution_count": 12,
   "id": "fb6e3df5-0609-4f2f-9fab-69372141890d",
   "metadata": {},
   "outputs": [
    {
     "data": {
      "text/html": [
       "<div>\n",
       "<style scoped>\n",
       "    .dataframe tbody tr th:only-of-type {\n",
       "        vertical-align: middle;\n",
       "    }\n",
       "\n",
       "    .dataframe tbody tr th {\n",
       "        vertical-align: top;\n",
       "    }\n",
       "\n",
       "    .dataframe thead th {\n",
       "        text-align: right;\n",
       "    }\n",
       "</style>\n",
       "<table border=\"1\" class=\"dataframe\">\n",
       "  <thead>\n",
       "    <tr style=\"text-align: right;\">\n",
       "      <th></th>\n",
       "      <th>order_id</th>\n",
       "      <th>cstno</th>\n",
       "      <th>order_number</th>\n",
       "      <th>week_day</th>\n",
       "      <th>order_hour</th>\n",
       "      <th>order_interval</th>\n",
       "      <th>add_order</th>\n",
       "      <th>is_reordered</th>\n",
       "      <th>product_id</th>\n",
       "    </tr>\n",
       "  </thead>\n",
       "  <tbody>\n",
       "    <tr>\n",
       "      <th>0</th>\n",
       "      <td>717029</td>\n",
       "      <td>196613</td>\n",
       "      <td>15</td>\n",
       "      <td>1</td>\n",
       "      <td>9</td>\n",
       "      <td>3.0</td>\n",
       "      <td>5</td>\n",
       "      <td>0</td>\n",
       "      <td>41220</td>\n",
       "    </tr>\n",
       "    <tr>\n",
       "      <th>1</th>\n",
       "      <td>2325772</td>\n",
       "      <td>196613</td>\n",
       "      <td>35</td>\n",
       "      <td>6</td>\n",
       "      <td>11</td>\n",
       "      <td>2.0</td>\n",
       "      <td>7</td>\n",
       "      <td>1</td>\n",
       "      <td>41220</td>\n",
       "    </tr>\n",
       "    <tr>\n",
       "      <th>2</th>\n",
       "      <td>642668</td>\n",
       "      <td>196613</td>\n",
       "      <td>69</td>\n",
       "      <td>2</td>\n",
       "      <td>16</td>\n",
       "      <td>2.0</td>\n",
       "      <td>11</td>\n",
       "      <td>1</td>\n",
       "      <td>4210</td>\n",
       "    </tr>\n",
       "    <tr>\n",
       "      <th>3</th>\n",
       "      <td>1326515</td>\n",
       "      <td>196613</td>\n",
       "      <td>61</td>\n",
       "      <td>3</td>\n",
       "      <td>19</td>\n",
       "      <td>3.0</td>\n",
       "      <td>3</td>\n",
       "      <td>1</td>\n",
       "      <td>4210</td>\n",
       "    </tr>\n",
       "    <tr>\n",
       "      <th>4</th>\n",
       "      <td>1437845</td>\n",
       "      <td>196613</td>\n",
       "      <td>36</td>\n",
       "      <td>3</td>\n",
       "      <td>15</td>\n",
       "      <td>4.0</td>\n",
       "      <td>16</td>\n",
       "      <td>0</td>\n",
       "      <td>4210</td>\n",
       "    </tr>\n",
       "  </tbody>\n",
       "</table>\n",
       "</div>"
      ],
      "text/plain": [
       "  order_id   cstno order_number week_day order_hour order_interval add_order  \\\n",
       "0   717029  196613           15        1          9            3.0         5   \n",
       "1  2325772  196613           35        6         11            2.0         7   \n",
       "2   642668  196613           69        2         16            2.0        11   \n",
       "3  1326515  196613           61        3         19            3.0         3   \n",
       "4  1437845  196613           36        3         15            4.0        16   \n",
       "\n",
       "  is_reordered product_id  \n",
       "0            0      41220  \n",
       "1            1      41220  \n",
       "2            1       4210  \n",
       "3            1       4210  \n",
       "4            0       4210  "
      ]
     },
     "execution_count": 12,
     "metadata": {},
     "output_type": "execute_result"
    }
   ],
   "source": [
    "df_train_x_past.head()"
   ]
  },
  {
   "cell_type": "code",
   "execution_count": 13,
   "id": "d93c2d88-aa3f-4827-9925-4d5c0fc7fbbc",
   "metadata": {},
   "outputs": [
    {
     "data": {
      "text/html": [
       "<div>\n",
       "<style scoped>\n",
       "    .dataframe tbody tr th:only-of-type {\n",
       "        vertical-align: middle;\n",
       "    }\n",
       "\n",
       "    .dataframe tbody tr th {\n",
       "        vertical-align: top;\n",
       "    }\n",
       "\n",
       "    .dataframe thead th {\n",
       "        text-align: right;\n",
       "    }\n",
       "</style>\n",
       "<table border=\"1\" class=\"dataframe\">\n",
       "  <thead>\n",
       "    <tr style=\"text-align: right;\">\n",
       "      <th></th>\n",
       "      <th>order_id</th>\n",
       "      <th>cstno</th>\n",
       "      <th>order_number</th>\n",
       "      <th>week_day</th>\n",
       "      <th>order_hour</th>\n",
       "      <th>order_interval</th>\n",
       "      <th>add_order</th>\n",
       "      <th>is_reordered</th>\n",
       "    </tr>\n",
       "  </thead>\n",
       "  <tbody>\n",
       "    <tr>\n",
       "      <th>0</th>\n",
       "      <td>806422</td>\n",
       "      <td>41116</td>\n",
       "      <td>47</td>\n",
       "      <td>5</td>\n",
       "      <td>18</td>\n",
       "      <td>3.0</td>\n",
       "      <td>4</td>\n",
       "      <td>1</td>\n",
       "    </tr>\n",
       "    <tr>\n",
       "      <th>1</th>\n",
       "      <td>2146033</td>\n",
       "      <td>127113</td>\n",
       "      <td>45</td>\n",
       "      <td>1</td>\n",
       "      <td>10</td>\n",
       "      <td>7.0</td>\n",
       "      <td>24</td>\n",
       "      <td>1</td>\n",
       "    </tr>\n",
       "    <tr>\n",
       "      <th>2</th>\n",
       "      <td>3055498</td>\n",
       "      <td>140168</td>\n",
       "      <td>45</td>\n",
       "      <td>5</td>\n",
       "      <td>10</td>\n",
       "      <td>26.0</td>\n",
       "      <td>11</td>\n",
       "      <td>1</td>\n",
       "    </tr>\n",
       "    <tr>\n",
       "      <th>3</th>\n",
       "      <td>3267527</td>\n",
       "      <td>60604</td>\n",
       "      <td>52</td>\n",
       "      <td>0</td>\n",
       "      <td>16</td>\n",
       "      <td>8.0</td>\n",
       "      <td>2</td>\n",
       "      <td>1</td>\n",
       "    </tr>\n",
       "    <tr>\n",
       "      <th>4</th>\n",
       "      <td>3125992</td>\n",
       "      <td>136554</td>\n",
       "      <td>46</td>\n",
       "      <td>4</td>\n",
       "      <td>9</td>\n",
       "      <td>5.0</td>\n",
       "      <td>2</td>\n",
       "      <td>0</td>\n",
       "    </tr>\n",
       "  </tbody>\n",
       "</table>\n",
       "</div>"
      ],
      "text/plain": [
       "  order_id   cstno order_number week_day order_hour order_interval add_order  \\\n",
       "0   806422   41116           47        5         18            3.0         4   \n",
       "1  2146033  127113           45        1         10            7.0        24   \n",
       "2  3055498  140168           45        5         10           26.0        11   \n",
       "3  3267527   60604           52        0         16            8.0         2   \n",
       "4  3125992  136554           46        4          9            5.0         2   \n",
       "\n",
       "  is_reordered  \n",
       "0            1  \n",
       "1            1  \n",
       "2            1  \n",
       "3            1  \n",
       "4            0  "
      ]
     },
     "execution_count": 13,
     "metadata": {},
     "output_type": "execute_result"
    }
   ],
   "source": [
    "df_train_x_current.head()"
   ]
  },
  {
   "cell_type": "markdown",
   "id": "5a73b21d-2b76-41fd-a046-ccdad802158a",
   "metadata": {},
   "source": [
    "# 상품구매정보와 상품정보 결합"
   ]
  },
  {
   "cell_type": "code",
   "execution_count": 14,
   "id": "ee3bd239-fcdb-4751-98be-8d85386e8ecf",
   "metadata": {},
   "outputs": [],
   "source": [
    "df_m1 = pd.merge(df_train_x_past, df_products_info, how = 'left', on ='product_id')"
   ]
  },
  {
   "cell_type": "code",
   "execution_count": 11,
   "id": "64b8b48c-8524-4964-b8ff-c747b7ec9f16",
   "metadata": {},
   "outputs": [
    {
     "data": {
      "text/html": [
       "<div>\n",
       "<style scoped>\n",
       "    .dataframe tbody tr th:only-of-type {\n",
       "        vertical-align: middle;\n",
       "    }\n",
       "\n",
       "    .dataframe tbody tr th {\n",
       "        vertical-align: top;\n",
       "    }\n",
       "\n",
       "    .dataframe thead th {\n",
       "        text-align: right;\n",
       "    }\n",
       "</style>\n",
       "<table border=\"1\" class=\"dataframe\">\n",
       "  <thead>\n",
       "    <tr style=\"text-align: right;\">\n",
       "      <th></th>\n",
       "      <th>order_id</th>\n",
       "      <th>cstno</th>\n",
       "      <th>order_number</th>\n",
       "      <th>week_day</th>\n",
       "      <th>order_hour</th>\n",
       "      <th>order_interval</th>\n",
       "      <th>add_order</th>\n",
       "      <th>is_reordered</th>\n",
       "      <th>product_id</th>\n",
       "      <th>name</th>\n",
       "      <th>category_id</th>\n",
       "      <th>division_id</th>\n",
       "      <th>category_name</th>\n",
       "      <th>division_name</th>\n",
       "    </tr>\n",
       "  </thead>\n",
       "  <tbody>\n",
       "    <tr>\n",
       "      <th>0</th>\n",
       "      <td>717029</td>\n",
       "      <td>196613</td>\n",
       "      <td>15</td>\n",
       "      <td>1</td>\n",
       "      <td>9</td>\n",
       "      <td>3.0</td>\n",
       "      <td>5</td>\n",
       "      <td>0</td>\n",
       "      <td>41220</td>\n",
       "      <td>Organic Romaine Lettuce</td>\n",
       "      <td>83</td>\n",
       "      <td>4</td>\n",
       "      <td>fresh vegetables</td>\n",
       "      <td>produce</td>\n",
       "    </tr>\n",
       "    <tr>\n",
       "      <th>1</th>\n",
       "      <td>2325772</td>\n",
       "      <td>196613</td>\n",
       "      <td>35</td>\n",
       "      <td>6</td>\n",
       "      <td>11</td>\n",
       "      <td>2.0</td>\n",
       "      <td>7</td>\n",
       "      <td>1</td>\n",
       "      <td>41220</td>\n",
       "      <td>Organic Romaine Lettuce</td>\n",
       "      <td>83</td>\n",
       "      <td>4</td>\n",
       "      <td>fresh vegetables</td>\n",
       "      <td>produce</td>\n",
       "    </tr>\n",
       "    <tr>\n",
       "      <th>2</th>\n",
       "      <td>642668</td>\n",
       "      <td>196613</td>\n",
       "      <td>69</td>\n",
       "      <td>2</td>\n",
       "      <td>16</td>\n",
       "      <td>2.0</td>\n",
       "      <td>11</td>\n",
       "      <td>1</td>\n",
       "      <td>4210</td>\n",
       "      <td>Whole Milk</td>\n",
       "      <td>84</td>\n",
       "      <td>16</td>\n",
       "      <td>milk</td>\n",
       "      <td>dairy eggs</td>\n",
       "    </tr>\n",
       "    <tr>\n",
       "      <th>3</th>\n",
       "      <td>1326515</td>\n",
       "      <td>196613</td>\n",
       "      <td>61</td>\n",
       "      <td>3</td>\n",
       "      <td>19</td>\n",
       "      <td>3.0</td>\n",
       "      <td>3</td>\n",
       "      <td>1</td>\n",
       "      <td>4210</td>\n",
       "      <td>Whole Milk</td>\n",
       "      <td>84</td>\n",
       "      <td>16</td>\n",
       "      <td>milk</td>\n",
       "      <td>dairy eggs</td>\n",
       "    </tr>\n",
       "    <tr>\n",
       "      <th>4</th>\n",
       "      <td>1437845</td>\n",
       "      <td>196613</td>\n",
       "      <td>36</td>\n",
       "      <td>3</td>\n",
       "      <td>15</td>\n",
       "      <td>4.0</td>\n",
       "      <td>16</td>\n",
       "      <td>0</td>\n",
       "      <td>4210</td>\n",
       "      <td>Whole Milk</td>\n",
       "      <td>84</td>\n",
       "      <td>16</td>\n",
       "      <td>milk</td>\n",
       "      <td>dairy eggs</td>\n",
       "    </tr>\n",
       "  </tbody>\n",
       "</table>\n",
       "</div>"
      ],
      "text/plain": [
       "  order_id   cstno order_number week_day order_hour order_interval add_order  \\\n",
       "0   717029  196613           15        1          9            3.0         5   \n",
       "1  2325772  196613           35        6         11            2.0         7   \n",
       "2   642668  196613           69        2         16            2.0        11   \n",
       "3  1326515  196613           61        3         19            3.0         3   \n",
       "4  1437845  196613           36        3         15            4.0        16   \n",
       "\n",
       "  is_reordered product_id                     name category_id division_id  \\\n",
       "0            0      41220  Organic Romaine Lettuce          83           4   \n",
       "1            1      41220  Organic Romaine Lettuce          83           4   \n",
       "2            1       4210               Whole Milk          84          16   \n",
       "3            1       4210               Whole Milk          84          16   \n",
       "4            0       4210               Whole Milk          84          16   \n",
       "\n",
       "      category_name division_name  \n",
       "0  fresh vegetables       produce  \n",
       "1  fresh vegetables       produce  \n",
       "2              milk    dairy eggs  \n",
       "3              milk    dairy eggs  \n",
       "4              milk    dairy eggs  "
      ]
     },
     "execution_count": 11,
     "metadata": {},
     "output_type": "execute_result"
    }
   ],
   "source": [
    "df_m1.head()"
   ]
  },
  {
   "cell_type": "code",
   "execution_count": null,
   "id": "d5ca3d6f-b821-45d3-96af-adb5935f092e",
   "metadata": {},
   "outputs": [],
   "source": []
  },
  {
   "cell_type": "markdown",
   "id": "9b9ff431-ceba-4c00-be78-b47fe22c45c4",
   "metadata": {},
   "source": [
    "# 데이터 분포 확인"
   ]
  },
  {
   "cell_type": "code",
   "execution_count": 48,
   "id": "0f59250b-583b-4aa2-a2e2-83cd85077e95",
   "metadata": {},
   "outputs": [
    {
     "data": {
      "text/plain": [
       "<matplotlib.axes._subplots.AxesSubplot at 0x7f44ee44d390>"
      ]
     },
     "execution_count": 48,
     "metadata": {},
     "output_type": "execute_result"
    },
    {
     "data": {
      "image/png": "[encoded data removed]",
      "text/plain": [
       "<Figure size 432x288 with 1 Axes>"
      ]
     },
     "metadata": {
      "needs_background": "light"
     },
     "output_type": "display_data"
    }
   ],
   "source": [
    "df_m1['week_day'].value_counts().plot(kind='bar') \n"
   ]
  },
  {
   "cell_type": "markdown",
   "id": "74a812f8-3185-4b71-93d3-00b9e5f8c257",
   "metadata": {},
   "source": [
    "일요일이 가장 구매가 많음"
   ]
  },
  {
   "cell_type": "code",
   "execution_count": 46,
   "id": "9a047de3-3f60-4053-8b39-34e626dbeaff",
   "metadata": {},
   "outputs": [
    {
     "data": {
      "text/plain": [
       "<matplotlib.axes._subplots.AxesSubplot at 0x7f44f0d6d5c0>"
      ]
     },
     "execution_count": 46,
     "metadata": {},
     "output_type": "execute_result"
    },
    {
     "data": {
      "image/png": "[encoded data removed]",
      "text/plain": [
       "<Figure size 432x288 with 1 Axes>"
      ]
     },
     "metadata": {
      "needs_background": "light"
     },
     "output_type": "display_data"
    }
   ],
   "source": [
    "df_m1['is_reordered'].value_counts().plot(kind='bar')"
   ]
  },
  {
   "cell_type": "code",
   "execution_count": null,
   "id": "ea6ecc01-3265-4975-bf32-442dba975811",
   "metadata": {},
   "outputs": [],
   "source": []
  },
  {
   "cell_type": "code",
   "execution_count": null,
   "id": "69c318ef-8f01-4be1-bb87-2293a977cae0",
   "metadata": {},
   "outputs": [],
   "source": []
  },
  {
   "cell_type": "markdown",
   "id": "e10986b7-bc94-4ef8-8514-cb47bf208916",
   "metadata": {},
   "source": [
    "# 결측치 확인"
   ]
  },
  {
   "cell_type": "code",
   "execution_count": 15,
   "id": "adc057d0-e997-4c91-b311-889821a76670",
   "metadata": {},
   "outputs": [
    {
     "data": {
      "text/plain": [
       "order_id          0\n",
       "cstno             0\n",
       "order_number      0\n",
       "week_day          0\n",
       "order_hour        0\n",
       "order_interval    0\n",
       "add_order         0\n",
       "is_reordered      0\n",
       "product_id        0\n",
       "name              0\n",
       "category_id       0\n",
       "division_id       0\n",
       "category_name     0\n",
       "division_name     0\n",
       "dtype: int64"
      ]
     },
     "execution_count": 15,
     "metadata": {},
     "output_type": "execute_result"
    }
   ],
   "source": [
    "pd.isna(df_m1).sum() "
   ]
  },
  {
   "cell_type": "code",
   "execution_count": 33,
   "id": "bd0f1e35-9661-406b-969a-f88f6ca0b3a9",
   "metadata": {},
   "outputs": [
    {
     "data": {
      "text/plain": [
       "0    233220\n",
       "1    223454\n",
       "5    173503\n",
       "6    167028\n",
       "2    157744\n",
       "4    151015\n",
       "3    148008\n",
       "Name: week_day, dtype: int64"
      ]
     },
     "execution_count": 33,
     "metadata": {},
     "output_type": "execute_result"
    }
   ],
   "source": [
    "df_m1['week_day'].value_counts()#sort_values(ascending=False)"
   ]
  },
  {
   "cell_type": "code",
   "execution_count": 34,
   "id": "b8701dc3-4859-4961-85ed-0429da494b2d",
   "metadata": {},
   "outputs": [
    {
     "data": {
      "text/plain": [
       "1    1083774\n",
       "0     170198\n",
       "Name: is_reordered, dtype: int64"
      ]
     },
     "execution_count": 34,
     "metadata": {},
     "output_type": "execute_result"
    }
   ],
   "source": [
    "df_m1['is_reordered'].value_counts()#sort_values(ascending=False)"
   ]
  },
  {
   "cell_type": "code",
   "execution_count": null,
   "id": "b124b6e3-7296-417a-acee-445fa32e77d7",
   "metadata": {},
   "outputs": [],
   "source": []
  },
  {
   "cell_type": "code",
   "execution_count": null,
   "id": "2eaff2a6-87d0-47f2-bafe-e5756801e15d",
   "metadata": {},
   "outputs": [],
   "source": []
  },
  {
   "cell_type": "code",
   "execution_count": null,
   "id": "ae43c66d-6856-4355-a45c-61fc1ec50a2f",
   "metadata": {},
   "outputs": [],
   "source": []
  },
  {
   "cell_type": "code",
   "execution_count": null,
   "id": "cc796254-2f98-4e37-9f1b-fa21129ad062",
   "metadata": {},
   "outputs": [],
   "source": []
  }
 ],
 "metadata": {
  "kernelspec": {
   "display_name": "Python 3",
   "language": "python",
   "name": "python3"
  },
  "language_info": {
   "codemirror_mode": {
    "name": "ipython",
    "version": 3
   },
   "file_extension": ".py",
   "mimetype": "text/x-python",
   "name": "python",
   "nbconvert_exporter": "python",
   "pygments_lexer": "ipython3",
   "version": "3.6.13"
  }
 },
 "nbformat": 4,
 "nbformat_minor": 5
}
