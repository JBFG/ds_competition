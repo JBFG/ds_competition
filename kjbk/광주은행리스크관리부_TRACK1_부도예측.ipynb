{
 "cells": [
  {
   "cell_type": "markdown",
   "metadata": {},
   "source": [
    "# JB금융그룹 2차 데이터 분석 경진대회 Track1\n",
    "- 과제1 : 개인 대출 부도 분석 미 예측 모델링"
   ]
  },
  {
   "cell_type": "code",
   "execution_count": null,
   "metadata": {},
   "outputs": [],
   "source": [
    "import pandas as pd\n",
    "import numpy as np\n",
    "import matplotlib.pylab as plt\n",
    "import seaborn as sns\n",
    "import calendar\n",
    "from datetime import date, datetime, timedelta\n",
    "from dateutil.relativedelta import relativedelta\n",
    "from sklearn import datasets\n",
    "from sklearn.model_selection import train_test_split\n",
    "from sklearn.linear_model import LinearRegression\n",
    "from sklearn.metrics import mean_squared_error\n",
    "from sklearn.experimental import enable_iterative_imputer\n",
    "from sklearn.impute import IterativeImputer\n",
    "from sklearn.metrics import roc_auc_score\n",
    "from impyute.imputation.cs import mice, fast_knn\n",
    "from sklearn.experimental import enable_iterative_imputer\n",
    "from sklearn.impute import IterativeImputer\n",
    "import datawig"
   ]
  },
  {
   "cell_type": "code",
   "execution_count": null,
   "metadata": {},
   "outputs": [],
   "source": [
    "from sklearn.preprocessing import LabelEncoder\n",
    "from sklearn.ensemble import RandomForestClassifier\n",
    "import  sklearn.svm as svm\n",
    "from sklearn.linear_model import LogisticRegression\n",
    "import lightgbm as lgb\n",
    "import xgboost as xgb \n",
    "from imblearn.over_sampling import SMOTE"
   ]
  },
  {
   "cell_type": "code",
   "execution_count": null,
   "metadata": {},
   "outputs": [],
   "source": [
    "from sklearn.preprocessing import MinMaxScaler"
   ]
  },
  {
   "cell_type": "code",
   "execution_count": null,
   "metadata": {},
   "outputs": [],
   "source": [
    "import warnings\n",
    "warnings.filterwarnings('ignore')"
   ]
  },
  {
   "cell_type": "code",
   "execution_count": null,
   "metadata": {},
   "outputs": [],
   "source": [
    "pd.options.display.max_columns =None"
   ]
  },
  {
   "cell_type": "code",
   "execution_count": null,
   "metadata": {},
   "outputs": [],
   "source": [
    "pwd"
   ]
  },
  {
   "cell_type": "markdown",
   "metadata": {},
   "source": [
    "## 1.0.0 READ DATA"
   ]
  },
  {
   "cell_type": "code",
   "execution_count": null,
   "metadata": {},
   "outputs": [],
   "source": [
    "df = pd.read_csv('DATA/loan_customer.csv')"
   ]
  },
  {
   "cell_type": "code",
   "execution_count": null,
   "metadata": {},
   "outputs": [],
   "source": [
    "n_col=[]\n",
    "for i in df.columns:\n",
    "    n_col.append(i.upper())"
   ]
  },
  {
   "cell_type": "code",
   "execution_count": null,
   "metadata": {},
   "outputs": [],
   "source": [
    "df.columns = n_col"
   ]
  },
  {
   "cell_type": "markdown",
   "metadata": {},
   "source": [
    "## 2.0.0 EDA"
   ]
  },
  {
   "cell_type": "code",
   "execution_count": null,
   "metadata": {},
   "outputs": [],
   "source": [
    "df.info()"
   ]
  },
  {
   "cell_type": "markdown",
   "metadata": {},
   "source": [
    "- sk_id_curr : 대출 식별번호 \n",
    "- name_contract_typ  : Cash loans: 일반 대출, Revolving loans: 마이너스 대출\n",
    "- code_gender\t        성별\n",
    "- flag_own_realty\t    자가부동산 보유 여부\n",
    "- cnt_children\t        자녀 수\n",
    "- amt_income_total\t   소득 금액(USD)\n",
    "- amt_credit\t  신용대출 금액(USD)\n",
    "- name_income_type\t소득 유형\n",
    "- name_education_type\t학력\n",
    "- name_family_status\t결혼 상태\n",
    "- name_housing_type\t주거 형태\n",
    "- region_population_relative\t거주 지역의 표준화된 인구\n",
    "- days_birth\t대출 신청 시점에서의 일단위 나이(기준 시점 대비 상대적인 시간)\n",
    "- days_employed\t대출 신청 시점에서의 고객의 근무일수(기준 시점 대비 상대적인 시간)\n",
    "- days_registration\t대출 신청 이전에 고객이 등록정보를 변경한 시점 사이의 일수(기준 시점 대비 상대적인 시간)\n",
    "- days_id_publish\t대출 신청 이전에 고객이 신분증을 변경한 시점 사이의 일수(기준 시점 대비 상대적인 시간)\n",
    "- flag_mobil\t휴대폰 번호 등록 여부\n",
    "- flag_emp_phone\t고용주 연락처 등록 여부\n",
    "- flag_work_phone\t직장 전화번호 등록 여부\n",
    "- flag_phone\t집 전화번호 등록 여부\n",
    "- flag_email\t이메일 주소 등록 여부\n",
    "- region_rating_client\t거주지 등급\n",
    "- weekday_appr_process_start\t대출 신청 요일\n",
    "- hour_appr_process_start\t대출 신청 시간대\n",
    "- reg_city_not_live_city\t고객의 등록지 주소와 실거주지 일치 여부\n",
    "- reg_city_not_work_city\t고객의 등록지 주소와 직장 주소 일치 여부\n",
    "- live_city_not_work_city\t고객의 실거주지와 직장 주소 일치 여부\n",
    "- organization_type\t근무 회사 유형\n",
    "- flag_document_2\t문서 2 제공 여부\n",
    "- flag_document_3\t문서 3 제공 여부\n",
    "- flag_document_4\t문서 4 제공 여부\n",
    "- cb_score_1\t신용점수 1\n",
    "- cb_score_2\t신용점수 2\n",
    "- cb_score_3\t신용점수 3\n",
    "- target\t타겟 변수 (1 - 대출 신청자 중 지정한 일수 동안 한번 이상 대출 분할 지불이 지연된 경우, 0 - 그 외의 경우)\n",
    "\n"
   ]
  },
  {
   "cell_type": "markdown",
   "metadata": {},
   "source": [
    "### 2.1.0 column 타입변경 "
   ]
  },
  {
   "cell_type": "code",
   "execution_count": null,
   "metadata": {},
   "outputs": [],
   "source": [
    "df_st1 = df.copy()"
   ]
  },
  {
   "cell_type": "code",
   "execution_count": null,
   "metadata": {},
   "outputs": [],
   "source": [
    "df_st1 = df_st1.drop('SK_ID_CURR',axis=1)\n"
   ]
  },
  {
   "cell_type": "markdown",
   "metadata": {},
   "source": [
    "- 라벨인코딩된 형태로 존재하는 변수 명목형으로 변경"
   ]
  },
  {
   "cell_type": "code",
   "execution_count": null,
   "metadata": {},
   "outputs": [],
   "source": [
    "df_st1['FLAG_MOBIL'] = df_st1['FLAG_MOBIL'].astype('str')\n",
    "df_st1['FLAG_EMP_PHONE'] = df_st1['FLAG_EMP_PHONE'].astype('str')\n",
    "df_st1['FLAG_WORK_PHONE'] = df_st1['FLAG_WORK_PHONE'].astype('str')\n",
    "df_st1['FLAG_PHONE'] = df_st1['FLAG_PHONE'].astype('str')\n",
    "df_st1['FLAG_EMAIL'] = df_st1['FLAG_EMAIL'].astype('str')\n",
    "df_st1['REGION_RATING_CLIENT'] = df_st1['REGION_RATING_CLIENT'].astype('str')\n",
    "df_st1['HOUR_APPR_PROCESS_START'] = df_st1['HOUR_APPR_PROCESS_START'].astype('str')\n",
    "df_st1['REG_CITY_NOT_LIVE_CITY'] = df_st1['REG_CITY_NOT_LIVE_CITY'].astype('str')\n",
    "df_st1['REG_CITY_NOT_WORK_CITY'] = df_st1['REG_CITY_NOT_WORK_CITY'].astype('str')\n",
    "df_st1['LIVE_CITY_NOT_WORK_CITY'] = df_st1['LIVE_CITY_NOT_WORK_CITY'].astype('str')\n",
    "df_st1['FLAG_DOCUMENT_2'] = df_st1['FLAG_DOCUMENT_2'].astype('str')\n",
    "df_st1['FLAG_DOCUMENT_3'] = df_st1['FLAG_DOCUMENT_3'].astype('str')\n",
    "df_st1['FLAG_DOCUMENT_4'] = df_st1['FLAG_DOCUMENT_4'].astype('str')\n"
   ]
  },
  {
   "cell_type": "code",
   "execution_count": null,
   "metadata": {},
   "outputs": [],
   "source": [
    "df_st1['CNT_CHILDREN']               = df_st1['CNT_CHILDREN'].astype('int')\n",
    "df_st1['AMT_INCOME_TOTAL']           = df_st1['AMT_INCOME_TOTAL'].astype('float64')\n",
    "df_st1['AMT_CREDIT']                 = df_st1['AMT_CREDIT'].astype('float64')\n",
    "df_st1['REGION_POPULATION_RELATIVE'] = df_st1['REGION_POPULATION_RELATIVE'].astype('float64')\n",
    "df_st1['DAYS_BIRTH']                 = df_st1['DAYS_BIRTH'].astype('float64')\n",
    "df_st1['DAYS_EMPLOYED']              = df_st1['DAYS_EMPLOYED'].astype('float64')\n",
    "df_st1['DAYS_REGISTRATION']          = df_st1['DAYS_REGISTRATION'].astype('float64')\n",
    "df_st1['DAYS_ID_PUBLISH']            = df_st1['DAYS_ID_PUBLISH'].astype('float64')\n",
    "df_st1['DAYS_EMPLOYED']              = df_st1['DAYS_EMPLOYED'].astype('float64')\n",
    "df_st1['CB_SCORE_1']                 = df_st1['CB_SCORE_1'].astype('float64')\n",
    "df_st1['CB_SCORE_2']                 = df_st1['CB_SCORE_2'].astype('float64')\n",
    "df_st1['CB_SCORE_3']                 = df_st1['CB_SCORE_3'].astype('float64')"
   ]
  },
  {
   "cell_type": "code",
   "execution_count": null,
   "metadata": {},
   "outputs": [],
   "source": [
    "df_st1['TARGET'] = df_st1['TARGET'].astype('int')"
   ]
  },
  {
   "cell_type": "code",
   "execution_count": null,
   "metadata": {},
   "outputs": [],
   "source": [
    "df_obj = ['NAME_CONTRACT_TYPE','CODE_GENDER','FLAG_OWN_REALTY','NAME_INCOME_TYPE','NAME_EDUCATION_TYPE','NAME_FAMILY_STATUS','NAME_HOUSING_TYPE',\n",
    "        'FLAG_MOBIL','FLAG_EMP_PHONE','FLAG_WORK_PHONE','FLAG_PHONE','FLAG_EMAIL','REGION_RATING_CLIENT','WEEKDAY_APPR_PROCESS_START','HOUR_APPR_PROCESS_START',\n",
    "        'REG_CITY_NOT_LIVE_CITY','REG_CITY_NOT_WORK_CITY','LIVE_CITY_NOT_WORK_CITY','ORGANIZATION_TYPE','FLAG_DOCUMENT_2','FLAG_DOCUMENT_3','FLAG_DOCUMENT_4']"
   ]
  },
  {
   "cell_type": "code",
   "execution_count": null,
   "metadata": {},
   "outputs": [],
   "source": [
    "df_num = list(set(df.columns) - set(df_obj)-set(['TARGET','SK_ID_CURR']))"
   ]
  },
  {
   "cell_type": "code",
   "execution_count": null,
   "metadata": {},
   "outputs": [],
   "source": [
    "df_num"
   ]
  },
  {
   "cell_type": "code",
   "execution_count": null,
   "metadata": {},
   "outputs": [],
   "source": [
    "df_obj_non = ['CODE_GENDER','FLAG_OWN_REALTY','ORGANIZATION_TYPE']\n",
    "df_num_non = ['AMT_CREDIT','REGION_POPULATION_RELATIVE','DAYS_BIRTH','DAYS_EMPLOYED','DAYS_REGISTRATION','DAYS_ID_PUBLISH','CB_SCORE_1','CB_SCORE_2','CB_SCORE_3']\n",
    "df_num_notn = list(set(df_num)-set(df_num_non))\n",
    "df_obj_notn = list(set(df_obj)-set(df_obj_non))\n",
    "df_notn = list(set(df.columns) - set(df_num_non)-set(df_obj_non)-set(['TARGET','SK_ID_CURR']) -set(['FLAG_MOBIL','FLAG_DOCUMENT_2','FLAG_DOCUMENT_4']))"
   ]
  },
  {
   "cell_type": "markdown",
   "metadata": {},
   "source": [
    "- 변수들 타입점검"
   ]
  },
  {
   "cell_type": "code",
   "execution_count": null,
   "metadata": {},
   "outputs": [],
   "source": [
    "df_st1.loc[:,df_num].info()"
   ]
  },
  {
   "cell_type": "code",
   "execution_count": null,
   "metadata": {},
   "outputs": [],
   "source": [
    "df_st1.loc[:,df_num_non].info()"
   ]
  },
  {
   "cell_type": "code",
   "execution_count": null,
   "metadata": {},
   "outputs": [],
   "source": [
    "df_st1.loc[:,df_num_notn].info()"
   ]
  },
  {
   "cell_type": "code",
   "execution_count": null,
   "metadata": {},
   "outputs": [],
   "source": [
    "df_st1.loc[:,df_obj].info()"
   ]
  },
  {
   "cell_type": "code",
   "execution_count": null,
   "metadata": {},
   "outputs": [],
   "source": [
    "df_st1.loc[:,df_obj_non].info()"
   ]
  },
  {
   "cell_type": "code",
   "execution_count": null,
   "metadata": {},
   "outputs": [],
   "source": [
    "df_st1.loc[:,df_obj_notn].info()"
   ]
  },
  {
   "cell_type": "markdown",
   "metadata": {},
   "source": [
    "### 2.2.0 시각화"
   ]
  },
  {
   "cell_type": "code",
   "execution_count": null,
   "metadata": {},
   "outputs": [],
   "source": [
    "plt.style.use('ggplot')"
   ]
  },
  {
   "cell_type": "code",
   "execution_count": null,
   "metadata": {},
   "outputs": [],
   "source": [
    "plt.set_loglevel('WARNING')"
   ]
  },
  {
   "cell_type": "markdown",
   "metadata": {},
   "source": [
    "- 명목형 변수들의 빈도그래프와 각 값의 부도율"
   ]
  },
  {
   "cell_type": "code",
   "execution_count": null,
   "metadata": {},
   "outputs": [],
   "source": [
    "fig, ax = plt.subplots(8,3,figsize =(22,50))\n",
    "a =0\n",
    "for i in df_obj:\n",
    "    a_1 = a%3\n",
    "    a_2 = a//3\n",
    "    \n",
    "    ax[a_2,a_1].plot((df_st1.groupby(i)['TARGET'].sum()/df_st1.groupby(i)['TARGET'].count()).sort_values(),color = 'blue')\n",
    "    ax[a_2,a_1].set_ylim(0,0.2)\n",
    "    ax2 = ax[a_2,a_1].twinx()\n",
    "    sns.countplot(x = i ,palette='Set2' ,data =df_st1 ,order = (df_st1.groupby(i)['TARGET'].sum()/df_st1.groupby(i)['TARGET'].count()).sort_values().index\n",
    "                  ,ax = ax2)\n",
    "    ax[a_2,a_1].set_zorder(1)\n",
    "    ax2.set_zorder(-1)\n",
    "    ax[a_2,a_1].patch.set_visible(False)\n",
    "    ax[a_2,a_1].tick_params(axis ='x',\n",
    "                    rotation = 45,\n",
    "                   )\n",
    "    plt.title(i)\n",
    "    plt.subplots_adjust(hspace = 0.5,\n",
    "                        wspace = 0.5)\n",
    "    a +=1\n",
    "\n",
    "plt.show()\n",
    "         "
   ]
  },
  {
   "cell_type": "markdown",
   "metadata": {},
   "source": [
    "- FLAG_OWN_REALY, WEEKDAY 변수는 사용하기 어려워보인다.\n",
    "- FLAG_MOBIL, FLAG_DOCUMENT_2,FLAG_DOCUMENT_4 변수는 단일값, 지나친 불균형으로 사용하기 어려워보인다. \n",
    "- NAME_HOUSING_TYPE, NAME_FAMILY_ STATUS 변수에서도 불균형을 볼 수 있다."
   ]
  },
  {
   "cell_type": "code",
   "execution_count": null,
   "metadata": {},
   "outputs": [],
   "source": [
    "df_st1 = df_st1.drop(['FLAG_MOBIL','FLAG_DOCUMENT_2','FLAG_DOCUMENT_4'],axis=1)"
   ]
  },
  {
   "cell_type": "code",
   "execution_count": null,
   "metadata": {},
   "outputs": [],
   "source": [
    "print(df_st1[df_st1['FLAG_OWN_REALTY'] =='Y']['TARGET'].sum()/df_st1[df_st1['FLAG_OWN_REALTY'] =='Y']['TARGET'].count())\n",
    "print(df_st1[df_st1['FLAG_OWN_REALTY'] =='N']['TARGET'].sum()/df_st1[df_st1['FLAG_OWN_REALTY'] =='N']['TARGET'].count())"
   ]
  },
  {
   "cell_type": "code",
   "execution_count": null,
   "metadata": {},
   "outputs": [],
   "source": [
    "fig, ax = plt.subplots(1,1,figsize =(20,5))\n",
    "i= 'ORGANIZATION_TYPE'\n",
    "    \n",
    "ax.plot((df_st1.groupby(i)['TARGET'].sum()/df_st1.groupby(i)['TARGET'].count()).sort_values(),color = 'blue')\n",
    "ax2 = ax.twinx()\n",
    "sns.countplot(x = i ,palette='Set2' ,data =df_st1 ,order = (df_st1.groupby(i)['TARGET'].sum()/df_st1.groupby(i)['TARGET'].count()).sort_values().index,ax = ax2)\n",
    "ax.set_zorder(1)\n",
    "ax2.set_zorder(-1)\n",
    "ax.patch.set_visible(False)\n",
    "ax.tick_params(axis ='x',\n",
    "                rotation = 90,\n",
    "               )\n",
    "plt.title(i)\n",
    "plt.subplots_adjust(hspace = 0.5,\n",
    "                    wspace = 0.5)\n",
    "\n",
    "plt.show()"
   ]
  },
  {
   "cell_type": "markdown",
   "metadata": {},
   "source": [
    "- XNA 값을 결측치로 볼 것 인가 하나의 값으로 볼 것 인가\n",
    "- 유효값이 너무 많으므로 어느정도 수준으로 그룹화가 필요해 보인다."
   ]
  },
  {
   "cell_type": "code",
   "execution_count": null,
   "metadata": {},
   "outputs": [],
   "source": [
    "df_st1_0 = df_st1[df_st1['TARGET']==0].reset_index(drop=True)\n",
    "df_st1_1 = df_st1[df_st1['TARGET']==1].reset_index(drop=True)\n"
   ]
  },
  {
   "cell_type": "code",
   "execution_count": null,
   "metadata": {},
   "outputs": [],
   "source": [
    "fig, ax = plt.subplots(4,3,figsize=(15, 20))\n",
    "a=0\n",
    "for i in df_num :\n",
    "    a_1 = a%3\n",
    "    a_2 = a//3\n",
    "    \n",
    "    ax[a_2,a_1].hist(df_st1_0[i])\n",
    "    ax[a_2,a_1].set_title(i)\n",
    "    plt.subplots_adjust(hspace = 0.5,\n",
    "                        wspace = 0.5)\n",
    "    \n",
    "    a +=1"
   ]
  },
  {
   "cell_type": "code",
   "execution_count": null,
   "metadata": {},
   "outputs": [],
   "source": [
    "fig, ax = plt.subplots(6,4,figsize=(18, 24))\n",
    "a=0\n",
    "for i in df_num :\n",
    "    a_1 = a%4\n",
    "    a_2 = a//4\n",
    "    \n",
    "    ax[a_2,a_1].hist(df_st1_0[i])\n",
    "    ax[a_2,a_1+1].hist(df_st1_1[i])\n",
    "    ax[a_2,a_1].set_title(i+'_0')\n",
    "    ax[a_2,a_1+1].set_title(i+'_1')\n",
    "    plt.subplots_adjust(hspace = 0.5,\n",
    "                        wspace = 0.5)\n",
    "    \n",
    "    a +=2"
   ]
  },
  {
   "cell_type": "markdown",
   "metadata": {},
   "source": [
    "- XNA 값을 결측치로 볼 것 인가 하나의 값으로 볼 것 인가\n",
    "- AMT_INCOME_TOTAL, DAYS_EMPLOYED 변수의 이상치 확인\n",
    "- CB_SCORE 들은 형태가 아름답다.\n",
    "- AMT_INCOME_TOTAL 의 이상치는 하나의 값이 너무나 크다"
   ]
  },
  {
   "cell_type": "markdown",
   "metadata": {},
   "source": [
    "## 3.0.0 탐색 및 전처리"
   ]
  },
  {
   "cell_type": "markdown",
   "metadata": {},
   "source": [
    "### 3.1.0 특이 변수 탐색"
   ]
  },
  {
   "cell_type": "markdown",
   "metadata": {},
   "source": [
    "- 먼저 너무많은 결측이나 의미없는 변수는 지워주자"
   ]
  },
  {
   "cell_type": "markdown",
   "metadata": {},
   "source": [
    "#### 3.1.1 AMT_INCOME_TOTAL"
   ]
  },
  {
   "cell_type": "code",
   "execution_count": null,
   "metadata": {},
   "outputs": [],
   "source": [
    "plt.boxplot(df_st1['AMT_INCOME_TOTAL'])\n",
    "plt.show()"
   ]
  },
  {
   "cell_type": "markdown",
   "metadata": {},
   "source": [
    "- 지나치게 큰 값이 있다. "
   ]
  },
  {
   "cell_type": "code",
   "execution_count": null,
   "metadata": {},
   "outputs": [],
   "source": [
    "df_st1['AMT_INCOME_TOTAL'].sort_values(ascending=False)"
   ]
  },
  {
   "cell_type": "markdown",
   "metadata": {},
   "source": [
    "- 2번째 값보다 1 큰 값으로 변경"
   ]
  },
  {
   "cell_type": "code",
   "execution_count": null,
   "metadata": {},
   "outputs": [],
   "source": [
    "df_st1.loc[df_st1['AMT_INCOME_TOTAL']==df_st1['AMT_INCOME_TOTAL'].max(),'AMT_INCOME_TOTAL'] = 3375001.0"
   ]
  },
  {
   "cell_type": "code",
   "execution_count": null,
   "metadata": {},
   "outputs": [],
   "source": [
    "plt.boxplot(df_st1['AMT_INCOME_TOTAL'])\n",
    "plt.show()"
   ]
  },
  {
   "cell_type": "markdown",
   "metadata": {},
   "source": [
    "- 여전히 이상하다"
   ]
  },
  {
   "cell_type": "code",
   "execution_count": null,
   "metadata": {},
   "outputs": [],
   "source": [
    "plt.boxplot(df_st1.loc[df_st1['AMT_INCOME_TOTAL']<=1000000,'AMT_INCOME_TOTAL'])\n",
    "plt.show()"
   ]
  },
  {
   "cell_type": "markdown",
   "metadata": {},
   "source": [
    " - 1000000 이상의 값들에 대해서 처리해 주는것이 적절해 보임"
   ]
  },
  {
   "cell_type": "code",
   "execution_count": null,
   "metadata": {},
   "outputs": [],
   "source": [
    "df_st1.loc[df_st1['AMT_INCOME_TOTAL']>=1000000,'AMT_INCOME_TOTAL'] = 1000000"
   ]
  },
  {
   "cell_type": "code",
   "execution_count": null,
   "metadata": {},
   "outputs": [],
   "source": [
    "plt.boxplot(df_st1['AMT_INCOME_TOTAL'])\n",
    "plt.show()"
   ]
  },
  {
   "cell_type": "code",
   "execution_count": null,
   "metadata": {},
   "outputs": [],
   "source": [
    "df_st1.loc[:,'AMT_INCOME_TOTAL'].hist()"
   ]
  },
  {
   "cell_type": "code",
   "execution_count": null,
   "metadata": {},
   "outputs": [],
   "source": [
    "np.log(df_st1.loc[:,'AMT_INCOME_TOTAL']).hist()"
   ]
  },
  {
   "cell_type": "markdown",
   "metadata": {},
   "source": [
    "- log 변환한 변수를 사용하자!"
   ]
  },
  {
   "cell_type": "code",
   "execution_count": null,
   "metadata": {},
   "outputs": [],
   "source": [
    "df_st1_log = df_st1.copy()"
   ]
  },
  {
   "cell_type": "code",
   "execution_count": null,
   "metadata": {},
   "outputs": [],
   "source": [
    "df_st1_log.loc[:,'AMT_INCOME_TOTAL'] = np.log(df_st1.loc[:,'AMT_INCOME_TOTAL'])"
   ]
  },
  {
   "cell_type": "markdown",
   "metadata": {},
   "source": [
    "#### 3.1.2 ORGANIZATION_TYPE"
   ]
  },
  {
   "cell_type": "code",
   "execution_count": null,
   "metadata": {},
   "outputs": [],
   "source": [
    "fig, ax = plt.subplots(1,1,figsize =(20,5))\n",
    "i= 'ORGANIZATION_TYPE'\n",
    "    \n",
    "ax.plot((df_st1.groupby(i)['TARGET'].sum()/df_st1.groupby(i)['TARGET'].count()).sort_values(),color = 'blue')\n",
    "ax2 = ax.twinx()\n",
    "sns.countplot(x = i ,palette='Set2' ,data =df_st1 ,order = (df_st1.groupby(i)['TARGET'].sum()/df_st1.groupby(i)['TARGET'].count()).sort_values().index,ax = ax2)\n",
    "ax.set_zorder(1)\n",
    "ax2.set_zorder(-1)\n",
    "ax.patch.set_visible(False)\n",
    "ax.tick_params(axis ='x',\n",
    "                rotation = 90,\n",
    "               )\n",
    "plt.title(i)\n",
    "plt.subplots_adjust(hspace = 0.5,\n",
    "                    wspace = 0.5)\n",
    "\n",
    "plt.show()"
   ]
  },
  {
   "cell_type": "markdown",
   "metadata": {},
   "source": [
    "- 산업별로 군집하자\n",
    "- XNA 를 처리하자"
   ]
  },
  {
   "cell_type": "code",
   "execution_count": null,
   "metadata": {},
   "outputs": [],
   "source": [
    "df_st1[df_st1['ORGANIZATION_TYPE']=='XNA']['NAME_INCOME_TYPE']"
   ]
  },
  {
   "cell_type": "markdown",
   "metadata": {},
   "source": [
    "- 연금수령자의 경우 ORGANIZATION_TYPE이 전부 XNA 이므로 하나의 카테고리로 보면 될 것 같다!"
   ]
  },
  {
   "cell_type": "code",
   "execution_count": null,
   "metadata": {},
   "outputs": [],
   "source": [
    "df_st1['ORGANIZATION_TYPE2'] = df_st1['ORGANIZATION_TYPE'].str.split().str[0]\n"
   ]
  },
  {
   "cell_type": "code",
   "execution_count": null,
   "metadata": {},
   "outputs": [],
   "source": [
    "fig, ax = plt.subplots(1,1,figsize =(20,5))\n",
    "i= 'ORGANIZATION_TYPE2'\n",
    "    \n",
    "ax.plot((df_st1.groupby(i)['TARGET'].sum()/df_st1.groupby(i)['TARGET'].count()).sort_values(),color = 'blue')\n",
    "ax2 = ax.twinx()\n",
    "sns.countplot(x = i ,palette='Set2' ,data =df_st1 ,order = (df_st1.groupby(i)['TARGET'].sum()/df_st1.groupby(i)['TARGET'].count()).sort_values().index,ax = ax2)\n",
    "ax.set_zorder(1)\n",
    "ax2.set_zorder(-1)\n",
    "ax.patch.set_visible(False)\n",
    "ax.tick_params(axis ='x',\n",
    "                rotation = 90,\n",
    "               )\n",
    "plt.title(i)\n",
    "plt.subplots_adjust(hspace = 0.5,\n",
    "                    wspace = 0.5)\n",
    "\n",
    "plt.show()"
   ]
  },
  {
   "cell_type": "markdown",
   "metadata": {},
   "source": [
    "- group1 religion~ university + 기타\n",
    "- group2 XNA\n",
    "- group3 medicine ~ telecom\n",
    "- group4 business\n",
    "- group5 restaurant ~ trade\n",
    "- group6 self_employed\n",
    "- group7 security~\n"
   ]
  },
  {
   "cell_type": "code",
   "execution_count": null,
   "metadata": {},
   "outputs": [],
   "source": [
    "df_st1['ORGANIZATION_TYPE3'] = ''"
   ]
  },
  {
   "cell_type": "code",
   "execution_count": null,
   "metadata": {},
   "outputs": [],
   "source": [
    "df_st1.loc[df_st1['ORGANIZATION_TYPE2'].isin((df_st1.groupby(i)['TARGET'].sum()/df_st1.groupby(i)['TARGET'].count()).sort_values().index[:12]),'ORGANIZATION_TYPE3'] = 'group1'\n",
    "df_st1.loc[df_st1['ORGANIZATION_TYPE2'].isin([(df_st1.groupby(i)['TARGET'].sum()/df_st1.groupby(i)['TARGET'].count()).sort_values().index[12]]),'ORGANIZATION_TYPE3'] = 'group2'\n",
    "df_st1.loc[df_st1['ORGANIZATION_TYPE2'].isin((df_st1.groupby(i)['TARGET'].sum()/df_st1.groupby(i)['TARGET'].count()).sort_values().index[13:19]),'ORGANIZATION_TYPE3'] = 'group3'\n",
    "df_st1.loc[df_st1['ORGANIZATION_TYPE2'].isin([(df_st1.groupby(i)['TARGET'].sum()/df_st1.groupby(i)['TARGET'].count()).sort_values().index[19]]),'ORGANIZATION_TYPE3'] = 'group4'\n",
    "df_st1.loc[df_st1['ORGANIZATION_TYPE2'].isin((df_st1.groupby(i)['TARGET'].sum()/df_st1.groupby(i)['TARGET'].count()).sort_values().index[20:26]),'ORGANIZATION_TYPE3'] = 'group5'\n",
    "df_st1.loc[df_st1['ORGANIZATION_TYPE2'].isin([(df_st1.groupby(i)['TARGET'].sum()/df_st1.groupby(i)['TARGET'].count()).sort_values().index[26]]),'ORGANIZATION_TYPE3'] = 'group6'\n",
    "df_st1.loc[df_st1['ORGANIZATION_TYPE2'].isin((df_st1.groupby(i)['TARGET'].sum()/df_st1.groupby(i)['TARGET'].count()).sort_values().index[27:]),'ORGANIZATION_TYPE3'] = 'group7'"
   ]
  },
  {
   "cell_type": "code",
   "execution_count": null,
   "metadata": {},
   "outputs": [],
   "source": [
    "df_st1['ORGANIZATION_TYPE3'].value_counts()"
   ]
  },
  {
   "cell_type": "code",
   "execution_count": null,
   "metadata": {},
   "outputs": [],
   "source": [
    "fig, ax = plt.subplots(1,1,figsize =(20,5))\n",
    "i= 'ORGANIZATION_TYPE3'\n",
    "    \n",
    "ax.plot((df_st1.groupby(i)['TARGET'].sum()/df_st1.groupby(i)['TARGET'].count()).sort_values(),color = 'blue')\n",
    "ax2 = ax.twinx()\n",
    "sns.countplot(x = i ,palette='Set2' ,data =df_st1 ,order = (df_st1.groupby(i)['TARGET'].sum()/df_st1.groupby(i)['TARGET'].count()).sort_values().index,ax = ax2)\n",
    "ax.set_zorder(1)\n",
    "ax2.set_zorder(-1)\n",
    "ax.patch.set_visible(False)\n",
    "ax.tick_params(axis ='x',\n",
    "                rotation = 90,\n",
    "               )\n",
    "plt.title(i)\n",
    "plt.subplots_adjust(hspace = 0.5,\n",
    "                    wspace = 0.5)\n",
    "\n",
    "plt.show()"
   ]
  },
  {
   "cell_type": "code",
   "execution_count": null,
   "metadata": {},
   "outputs": [],
   "source": [
    "df_st1 = df_st1.drop(['ORGANIZATION_TYPE','ORGANIZATION_TYPE2'],axis=1)"
   ]
  },
  {
   "cell_type": "markdown",
   "metadata": {},
   "source": [
    "#### 3.1.3 FALG_ 변수들"
   ]
  },
  {
   "cell_type": "code",
   "execution_count": null,
   "metadata": {},
   "outputs": [],
   "source": [
    "df_st1.columns"
   ]
  },
  {
   "cell_type": "code",
   "execution_count": null,
   "metadata": {},
   "outputs": [],
   "source": [
    "FLAG = ['FLAG_EMP_PHONE','FLAG_WORK_PHONE','FLAG_PHONE','FLAG_EMAIL']"
   ]
  },
  {
   "cell_type": "code",
   "execution_count": null,
   "metadata": {},
   "outputs": [],
   "source": [
    "fig, ax = plt.subplots(2,2,figsize =(15,10))\n",
    "a =0\n",
    "for i in FLAG:\n",
    "    a_1 = a%2\n",
    "    a_2 = a//2\n",
    "    \n",
    "    ax[a_2,a_1].plot((df_st1.groupby(i)['TARGET'].sum()/df_st1.groupby(i)['TARGET'].count()).sort_values(),color = 'blue')\n",
    "    ax[a_2,a_1].set_ylim(0,0.2)\n",
    "    ax2 = ax[a_2,a_1].twinx()\n",
    "    sns.countplot(x = i ,palette='Set2' ,data =df_st1 ,order = (df_st1.groupby(i)['TARGET'].sum()/df_st1.groupby(i)['TARGET'].count()).sort_values().index\n",
    "                  ,ax = ax2)\n",
    "    ax[a_2,a_1].set_zorder(1)\n",
    "    ax2.set_zorder(-1)\n",
    "    ax[a_2,a_1].patch.set_visible(False)\n",
    "    ax[a_2,a_1].tick_params(axis ='x',\n",
    "                    rotation = 45,\n",
    "                   )\n",
    "    plt.title(i)\n",
    "    plt.subplots_adjust(hspace = 0.5,\n",
    "                        wspace = 0.5)\n",
    "    a +=1\n",
    "\n",
    "plt.show()"
   ]
  },
  {
   "cell_type": "markdown",
   "metadata": {},
   "source": [
    "- FLAG EMP, WORK 는 등록한사람이 부도 발생확률이 높았고 FLAG_PHONE, EMAIL 은 등록하지 않은사람이 높았다.\n",
    "- 각각 더해줘서 두개의 변수로 만들자"
   ]
  },
  {
   "cell_type": "code",
   "execution_count": null,
   "metadata": {},
   "outputs": [],
   "source": [
    "df_st1['FLAG_WORK_INFO'] = df_st1['FLAG_EMP_PHONE'].astype(int) + df_st1['FLAG_WORK_PHONE'].astype(int)"
   ]
  },
  {
   "cell_type": "code",
   "execution_count": null,
   "metadata": {},
   "outputs": [],
   "source": [
    "df_st1['FLAG_WORK_INFO'] = df_st1['FLAG_WORK_INFO'].astype(str)"
   ]
  },
  {
   "cell_type": "code",
   "execution_count": null,
   "metadata": {},
   "outputs": [],
   "source": [
    "fig, ax = plt.subplots(1,1,figsize =(10,5))\n",
    "i= 'FLAG_WORK_INFO'\n",
    "    \n",
    "ax.plot((df_st1.groupby(i)['TARGET'].sum()/df_st1.groupby(i)['TARGET'].count()).sort_values(),color = 'blue')\n",
    "ax2 = ax.twinx()\n",
    "sns.countplot(x = i ,palette='Set2' ,data =df_st1 ,order = (df_st1.groupby(i)['TARGET'].sum()/df_st1.groupby(i)['TARGET'].count()).sort_values().index,ax = ax2)\n",
    "ax.set_zorder(1)\n",
    "ax2.set_zorder(-1)\n",
    "ax.patch.set_visible(False)\n",
    "ax.tick_params(axis ='x',\n",
    "                rotation = 90,\n",
    "               )\n",
    "plt.title(i)\n",
    "plt.subplots_adjust(hspace = 0.5,\n",
    "                    wspace = 0.5)\n",
    "\n",
    "plt.show()"
   ]
  },
  {
   "cell_type": "code",
   "execution_count": null,
   "metadata": {},
   "outputs": [],
   "source": [
    "df_st1['FLAG_IND_INFO'] = df_st1['FLAG_PHONE'].astype(int) + df_st1['FLAG_EMAIL'].astype(int)"
   ]
  },
  {
   "cell_type": "code",
   "execution_count": null,
   "metadata": {},
   "outputs": [],
   "source": [
    "df_st1['FLAG_IND_INFO'] = df_st1['FLAG_IND_INFO'].astype(str)"
   ]
  },
  {
   "cell_type": "code",
   "execution_count": null,
   "metadata": {},
   "outputs": [],
   "source": [
    "fig, ax = plt.subplots(1,1,figsize =(10,5))\n",
    "i= 'FLAG_IND_INFO'\n",
    "    \n",
    "ax.plot((df_st1.groupby(i)['TARGET'].sum()/df_st1.groupby(i)['TARGET'].count()).sort_values(),color = 'blue')\n",
    "ax2 = ax.twinx()\n",
    "sns.countplot(x = i ,palette='Set2' ,data =df_st1 ,order = (df_st1.groupby(i)['TARGET'].sum()/df_st1.groupby(i)['TARGET'].count()).sort_values().index,ax = ax2)\n",
    "ax.set_zorder(1)\n",
    "ax2.set_zorder(-1)\n",
    "ax.patch.set_visible(False)\n",
    "ax.tick_params(axis ='x',\n",
    "                rotation = 90,\n",
    "               )\n",
    "plt.title(i)\n",
    "plt.subplots_adjust(hspace = 0.5,\n",
    "                    wspace = 0.5)\n",
    "\n",
    "plt.show()"
   ]
  },
  {
   "cell_type": "code",
   "execution_count": null,
   "metadata": {},
   "outputs": [],
   "source": [
    "df_st1 = df_st1.drop(['FLAG_EMP_PHONE','FLAG_WORK_PHONE','FLAG_PHONE','FLAG_EMAIL'],axis=1)"
   ]
  },
  {
   "cell_type": "code",
   "execution_count": null,
   "metadata": {},
   "outputs": [],
   "source": [
    "df_st1.info()"
   ]
  },
  {
   "cell_type": "markdown",
   "metadata": {},
   "source": [
    "#### 3.1.4 CODE_GENDER"
   ]
  },
  {
   "cell_type": "code",
   "execution_count": null,
   "metadata": {},
   "outputs": [],
   "source": [
    "fig, ax = plt.subplots(1,1,figsize =(10,5))\n",
    "i= 'CODE_GENDER'\n",
    "    \n",
    "ax.plot((df_st1.groupby(i)['TARGET'].sum()/df_st1.groupby(i)['TARGET'].count()).sort_values(),color = 'blue')\n",
    "ax2 = ax.twinx()\n",
    "sns.countplot(x = i ,palette='Set2' ,data =df_st1 ,order = (df_st1.groupby(i)['TARGET'].sum()/df_st1.groupby(i)['TARGET'].count()).sort_values().index,ax = ax2)\n",
    "ax.set_zorder(1)\n",
    "ax2.set_zorder(-1)\n",
    "ax.patch.set_visible(False)\n",
    "ax.tick_params(axis ='x',\n",
    "                rotation = 90,\n",
    "               )\n",
    "plt.title(i)\n",
    "plt.subplots_adjust(hspace = 0.5,\n",
    "                    wspace = 0.5)\n",
    "\n",
    "plt.show()"
   ]
  },
  {
   "cell_type": "code",
   "execution_count": null,
   "metadata": {},
   "outputs": [],
   "source": [
    "df_st1.loc[df_st1['CODE_GENDER']=='XNA','CODE_GENDER'] = np.NaN"
   ]
  },
  {
   "cell_type": "code",
   "execution_count": null,
   "metadata": {},
   "outputs": [],
   "source": [
    "df_F = df_st1.loc[df_st1['CODE_GENDER']=='F',:]\n",
    "df_M = df_st1.loc[df_st1['CODE_GENDER']=='M',:]\n"
   ]
  },
  {
   "cell_type": "code",
   "execution_count": null,
   "metadata": {},
   "outputs": [],
   "source": [
    "plt.set_loglevel('WARNING')"
   ]
  },
  {
   "cell_type": "code",
   "execution_count": null,
   "metadata": {},
   "outputs": [],
   "source": [
    "fig, ax = plt.subplots(9,4,figsize =(22,40))\n",
    "a =0\n",
    "for i in df_F.columns[df_F.dtypes == 'object']:\n",
    "    a_1 = a%4\n",
    "    a_2 = a//4\n",
    "    \n",
    "    ax[a_2,a_1].plot((df_M.groupby(i)['TARGET'].sum()/df_M.groupby(i)['TARGET'].count()).sort_values(),color = 'blue')\n",
    "    ax[a_2,a_1].set_ylim(0,0.2)\n",
    "    ax[a_2,a_1+1].plot((df_F.groupby(i)['TARGET'].sum()/df_F.groupby(i)['TARGET'].count()).sort_values(),color = 'blue')\n",
    "    ax[a_2,a_1+1].set_ylim(0,0.2)\n",
    "    ax2 = ax[a_2,a_1].twinx()\n",
    "    ax3 = ax[a_2,a_1+1].twinx()\n",
    "    sns.countplot(x = i ,palette='Set2' ,data =df_M ,order = (df_st1.groupby(i)['TARGET'].sum()/df_M.groupby(i)['TARGET'].count()).sort_values().index\n",
    "                  ,ax = ax2)\n",
    "    sns.countplot(x = i ,palette='Set2' ,data =df_F ,order = (df_st1.groupby(i)['TARGET'].sum()/df_F.groupby(i)['TARGET'].count()).sort_values().index\n",
    "                  ,ax = ax3)\n",
    "    \n",
    "    ax[a_2,a_1].set_zorder(1)\n",
    "    ax[a_2,a_1+1].set_zorder(1)\n",
    "    \n",
    "    ax2.set_zorder(-1)\n",
    "    ax3.set_zorder(-1)\n",
    "    \n",
    "    ax[a_2,a_1].patch.set_visible(False)\n",
    "    ax[a_2,a_1+1].patch.set_visible(False)\n",
    "    \n",
    "    \n",
    "    ax[a_2,a_1].tick_params(axis ='x',\n",
    "                    rotation = 45,\n",
    "                   )\n",
    "    ax[a_2,a_1+1].tick_params(axis ='x',\n",
    "                    rotation = 45,\n",
    "                   )\n",
    "    \n",
    "\n",
    "    plt.title(i)\n",
    "    plt.subplots_adjust(hspace = 0.5,\n",
    "                        wspace = 0.5)\n",
    "    a +=2\n",
    "\n",
    "plt.show()"
   ]
  },
  {
   "cell_type": "markdown",
   "metadata": {},
   "source": [
    "- 특정 패턴을 찾기 어려워 datawig의 딥러닝을 활용한 성별예측"
   ]
  },
  {
   "cell_type": "code",
   "execution_count": null,
   "metadata": {},
   "outputs": [],
   "source": [
    "df_gender =pd.concat([df_st1.loc[:,df_st1.columns[df_st1.isna().sum() == 0]].drop('TARGET',axis=1), df_st1[['CODE_GENDER']]],axis=1)"
   ]
  },
  {
   "cell_type": "code",
   "execution_count": null,
   "metadata": {},
   "outputs": [],
   "source": [
    "im = datawig.SimpleImputer(df_gender,\n",
    "                           'CODE_GENDER')"
   ]
  },
  {
   "cell_type": "code",
   "execution_count": null,
   "metadata": {},
   "outputs": [],
   "source": [
    "im.fit(df_gender,num_epochs=5)"
   ]
  },
  {
   "cell_type": "code",
   "execution_count": null,
   "metadata": {},
   "outputs": [],
   "source": [
    "df_gender = im.predict(df_gender)"
   ]
  },
  {
   "cell_type": "code",
   "execution_count": null,
   "metadata": {},
   "outputs": [],
   "source": [
    "df_gender[df_gender['CODE_GENDER']!=df_gender['CODE_GENDER_imputed']]['CODE_GENDER'].value_counts()\n"
   ]
  },
  {
   "cell_type": "code",
   "execution_count": null,
   "metadata": {},
   "outputs": [],
   "source": [
    "df_st1['CODE_GENDER'] = df_gender['CODE_GENDER_imputed']"
   ]
  },
  {
   "cell_type": "markdown",
   "metadata": {},
   "source": [
    "#### 3.1.5 FLAG_OWN_REALTY"
   ]
  },
  {
   "cell_type": "markdown",
   "metadata": {},
   "source": [
    "- 자가 부동산 보유 여부는 부도확률에 영향을 줄까?"
   ]
  },
  {
   "cell_type": "code",
   "execution_count": null,
   "metadata": {},
   "outputs": [],
   "source": [
    "print(df_st1[df_st1['FLAG_OWN_REALTY']=='Y']['REGION_POPULATION_RELATIVE'].mean())\n",
    "print(df_st1[df_st1['FLAG_OWN_REALTY']=='N']['REGION_POPULATION_RELATIVE'].mean())"
   ]
  },
  {
   "cell_type": "code",
   "execution_count": null,
   "metadata": {},
   "outputs": [],
   "source": [
    "df_st1 = df_st1.drop('FLAG_OWN_REALTY',axis=1)"
   ]
  },
  {
   "cell_type": "markdown",
   "metadata": {},
   "source": [
    "- 결측이많고 거의 의미가 없어보인다."
   ]
  },
  {
   "cell_type": "markdown",
   "metadata": {},
   "source": [
    "#### 3.1.6 DAYS_EMPLOYED"
   ]
  },
  {
   "cell_type": "markdown",
   "metadata": {},
   "source": [
    "- DAYS_EMPLOYED 변수는 음수로 표현되어 있으나 365243수치로 이상치 다수 존재"
   ]
  },
  {
   "cell_type": "code",
   "execution_count": null,
   "metadata": {},
   "outputs": [],
   "source": [
    "df_st1['DAYS_EMPLOYED'].value_counts()"
   ]
  },
  {
   "cell_type": "markdown",
   "metadata": {},
   "source": [
    "- DAYS_EMPLOYED 변수가 365243으로 이상치인 row데이터 중 ORGANIZATION_TYPE 변수는 전부 XNA"
   ]
  },
  {
   "cell_type": "code",
   "execution_count": null,
   "metadata": {},
   "outputs": [],
   "source": [
    "df[df['DAYS_EMPLOYED']==365243]['ORGANIZATION_TYPE'].value_counts()"
   ]
  },
  {
   "cell_type": "markdown",
   "metadata": {},
   "source": [
    "- 반대의 경우 전부 365243 or NaN값이다."
   ]
  },
  {
   "cell_type": "code",
   "execution_count": null,
   "metadata": {},
   "outputs": [],
   "source": [
    "df[df['ORGANIZATION_TYPE']== 'XNA']['DAYS_EMPLOYED']"
   ]
  },
  {
   "cell_type": "markdown",
   "metadata": {},
   "source": [
    "- 마찬가지로 NAME_INCOME_TYPE 변수 또한 전부 Pensioner    "
   ]
  },
  {
   "cell_type": "code",
   "execution_count": null,
   "metadata": {},
   "outputs": [],
   "source": [
    "df[df['DAYS_EMPLOYED']==365243]['NAME_INCOME_TYPE'].value_counts()"
   ]
  },
  {
   "cell_type": "code",
   "execution_count": null,
   "metadata": {},
   "outputs": [],
   "source": [
    "df[df['NAME_INCOME_TYPE']=='Pensioner']['ORGANIZATION_TYPE'].value_counts()"
   ]
  },
  {
   "cell_type": "markdown",
   "metadata": {},
   "source": [
    "* ORGANIZATION_TYPE 변수가 Pensioner(연금수령자)인 경우 근무일수, 소득유형 타입에서 결측값, 이상값을 보인다."
   ]
  },
  {
   "cell_type": "code",
   "execution_count": null,
   "metadata": {},
   "outputs": [],
   "source": [
    "df[df['NAME_INCOME_TYPE']=='Pensioner']"
   ]
  },
  {
   "cell_type": "markdown",
   "metadata": {},
   "source": [
    "- NAME_INCOME_TYPE 변수가 Pensioner 인 경우 DAYS_EMPLOYED 변수는 결측 아니면 365243.0 이다 그러므로 우선 결측치들을 365243으로 채워줌"
   ]
  },
  {
   "cell_type": "code",
   "execution_count": null,
   "metadata": {},
   "outputs": [],
   "source": [
    "df_st1.loc[df_st1['NAME_INCOME_TYPE']=='Pensioner','DAYS_EMPLOYED']=365243.0"
   ]
  },
  {
   "cell_type": "code",
   "execution_count": null,
   "metadata": {},
   "outputs": [],
   "source": [
    "df_st1.loc[:,['DAYS_EMPLOYED','TARGET']].corr()"
   ]
  },
  {
   "cell_type": "code",
   "execution_count": null,
   "metadata": {},
   "outputs": [],
   "source": [
    "df_st1.corr()"
   ]
  },
  {
   "cell_type": "markdown",
   "metadata": {},
   "source": [
    "- DAY_EMPLOYED 와 상관관계가 존재 하는 것으로 보이는 DAYS_BIRTH, DAYS_ID_PUBLISH를 사용해 예측해보자"
   ]
  },
  {
   "cell_type": "code",
   "execution_count": null,
   "metadata": {},
   "outputs": [],
   "source": [
    "df_st1.loc[:,['NAME_INCOME_TYPE','DAYS_BIRTH']].groupby('NAME_INCOME_TYPE').describe()"
   ]
  },
  {
   "cell_type": "markdown",
   "metadata": {},
   "source": [
    "- Pensioner(연금수령자)와 Maternity leave(육아휴직)의 수치가 비슷해보인다. 하지만 Maternity leave의 표본이 너무 적다."
   ]
  },
  {
   "cell_type": "code",
   "execution_count": null,
   "metadata": {},
   "outputs": [],
   "source": [
    "df_st1[((df_st1['NAME_INCOME_TYPE'] =='Pensioner')|(df_st1['NAME_INCOME_TYPE'] =='Working')) & (df_st1['TARGET']==1)].groupby('NAME_INCOME_TYPE').describe()"
   ]
  },
  {
   "cell_type": "markdown",
   "metadata": {},
   "source": [
    "- 365243도 결측값으로 보고 예측해보자"
   ]
  },
  {
   "cell_type": "code",
   "execution_count": null,
   "metadata": {},
   "outputs": [],
   "source": [
    "df_st1.loc[df_st1['DAYS_EMPLOYED']==365243,'DAYS_EMPLOYED'] =np.NaN\n"
   ]
  },
  {
   "cell_type": "markdown",
   "metadata": {},
   "source": [
    "- 너무 많은 결측값이 있으나 근무일수는 중요한 변수로 보인다. 정확도에 집중해 예측 후 사용해 보자"
   ]
  },
  {
   "cell_type": "markdown",
   "metadata": {},
   "source": [
    "##### 3.1.6.1 DAYS_EMPLOYED datawig대체"
   ]
  },
  {
   "cell_type": "code",
   "execution_count": null,
   "metadata": {},
   "outputs": [],
   "source": [
    "df_st1.iloc[:,[-1]]"
   ]
  },
  {
   "cell_type": "code",
   "execution_count": null,
   "metadata": {},
   "outputs": [],
   "source": [
    "def dl_impute(i):\n",
    "    dx = pd.concat([df_st1.loc[:,df_st1.columns[df_st1.isna().sum() == 0]].drop('TARGET',axis=1), df_st1[[i]]],axis=1)\n",
    "    dx = dx.drop(['WEEKDAY_APPR_PROCESS_START','HOUR_APPR_PROCESS_START'],axis=1)\n",
    "    imp = datawig.SimpleImputer(dx,i)\n",
    "    imp.fit(dx,num_epochs =5)\n",
    "    data = imp.predict(dx)\n",
    "    imp_data = data\n",
    "    return imp_data"
   ]
  },
  {
   "cell_type": "code",
   "execution_count": null,
   "metadata": {},
   "outputs": [],
   "source": [
    "imp_data = dl_impute('DAYS_EMPLOYED')"
   ]
  },
  {
   "cell_type": "code",
   "execution_count": null,
   "metadata": {},
   "outputs": [],
   "source": [
    "df_st1_dl = df_st1.copy()"
   ]
  },
  {
   "cell_type": "code",
   "execution_count": null,
   "metadata": {},
   "outputs": [],
   "source": [
    "df_st1_dl.loc[df_st1_dl['DAYS_EMPLOYED'].isna()==True,'DAYS_EMPLOYED'] = imp_data.loc[imp_data['DAYS_EMPLOYED'].isna()==True,'DAYS_EMPLOYED_imputed']"
   ]
  },
  {
   "cell_type": "code",
   "execution_count": null,
   "metadata": {},
   "outputs": [],
   "source": [
    "df_st1_dl['DAYS_EMPLOYED'] = df_st1_dl['DAYS_EMPLOYED'].abs()\n"
   ]
  },
  {
   "cell_type": "code",
   "execution_count": null,
   "metadata": {},
   "outputs": [],
   "source": [
    "plt.boxplot(df_st1_dl['DAYS_EMPLOYED'])\n",
    "plt.show()"
   ]
  },
  {
   "cell_type": "code",
   "execution_count": null,
   "metadata": {},
   "outputs": [],
   "source": [
    "df_st1_dl['DAYS_EMPLOYED'].hist()"
   ]
  },
  {
   "cell_type": "code",
   "execution_count": null,
   "metadata": {},
   "outputs": [],
   "source": [
    "np.log(df_st1_dl['DAYS_EMPLOYED']).hist()"
   ]
  },
  {
   "cell_type": "code",
   "execution_count": null,
   "metadata": {},
   "outputs": [],
   "source": [
    "df_st1_log['DAYS_EMPLOYED'] = np.log(df_st1['DAYS_EMPLOYED'])"
   ]
  },
  {
   "cell_type": "markdown",
   "metadata": {},
   "source": [
    "- datawig 대체결과 평균에 영향을 많이 받는 것 처럼 보인다."
   ]
  },
  {
   "cell_type": "markdown",
   "metadata": {},
   "source": [
    "##### 3.1.6.2 DAYS_EMPLOYED mice대체"
   ]
  },
  {
   "cell_type": "code",
   "execution_count": null,
   "metadata": {},
   "outputs": [],
   "source": [
    "df_st1_reg = df_st1.copy()"
   ]
  },
  {
   "cell_type": "code",
   "execution_count": null,
   "metadata": {},
   "outputs": [],
   "source": [
    "def mi_impute(i):\n",
    "    dx = pd.concat([df_st1.loc[:,df_st1.columns[df_st1.isna().sum() == 0]].drop('TARGET',axis=1), df_st1[[i]]],axis=1)\n",
    "    dx = dx.drop(['WEEKDAY_APPR_PROCESS_START','HOUR_APPR_PROCESS_START'],axis=1)\n",
    "    dx = pd.get_dummies(dx)\n",
    "    imp = mice(dx)\n",
    "    data = pd.DataFrame(imp)\n",
    "    imp_data = data\n",
    "    return imp_data"
   ]
  },
  {
   "cell_type": "code",
   "execution_count": null,
   "metadata": {},
   "outputs": [],
   "source": [
    "imp_data_mice = mi_impute('DAYS_EMPLOYED')"
   ]
  },
  {
   "cell_type": "code",
   "execution_count": null,
   "metadata": {},
   "outputs": [],
   "source": [
    "imp_emp_mice = imp_data_mice"
   ]
  },
  {
   "cell_type": "code",
   "execution_count": null,
   "metadata": {},
   "outputs": [],
   "source": [
    "df_st1_reg['DAYS_EMPLOYED'] = imp_data_mice[2].abs()\n"
   ]
  },
  {
   "cell_type": "code",
   "execution_count": null,
   "metadata": {},
   "outputs": [],
   "source": [
    "df_st1_reg['DAYS_EMPLOYED'].hist()"
   ]
  },
  {
   "cell_type": "code",
   "execution_count": null,
   "metadata": {},
   "outputs": [],
   "source": [
    "np.log(df_st1_reg['DAYS_EMPLOYED'].abs()).hist()"
   ]
  },
  {
   "cell_type": "code",
   "execution_count": null,
   "metadata": {},
   "outputs": [],
   "source": [
    "# df_st1['DAYS_EMPLOYED'] = df_st1_reg['DAYS_EMPLOYED']"
   ]
  },
  {
   "cell_type": "markdown",
   "metadata": {},
   "source": [
    "- 두방법 모두 거의 평균대체에 가까운 결과가 나온다 결측값이 너무많기 때문에 변수 삭제도 고려해 보자\n",
    "- 사용한다면 mice기법으로 대체한 값을 사용하자."
   ]
  },
  {
   "cell_type": "markdown",
   "metadata": {},
   "source": [
    "#### 3.1.7 AMT_CREDIT"
   ]
  },
  {
   "cell_type": "code",
   "execution_count": null,
   "metadata": {},
   "outputs": [],
   "source": [
    "df_st1[['AMT_CREDIT']].info()"
   ]
  },
  {
   "cell_type": "code",
   "execution_count": null,
   "metadata": {},
   "outputs": [],
   "source": [
    "plt.boxplot(df_st1.loc[df_st1['AMT_CREDIT'].isna()==False,'AMT_CREDIT'])\n",
    "plt.show()"
   ]
  },
  {
   "cell_type": "markdown",
   "metadata": {},
   "source": [
    "- AMT_CREDIT 변수는 CB_SCORE_2, AMT_INCOME_TOTAL 과 전혀 무관하지 않은듯 하다."
   ]
  },
  {
   "cell_type": "code",
   "execution_count": null,
   "metadata": {},
   "outputs": [],
   "source": [
    "df_st1.groupby('NAME_INCOME_TYPE').describe()['AMT_CREDIT']"
   ]
  },
  {
   "cell_type": "markdown",
   "metadata": {},
   "source": [
    "- 높은 정확도를 위해 datawig의 딥러닝 기법을 이용한 결측값 대체 실시"
   ]
  },
  {
   "cell_type": "markdown",
   "metadata": {},
   "source": [
    "##### 3.1.7.1 AMT_CREDIT datawig 기법 대체"
   ]
  },
  {
   "cell_type": "code",
   "execution_count": null,
   "metadata": {},
   "outputs": [],
   "source": [
    "imp_cred_dl = dl_impute('AMT_CREDIT')"
   ]
  },
  {
   "cell_type": "code",
   "execution_count": null,
   "metadata": {},
   "outputs": [],
   "source": [
    "df_st1_dl.loc[df_st1_dl['AMT_CREDIT'].isna()==True,'AMT_CREDIT'] = imp_cred_dl.loc[imp_cred_dl['AMT_CREDIT'].isna()==True,'AMT_CREDIT_imputed']"
   ]
  },
  {
   "cell_type": "code",
   "execution_count": null,
   "metadata": {},
   "outputs": [],
   "source": [
    "df_st1_dl['AMT_CREDIT'].hist()"
   ]
  },
  {
   "cell_type": "code",
   "execution_count": null,
   "metadata": {},
   "outputs": [],
   "source": [
    "np.log(df_st1_dl['AMT_CREDIT']).hist()"
   ]
  },
  {
   "cell_type": "markdown",
   "metadata": {},
   "source": [
    "##### 3.1.7.2 AMT_CREDIT mice 기법 대체"
   ]
  },
  {
   "cell_type": "code",
   "execution_count": null,
   "metadata": {},
   "outputs": [],
   "source": [
    "imp_credit_mice = mi_impute('AMT_CREDIT')\n",
    "imp_credit_mice"
   ]
  },
  {
   "cell_type": "code",
   "execution_count": null,
   "metadata": {},
   "outputs": [],
   "source": [
    "df_st1_reg['AMT_CREDIT'] = imp_credit_mice[2]"
   ]
  },
  {
   "cell_type": "code",
   "execution_count": null,
   "metadata": {},
   "outputs": [],
   "source": [
    "df_st1_reg['AMT_CREDIT'].hist()"
   ]
  },
  {
   "cell_type": "code",
   "execution_count": null,
   "metadata": {},
   "outputs": [],
   "source": [
    "df_st1['AMT_CREDIT'].hist()"
   ]
  },
  {
   "cell_type": "markdown",
   "metadata": {},
   "source": [
    "- datawig 변환보단 mice변환이 더 괜찮아 보인다."
   ]
  },
  {
   "cell_type": "code",
   "execution_count": null,
   "metadata": {},
   "outputs": [],
   "source": [
    "df_st1_log['AMT_CREDIT_reg'] = np.log(df_st1_reg['AMT_CREDIT'])\n",
    "df_st1_log['AMT_CREDIT_dl'] = np.log(df_st1_dl['AMT_CREDIT'])\n"
   ]
  },
  {
   "cell_type": "markdown",
   "metadata": {},
   "source": [
    "#### 3.1.8 REGION_POPULATION_RELATIVE"
   ]
  },
  {
   "cell_type": "markdown",
   "metadata": {},
   "source": [
    "- 거주지역의 표준화된 인구"
   ]
  },
  {
   "cell_type": "code",
   "execution_count": null,
   "metadata": {},
   "outputs": [],
   "source": [
    "df_st1.corr()"
   ]
  },
  {
   "cell_type": "markdown",
   "metadata": {},
   "source": [
    "- 결측값도 많고 관계도 찾기 어려워보여 예측이 힘들것같다 삭제해주자."
   ]
  },
  {
   "cell_type": "code",
   "execution_count": null,
   "metadata": {},
   "outputs": [],
   "source": [
    "df_st1 = df_st1.drop('REGION_POPULATION_RELATIVE',axis=1)"
   ]
  },
  {
   "cell_type": "markdown",
   "metadata": {},
   "source": [
    "#### 3.1.9 DAYS_BIRTH"
   ]
  },
  {
   "cell_type": "code",
   "execution_count": null,
   "metadata": {},
   "outputs": [],
   "source": [
    "df_st1.corr()"
   ]
  },
  {
   "cell_type": "markdown",
   "metadata": {},
   "source": [
    "- 상관관계가 보이는 변수들도 있고 상대적으로 결측이 많지 않으니 예측해보자"
   ]
  },
  {
   "cell_type": "code",
   "execution_count": null,
   "metadata": {},
   "outputs": [],
   "source": [
    "imp_birth_dl = dl_impute('DAYS_BIRTH')"
   ]
  },
  {
   "cell_type": "code",
   "execution_count": null,
   "metadata": {},
   "outputs": [],
   "source": [
    "imp_birth_mice = mi_impute('DAYS_BIRTH')"
   ]
  },
  {
   "cell_type": "code",
   "execution_count": null,
   "metadata": {},
   "outputs": [],
   "source": [
    "imp_birth_mice"
   ]
  },
  {
   "cell_type": "code",
   "execution_count": null,
   "metadata": {},
   "outputs": [],
   "source": [
    "df_st1_dl.loc[df_st1_dl['DAYS_BIRTH'].isna()==True,'DAYS_BIRTH'] = imp_birth_dl.loc[imp_birth_dl['DAYS_BIRTH'].isna()==True,'DAYS_BIRTH_imputed']"
   ]
  },
  {
   "cell_type": "code",
   "execution_count": null,
   "metadata": {},
   "outputs": [],
   "source": [
    "df_st1_dl['DAYS_BIRTH'].hist()"
   ]
  },
  {
   "cell_type": "code",
   "execution_count": null,
   "metadata": {},
   "outputs": [],
   "source": [
    "imp_birth_mice[2].hist()"
   ]
  },
  {
   "cell_type": "code",
   "execution_count": null,
   "metadata": {},
   "outputs": [],
   "source": [
    "df_st1_reg['DAYS_BIRTH'] = imp_birth_mice[2]"
   ]
  },
  {
   "cell_type": "markdown",
   "metadata": {},
   "source": [
    "- mice방법 대체가 더 적절해 보인다."
   ]
  },
  {
   "cell_type": "markdown",
   "metadata": {},
   "source": [
    "#### 3.1.8 DAYS_REGISTRATION"
   ]
  },
  {
   "cell_type": "code",
   "execution_count": null,
   "metadata": {},
   "outputs": [],
   "source": [
    "df_st1.corr()"
   ]
  },
  {
   "cell_type": "markdown",
   "metadata": {},
   "source": [
    "- CB_SCORE2, DAYS_BIRTH 와 상관관계가 있어보인다.\n",
    "- 하지만 결측값이 많으므로 예측후 분산을 줄이기 위해 그룹화를 해서 사용하자"
   ]
  },
  {
   "cell_type": "code",
   "execution_count": null,
   "metadata": {},
   "outputs": [],
   "source": [
    "imp_regis_dl = dl_impute('DAYS_REGISTRATION')\n",
    "imp_regis_mice = mi_impute('DAYS_REGISTRATION')"
   ]
  },
  {
   "cell_type": "code",
   "execution_count": null,
   "metadata": {},
   "outputs": [],
   "source": [
    "df_st1_dl.loc[df_st1_dl['DAYS_REGISTRATION'].isna(),'DAYS_REGISTRATION'] = imp_regis_dl.loc[imp_regis_dl['DAYS_REGISTRATION'].isna(),'DAYS_REGISTRATION_imputed']"
   ]
  },
  {
   "cell_type": "code",
   "execution_count": null,
   "metadata": {},
   "outputs": [],
   "source": [
    "df_st1_reg['DAYS_REGISTRATION'] = imp_regis_mice[2]"
   ]
  },
  {
   "cell_type": "code",
   "execution_count": null,
   "metadata": {},
   "outputs": [],
   "source": [
    "df_st1_dl['DAYS_REGISTRATION'].abs().hist()\n"
   ]
  },
  {
   "cell_type": "code",
   "execution_count": null,
   "metadata": {},
   "outputs": [],
   "source": [
    "df_st1_reg['DAYS_REGISTRATION'].abs().hist()"
   ]
  },
  {
   "cell_type": "markdown",
   "metadata": {},
   "source": [
    "- datawig, mice 기법모두 지나치게 평균에 영향을 받는것처럼 보인다."
   ]
  },
  {
   "cell_type": "markdown",
   "metadata": {},
   "source": [
    "#### 3.1.9 DAYS_ID_PUBLISH"
   ]
  },
  {
   "cell_type": "code",
   "execution_count": null,
   "metadata": {},
   "outputs": [],
   "source": [
    "df_st1.info()"
   ]
  },
  {
   "cell_type": "code",
   "execution_count": null,
   "metadata": {},
   "outputs": [],
   "source": [
    "df_st1.corr()"
   ]
  },
  {
   "cell_type": "markdown",
   "metadata": {},
   "source": [
    "- 직관적으로 사용이 어려워보인다. 결측도 존재 그러므로 제거해준다."
   ]
  },
  {
   "cell_type": "code",
   "execution_count": null,
   "metadata": {},
   "outputs": [],
   "source": [
    "df_st1 = df_st1.drop('DAYS_ID_PUBLISH',axis=1)"
   ]
  },
  {
   "cell_type": "code",
   "execution_count": null,
   "metadata": {},
   "outputs": [],
   "source": [
    "df_st1.info()"
   ]
  },
  {
   "cell_type": "markdown",
   "metadata": {},
   "source": [
    "#### 3.1.10 CB_SCORE_N"
   ]
  },
  {
   "cell_type": "code",
   "execution_count": null,
   "metadata": {},
   "outputs": [],
   "source": [
    "df_st1.corr()"
   ]
  },
  {
   "cell_type": "markdown",
   "metadata": {},
   "source": [
    "- CB_SCORE 끼리 상관관계가 없다.\n",
    "- CB_SCORE_2 를 제외하고 다른 변수들과의 상관관계도 보이지 않는다."
   ]
  },
  {
   "cell_type": "code",
   "execution_count": null,
   "metadata": {},
   "outputs": [],
   "source": [
    "df_st1"
   ]
  },
  {
   "cell_type": "code",
   "execution_count": null,
   "metadata": {},
   "outputs": [],
   "source": [
    "df_reg1 = pd.concat([df_st1.loc[:,df_st1.columns[df_st1.isna().sum() == 0]].drop('TARGET',axis=1),df_st1.loc[:,['CB_SCORE_1', 'CB_SCORE_2','CB_SCORE_3']]],axis=1)"
   ]
  },
  {
   "cell_type": "code",
   "execution_count": null,
   "metadata": {},
   "outputs": [],
   "source": [
    "df_reg1 = df_reg1.drop(['WEEKDAY_APPR_PROCESS_START','HOUR_APPR_PROCESS_START'],axis=1)"
   ]
  },
  {
   "cell_type": "code",
   "execution_count": null,
   "metadata": {},
   "outputs": [],
   "source": [
    "df_reg1_rst= pd.get_dummies(df_reg1)"
   ]
  },
  {
   "cell_type": "code",
   "execution_count": null,
   "metadata": {},
   "outputs": [],
   "source": [
    "imputer = mice(df_reg1_rst)"
   ]
  },
  {
   "cell_type": "code",
   "execution_count": null,
   "metadata": {},
   "outputs": [],
   "source": [
    "reg_1 = pd.DataFrame(imputer)\n"
   ]
  },
  {
   "cell_type": "code",
   "execution_count": null,
   "metadata": {},
   "outputs": [],
   "source": [
    "df_st1_reg[['CB_SCORE_1','CB_SCORE_2','CB_SCORE_3']] = reg_1.iloc[:,[2,3,4]]"
   ]
  },
  {
   "cell_type": "markdown",
   "metadata": {},
   "source": [
    "- 각 스코어를 더한 변수를 하나 만들어주자"
   ]
  },
  {
   "cell_type": "code",
   "execution_count": null,
   "metadata": {},
   "outputs": [],
   "source": [
    "df_st1_reg['TOT_CS_SCORE'] = df_st1_reg['CB_SCORE_1']+df_st1_reg['CB_SCORE_2']+df_st1_reg['CB_SCORE_3']\n",
    "df_st1['TOT_CS_SCORE'] = df_st1_reg['CB_SCORE_1']+df_st1_reg['CB_SCORE_2']+df_st1_reg['CB_SCORE_3']\n"
   ]
  },
  {
   "cell_type": "markdown",
   "metadata": {},
   "source": [
    "#### 3.1.10 NAME_FAMILY_STATUS"
   ]
  },
  {
   "cell_type": "code",
   "execution_count": null,
   "metadata": {},
   "outputs": [],
   "source": [
    "df_st1['NAME_FAMILY_STATUS'].value_counts()"
   ]
  },
  {
   "cell_type": "code",
   "execution_count": null,
   "metadata": {},
   "outputs": [],
   "source": [
    "df_st1.loc[df_st1['NAME_FAMILY_STATUS']=='Unknown','NAME_FAMILY_STATUS'] = 'Married'\n"
   ]
  },
  {
   "cell_type": "markdown",
   "metadata": {},
   "source": [
    "- 1개의 unknown은 최빈값으로 대체"
   ]
  },
  {
   "cell_type": "markdown",
   "metadata": {},
   "source": [
    "#### 3.1.11 category가 너무 많은 변수들"
   ]
  },
  {
   "cell_type": "markdown",
   "metadata": {},
   "source": [
    "- NAME_INCOME_TYPE\n",
    "- NAME_EDUCATION_TYPE\n",
    "- NAME_FAMILY_STATUS\n",
    "- NAME_HOUSING_TYPE\n",
    "- WEEKDAY_APPR_PROCESS_START\n",
    "- HOUR_APPR_PROCESS_START"
   ]
  },
  {
   "cell_type": "code",
   "execution_count": null,
   "metadata": {},
   "outputs": [],
   "source": [
    "plot_m = ['NAME_INCOME_TYPE','NAME_EDUCATION_TYPE','NAME_FAMILY_STATUS','NAME_HOUSING_TYPE','WEEKDAY_APPR_PROCESS_START','HOUR_APPR_PROCESS_START']"
   ]
  },
  {
   "cell_type": "code",
   "execution_count": null,
   "metadata": {},
   "outputs": [],
   "source": [
    "fig, ax = plt.subplots(2,3,figsize =(15,10))\n",
    "a =0\n",
    "for i in plot_m:\n",
    "    a_1 = a%3\n",
    "    a_2 = a//3\n",
    "    \n",
    "    ax[a_2,a_1].plot((df_st1.groupby(i)['TARGET'].sum()/df_st1.groupby(i)['TARGET'].count()).sort_values(),color = 'blue')\n",
    "    ax[a_2,a_1].set_ylim(0,0.2)\n",
    "    ax2 = ax[a_2,a_1].twinx()\n",
    "    sns.countplot(x = i ,palette='Set2' ,data =df_st1 ,order = (df_st1.groupby(i)['TARGET'].sum()/df_st1.groupby(i)['TARGET'].count()).sort_values().index\n",
    "                  ,ax = ax2)\n",
    "    ax[a_2,a_1].set_zorder(1)\n",
    "    ax2.set_zorder(-1)\n",
    "    ax[a_2,a_1].patch.set_visible(False)\n",
    "    ax[a_2,a_1].tick_params(axis ='x',\n",
    "                    rotation = 45,\n",
    "                   )\n",
    "    plt.title(i)\n",
    "    plt.subplots_adjust(hspace = 0.5,\n",
    "                        wspace = 0.5)\n",
    "    a +=1\n",
    "\n",
    "plt.show()"
   ]
  },
  {
   "cell_type": "markdown",
   "metadata": {},
   "source": [
    "- NAME_EDUCATION_TYPE 변수는 학위 수준을 순위로 라벨링 처리\n",
    "- WEEKDAY_APPR_PROCESS_START 변수는 의미가 없어 보인다."
   ]
  },
  {
   "cell_type": "code",
   "execution_count": null,
   "metadata": {},
   "outputs": [],
   "source": [
    "df_st1['NAME_EDUCATION_TYPE'].value_counts()\n",
    "df_st1 = df_st1.drop('WEEKDAY_APPR_PROCESS_START',axis=1)"
   ]
  },
  {
   "cell_type": "markdown",
   "metadata": {},
   "source": [
    "- 변수 라벨링"
   ]
  },
  {
   "cell_type": "code",
   "execution_count": null,
   "metadata": {},
   "outputs": [],
   "source": [
    "edu_typeLabel = {'Lower secondary' : 1,\n",
    "                 'Secondary / secondary special'    : 2,\n",
    "                 'Incomplete higher'    : 3,\n",
    "                 'Higher education'   : 4,\n",
    "                 'Academic degree'        : 5\n",
    "                }\n"
   ]
  },
  {
   "cell_type": "code",
   "execution_count": null,
   "metadata": {},
   "outputs": [],
   "source": [
    "df_st1.loc[df_st1['CODE_GENDER']=='F','CODE_GENDER'] = 1\n",
    "df_st1.loc[df_st1['CODE_GENDER']=='M','CODE_GENDER'] = 0\n"
   ]
  },
  {
   "cell_type": "code",
   "execution_count": null,
   "metadata": {},
   "outputs": [],
   "source": [
    "df_st1['NAME_EDUCATION_TYPE'] = df_st1['NAME_EDUCATION_TYPE'].apply(lambda x : edu_typeLabel[x])"
   ]
  },
  {
   "cell_type": "code",
   "execution_count": null,
   "metadata": {},
   "outputs": [],
   "source": [
    "df_st1['FLAG_WORK_INFO'] = df_st1['FLAG_WORK_INFO'].astype(int)\n",
    "df_st1['FLAG_IND_INFO'] = df_st1['FLAG_IND_INFO'].astype(int)\n",
    "df_st1['FLAG_DOCUMENT_3'] = df_st1['FLAG_DOCUMENT_3'].astype(int)\n",
    "df_st1['LIVE_CITY_NOT_WORK_CITY'] = df_st1['LIVE_CITY_NOT_WORK_CITY'].astype(int)\n",
    "df_st1['REG_CITY_NOT_WORK_CITY'] = df_st1['REG_CITY_NOT_WORK_CITY'].astype(int)\n",
    "df_st1['REG_CITY_NOT_LIVE_CITY'] = df_st1['REG_CITY_NOT_LIVE_CITY'].astype(int)\n",
    "df_st1['LIVE_CITY_NOT_WORK_CITY'] = df_st1['LIVE_CITY_NOT_WORK_CITY'].astype(int)\n",
    "df_st1['HOUR_APPR_PROCESS_START'] = df_st1['HOUR_APPR_PROCESS_START'].astype(int)\n",
    "df_st1['REGION_RATING_CLIENT'] = df_st1['REGION_RATING_CLIENT'].astype(int)\n",
    "df_st1['HOUR_APPR_PROCESS_START'] = df_st1['HOUR_APPR_PROCESS_START'].astype(int)\n",
    "\n"
   ]
  },
  {
   "cell_type": "code",
   "execution_count": null,
   "metadata": {},
   "outputs": [],
   "source": [
    "df_st2 = df_st1.copy()"
   ]
  },
  {
   "cell_type": "code",
   "execution_count": null,
   "metadata": {},
   "outputs": [],
   "source": [
    "df_st2.info()"
   ]
  },
  {
   "cell_type": "code",
   "execution_count": null,
   "metadata": {},
   "outputs": [],
   "source": [
    "df_st2['AMT_CREDIT'] = df_st1_reg['AMT_CREDIT']\n",
    "df_st2['CB_SCORE_1'] = df_st1_reg['CB_SCORE_1']\n",
    "df_st2['CB_SCORE_2'] = df_st1_reg['CB_SCORE_2']\n",
    "df_st2['CB_SCORE_3'] = df_st1_reg['CB_SCORE_3']\n",
    "df_st2['DAYS_BIRTH'] = df_st1_reg['DAYS_BIRTH'].abs()/365\n",
    "df_st2['DAYS_EMPLOYED'] = df_st1_reg['DAYS_EMPLOYED'].abs()\n",
    "df_st2['DAYS_REGISTRATION'] = df_st1_reg['DAYS_REGISTRATION'].abs()\n",
    "df_st2['DAYS_BIRTH_EMP'] = df_st1_reg['DAYS_EMPLOYED'].abs()/df_st1_reg['DAYS_BIRTH'].abs()\n"
   ]
  },
  {
   "cell_type": "markdown",
   "metadata": {},
   "source": [
    "- DAYS_BIRTH 를 365로 나누어 나이형태로 변환\n",
    "- DAYS_BIRTH_EMP : 살아온 기간동안 일한 기간을 비율로 나타내주는 변수"
   ]
  },
  {
   "cell_type": "code",
   "execution_count": null,
   "metadata": {},
   "outputs": [],
   "source": [
    "df_st2 = pd.get_dummies(df_st2)\n"
   ]
  },
  {
   "cell_type": "code",
   "execution_count": null,
   "metadata": {},
   "outputs": [],
   "source": [
    "MM_scaler = MinMaxScaler()"
   ]
  },
  {
   "cell_type": "markdown",
   "metadata": {},
   "source": [
    "## modeling"
   ]
  },
  {
   "cell_type": "code",
   "execution_count": null,
   "metadata": {},
   "outputs": [],
   "source": [
    "\n",
    "X = df_st2.drop('TARGET',axis=1)\n",
    "y = df_st2[['TARGET']].astype(str)\n"
   ]
  },
  {
   "cell_type": "code",
   "execution_count": null,
   "metadata": {},
   "outputs": [],
   "source": [
    "MM_scaler.fit(X)"
   ]
  },
  {
   "cell_type": "code",
   "execution_count": null,
   "metadata": {},
   "outputs": [],
   "source": [
    "X = MM_scaler.transform(X)\n"
   ]
  },
  {
   "cell_type": "code",
   "execution_count": null,
   "metadata": {},
   "outputs": [],
   "source": [
    "X_train, X_test, y_train, y_test = train_test_split(X,y, test_size=0.2,\n",
    "                                                    random_state=42,\n",
    "                                                    stratify =y)"
   ]
  },
  {
   "cell_type": "code",
   "execution_count": null,
   "metadata": {},
   "outputs": [],
   "source": [
    "%%time\n",
    "model_rf = RandomForestClassifier(random_state=42,n_estimators =10000, max_depth=9)\n",
    "model_lgb = lgb.LGBMClassifier(random_state=42, learning_rate=0.02, n_estimators=10000,is_unblance = True,boost_from_average = False)\n",
    "model_xgb = xgb.XGBClassifier(random_state=42, learning_rate = 0.02, n_estimators= 10000)"
   ]
  },
  {
   "cell_type": "code",
   "execution_count": null,
   "metadata": {},
   "outputs": [],
   "source": [
    "%%time\n",
    "model_rf.fit(X_over,y_over)\n",
    "model_lgb.fit(X_over,y_over)\n",
    "model_xgb.fit(X_over,y_over)"
   ]
  },
  {
   "cell_type": "code",
   "execution_count": null,
   "metadata": {},
   "outputs": [],
   "source": [
    "# model_rf.fit(X_train,y_train)\n",
    "# model_lgb.fit(X_train,y_train)\n",
    "# model_xgb.fit(X_train,y_train)"
   ]
  },
  {
   "cell_type": "code",
   "execution_count": null,
   "metadata": {},
   "outputs": [],
   "source": [
    "pred_y = model_rf.predict(X_test)\n",
    "pred_y4 = model_lgb.predict(X_test)\n",
    "pred_y5 = model_xgb.predict(X_test)\n"
   ]
  },
  {
   "cell_type": "code",
   "execution_count": null,
   "metadata": {},
   "outputs": [],
   "source": [
    "from sklearn.metrics import confusion_matrix"
   ]
  },
  {
   "cell_type": "code",
   "execution_count": null,
   "metadata": {},
   "outputs": [],
   "source": [
    "print(confusion_matrix(y_test, pred_y), 'auc :' ,roc_auc_score(y_test, pred_y))\n",
    "print('--------------------------------')\n",
    "\n",
    "print(confusion_matrix(y_test, pred_y4), roc_auc_score(y_test, pred_y4))\n",
    "print('--------------------------------')\n",
    "\n",
    "print(confusion_matrix(y_test, pred_y5), roc_auc_score(y_test, pred_y5))\n"
   ]
  },
  {
   "cell_type": "markdown",
   "metadata": {},
   "source": [
    "- 예측이 너무나도 안된다. 오버샘플링을 시도해보자"
   ]
  },
  {
   "cell_type": "code",
   "execution_count": null,
   "metadata": {},
   "outputs": [],
   "source": [
    "sm = SMOTE(random_state = 42)"
   ]
  },
  {
   "cell_type": "code",
   "execution_count": null,
   "metadata": {},
   "outputs": [],
   "source": [
    "X_over, y_over = sm.fit_resample(X_train,y_train)"
   ]
  },
  {
   "cell_type": "code",
   "execution_count": null,
   "metadata": {},
   "outputs": [],
   "source": [
    "%%time\n",
    "model_rf.fit(X_over,y_over)\n",
    "model_lgb.fit(X_over,y_over)\n",
    "model_xgb.fit(X_over,y_over)"
   ]
  },
  {
   "cell_type": "code",
   "execution_count": null,
   "metadata": {},
   "outputs": [],
   "source": [
    "pred_y = model_rf.predict(X_test)\n",
    "pred_y4 = model_lgb.predict(X_test)\n",
    "pred_y5 = model_xgb.predict(X_test)\n"
   ]
  },
  {
   "cell_type": "code",
   "execution_count": null,
   "metadata": {},
   "outputs": [],
   "source": [
    "print(confusion_matrix(y_test, pred_y), 'auc :' ,roc_auc_score(y_test, pred_y))\n",
    "print('--------------------------------')\n",
    "\n",
    "print(confusion_matrix(y_test, pred_y4), roc_auc_score(y_test, pred_y4))\n",
    "print('--------------------------------')\n",
    "\n",
    "print(confusion_matrix(y_test, pred_y5), roc_auc_score(y_test, pred_y5))"
   ]
  },
  {
   "cell_type": "markdown",
   "metadata": {},
   "source": [
    "- 조금은 상승된 모습이다. 변수를 처리하거나 만드는 과정에서 결측이 많았던 변수를 빼고 진행해보자"
   ]
  },
  {
   "cell_type": "code",
   "execution_count": null,
   "metadata": {},
   "outputs": [],
   "source": [
    "df_st3 = df_st1.copy()"
   ]
  },
  {
   "cell_type": "code",
   "execution_count": null,
   "metadata": {},
   "outputs": [],
   "source": [
    "df_st3 = df_st3.drop(['AMT_CREDIT','DAYS_EMPLOYED','DAYS_REGISTRATION'],axis=1)"
   ]
  },
  {
   "cell_type": "code",
   "execution_count": null,
   "metadata": {},
   "outputs": [],
   "source": [
    "df_st3['CB_SCORE_1'] = df_st1_reg['CB_SCORE_1']\n",
    "df_st3['CB_SCORE_2'] = df_st1_reg['CB_SCORE_2']\n",
    "df_st3['CB_SCORE_3'] = df_st1_reg['CB_SCORE_3']\n",
    "df_st3['DAYS_BIRTH'] = df_st1_reg['DAYS_BIRTH'].abs()/365\n"
   ]
  },
  {
   "cell_type": "code",
   "execution_count": null,
   "metadata": {},
   "outputs": [],
   "source": [
    "df_st3 = pd.get_dummies(df_st3)\n"
   ]
  },
  {
   "cell_type": "code",
   "execution_count": null,
   "metadata": {},
   "outputs": [],
   "source": [
    "MM_scaler = MinMaxScaler()"
   ]
  },
  {
   "cell_type": "code",
   "execution_count": null,
   "metadata": {},
   "outputs": [],
   "source": [
    "\n",
    "X = df_st3.drop('TARGET',axis=1)\n",
    "y = df_st3[['TARGET']].astype(str)"
   ]
  },
  {
   "cell_type": "code",
   "execution_count": null,
   "metadata": {},
   "outputs": [],
   "source": [
    "MM_scaler.fit(X)"
   ]
  },
  {
   "cell_type": "code",
   "execution_count": null,
   "metadata": {},
   "outputs": [],
   "source": [
    "X = MM_scaler.transform(X)\n"
   ]
  },
  {
   "cell_type": "code",
   "execution_count": null,
   "metadata": {},
   "outputs": [],
   "source": [
    "X_train, X_test, y_train, y_test = train_test_split(X,y, test_size=0.2,\n",
    "                                                    random_state=42,\n",
    "                                                    stratify =y)"
   ]
  },
  {
   "cell_type": "code",
   "execution_count": null,
   "metadata": {},
   "outputs": [],
   "source": [
    "sm = SMOTE(random_state = 42)"
   ]
  },
  {
   "cell_type": "code",
   "execution_count": null,
   "metadata": {},
   "outputs": [],
   "source": [
    "X_over, y_over = sm.fit_resample(X_train,y_train)"
   ]
  },
  {
   "cell_type": "code",
   "execution_count": null,
   "metadata": {},
   "outputs": [],
   "source": [
    "%%time\n",
    "model_rf = RandomForestClassifier(random_state=42,n_estimators =10000, max_depth=9)\n",
    "model_lgb = lgb.LGBMClassifier(random_state=42, learning_rate=0.02, n_estimators=10000,is_unblance = True,boost_from_average = False)\n",
    "model_xgb = xgb.XGBClassifier(random_state=42, learning_rate = 0.02, n_estimators= 10000)"
   ]
  },
  {
   "cell_type": "code",
   "execution_count": null,
   "metadata": {},
   "outputs": [],
   "source": [
    "%%time\n",
    "model_rf.fit(X_over,y_over)\n",
    "model_lgb.fit(X_over,y_over)\n",
    "model_xgb.fit(X_over,y_over)"
   ]
  },
  {
   "cell_type": "code",
   "execution_count": null,
   "metadata": {},
   "outputs": [],
   "source": [
    "pred_y = model_rf.predict(X_test)\n",
    "pred_y4 = model_lgb.predict(X_test)\n",
    "pred_y5 = model_xgb.predict(X_test)\n"
   ]
  },
  {
   "cell_type": "code",
   "execution_count": null,
   "metadata": {},
   "outputs": [],
   "source": [
    "print(confusion_matrix(y_test, pred_y), 'auc :' ,roc_auc_score(y_test, pred_y))\n",
    "print('--------------------------------')\n",
    "\n",
    "print(confusion_matrix(y_test, pred_y4), roc_auc_score(y_test, pred_y4))\n",
    "print('--------------------------------')\n",
    "\n",
    "print(confusion_matrix(y_test, pred_y5), roc_auc_score(y_test, pred_y5))"
   ]
  },
  {
   "cell_type": "markdown",
   "metadata": {},
   "source": [
    "- 전체적으로 랜덤포레스트가 성능이 제일 좋다.\n",
    "- 파라미터 튜닝을 해보자\n",
    "- 변수는 결측을 대체하고 파생변수를 만들었던 df_st2를 사용하자"
   ]
  },
  {
   "cell_type": "code",
   "execution_count": null,
   "metadata": {},
   "outputs": [],
   "source": [
    "MM_scaler = MinMaxScaler()"
   ]
  },
  {
   "cell_type": "code",
   "execution_count": null,
   "metadata": {},
   "outputs": [],
   "source": [
    "X = df_st2.drop('TARGET',axis=1)\n",
    "y = df_st2[['TARGET']].astype(str)"
   ]
  },
  {
   "cell_type": "code",
   "execution_count": null,
   "metadata": {},
   "outputs": [],
   "source": [
    "MM_scaler.fit(X)"
   ]
  },
  {
   "cell_type": "code",
   "execution_count": null,
   "metadata": {},
   "outputs": [],
   "source": [
    "X = MM_scaler.transform(X)\n"
   ]
  },
  {
   "cell_type": "code",
   "execution_count": null,
   "metadata": {},
   "outputs": [],
   "source": [
    "X_train, X_test, y_train, y_test = train_test_split(X,y, test_size=0.2,\n",
    "                                                    random_state=42,\n",
    "                                                    stratify =y)"
   ]
  },
  {
   "cell_type": "code",
   "execution_count": null,
   "metadata": {},
   "outputs": [],
   "source": [
    "sm = SMOTE(random_state = 42)"
   ]
  },
  {
   "cell_type": "code",
   "execution_count": null,
   "metadata": {},
   "outputs": [],
   "source": [
    "X_over, y_over = sm.fit_resample(X_train,y_train)"
   ]
  },
  {
   "cell_type": "code",
   "execution_count": null,
   "metadata": {},
   "outputs": [],
   "source": [
    "from sklearn.model_selection import GridSearchCV\n",
    "\n",
    "params = { 'n_estimators' : [100, 1000, 10000],\n",
    "           'max_depth' : [6, 8, 10, 12],\n",
    "           'min_samples_leaf' : [8, 12, 18],\n",
    "           'min_samples_split' : [8, 16, 20]\n",
    "            }\n",
    "\n",
    "# RandomForestClassifier 객체 생성 후 GridSearchCV 수행\n",
    "modrl_rf_gscv = RandomForestClassifier(random_state = 0, n_jobs = -1)\n",
    "grid_cv = GridSearchCV(modrl_rf_gscv, param_grid = params, cv = 4, n_jobs = -1)\n",
    "grid_cv.fit(X_over, y_over)"
   ]
  },
  {
   "cell_type": "markdown",
   "metadata": {},
   "source": [
    "- 전처리함수"
   ]
  },
  {
   "cell_type": "code",
   "execution_count": null,
   "metadata": {},
   "outputs": [],
   "source": [
    "def makeX(data):\n",
    "    df_st1 = data.copy()\n",
    "    n_col=[]\n",
    "    for i in df_st1.columns:\n",
    "        n_col.append(i.upper())\n",
    "    df_st1.columns = n_col\n",
    "    df_st1['FLAG_MOBIL'] = df_st1['FLAG_MOBIL'].astype('str')\n",
    "    df_st1['FLAG_EMP_PHONE'] = df_st1['FLAG_EMP_PHONE'].astype('str')\n",
    "    df_st1['FLAG_WORK_PHONE'] = df_st1['FLAG_WORK_PHONE'].astype('str')\n",
    "    df_st1['FLAG_PHONE'] = df_st1['FLAG_PHONE'].astype('str')\n",
    "    df_st1['FLAG_EMAIL'] = df_st1['FLAG_EMAIL'].astype('str')\n",
    "    df_st1['REGION_RATING_CLIENT'] = df_st1['REGION_RATING_CLIENT'].astype('str')\n",
    "    df_st1['HOUR_APPR_PROCESS_START'] = df_st1['HOUR_APPR_PROCESS_START'].astype('str')\n",
    "    df_st1['REG_CITY_NOT_LIVE_CITY'] = df_st1['REG_CITY_NOT_LIVE_CITY'].astype('str')\n",
    "    df_st1['REG_CITY_NOT_WORK_CITY'] = df_st1['REG_CITY_NOT_WORK_CITY'].astype('str')\n",
    "    df_st1['LIVE_CITY_NOT_WORK_CITY'] = df_st1['LIVE_CITY_NOT_WORK_CITY'].astype('str')\n",
    "    df_st1['FLAG_DOCUMENT_2'] = df_st1['FLAG_DOCUMENT_2'].astype('str')\n",
    "    df_st1['FLAG_DOCUMENT_3'] = df_st1['FLAG_DOCUMENT_3'].astype('str')\n",
    "    df_st1['FLAG_DOCUMENT_4'] = df_st1['FLAG_DOCUMENT_4'].astype('str')\n",
    "    df_st1['CNT_CHILDREN']               = df_st1['CNT_CHILDREN'].astype('int')\n",
    "    df_st1['AMT_INCOME_TOTAL']           = df_st1['AMT_INCOME_TOTAL'].astype('float64')\n",
    "    df_st1['AMT_CREDIT']                 = df_st1['AMT_CREDIT'].astype('float64')\n",
    "    df_st1['REGION_POPULATION_RELATIVE'] = df_st1['REGION_POPULATION_RELATIVE'].astype('float64')\n",
    "    df_st1['DAYS_BIRTH']                 = df_st1['DAYS_BIRTH'].astype('float64')\n",
    "    df_st1['DAYS_EMPLOYED']              = df_st1['DAYS_EMPLOYED'].astype('float64')\n",
    "    df_st1['DAYS_REGISTRATION']          = df_st1['DAYS_REGISTRATION'].astype('float64')\n",
    "    df_st1['DAYS_ID_PUBLISH']            = df_st1['DAYS_ID_PUBLISH'].astype('float64')\n",
    "    df_st1['DAYS_EMPLOYED']              = df_st1['DAYS_EMPLOYED'].astype('float64')\n",
    "    df_st1['CB_SCORE_1']                 = df_st1['CB_SCORE_1'].astype('float64')\n",
    "    df_st1['CB_SCORE_2']                 = df_st1['CB_SCORE_2'].astype('float64')\n",
    "    df_st1['CB_SCORE_3']                 = df_st1['CB_SCORE_3'].astype('float64')\n",
    "    df_st1['TARGET'] = df_st1['TARGET'].astype('int')\n",
    "    \n",
    "    \n",
    "    \n",
    "    \n",
    "    \n",
    "    \n",
    "    df_st1 = df_st1.drop(['SK_ID_CURR','FLAG_MOBIL','FLAG_DOCUMENT_2','FLAG_DOCUMENT_4'],axis=1)\n",
    "    \n",
    "    \n",
    "    df_st1.loc[df_st1['AMT_INCOME_TOTAL']>=1000000,'AMT_INCOME_TOTAL'] = 1000000\n",
    "    \n",
    "    \n",
    "    df_st1['ORGANIZATION_TYPE2'] = df_st1['ORGANIZATION_TYPE'].str.split().str[0]\n",
    "    df_st1['ORGANIZATION_TYPE3'] = ''\n",
    "    a = ['Religion','Police','Realtor','Culture','Insurance','Mobile','Services','Military','Postal','Cleaning','Bank','University']\n",
    "    b = ['XNA']\n",
    "    c = ['Medicine','School','Hotel','Kindergarten','Advertising','Telecom']\n",
    "    d = ['Business']\n",
    "    e = ['Restaurant','Government','Transport:','Other','Industry:','Trade:']\n",
    "    f = ['Self-employed']\n",
    "    g = ['Construction','Security','Housing','Electricity','Agriculture','Emergency','Legal']\n",
    "    \n",
    "    df_st1.loc[df_st1.ORGANIZATION_TYPE2.isin(a),'ORGANIZATION_TYPE3'] = 'group1'\n",
    "    df_st1.loc[df_st1.ORGANIZATION_TYPE2.isin(b),'ORGANIZATION_TYPE3'] = 'group2'\n",
    "    df_st1.loc[df_st1.ORGANIZATION_TYPE2.isin(c),'ORGANIZATION_TYPE3'] = 'group3'\n",
    "    df_st1.loc[df_st1.ORGANIZATION_TYPE2.isin(d),'ORGANIZATION_TYPE3'] = 'group4'\n",
    "    df_st1.loc[df_st1.ORGANIZATION_TYPE2.isin(e),'ORGANIZATION_TYPE3'] = 'group5'\n",
    "    df_st1.loc[df_st1.ORGANIZATION_TYPE2.isin(f),'ORGANIZATION_TYPE3'] = 'group6'\n",
    "    df_st1.loc[df_st1.ORGANIZATION_TYPE2.isin(g),'ORGANIZATION_TYPE3'] = 'group7'\n",
    "    df_st1.loc[df_st1.ORGANIZATION_TYPE3== '','ORGANIZATION_TYPE3'] = 'group4'\n",
    "\n",
    "    df_st1 = df_st1.drop(['ORGANIZATION_TYPE','ORGANIZATION_TYPE2'],axis=1)\n",
    "    \n",
    "    \n",
    "    \n",
    "    df_st1['FLAG_WORK_INFO'] = df_st1['FLAG_EMP_PHONE'].astype(int) + df_st1['FLAG_WORK_PHONE'].astype(int)\n",
    "    df_st1['FLAG_WORK_INFO'] = df_st1['FLAG_WORK_INFO'].astype(str)\n",
    "    df_st1['FLAG_IND_INFO'] = df_st1['FLAG_PHONE'].astype(int) + df_st1['FLAG_EMAIL'].astype(int)\n",
    "    df_st1['FLAG_IND_INFO'] = df_st1['FLAG_IND_INFO'].astype(str)\n",
    "    \n",
    "    df_st1 = df_st1.drop(['FLAG_EMP_PHONE','FLAG_WORK_PHONE','FLAG_PHONE','FLAG_EMAIL'],axis=1)\n",
    "    \n",
    "    \n",
    "    df_st1.loc[df_st1['CODE_GENDER']=='XNA','CODE_GENDER'] = np.NaN\n",
    "    if df_st1['CODE_GENDER'].isna().sum() >0 :\n",
    "        df_gender =pd.concat([df_st1.loc[:,df_st1.columns[df_st1.isna().sum() == 0]].drop('TARGET',axis=1), df_st1[['CODE_GENDER']]],axis=1)\n",
    "        im = datawig.SimpleImputer(df_gender,\n",
    "                               'CODE_GENDER')\n",
    "        im.fit(df_gender,num_epochs=5)\n",
    "        df_gender = im.predict(df_gender)\n",
    "        df_st1['CODE_GENDER'] = df_gender['CODE_GENDER_imputed']\n",
    "        \n",
    "        \n",
    "        \n",
    "        \n",
    "    df_st1 = df_st1.drop('FLAG_OWN_REALTY',axis=1)\n",
    "    df_st1 = df_st1.drop('REGION_POPULATION_RELATIVE',axis=1)\n",
    "    \n",
    "    \n",
    "    df_st1['DAYS_BIRTH'] = df_st1['DAYS_BIRTH'].abs()\n",
    "    df_st1 = df_st1.drop('DAYS_ID_PUBLISH',axis=1)\n",
    "    df_st1.loc[df_st1['NAME_FAMILY_STATUS']=='Unknown','NAME_FAMILY_STATUS'] = 'Married'\n",
    "    \n",
    "    \n",
    "    df_st1 = df_st1.drop('WEEKDAY_APPR_PROCESS_START',axis=1)\n",
    "    df_st1.loc[df_st1['CODE_GENDER']=='F','CODE_GENDER'] = 1\n",
    "    df_st1.loc[df_st1['CODE_GENDER']=='M','CODE_GENDER'] = 0\n",
    "    edu_typeLabel = {'Lower secondary' : 1,\n",
    "                 'Secondary / secondary special'    : 2,\n",
    "                 'Incomplete higher'    : 3,\n",
    "                 'Higher education'   : 4,\n",
    "                 'Academic degree'        : 5\n",
    "                }\n",
    "    df_st1.loc[df_st1['NAME_FAMILY_STATUS']=='Unknown','NAME_FAMILY_STATUS'] = 'Married'\n",
    "    df_st1['NAME_EDUCATION_TYPE'] = df_st1['NAME_EDUCATION_TYPE'].apply(lambda x : edu_typeLabel[x])\n",
    "    df_st1['FLAG_WORK_INFO'] = df_st1['FLAG_WORK_INFO'].astype(int)\n",
    "    df_st1['FLAG_IND_INFO'] = df_st1['FLAG_IND_INFO'].astype(int)\n",
    "    df_st1['FLAG_DOCUMENT_3'] = df_st1['FLAG_DOCUMENT_3'].astype(int)\n",
    "    df_st1['LIVE_CITY_NOT_WORK_CITY'] = df_st1['LIVE_CITY_NOT_WORK_CITY'].astype(int)\n",
    "    df_st1['REG_CITY_NOT_WORK_CITY'] = df_st1['REG_CITY_NOT_WORK_CITY'].astype(int)\n",
    "    df_st1['REG_CITY_NOT_LIVE_CITY'] = df_st1['REG_CITY_NOT_LIVE_CITY'].astype(int)\n",
    "    df_st1['LIVE_CITY_NOT_WORK_CITY'] = df_st1['LIVE_CITY_NOT_WORK_CITY'].astype(int)\n",
    "    df_st1['HOUR_APPR_PROCESS_START'] = df_st1['HOUR_APPR_PROCESS_START'].astype(int)\n",
    "    df_st1['REGION_RATING_CLIENT'] = df_st1['REGION_RATING_CLIENT'].astype(int)\n",
    "    df_st1['HOUR_APPR_PROCESS_START'] = df_st1['HOUR_APPR_PROCESS_START'].astype(int)\n",
    "    df_st1['DAYS_BIRTH_EMP'] = df_st1['DAYS_EMPLOYED'].abs()/df_st1['DAYS_BIRTH'].abs()\n",
    "    df_st1['DAYS_BIRTH'] = df_st1['DAYS_BIRTH'].abs()/365\n",
    "    df_st1['DAYS_EMPLOYED'] = df_st1['DAYS_EMPLOYED'].abs()\n",
    "    df_st1['TOT_CS_SCORE'] = df_st1['CB_SCORE_1'] +df_st1['CB_SCORE_2'] + df_st1['CB_SCORE_3']\n",
    "    df_st1['DAYS_REGISTRATION'] = df_st1['DAYS_REGISTRATION'].abs()\n",
    "    df_st1 = pd.get_dummies(df_st1)\n",
    "    \n",
    "    \n",
    "    return df_st1"
   ]
  },
  {
   "cell_type": "code",
   "execution_count": null,
   "metadata": {},
   "outputs": [],
   "source": [
    "dfnn = makeX(df)\n",
    "X = dfnn.drop('TARGET',axis=1)\n",
    "X = MM_scaler.transform(X)\n",
    "y = dfnn[['TARGET']]"
   ]
  }
 ],
 "metadata": {
  "kernelspec": {
   "display_name": "Python 3",
   "language": "python",
   "name": "python3"
  },
  "language_info": {
   "codemirror_mode": {
    "name": "ipython",
    "version": 3
   },
   "file_extension": ".py",
   "mimetype": "text/x-python",
   "name": "python",
   "nbconvert_exporter": "python",
   "pygments_lexer": "ipython3",
   "version": "3.6.13"
  }
 },
 "nbformat": 4,
 "nbformat_minor": 4
}
