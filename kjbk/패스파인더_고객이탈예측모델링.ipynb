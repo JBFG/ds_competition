{
 "cells": [
  {
   "cell_type": "code",
   "execution_count": 1,
   "id": "c88113ce-ccba-4560-9d57-e943fd315ce8",
   "metadata": {},
   "outputs": [
    {
     "data": {
      "text/html": [
       "<div>\n",
       "<style scoped>\n",
       "    .dataframe tbody tr th:only-of-type {\n",
       "        vertical-align: middle;\n",
       "    }\n",
       "\n",
       "    .dataframe tbody tr th {\n",
       "        vertical-align: top;\n",
       "    }\n",
       "\n",
       "    .dataframe thead th {\n",
       "        text-align: right;\n",
       "    }\n",
       "</style>\n",
       "<table border=\"1\" class=\"dataframe\">\n",
       "  <thead>\n",
       "    <tr style=\"text-align: right;\">\n",
       "      <th></th>\n",
       "      <th>Unnamed: 0</th>\n",
       "      <th>cstno</th>\n",
       "      <th>is_churned</th>\n",
       "      <th>age</th>\n",
       "      <th>sex</th>\n",
       "      <th>dependent_num</th>\n",
       "      <th>education</th>\n",
       "      <th>marital_stat</th>\n",
       "      <th>imcome_cat</th>\n",
       "      <th>card_type</th>\n",
       "      <th>...</th>\n",
       "      <th>months_inact_for_12m</th>\n",
       "      <th>contact_cnt_for_12m</th>\n",
       "      <th>credit_line</th>\n",
       "      <th>tot_revol_balance</th>\n",
       "      <th>mean_open_to_buy</th>\n",
       "      <th>tot_amt_ratio_q4_q1</th>\n",
       "      <th>tot_trans_amt_for_12m</th>\n",
       "      <th>tot_trans_cnt_for_12m</th>\n",
       "      <th>tot_cnt_ratio_q4_q1</th>\n",
       "      <th>mean_util_pct</th>\n",
       "    </tr>\n",
       "  </thead>\n",
       "  <tbody>\n",
       "    <tr>\n",
       "      <th>0</th>\n",
       "      <td>0</td>\n",
       "      <td>708082083</td>\n",
       "      <td>0</td>\n",
       "      <td>45</td>\n",
       "      <td>F</td>\n",
       "      <td>3</td>\n",
       "      <td>High School</td>\n",
       "      <td>Married</td>\n",
       "      <td>Less than $40K</td>\n",
       "      <td>Blue</td>\n",
       "      <td>...</td>\n",
       "      <td>3</td>\n",
       "      <td>3</td>\n",
       "      <td>3544.0</td>\n",
       "      <td>NaN</td>\n",
       "      <td>1883.0</td>\n",
       "      <td>0.831</td>\n",
       "      <td>NaN</td>\n",
       "      <td>111.0</td>\n",
       "      <td>0.734</td>\n",
       "      <td>0.469</td>\n",
       "    </tr>\n",
       "    <tr>\n",
       "      <th>1</th>\n",
       "      <td>1</td>\n",
       "      <td>708083283</td>\n",
       "      <td>1</td>\n",
       "      <td>58</td>\n",
       "      <td>M</td>\n",
       "      <td>0</td>\n",
       "      <td>Unknown</td>\n",
       "      <td>Single</td>\n",
       "      <td>$40K - $60K</td>\n",
       "      <td>Blue</td>\n",
       "      <td>...</td>\n",
       "      <td>1</td>\n",
       "      <td>3</td>\n",
       "      <td>3421.0</td>\n",
       "      <td>2517.0</td>\n",
       "      <td>904.0</td>\n",
       "      <td>0.992</td>\n",
       "      <td>992.0</td>\n",
       "      <td>21.0</td>\n",
       "      <td>0.400</td>\n",
       "      <td>NaN</td>\n",
       "    </tr>\n",
       "    <tr>\n",
       "      <th>2</th>\n",
       "      <td>2</td>\n",
       "      <td>708084558</td>\n",
       "      <td>1</td>\n",
       "      <td>46</td>\n",
       "      <td>M</td>\n",
       "      <td>3</td>\n",
       "      <td>Doctorate</td>\n",
       "      <td>Divorced</td>\n",
       "      <td>$80K - $120K</td>\n",
       "      <td>Blue</td>\n",
       "      <td>...</td>\n",
       "      <td>3</td>\n",
       "      <td>3</td>\n",
       "      <td>8258.0</td>\n",
       "      <td>1771.0</td>\n",
       "      <td>6487.0</td>\n",
       "      <td>NaN</td>\n",
       "      <td>1447.0</td>\n",
       "      <td>23.0</td>\n",
       "      <td>0.000</td>\n",
       "      <td>0.214</td>\n",
       "    </tr>\n",
       "    <tr>\n",
       "      <th>3</th>\n",
       "      <td>3</td>\n",
       "      <td>708085458</td>\n",
       "      <td>0</td>\n",
       "      <td>34</td>\n",
       "      <td>F</td>\n",
       "      <td>2</td>\n",
       "      <td>Uneducated</td>\n",
       "      <td>Single</td>\n",
       "      <td>Less than $40K</td>\n",
       "      <td>Blue</td>\n",
       "      <td>...</td>\n",
       "      <td>2</td>\n",
       "      <td>2</td>\n",
       "      <td>1438.3</td>\n",
       "      <td>0.0</td>\n",
       "      <td>1438.3</td>\n",
       "      <td>0.827</td>\n",
       "      <td>3940.0</td>\n",
       "      <td>82.0</td>\n",
       "      <td>0.952</td>\n",
       "      <td>0.000</td>\n",
       "    </tr>\n",
       "    <tr>\n",
       "      <th>4</th>\n",
       "      <td>4</td>\n",
       "      <td>708086958</td>\n",
       "      <td>0</td>\n",
       "      <td>49</td>\n",
       "      <td>F</td>\n",
       "      <td>2</td>\n",
       "      <td>Uneducated</td>\n",
       "      <td>Married</td>\n",
       "      <td>Unknown</td>\n",
       "      <td>Blue</td>\n",
       "      <td>...</td>\n",
       "      <td>5</td>\n",
       "      <td>2</td>\n",
       "      <td>3128.0</td>\n",
       "      <td>749.0</td>\n",
       "      <td>2379.0</td>\n",
       "      <td>0.598</td>\n",
       "      <td>NaN</td>\n",
       "      <td>NaN</td>\n",
       "      <td>NaN</td>\n",
       "      <td>0.239</td>\n",
       "    </tr>\n",
       "    <tr>\n",
       "      <th>...</th>\n",
       "      <td>...</td>\n",
       "      <td>...</td>\n",
       "      <td>...</td>\n",
       "      <td>...</td>\n",
       "      <td>...</td>\n",
       "      <td>...</td>\n",
       "      <td>...</td>\n",
       "      <td>...</td>\n",
       "      <td>...</td>\n",
       "      <td>...</td>\n",
       "      <td>...</td>\n",
       "      <td>...</td>\n",
       "      <td>...</td>\n",
       "      <td>...</td>\n",
       "      <td>...</td>\n",
       "      <td>...</td>\n",
       "      <td>...</td>\n",
       "      <td>...</td>\n",
       "      <td>...</td>\n",
       "      <td>...</td>\n",
       "      <td>...</td>\n",
       "    </tr>\n",
       "    <tr>\n",
       "      <th>8096</th>\n",
       "      <td>8096</td>\n",
       "      <td>828285858</td>\n",
       "      <td>0</td>\n",
       "      <td>41</td>\n",
       "      <td>F</td>\n",
       "      <td>3</td>\n",
       "      <td>College</td>\n",
       "      <td>Married</td>\n",
       "      <td>NaN</td>\n",
       "      <td>Blue</td>\n",
       "      <td>...</td>\n",
       "      <td>1</td>\n",
       "      <td>2</td>\n",
       "      <td>1438.3</td>\n",
       "      <td>765.0</td>\n",
       "      <td>673.3</td>\n",
       "      <td>NaN</td>\n",
       "      <td>NaN</td>\n",
       "      <td>NaN</td>\n",
       "      <td>NaN</td>\n",
       "      <td>0.532</td>\n",
       "    </tr>\n",
       "    <tr>\n",
       "      <th>8097</th>\n",
       "      <td>8097</td>\n",
       "      <td>828288333</td>\n",
       "      <td>0</td>\n",
       "      <td>50</td>\n",
       "      <td>M</td>\n",
       "      <td>0</td>\n",
       "      <td>Uneducated</td>\n",
       "      <td>Married</td>\n",
       "      <td>$60K - $80K</td>\n",
       "      <td>Blue</td>\n",
       "      <td>...</td>\n",
       "      <td>1</td>\n",
       "      <td>3</td>\n",
       "      <td>3640.0</td>\n",
       "      <td>659.0</td>\n",
       "      <td>2981.0</td>\n",
       "      <td>NaN</td>\n",
       "      <td>NaN</td>\n",
       "      <td>NaN</td>\n",
       "      <td>0.842</td>\n",
       "      <td>0.181</td>\n",
       "    </tr>\n",
       "    <tr>\n",
       "      <th>8098</th>\n",
       "      <td>8098</td>\n",
       "      <td>828294933</td>\n",
       "      <td>1</td>\n",
       "      <td>49</td>\n",
       "      <td>F</td>\n",
       "      <td>3</td>\n",
       "      <td>High School</td>\n",
       "      <td>Married</td>\n",
       "      <td>Less than $40K</td>\n",
       "      <td>Blue</td>\n",
       "      <td>...</td>\n",
       "      <td>2</td>\n",
       "      <td>3</td>\n",
       "      <td>2951.0</td>\n",
       "      <td>2437.0</td>\n",
       "      <td>514.0</td>\n",
       "      <td>NaN</td>\n",
       "      <td>NaN</td>\n",
       "      <td>NaN</td>\n",
       "      <td>0.565</td>\n",
       "      <td>NaN</td>\n",
       "    </tr>\n",
       "    <tr>\n",
       "      <th>8099</th>\n",
       "      <td>8099</td>\n",
       "      <td>828298908</td>\n",
       "      <td>0</td>\n",
       "      <td>54</td>\n",
       "      <td>M</td>\n",
       "      <td>4</td>\n",
       "      <td>Graduate</td>\n",
       "      <td>Married</td>\n",
       "      <td>$120K +</td>\n",
       "      <td>Blue</td>\n",
       "      <td>...</td>\n",
       "      <td>2</td>\n",
       "      <td>0</td>\n",
       "      <td>2872.0</td>\n",
       "      <td>2035.0</td>\n",
       "      <td>837.0</td>\n",
       "      <td>0.613</td>\n",
       "      <td>1770.0</td>\n",
       "      <td>NaN</td>\n",
       "      <td>0.741</td>\n",
       "      <td>0.709</td>\n",
       "    </tr>\n",
       "    <tr>\n",
       "      <th>8100</th>\n",
       "      <td>8100</td>\n",
       "      <td>828343083</td>\n",
       "      <td>0</td>\n",
       "      <td>43</td>\n",
       "      <td>F</td>\n",
       "      <td>4</td>\n",
       "      <td>High School</td>\n",
       "      <td>Unknown</td>\n",
       "      <td>Less than $40K</td>\n",
       "      <td>Blue</td>\n",
       "      <td>...</td>\n",
       "      <td>3</td>\n",
       "      <td>3</td>\n",
       "      <td>2786.0</td>\n",
       "      <td>1793.0</td>\n",
       "      <td>993.0</td>\n",
       "      <td>0.803</td>\n",
       "      <td>NaN</td>\n",
       "      <td>68.0</td>\n",
       "      <td>0.659</td>\n",
       "      <td>NaN</td>\n",
       "    </tr>\n",
       "  </tbody>\n",
       "</table>\n",
       "<p>8101 rows × 22 columns</p>\n",
       "</div>"
      ],
      "text/plain": [
       "      Unnamed: 0      cstno  is_churned  age sex  dependent_num    education  \\\n",
       "0              0  708082083           0   45   F              3  High School   \n",
       "1              1  708083283           1   58   M              0      Unknown   \n",
       "2              2  708084558           1   46   M              3    Doctorate   \n",
       "3              3  708085458           0   34   F              2   Uneducated   \n",
       "4              4  708086958           0   49   F              2   Uneducated   \n",
       "...          ...        ...         ...  ...  ..            ...          ...   \n",
       "8096        8096  828285858           0   41   F              3      College   \n",
       "8097        8097  828288333           0   50   M              0   Uneducated   \n",
       "8098        8098  828294933           1   49   F              3  High School   \n",
       "8099        8099  828298908           0   54   M              4     Graduate   \n",
       "8100        8100  828343083           0   43   F              4  High School   \n",
       "\n",
       "     marital_stat      imcome_cat card_type  ...  months_inact_for_12m  \\\n",
       "0         Married  Less than $40K      Blue  ...                     3   \n",
       "1          Single     $40K - $60K      Blue  ...                     1   \n",
       "2        Divorced    $80K - $120K      Blue  ...                     3   \n",
       "3          Single  Less than $40K      Blue  ...                     2   \n",
       "4         Married         Unknown      Blue  ...                     5   \n",
       "...           ...             ...       ...  ...                   ...   \n",
       "8096      Married             NaN      Blue  ...                     1   \n",
       "8097      Married     $60K - $80K      Blue  ...                     1   \n",
       "8098      Married  Less than $40K      Blue  ...                     2   \n",
       "8099      Married         $120K +      Blue  ...                     2   \n",
       "8100      Unknown  Less than $40K      Blue  ...                     3   \n",
       "\n",
       "      contact_cnt_for_12m  credit_line  tot_revol_balance  mean_open_to_buy  \\\n",
       "0                       3       3544.0                NaN            1883.0   \n",
       "1                       3       3421.0             2517.0             904.0   \n",
       "2                       3       8258.0             1771.0            6487.0   \n",
       "3                       2       1438.3                0.0            1438.3   \n",
       "4                       2       3128.0              749.0            2379.0   \n",
       "...                   ...          ...                ...               ...   \n",
       "8096                    2       1438.3              765.0             673.3   \n",
       "8097                    3       3640.0              659.0            2981.0   \n",
       "8098                    3       2951.0             2437.0             514.0   \n",
       "8099                    0       2872.0             2035.0             837.0   \n",
       "8100                    3       2786.0             1793.0             993.0   \n",
       "\n",
       "      tot_amt_ratio_q4_q1  tot_trans_amt_for_12m  tot_trans_cnt_for_12m  \\\n",
       "0                   0.831                    NaN                  111.0   \n",
       "1                   0.992                  992.0                   21.0   \n",
       "2                     NaN                 1447.0                   23.0   \n",
       "3                   0.827                 3940.0                   82.0   \n",
       "4                   0.598                    NaN                    NaN   \n",
       "...                   ...                    ...                    ...   \n",
       "8096                  NaN                    NaN                    NaN   \n",
       "8097                  NaN                    NaN                    NaN   \n",
       "8098                  NaN                    NaN                    NaN   \n",
       "8099                0.613                 1770.0                    NaN   \n",
       "8100                0.803                    NaN                   68.0   \n",
       "\n",
       "      tot_cnt_ratio_q4_q1  mean_util_pct  \n",
       "0                   0.734          0.469  \n",
       "1                   0.400            NaN  \n",
       "2                   0.000          0.214  \n",
       "3                   0.952          0.000  \n",
       "4                     NaN          0.239  \n",
       "...                   ...            ...  \n",
       "8096                  NaN          0.532  \n",
       "8097                0.842          0.181  \n",
       "8098                0.565            NaN  \n",
       "8099                0.741          0.709  \n",
       "8100                0.659            NaN  \n",
       "\n",
       "[8101 rows x 22 columns]"
      ]
     },
     "execution_count": 1,
     "metadata": {},
     "output_type": "execute_result"
    }
   ],
   "source": [
    "from jbfg.pandas_utils import *\n",
    "# schema = 'l2_kjbk_extnl'\n",
    "# sql = 'select * from bank_churner'\n",
    "# bank_churner = get_df(sql,schema)\n",
    "bank_churner = pd.read_csv(\"../0.data/bank_churner.csv\")\n",
    "data = bank_churner\n",
    "data"
   ]
  },
  {
   "cell_type": "code",
   "execution_count": 2,
   "id": "89c8ca4e-0e3e-4fef-a1e9-97eaf9bc9c85",
   "metadata": {},
   "outputs": [],
   "source": [
    "## 빈값'' 은 NaN 으로 변경\n",
    "data = data.replace('',np.NaN)\n",
    "##Dtype 가 모두 object 여서 해당 값에 맞게 타입변경\n",
    "data = data.astype({'cstno':'int64'})    \n",
    "data = data.astype({'is_churned':'int64'})\n",
    "data = data.astype({'age':'int64'})\n",
    "data = data.astype({'dependent_num':'int64'})\n",
    "data = data.astype({'mon_on_book':'int64'})\n",
    "data = data.astype({'tot_product_count':'int64'})\n",
    "data = data.astype({'months_inact_for_12m':'int64'})\n",
    "data = data.astype({'contact_cnt_for_12m':'int64'})\n",
    "data = data.astype({'credit_line':'float64'})\n",
    "data = data.astype({'tot_revol_balance':'float64'})\n",
    "data = data.astype({'mean_open_to_buy':'float64'})\n",
    "data = data.astype({'tot_amt_ratio_q4_q1':'float64'})\n",
    "data = data.astype({'tot_trans_amt_for_12m':'float64'})\n",
    "data = data.astype({'tot_trans_cnt_for_12m':'float64'})\n",
    "data = data.astype({'tot_cnt_ratio_q4_q1':'float64'})\n",
    "data = data.astype({'mean_util_pct':'float64'})"
   ]
  },
  {
   "cell_type": "code",
   "execution_count": 3,
   "id": "7ee4f493-34bf-4e36-97af-440a4a87b6bb",
   "metadata": {},
   "outputs": [
    {
     "name": "stdout",
     "output_type": "stream",
     "text": [
      "<class 'pandas.core.frame.DataFrame'>\n",
      "RangeIndex: 8101 entries, 0 to 8100\n",
      "Data columns (total 22 columns):\n",
      " #   Column                 Non-Null Count  Dtype  \n",
      "---  ------                 --------------  -----  \n",
      " 0   Unnamed: 0             8101 non-null   int64  \n",
      " 1   cstno                  8101 non-null   int64  \n",
      " 2   is_churned             8101 non-null   int64  \n",
      " 3   age                    8101 non-null   int64  \n",
      " 4   sex                    7293 non-null   object \n",
      " 5   dependent_num          8101 non-null   int64  \n",
      " 6   education              8101 non-null   object \n",
      " 7   marital_stat           8101 non-null   object \n",
      " 8   imcome_cat             6482 non-null   object \n",
      " 9   card_type              8101 non-null   object \n",
      " 10  mon_on_book            8101 non-null   int64  \n",
      " 11  tot_product_count      8101 non-null   int64  \n",
      " 12  months_inact_for_12m   8101 non-null   int64  \n",
      " 13  contact_cnt_for_12m    8101 non-null   int64  \n",
      " 14  credit_line            8101 non-null   float64\n",
      " 15  tot_revol_balance      6580 non-null   float64\n",
      " 16  mean_open_to_buy       8101 non-null   float64\n",
      " 17  tot_amt_ratio_q4_q1    5666 non-null   float64\n",
      " 18  tot_trans_amt_for_12m  6432 non-null   float64\n",
      " 19  tot_trans_cnt_for_12m  4851 non-null   float64\n",
      " 20  tot_cnt_ratio_q4_q1    6472 non-null   float64\n",
      " 21  mean_util_pct          5575 non-null   float64\n",
      "dtypes: float64(8), int64(9), object(5)\n",
      "memory usage: 1.4+ MB\n"
     ]
    }
   ],
   "source": [
    "\"\"\"\n",
    "cstno\t고객번호\n",
    "is_churned\t1: 이탈 0: 유지\n",
    "age\t나이\n",
    "sex\t성별\n",
    "dependent_num\t부양가족수\n",
    "education\t교육수준\n",
    "marital_stat\t결혼상태\n",
    "imcome_cat\t수입규모\n",
    "card_type\t카드 종류\n",
    "mon_on_book\t은행 거래 기간\n",
    "tot_product_count\t현재 보유 상품 개수\n",
    "months_inact_for_12m\t최근 12개월 동안 카드 거래가 없었던 개월 수\n",
    "contact_cnt_for_12m\t최근 12개월 동안 연락 횟수\n",
    "credit_line\t카드 한도\n",
    "tot_revol_balance\t리볼빙 잔액\n",
    "mean_open_to_buy\t평균 사용가능 신용한도\n",
    "tot_amt_ratio_q4_q1\t1분기 대비 4분기의 거래 금액 비율\n",
    "tot_trans_amt_for_12m\t최근 12개월 동안의 거래 금액\n",
    "tot_trans_cnt_for_12m\t최근 12개월 동안의 거래 횟수\n",
    "tot_cnt_ratio_q4_q1\t1분기 대비 4분기의 거래 횟수 비율\n",
    "mean_util_pct\t평균 한도 소진율\n",
    "\n",
    "\"\"\"\n",
    "data.info()"
   ]
  },
  {
   "cell_type": "code",
   "execution_count": 4,
   "id": "68e37454-f44a-42ba-b7cb-41f0d5057974",
   "metadata": {},
   "outputs": [],
   "source": [
    "##필요패키지 IMPORT\n",
    "import pandas as pd\n",
    "import numpy as np\n",
    "import matplotlib.pyplot as plt\n",
    "import seaborn as sns"
   ]
  },
  {
   "cell_type": "code",
   "execution_count": 5,
   "id": "67842484-944e-48f8-88fa-8cdf1d6cc2e1",
   "metadata": {},
   "outputs": [
    {
     "data": {
      "text/plain": [
       "<matplotlib.axes._subplots.AxesSubplot at 0x7f5fdbe8c128>"
      ]
     },
     "execution_count": 5,
     "metadata": {},
     "output_type": "execute_result"
    },
    {
     "data": {
      "image/png": "[encoded data removed]",
      "text/plain": [
       "<Figure size 432x288 with 1 Axes>"
      ]
     },
     "metadata": {
      "needs_background": "light"
     },
     "output_type": "display_data"
    }
   ],
   "source": [
    "##데이터중 이탈고객 비율 확인\n",
    "x = data['is_churned'].value_counts().index\n",
    "y = data['is_churned'].value_counts()\n",
    "sns.barplot(x=x,y=y)"
   ]
  },
  {
   "cell_type": "code",
   "execution_count": 6,
   "id": "8b4f3830-437e-4abb-b627-b492403e6703",
   "metadata": {},
   "outputs": [
    {
     "data": {
      "image/png": "[encoded data removed]",
      "text/plain": [
       "<Figure size 432x288 with 1 Axes>"
      ]
     },
     "metadata": {},
     "output_type": "display_data"
    }
   ],
   "source": [
    "#부채꼴 표기\n",
    "plt.pie(y,labels=x, autopct='%.1f%%',shadow=True)\n",
    "plt.show()"
   ]
  },
  {
   "cell_type": "code",
   "execution_count": 7,
   "id": "23d4ca33-8f8a-4155-b855-92f58ce91ae3",
   "metadata": {},
   "outputs": [],
   "source": [
    "##남녀비율 결측치 처리 -> Unkown으로처리\n",
    "data['sex'].fillna('Unkown',inplace=True)"
   ]
  },
  {
   "cell_type": "code",
   "execution_count": 8,
   "id": "390e4441-62f1-4501-bfc8-602f713fd03e",
   "metadata": {},
   "outputs": [
    {
     "data": {
      "image/png": "[encoded data removed]",
      "text/plain": [
       "<Figure size 432x288 with 1 Axes>"
      ]
     },
     "metadata": {},
     "output_type": "display_data"
    }
   ],
   "source": [
    "#전체 남녀비율\n",
    "x = data['sex'].value_counts().index\n",
    "y = data['sex'].value_counts()\n",
    "plt.pie(y,labels=x, autopct='%.1f%%',shadow=True)\n",
    "plt.show()"
   ]
  },
  {
   "cell_type": "code",
   "execution_count": 9,
   "id": "f3813e82-25c3-4a80-86bb-514f5d46cd77",
   "metadata": {},
   "outputs": [
    {
     "data": {
      "image/png": "[encoded data removed]",
      "text/plain": [
       "<Figure size 432x288 with 1 Axes>"
      ]
     },
     "metadata": {},
     "output_type": "display_data"
    }
   ],
   "source": [
    "#이탈고객내 남녀비율\n",
    "data_churned = data[data['is_churned'] == 1]\n",
    "x = data_churned['sex'].value_counts().index\n",
    "y = data_churned['sex'].value_counts()\n",
    "plt.pie(y,labels=x, autopct='%.1f%%',shadow=True)\n",
    "plt.show()"
   ]
  },
  {
   "cell_type": "code",
   "execution_count": 10,
   "id": "c4e239b5-c55c-4307-80c8-86d0e90c611c",
   "metadata": {},
   "outputs": [
    {
     "data": {
      "image/png": "[encoded data removed]",
      "text/plain": [
       "<Figure size 432x288 with 1 Axes>"
      ]
     },
     "metadata": {},
     "output_type": "display_data"
    }
   ],
   "source": [
    "#전체 부양가족수 비율(결측치 없음)\n",
    "x = data['dependent_num'].value_counts().index\n",
    "y = data['dependent_num'].value_counts()\n",
    "plt.pie(y,labels=x, autopct='%.1f%%',shadow=True)\n",
    "plt.show()"
   ]
  },
  {
   "cell_type": "code",
   "execution_count": 11,
   "id": "e891d2a3-e3de-484c-8b01-e0da836bec69",
   "metadata": {},
   "outputs": [
    {
     "data": {
      "image/png": "[encoded data removed]",
      "text/plain": [
       "<Figure size 432x288 with 1 Axes>"
      ]
     },
     "metadata": {},
     "output_type": "display_data"
    }
   ],
   "source": [
    "#이탈고객내 부양가족수 비율\n",
    "data_churned = data[data['is_churned'] == 1]\n",
    "x = data_churned['dependent_num'].value_counts().index\n",
    "y = data_churned['dependent_num'].value_counts()\n",
    "plt.pie(y,labels=x, autopct='%.1f%%',shadow=True)\n",
    "plt.show()"
   ]
  },
  {
   "cell_type": "code",
   "execution_count": 12,
   "id": "7ec14c1b-ffac-45b3-9fae-dbaf764187ae",
   "metadata": {},
   "outputs": [
    {
     "data": {
      "image/png": "[encoded data removed]",
      "text/plain": [
       "<Figure size 432x288 with 1 Axes>"
      ]
     },
     "metadata": {},
     "output_type": "display_data"
    }
   ],
   "source": [
    "## education 교육수준 분석 (결측치 없음)\n",
    "x = data['education'].value_counts().index\n",
    "y = data['education'].value_counts()\n",
    "plt.pie(y,labels=x, autopct='%.1f%%',shadow=True)\n",
    "plt.show()"
   ]
  },
  {
   "cell_type": "code",
   "execution_count": 13,
   "id": "d7177782-7743-4778-9a7b-ed1bc27cddf4",
   "metadata": {},
   "outputs": [
    {
     "data": {
      "image/png": "[encoded data removed]",
      "text/plain": [
       "<Figure size 432x288 with 1 Axes>"
      ]
     },
     "metadata": {},
     "output_type": "display_data"
    }
   ],
   "source": [
    "x = data_churned['education'].value_counts().index\n",
    "y = data_churned['education'].value_counts()\n",
    "plt.pie(y,labels=x, autopct='%.1f%%',shadow=True)\n",
    "plt.show()"
   ]
  },
  {
   "cell_type": "code",
   "execution_count": 14,
   "id": "cbb8f4b1-a7ee-4c7a-8c43-3f5d0fc477cc",
   "metadata": {},
   "outputs": [
    {
     "data": {
      "image/png": "[encoded data removed]",
      "text/plain": [
       "<Figure size 432x288 with 1 Axes>"
      ]
     },
     "metadata": {},
     "output_type": "display_data"
    }
   ],
   "source": [
    "## marital_stat 결혼유부(결측치없음) 분석\n",
    "x = data['marital_stat'].value_counts().index\n",
    "y = data['marital_stat'].value_counts()\n",
    "plt.pie(y,labels=x, autopct='%.1f%%',shadow=True)\n",
    "plt.show()"
   ]
  },
  {
   "cell_type": "code",
   "execution_count": 15,
   "id": "7755f2b8-796b-4370-99cb-4fa6e5f5bafb",
   "metadata": {},
   "outputs": [
    {
     "data": {
      "image/png": "[encoded data removed]",
      "text/plain": [
       "<Figure size 432x288 with 1 Axes>"
      ]
     },
     "metadata": {},
     "output_type": "display_data"
    }
   ],
   "source": [
    "x = data_churned['marital_stat'].value_counts().index\n",
    "y = data_churned['marital_stat'].value_counts()\n",
    "plt.pie(y,labels=x, autopct='%.1f%%',shadow=True)\n",
    "plt.show()"
   ]
  },
  {
   "cell_type": "code",
   "execution_count": 16,
   "id": "9b2623de-6c99-4a0a-a159-ee18eea2e753",
   "metadata": {},
   "outputs": [
    {
     "data": {
      "image/png": "[encoded data removed]",
      "text/plain": [
       "<Figure size 432x288 with 1 Axes>"
      ]
     },
     "metadata": {},
     "output_type": "display_data"
    }
   ],
   "source": [
    "### 수입규모 분석 ( 결측치 있음! )\n",
    "x = data['imcome_cat'].value_counts().index\n",
    "y = data['imcome_cat'].value_counts()\n",
    "plt.pie(y,labels=x, autopct='%.1f%%',shadow=True)\n",
    "plt.show()"
   ]
  },
  {
   "cell_type": "code",
   "execution_count": 17,
   "id": "a703618c-425a-4880-a946-173a4920cab0",
   "metadata": {},
   "outputs": [
    {
     "data": {
      "image/png": "[encoded data removed]",
      "text/plain": [
       "<Figure size 432x288 with 1 Axes>"
      ]
     },
     "metadata": {},
     "output_type": "display_data"
    }
   ],
   "source": [
    "x = data_churned['imcome_cat'].value_counts().index\n",
    "y = data_churned['imcome_cat'].value_counts()\n",
    "plt.pie(y,labels=x, autopct='%.1f%%',shadow=True)\n",
    "plt.show()\n",
    "## 수입이 많을수록 고객이탈을 더 하거나 줄지 않는다. 그러므로, 구분값으로 활용해야한다.별도 숫자료 변경하지 않고 그대로 이용!"
   ]
  },
  {
   "cell_type": "code",
   "execution_count": 18,
   "id": "01a888fa-3e2b-4139-8a6c-4717b2c0486e",
   "metadata": {},
   "outputs": [],
   "source": [
    "## imcome_cat 수입규모 결측치 처리 1619 -> Unknown 으로 처리한다.(기존Unknown과 합체)\n",
    "data['imcome_cat'].value_counts()\n",
    "len(data[data['imcome_cat'].isna()])\n",
    "data['imcome_cat'].fillna('Unknown',inplace=True)\n",
    "data['imcome_cat'].value_counts()\n",
    "## 결측 데이터에도 반영\n",
    "data_churned = data[data['is_churned'] == 1]"
   ]
  },
  {
   "cell_type": "code",
   "execution_count": 19,
   "id": "3478d24e-8ea9-4fec-bab9-9866d4de351e",
   "metadata": {},
   "outputs": [
    {
     "data": {
      "image/png": "[encoded data removed]",
      "text/plain": [
       "<Figure size 432x288 with 2 Axes>"
      ]
     },
     "metadata": {},
     "output_type": "display_data"
    }
   ],
   "source": [
    "## card_type 카트타입 (결측치 없음)\n",
    "x = data['card_type'].value_counts().index\n",
    "y = data['card_type'].value_counts()\n",
    "plt.subplot(1,4,1)\n",
    "plt.pie(y,labels=x, autopct='%.1f%%',shadow=True,radius=4)\n",
    "\n",
    "x = data_churned['card_type'].value_counts().index\n",
    "y = data_churned['card_type'].value_counts()\n",
    "plt.subplot(1,4,4)\n",
    "plt.pie(y,labels=x, autopct='%.1f%%',shadow=True, radius=4)\n",
    "plt.show()"
   ]
  },
  {
   "cell_type": "code",
   "execution_count": 20,
   "id": "fff46495-bc27-4d7b-9711-356af1e881df",
   "metadata": {},
   "outputs": [
    {
     "name": "stdout",
     "output_type": "stream",
     "text": [
      "35.92 35.85 36.33\n"
     ]
    }
   ],
   "source": [
    "## mon_on_book 은행 거래 기간 (결측치 없음)\n",
    "## 은행거래 기간이 길수록 고객탈회 확률이 줄어드는지를 확인하기 위해 전체 평균, 탈회 평균 , 유지 평균을 본다\n",
    "total_mon_mean = data['mon_on_book'].mean()\n",
    "churned_mon_mean = data_churned['mon_on_book'].mean()\n",
    "data_not_churned= data[data['is_churned'] == 0]\n",
    "not_churned_mon_mean = data_not_churned['mon_on_book'].mean()\n",
    "print(f'{total_mon_mean:.2f} {not_churned_mon_mean:.2f} {churned_mon_mean:.2f}')\n",
    "## 탈회고객의 가입기간 평균이 좀더 크다!!"
   ]
  },
  {
   "cell_type": "code",
   "execution_count": 21,
   "id": "798d8058-f02c-4c82-b295-98891cf13aab",
   "metadata": {},
   "outputs": [
    {
     "name": "stdout",
     "output_type": "stream",
     "text": [
      "3.81 3.92 3.28\n"
     ]
    }
   ],
   "source": [
    "## tot_product_count 현재 보유 상품 개수 (결측치 없음)\n",
    "## 보유 상품 개수가 많으면 탈회를 덜할것 같다~~!\n",
    "total_mon_mean = data['tot_product_count'].mean()\n",
    "churned_mon_mean = data_churned['tot_product_count'].mean()\n",
    "not_churned_mon_mean = data_not_churned['tot_product_count'].mean()\n",
    "print(f'{total_mon_mean:.2f} {not_churned_mon_mean:.2f} {churned_mon_mean:.2f}')\n",
    "## 탈회고객의 가입기간 평균이 좀더 크다!!"
   ]
  },
  {
   "cell_type": "code",
   "execution_count": 22,
   "id": "3d5f4716-2e27-476a-acbb-ad2bd43669de",
   "metadata": {},
   "outputs": [
    {
     "data": {
      "text/html": [
       "<div>\n",
       "<style scoped>\n",
       "    .dataframe tbody tr th:only-of-type {\n",
       "        vertical-align: middle;\n",
       "    }\n",
       "\n",
       "    .dataframe tbody tr th {\n",
       "        vertical-align: top;\n",
       "    }\n",
       "\n",
       "    .dataframe thead th {\n",
       "        text-align: right;\n",
       "    }\n",
       "</style>\n",
       "<table border=\"1\" class=\"dataframe\">\n",
       "  <thead>\n",
       "    <tr style=\"text-align: right;\">\n",
       "      <th></th>\n",
       "      <th>Unnamed: 0</th>\n",
       "      <th>cstno</th>\n",
       "      <th>is_churned</th>\n",
       "      <th>age</th>\n",
       "      <th>dependent_num</th>\n",
       "      <th>mon_on_book</th>\n",
       "      <th>tot_product_count</th>\n",
       "      <th>months_inact_for_12m</th>\n",
       "      <th>contact_cnt_for_12m</th>\n",
       "      <th>credit_line</th>\n",
       "      <th>tot_revol_balance</th>\n",
       "      <th>mean_open_to_buy</th>\n",
       "      <th>tot_amt_ratio_q4_q1</th>\n",
       "      <th>tot_trans_amt_for_12m</th>\n",
       "      <th>tot_trans_cnt_for_12m</th>\n",
       "      <th>tot_cnt_ratio_q4_q1</th>\n",
       "      <th>mean_util_pct</th>\n",
       "    </tr>\n",
       "  </thead>\n",
       "  <tbody>\n",
       "    <tr>\n",
       "      <th>count</th>\n",
       "      <td>6801.000000</td>\n",
       "      <td>6.801000e+03</td>\n",
       "      <td>6801.0</td>\n",
       "      <td>6801.000000</td>\n",
       "      <td>6801.000000</td>\n",
       "      <td>6801.000000</td>\n",
       "      <td>6801.000000</td>\n",
       "      <td>6801.000000</td>\n",
       "      <td>6801.000000</td>\n",
       "      <td>6801.000000</td>\n",
       "      <td>5535.000000</td>\n",
       "      <td>6801.000000</td>\n",
       "      <td>4729.000000</td>\n",
       "      <td>5399.000000</td>\n",
       "      <td>4051.000000</td>\n",
       "      <td>5448.000000</td>\n",
       "      <td>4672.00000</td>\n",
       "    </tr>\n",
       "    <tr>\n",
       "      <th>mean</th>\n",
       "      <td>4111.964270</td>\n",
       "      <td>7.398937e+08</td>\n",
       "      <td>0.0</td>\n",
       "      <td>46.182914</td>\n",
       "      <td>2.323188</td>\n",
       "      <td>35.845464</td>\n",
       "      <td>3.915601</td>\n",
       "      <td>2.277459</td>\n",
       "      <td>2.348625</td>\n",
       "      <td>8733.619453</td>\n",
       "      <td>1250.409395</td>\n",
       "      <td>7479.352433</td>\n",
       "      <td>0.773682</td>\n",
       "      <td>4715.433784</td>\n",
       "      <td>68.684769</td>\n",
       "      <td>0.738412</td>\n",
       "      <td>0.29482</td>\n",
       "    </tr>\n",
       "    <tr>\n",
       "      <th>std</th>\n",
       "      <td>2328.935225</td>\n",
       "      <td>3.713032e+07</td>\n",
       "      <td>0.0</td>\n",
       "      <td>8.092012</td>\n",
       "      <td>1.291922</td>\n",
       "      <td>8.056077</td>\n",
       "      <td>1.528338</td>\n",
       "      <td>1.016875</td>\n",
       "      <td>1.075695</td>\n",
       "      <td>9064.765487</td>\n",
       "      <td>757.272964</td>\n",
       "      <td>9060.848860</td>\n",
       "      <td>0.215686</td>\n",
       "      <td>3571.490268</td>\n",
       "      <td>22.935080</td>\n",
       "      <td>0.222931</td>\n",
       "      <td>0.27236</td>\n",
       "    </tr>\n",
       "    <tr>\n",
       "      <th>min</th>\n",
       "      <td>0.000000</td>\n",
       "      <td>7.080821e+08</td>\n",
       "      <td>0.0</td>\n",
       "      <td>26.000000</td>\n",
       "      <td>0.000000</td>\n",
       "      <td>13.000000</td>\n",
       "      <td>1.000000</td>\n",
       "      <td>0.000000</td>\n",
       "      <td>0.000000</td>\n",
       "      <td>1438.300000</td>\n",
       "      <td>0.000000</td>\n",
       "      <td>15.000000</td>\n",
       "      <td>0.256000</td>\n",
       "      <td>837.000000</td>\n",
       "      <td>11.000000</td>\n",
       "      <td>0.028000</td>\n",
       "      <td>0.00000</td>\n",
       "    </tr>\n",
       "    <tr>\n",
       "      <th>25%</th>\n",
       "      <td>2109.000000</td>\n",
       "      <td>7.132560e+08</td>\n",
       "      <td>0.0</td>\n",
       "      <td>41.000000</td>\n",
       "      <td>1.000000</td>\n",
       "      <td>31.000000</td>\n",
       "      <td>3.000000</td>\n",
       "      <td>1.000000</td>\n",
       "      <td>2.000000</td>\n",
       "      <td>2601.000000</td>\n",
       "      <td>798.500000</td>\n",
       "      <td>1193.000000</td>\n",
       "      <td>0.644000</td>\n",
       "      <td>2430.000000</td>\n",
       "      <td>54.000000</td>\n",
       "      <td>0.615000</td>\n",
       "      <td>0.05500</td>\n",
       "    </tr>\n",
       "    <tr>\n",
       "      <th>50%</th>\n",
       "      <td>4130.000000</td>\n",
       "      <td>7.180881e+08</td>\n",
       "      <td>0.0</td>\n",
       "      <td>46.000000</td>\n",
       "      <td>2.000000</td>\n",
       "      <td>36.000000</td>\n",
       "      <td>4.000000</td>\n",
       "      <td>2.000000</td>\n",
       "      <td>2.000000</td>\n",
       "      <td>4666.000000</td>\n",
       "      <td>1360.000000</td>\n",
       "      <td>3519.000000</td>\n",
       "      <td>0.744000</td>\n",
       "      <td>4119.000000</td>\n",
       "      <td>71.000000</td>\n",
       "      <td>0.719000</td>\n",
       "      <td>0.20800</td>\n",
       "    </tr>\n",
       "    <tr>\n",
       "      <th>75%</th>\n",
       "      <td>6136.000000</td>\n",
       "      <td>7.782864e+08</td>\n",
       "      <td>0.0</td>\n",
       "      <td>52.000000</td>\n",
       "      <td>3.000000</td>\n",
       "      <td>40.000000</td>\n",
       "      <td>5.000000</td>\n",
       "      <td>3.000000</td>\n",
       "      <td>3.000000</td>\n",
       "      <td>11338.000000</td>\n",
       "      <td>1794.000000</td>\n",
       "      <td>10054.000000</td>\n",
       "      <td>0.861000</td>\n",
       "      <td>4801.500000</td>\n",
       "      <td>82.000000</td>\n",
       "      <td>0.833000</td>\n",
       "      <td>0.52900</td>\n",
       "    </tr>\n",
       "    <tr>\n",
       "      <th>max</th>\n",
       "      <td>8100.000000</td>\n",
       "      <td>8.283431e+08</td>\n",
       "      <td>0.0</td>\n",
       "      <td>70.000000</td>\n",
       "      <td>5.000000</td>\n",
       "      <td>56.000000</td>\n",
       "      <td>6.000000</td>\n",
       "      <td>6.000000</td>\n",
       "      <td>5.000000</td>\n",
       "      <td>34516.000000</td>\n",
       "      <td>2517.000000</td>\n",
       "      <td>34516.000000</td>\n",
       "      <td>2.594000</td>\n",
       "      <td>18484.000000</td>\n",
       "      <td>139.000000</td>\n",
       "      <td>3.571000</td>\n",
       "      <td>0.99400</td>\n",
       "    </tr>\n",
       "  </tbody>\n",
       "</table>\n",
       "</div>"
      ],
      "text/plain": [
       "        Unnamed: 0         cstno  is_churned          age  dependent_num  \\\n",
       "count  6801.000000  6.801000e+03      6801.0  6801.000000    6801.000000   \n",
       "mean   4111.964270  7.398937e+08         0.0    46.182914       2.323188   \n",
       "std    2328.935225  3.713032e+07         0.0     8.092012       1.291922   \n",
       "min       0.000000  7.080821e+08         0.0    26.000000       0.000000   \n",
       "25%    2109.000000  7.132560e+08         0.0    41.000000       1.000000   \n",
       "50%    4130.000000  7.180881e+08         0.0    46.000000       2.000000   \n",
       "75%    6136.000000  7.782864e+08         0.0    52.000000       3.000000   \n",
       "max    8100.000000  8.283431e+08         0.0    70.000000       5.000000   \n",
       "\n",
       "       mon_on_book  tot_product_count  months_inact_for_12m  \\\n",
       "count  6801.000000        6801.000000           6801.000000   \n",
       "mean     35.845464           3.915601              2.277459   \n",
       "std       8.056077           1.528338              1.016875   \n",
       "min      13.000000           1.000000              0.000000   \n",
       "25%      31.000000           3.000000              1.000000   \n",
       "50%      36.000000           4.000000              2.000000   \n",
       "75%      40.000000           5.000000              3.000000   \n",
       "max      56.000000           6.000000              6.000000   \n",
       "\n",
       "       contact_cnt_for_12m   credit_line  tot_revol_balance  mean_open_to_buy  \\\n",
       "count          6801.000000   6801.000000        5535.000000       6801.000000   \n",
       "mean              2.348625   8733.619453        1250.409395       7479.352433   \n",
       "std               1.075695   9064.765487         757.272964       9060.848860   \n",
       "min               0.000000   1438.300000           0.000000         15.000000   \n",
       "25%               2.000000   2601.000000         798.500000       1193.000000   \n",
       "50%               2.000000   4666.000000        1360.000000       3519.000000   \n",
       "75%               3.000000  11338.000000        1794.000000      10054.000000   \n",
       "max               5.000000  34516.000000        2517.000000      34516.000000   \n",
       "\n",
       "       tot_amt_ratio_q4_q1  tot_trans_amt_for_12m  tot_trans_cnt_for_12m  \\\n",
       "count          4729.000000            5399.000000            4051.000000   \n",
       "mean              0.773682            4715.433784              68.684769   \n",
       "std               0.215686            3571.490268              22.935080   \n",
       "min               0.256000             837.000000              11.000000   \n",
       "25%               0.644000            2430.000000              54.000000   \n",
       "50%               0.744000            4119.000000              71.000000   \n",
       "75%               0.861000            4801.500000              82.000000   \n",
       "max               2.594000           18484.000000             139.000000   \n",
       "\n",
       "       tot_cnt_ratio_q4_q1  mean_util_pct  \n",
       "count          5448.000000     4672.00000  \n",
       "mean              0.738412        0.29482  \n",
       "std               0.222931        0.27236  \n",
       "min               0.028000        0.00000  \n",
       "25%               0.615000        0.05500  \n",
       "50%               0.719000        0.20800  \n",
       "75%               0.833000        0.52900  \n",
       "max               3.571000        0.99400  "
      ]
     },
     "execution_count": 22,
     "metadata": {},
     "output_type": "execute_result"
    }
   ],
   "source": [
    "data_not_churned.describe()"
   ]
  },
  {
   "cell_type": "code",
   "execution_count": 23,
   "id": "9403cae9-8da2-4d67-9738-e632d1f27789",
   "metadata": {},
   "outputs": [
    {
     "data": {
      "text/html": [
       "<div>\n",
       "<style scoped>\n",
       "    .dataframe tbody tr th:only-of-type {\n",
       "        vertical-align: middle;\n",
       "    }\n",
       "\n",
       "    .dataframe tbody tr th {\n",
       "        vertical-align: top;\n",
       "    }\n",
       "\n",
       "    .dataframe thead th {\n",
       "        text-align: right;\n",
       "    }\n",
       "</style>\n",
       "<table border=\"1\" class=\"dataframe\">\n",
       "  <thead>\n",
       "    <tr style=\"text-align: right;\">\n",
       "      <th></th>\n",
       "      <th>Unnamed: 0</th>\n",
       "      <th>cstno</th>\n",
       "      <th>is_churned</th>\n",
       "      <th>age</th>\n",
       "      <th>dependent_num</th>\n",
       "      <th>mon_on_book</th>\n",
       "      <th>tot_product_count</th>\n",
       "      <th>months_inact_for_12m</th>\n",
       "      <th>contact_cnt_for_12m</th>\n",
       "      <th>credit_line</th>\n",
       "      <th>tot_revol_balance</th>\n",
       "      <th>mean_open_to_buy</th>\n",
       "      <th>tot_amt_ratio_q4_q1</th>\n",
       "      <th>tot_trans_amt_for_12m</th>\n",
       "      <th>tot_trans_cnt_for_12m</th>\n",
       "      <th>tot_cnt_ratio_q4_q1</th>\n",
       "      <th>mean_util_pct</th>\n",
       "    </tr>\n",
       "  </thead>\n",
       "  <tbody>\n",
       "    <tr>\n",
       "      <th>count</th>\n",
       "      <td>1300.000000</td>\n",
       "      <td>1.300000e+03</td>\n",
       "      <td>1300.0</td>\n",
       "      <td>1300.000000</td>\n",
       "      <td>1300.000000</td>\n",
       "      <td>1300.000000</td>\n",
       "      <td>1300.000000</td>\n",
       "      <td>1300.000000</td>\n",
       "      <td>1300.000000</td>\n",
       "      <td>1300.000000</td>\n",
       "      <td>1045.000000</td>\n",
       "      <td>1300.000000</td>\n",
       "      <td>937.000000</td>\n",
       "      <td>1033.000000</td>\n",
       "      <td>800.000000</td>\n",
       "      <td>1024.000000</td>\n",
       "      <td>903.000000</td>\n",
       "    </tr>\n",
       "    <tr>\n",
       "      <th>mean</th>\n",
       "      <td>3725.831538</td>\n",
       "      <td>7.351529e+08</td>\n",
       "      <td>1.0</td>\n",
       "      <td>46.952308</td>\n",
       "      <td>2.395385</td>\n",
       "      <td>36.332308</td>\n",
       "      <td>3.277692</td>\n",
       "      <td>2.710000</td>\n",
       "      <td>2.982308</td>\n",
       "      <td>8128.715385</td>\n",
       "      <td>672.905263</td>\n",
       "      <td>7459.491538</td>\n",
       "      <td>0.699757</td>\n",
       "      <td>2992.876089</td>\n",
       "      <td>43.723750</td>\n",
       "      <td>0.558533</td>\n",
       "      <td>0.166621</td>\n",
       "    </tr>\n",
       "    <tr>\n",
       "      <th>std</th>\n",
       "      <td>2363.704747</td>\n",
       "      <td>3.554315e+07</td>\n",
       "      <td>0.0</td>\n",
       "      <td>7.619161</td>\n",
       "      <td>1.275931</td>\n",
       "      <td>7.846705</td>\n",
       "      <td>1.564314</td>\n",
       "      <td>0.918407</td>\n",
       "      <td>1.076945</td>\n",
       "      <td>9185.677640</td>\n",
       "      <td>928.222599</td>\n",
       "      <td>9184.764378</td>\n",
       "      <td>0.217125</td>\n",
       "      <td>2245.287763</td>\n",
       "      <td>14.509673</td>\n",
       "      <td>0.236452</td>\n",
       "      <td>0.268772</td>\n",
       "    </tr>\n",
       "    <tr>\n",
       "      <th>min</th>\n",
       "      <td>1.000000</td>\n",
       "      <td>7.080833e+08</td>\n",
       "      <td>1.0</td>\n",
       "      <td>26.000000</td>\n",
       "      <td>0.000000</td>\n",
       "      <td>13.000000</td>\n",
       "      <td>1.000000</td>\n",
       "      <td>0.000000</td>\n",
       "      <td>0.000000</td>\n",
       "      <td>1438.300000</td>\n",
       "      <td>0.000000</td>\n",
       "      <td>3.000000</td>\n",
       "      <td>0.000000</td>\n",
       "      <td>510.000000</td>\n",
       "      <td>11.000000</td>\n",
       "      <td>0.000000</td>\n",
       "      <td>0.000000</td>\n",
       "    </tr>\n",
       "    <tr>\n",
       "      <th>25%</th>\n",
       "      <td>1646.500000</td>\n",
       "      <td>7.121885e+08</td>\n",
       "      <td>1.0</td>\n",
       "      <td>42.000000</td>\n",
       "      <td>2.000000</td>\n",
       "      <td>33.000000</td>\n",
       "      <td>2.000000</td>\n",
       "      <td>2.000000</td>\n",
       "      <td>2.000000</td>\n",
       "      <td>2091.250000</td>\n",
       "      <td>0.000000</td>\n",
       "      <td>1589.750000</td>\n",
       "      <td>0.551000</td>\n",
       "      <td>1874.000000</td>\n",
       "      <td>36.000000</td>\n",
       "      <td>0.400000</td>\n",
       "      <td>0.000000</td>\n",
       "    </tr>\n",
       "    <tr>\n",
       "      <th>50%</th>\n",
       "      <td>3558.000000</td>\n",
       "      <td>7.166047e+08</td>\n",
       "      <td>1.0</td>\n",
       "      <td>47.000000</td>\n",
       "      <td>2.000000</td>\n",
       "      <td>36.000000</td>\n",
       "      <td>3.000000</td>\n",
       "      <td>3.000000</td>\n",
       "      <td>3.000000</td>\n",
       "      <td>4074.000000</td>\n",
       "      <td>0.000000</td>\n",
       "      <td>3425.000000</td>\n",
       "      <td>0.705000</td>\n",
       "      <td>2310.000000</td>\n",
       "      <td>43.000000</td>\n",
       "      <td>0.531000</td>\n",
       "      <td>0.000000</td>\n",
       "    </tr>\n",
       "    <tr>\n",
       "      <th>75%</th>\n",
       "      <td>5703.500000</td>\n",
       "      <td>7.678791e+08</td>\n",
       "      <td>1.0</td>\n",
       "      <td>52.000000</td>\n",
       "      <td>3.000000</td>\n",
       "      <td>41.000000</td>\n",
       "      <td>5.000000</td>\n",
       "      <td>3.000000</td>\n",
       "      <td>4.000000</td>\n",
       "      <td>9765.250000</td>\n",
       "      <td>1273.000000</td>\n",
       "      <td>9108.750000</td>\n",
       "      <td>0.864000</td>\n",
       "      <td>2729.000000</td>\n",
       "      <td>50.000000</td>\n",
       "      <td>0.700000</td>\n",
       "      <td>0.252000</td>\n",
       "    </tr>\n",
       "    <tr>\n",
       "      <th>max</th>\n",
       "      <td>8098.000000</td>\n",
       "      <td>8.282949e+08</td>\n",
       "      <td>1.0</td>\n",
       "      <td>68.000000</td>\n",
       "      <td>5.000000</td>\n",
       "      <td>56.000000</td>\n",
       "      <td>6.000000</td>\n",
       "      <td>6.000000</td>\n",
       "      <td>6.000000</td>\n",
       "      <td>34516.000000</td>\n",
       "      <td>2517.000000</td>\n",
       "      <td>34516.000000</td>\n",
       "      <td>1.411000</td>\n",
       "      <td>10468.000000</td>\n",
       "      <td>91.000000</td>\n",
       "      <td>2.500000</td>\n",
       "      <td>0.999000</td>\n",
       "    </tr>\n",
       "  </tbody>\n",
       "</table>\n",
       "</div>"
      ],
      "text/plain": [
       "        Unnamed: 0         cstno  is_churned          age  dependent_num  \\\n",
       "count  1300.000000  1.300000e+03      1300.0  1300.000000    1300.000000   \n",
       "mean   3725.831538  7.351529e+08         1.0    46.952308       2.395385   \n",
       "std    2363.704747  3.554315e+07         0.0     7.619161       1.275931   \n",
       "min       1.000000  7.080833e+08         1.0    26.000000       0.000000   \n",
       "25%    1646.500000  7.121885e+08         1.0    42.000000       2.000000   \n",
       "50%    3558.000000  7.166047e+08         1.0    47.000000       2.000000   \n",
       "75%    5703.500000  7.678791e+08         1.0    52.000000       3.000000   \n",
       "max    8098.000000  8.282949e+08         1.0    68.000000       5.000000   \n",
       "\n",
       "       mon_on_book  tot_product_count  months_inact_for_12m  \\\n",
       "count  1300.000000        1300.000000           1300.000000   \n",
       "mean     36.332308           3.277692              2.710000   \n",
       "std       7.846705           1.564314              0.918407   \n",
       "min      13.000000           1.000000              0.000000   \n",
       "25%      33.000000           2.000000              2.000000   \n",
       "50%      36.000000           3.000000              3.000000   \n",
       "75%      41.000000           5.000000              3.000000   \n",
       "max      56.000000           6.000000              6.000000   \n",
       "\n",
       "       contact_cnt_for_12m   credit_line  tot_revol_balance  mean_open_to_buy  \\\n",
       "count          1300.000000   1300.000000        1045.000000       1300.000000   \n",
       "mean              2.982308   8128.715385         672.905263       7459.491538   \n",
       "std               1.076945   9185.677640         928.222599       9184.764378   \n",
       "min               0.000000   1438.300000           0.000000          3.000000   \n",
       "25%               2.000000   2091.250000           0.000000       1589.750000   \n",
       "50%               3.000000   4074.000000           0.000000       3425.000000   \n",
       "75%               4.000000   9765.250000        1273.000000       9108.750000   \n",
       "max               6.000000  34516.000000        2517.000000      34516.000000   \n",
       "\n",
       "       tot_amt_ratio_q4_q1  tot_trans_amt_for_12m  tot_trans_cnt_for_12m  \\\n",
       "count           937.000000            1033.000000             800.000000   \n",
       "mean              0.699757            2992.876089              43.723750   \n",
       "std               0.217125            2245.287763              14.509673   \n",
       "min               0.000000             510.000000              11.000000   \n",
       "25%               0.551000            1874.000000              36.000000   \n",
       "50%               0.705000            2310.000000              43.000000   \n",
       "75%               0.864000            2729.000000              50.000000   \n",
       "max               1.411000           10468.000000              91.000000   \n",
       "\n",
       "       tot_cnt_ratio_q4_q1  mean_util_pct  \n",
       "count          1024.000000     903.000000  \n",
       "mean              0.558533       0.166621  \n",
       "std               0.236452       0.268772  \n",
       "min               0.000000       0.000000  \n",
       "25%               0.400000       0.000000  \n",
       "50%               0.531000       0.000000  \n",
       "75%               0.700000       0.252000  \n",
       "max               2.500000       0.999000  "
      ]
     },
     "execution_count": 23,
     "metadata": {},
     "output_type": "execute_result"
    }
   ],
   "source": [
    "data_churned.describe()"
   ]
  },
  {
   "cell_type": "code",
   "execution_count": 24,
   "id": "07b96ef2-7514-4521-8cb0-7e8a575be6d6",
   "metadata": {},
   "outputs": [
    {
     "data": {
      "text/plain": [
       "Unnamed: 0               0.000000\n",
       "cstno                    0.000000\n",
       "is_churned               0.000000\n",
       "age                      0.000000\n",
       "sex                      0.000000\n",
       "dependent_num            0.000000\n",
       "education                0.000000\n",
       "marital_stat             0.000000\n",
       "imcome_cat               0.000000\n",
       "card_type                0.000000\n",
       "mon_on_book              0.000000\n",
       "tot_product_count        0.000000\n",
       "months_inact_for_12m     0.000000\n",
       "contact_cnt_for_12m      0.000000\n",
       "credit_line              0.000000\n",
       "tot_revol_balance        0.187755\n",
       "mean_open_to_buy         0.000000\n",
       "tot_amt_ratio_q4_q1      0.300580\n",
       "tot_trans_amt_for_12m    0.206024\n",
       "tot_trans_cnt_for_12m    0.401185\n",
       "tot_cnt_ratio_q4_q1      0.201086\n",
       "mean_util_pct            0.311813\n",
       "dtype: float64"
      ]
     },
     "execution_count": 24,
     "metadata": {},
     "output_type": "execute_result"
    }
   ],
   "source": [
    "## 결측치들이 차지하는 비율 -> 결측치 모두 처리하고 재확인!\n",
    "data.isna().mean()"
   ]
  },
  {
   "cell_type": "code",
   "execution_count": 25,
   "id": "65446508-15b2-4d64-8c76-0c1b4c4b3c43",
   "metadata": {},
   "outputs": [],
   "source": [
    "## tot_revol_balance 리볼빙 잔액 (결측치 있음)\n",
    "## 위 숫자 비교에서 확인했을때, 탈회고객들은 50% 이하는 모두 0으로설정\n",
    "## tot_revol_balance 리볼빙 잔액 결측치 처리 -> 유지고객: 평균이 크다, 탈회고객 편차가 크다. 둘의 영향을 주지 않기 위해 0으로 채움\n",
    "data['tot_revol_balance'].fillna(0.0,inplace=True)"
   ]
  },
  {
   "cell_type": "code",
   "execution_count": 26,
   "id": "5a57d6ba-cc64-4229-ab2f-0a62028aa7bf",
   "metadata": {},
   "outputs": [],
   "source": [
    "## tot_amt_ratio_q4_q1 1분기 대비 4분기의 거래 금액 비율 (결측치 있음)\n",
    "## 탈회고객은 사용량이 유지고객에 비교하여 줄어들게 됨\n",
    "## 탈회/유지 각각의 평균값으로 채운다\n",
    "not_churned_mean = round(data_not_churned['tot_amt_ratio_q4_q1'].mean(),3)\n",
    "chuned_mean = round(data_churned['tot_amt_ratio_q4_q1'].mean(),3)\n",
    "new_tot_amt_ratio_q4_q1 = []\n",
    "for idx, row in data[['tot_amt_ratio_q4_q1','is_churned']].iterrows():\n",
    "    if(np.isnan(row['tot_amt_ratio_q4_q1'])):\n",
    "        if(row['is_churned'] == 1):\n",
    "            new_tot_amt_ratio_q4_q1.append(chuned_mean)\n",
    "        else:\n",
    "            new_tot_amt_ratio_q4_q1.append(not_churned_mean)\n",
    "    else:\n",
    "        new_tot_amt_ratio_q4_q1.append(row['tot_amt_ratio_q4_q1'])\n",
    "new_tot_amt_ratio_q4_q1 = pd.Series(new_tot_amt_ratio_q4_q1)\n",
    "data['tot_amt_ratio_q4_q1'] = new_tot_amt_ratio_q4_q1"
   ]
  },
  {
   "cell_type": "code",
   "execution_count": 27,
   "id": "10cb02a6-26de-41c5-a064-ba91fd32d4fd",
   "metadata": {},
   "outputs": [],
   "source": [
    "## tot_trans_amt_for_12m 최근 12개월 동안의 거래 금액 (결측치 있음)\n",
    "## 탈회/유지 각각의 평균값으로 채운다\n",
    "not_churned_mean = round(data_not_churned['tot_trans_amt_for_12m'].mean(),3)\n",
    "chuned_mean = round(data_churned['tot_trans_amt_for_12m'].mean(),3)\n",
    "new_tot_trans_amt_for_12m = []\n",
    "for idx, row in data[['tot_trans_amt_for_12m','is_churned']].iterrows():\n",
    "    if(np.isnan(row['tot_trans_amt_for_12m'])):\n",
    "        if(row['is_churned'] == 1):\n",
    "            new_tot_trans_amt_for_12m.append(chuned_mean)\n",
    "        else:\n",
    "            new_tot_trans_amt_for_12m.append(not_churned_mean)\n",
    "    else:\n",
    "        new_tot_trans_amt_for_12m.append(row['tot_trans_amt_for_12m'])\n",
    "new_tot_trans_amt_for_12m = pd.Series(new_tot_trans_amt_for_12m)\n",
    "data['tot_trans_amt_for_12m'] = new_tot_trans_amt_for_12m"
   ]
  },
  {
   "cell_type": "code",
   "execution_count": 28,
   "id": "d8f82cf4-c02d-4f46-83ea-a59d11684b2b",
   "metadata": {},
   "outputs": [],
   "source": [
    "## tot_trans_cnt_for_12m 최근 12개월 동안의 거래 횟수 (결측치 있음)\n",
    "## 탈회/유지 각각의 평균값으로 채운다\n",
    "not_churned_mean = round(data_not_churned['tot_trans_cnt_for_12m'].mean(),3)\n",
    "chuned_mean = round(data_churned['tot_trans_cnt_for_12m'].mean(),3)\n",
    "new_tot_trans_cnt_for_12m = []\n",
    "for idx, row in data[['tot_trans_cnt_for_12m','is_churned']].iterrows():\n",
    "    if(np.isnan(row['tot_trans_cnt_for_12m'])):\n",
    "        if(row['is_churned'] == 1):\n",
    "            new_tot_trans_cnt_for_12m.append(chuned_mean)\n",
    "        else:\n",
    "            new_tot_trans_cnt_for_12m.append(not_churned_mean)\n",
    "    else:\n",
    "        new_tot_trans_cnt_for_12m.append(row['tot_trans_cnt_for_12m'])\n",
    "new_tot_trans_cnt_for_12m = pd.Series(new_tot_trans_cnt_for_12m)\n",
    "data['tot_trans_cnt_for_12m'] = new_tot_trans_cnt_for_12m"
   ]
  },
  {
   "cell_type": "code",
   "execution_count": 29,
   "id": "8886ba15-a51f-4fd5-b29b-42e3c81d3fc0",
   "metadata": {},
   "outputs": [],
   "source": [
    "## tot_cnt_ratio_q4_q1 1분기 대비 4분기의 거래 횟수 비율 (결측치 있음)\n",
    "## 탈회/유지 각각의 평균값으로 채운다\n",
    "not_churned_mean = round(data_not_churned['tot_cnt_ratio_q4_q1'].mean(),3)\n",
    "chuned_mean = round(data_churned['tot_cnt_ratio_q4_q1'].mean(),3)\n",
    "new_tot_cnt_ratio_q4_q1 = []\n",
    "for idx, row in data[['tot_cnt_ratio_q4_q1','is_churned']].iterrows():\n",
    "    if(np.isnan(row['tot_cnt_ratio_q4_q1'])):\n",
    "        if(row['is_churned'] == 1):\n",
    "            new_tot_cnt_ratio_q4_q1.append(chuned_mean)\n",
    "        else:\n",
    "            new_tot_cnt_ratio_q4_q1.append(not_churned_mean)\n",
    "    else:\n",
    "        new_tot_cnt_ratio_q4_q1.append(row['tot_cnt_ratio_q4_q1'])\n",
    "new_tot_cnt_ratio_q4_q1 = pd.Series(new_tot_cnt_ratio_q4_q1)\n",
    "data['tot_cnt_ratio_q4_q1'] = new_tot_cnt_ratio_q4_q1"
   ]
  },
  {
   "cell_type": "code",
   "execution_count": 30,
   "id": "df3a854f-cad3-413c-8d83-d7662dede706",
   "metadata": {},
   "outputs": [],
   "source": [
    "## mean_util_pct 평균 한도 소진율 (결측치 있음)\n",
    "## 탈회/유지 각각의 평균값으로 채운다\n",
    "not_churned_mean = round(data_not_churned['mean_util_pct'].mean(),3)\n",
    "chuned_mean = round(data_churned['mean_util_pct'].mean(),3)\n",
    "new_mean_util_pct = []\n",
    "for idx, row in data[['mean_util_pct','is_churned']].iterrows():\n",
    "    if(np.isnan(row['mean_util_pct'])):\n",
    "        if(row['is_churned'] == 1):\n",
    "            new_mean_util_pct.append(chuned_mean)\n",
    "        else:\n",
    "            new_mean_util_pct.append(not_churned_mean)\n",
    "    else:\n",
    "        new_mean_util_pct.append(row['mean_util_pct'])\n",
    "new_mean_util_pct = pd.Series(new_mean_util_pct)\n",
    "data['mean_util_pct'] = new_mean_util_pct"
   ]
  },
  {
   "cell_type": "code",
   "execution_count": 31,
   "id": "debf51a4-3bbe-4537-bb7b-328f0efc9663",
   "metadata": {},
   "outputs": [],
   "source": [
    "## object 데이터들 더미처리\n",
    "ready_data = pd.get_dummies(data, columns=['sex','education','marital_stat','imcome_cat','card_type'], drop_first= True)"
   ]
  },
  {
   "cell_type": "code",
   "execution_count": 32,
   "id": "57aa21be-de3f-4c62-8d6f-a15a9bbf1a43",
   "metadata": {},
   "outputs": [],
   "source": [
    "## 테스트셋 구분 전체데이터 크기를 생각해서 20%만 테스트로 사용\n",
    "from sklearn.model_selection import train_test_split\n",
    "X_train, X_test, y_train, y_test = train_test_split(ready_data.drop('is_churned', axis=1), ready_data['is_churned'], test_size=0.2, random_state=100)"
   ]
  },
  {
   "cell_type": "code",
   "execution_count": 33,
   "id": "32a91659-2d96-429d-b5e8-5037d49d8fba",
   "metadata": {},
   "outputs": [
    {
     "name": "stderr",
     "output_type": "stream",
     "text": [
      "/opt/conda/envs/python3.6/lib/python3.6/site-packages/xgboost/sklearn.py:1224: UserWarning: The use of label encoder in XGBClassifier is deprecated and will be removed in a future release. To remove this warning, do the following: 1) Pass option use_label_encoder=False when constructing XGBClassifier object; and 2) Encode your labels (y) as integers starting with 0, i.e. 0, 1, 2, ..., [num_class - 1].\n",
      "  warnings.warn(label_encoder_deprecation_msg, UserWarning)\n"
     ]
    },
    {
     "name": "stdout",
     "output_type": "stream",
     "text": [
      "[15:44:01] WARNING: ../src/learner.cc:1115: Starting in XGBoost 1.3.0, the default evaluation metric used with the objective 'binary:logistic' was changed from 'error' to 'logloss'. Explicitly set eval_metric if you'd like to restore the old behavior.\n"
     ]
    },
    {
     "data": {
      "text/plain": [
       "XGBClassifier(base_score=0.5, booster='gbtree', colsample_bylevel=1,\n",
       "              colsample_bynode=1, colsample_bytree=1, enable_categorical=False,\n",
       "              gamma=0, gpu_id=-1, importance_type=None,\n",
       "              interaction_constraints='', learning_rate=0.300000012,\n",
       "              max_delta_step=0, max_depth=5, min_child_weight=1, missing=nan,\n",
       "              monotone_constraints='()', n_estimators=500, n_jobs=64,\n",
       "              num_parallel_tree=1, predictor='auto', random_state=100,\n",
       "              reg_alpha=0, reg_lambda=1, scale_pos_weight=1, subsample=1,\n",
       "              tree_method='exact', validate_parameters=1, verbosity=None)"
      ]
     },
     "execution_count": 33,
     "metadata": {},
     "output_type": "execute_result"
    }
   ],
   "source": [
    "## XGBoost 모델을 이용하여 훈련\n",
    "import xgboost as xgb\n",
    "model = xgb.XGBClassifier(n_estimators=500, max_depth=5, random_state=100)\n",
    "model.fit(X_train, y_train)"
   ]
  },
  {
   "cell_type": "code",
   "execution_count": 34,
   "id": "f2e04e66-6812-4e6d-833c-65779d2ef6d4",
   "metadata": {},
   "outputs": [
    {
     "data": {
      "text/plain": [
       "0.9907464528069093"
      ]
     },
     "execution_count": 34,
     "metadata": {},
     "output_type": "execute_result"
    }
   ],
   "source": [
    "pred = model.predict(X_test)\n",
    "from sklearn.metrics import accuracy_score, confusion_matrix, classification_report\n",
    "accuracy_score(y_test,pred)"
   ]
  },
  {
   "cell_type": "code",
   "execution_count": 35,
   "id": "c4ebaeed-4d28-46fe-97dc-50d09e579c7c",
   "metadata": {},
   "outputs": [
    {
     "name": "stdout",
     "output_type": "stream",
     "text": [
      "              precision    recall  f1-score   support\n",
      "\n",
      "           0       0.99      1.00      0.99      1392\n",
      "           1       0.97      0.96      0.97       229\n",
      "\n",
      "    accuracy                           0.99      1621\n",
      "   macro avg       0.98      0.98      0.98      1621\n",
      "weighted avg       0.99      0.99      0.99      1621\n",
      "\n"
     ]
    }
   ],
   "source": [
    "print(classification_report(y_test,pred))"
   ]
  },
  {
   "cell_type": "code",
   "execution_count": 36,
   "id": "86b80db1-b019-4afe-9eb2-6c2155fd6ea0",
   "metadata": {},
   "outputs": [
    {
     "name": "stdout",
     "output_type": "stream",
     "text": [
      "[[1386    6]\n",
      " [   9  220]]\n"
     ]
    }
   ],
   "source": [
    "print(confusion_matrix(y_test,pred))"
   ]
  },
  {
   "cell_type": "code",
   "execution_count": 37,
   "id": "023302d7-8e7d-43ca-afb6-2aaae98effed",
   "metadata": {},
   "outputs": [
    {
     "data": {
      "text/plain": [
       "0.9781941725643729"
      ]
     },
     "execution_count": 37,
     "metadata": {},
     "output_type": "execute_result"
    }
   ],
   "source": [
    "from sklearn.metrics import roc_auc_score\n",
    "roc_auc_score(y_test,pred)"
   ]
  },
  {
   "cell_type": "code",
   "execution_count": null,
   "id": "a530c50c-c513-4a27-a7fe-1eef5e1c6528",
   "metadata": {},
   "outputs": [],
   "source": []
  },
  {
   "cell_type": "code",
   "execution_count": null,
   "id": "771f5bf8-d941-4302-8798-92ab10f95f3a",
   "metadata": {},
   "outputs": [],
   "source": []
  },
  {
   "cell_type": "code",
   "execution_count": null,
   "id": "40c8c532-d0ca-4d74-9a91-945f13a8da4d",
   "metadata": {},
   "outputs": [],
   "source": []
  },
  {
   "cell_type": "code",
   "execution_count": null,
   "id": "7ad5d36b-4a83-463f-929a-6f51c8f3671d",
   "metadata": {},
   "outputs": [],
   "source": []
  },
  {
   "cell_type": "code",
   "execution_count": null,
   "id": "a6177279-c7fd-4404-9e83-aea36055671c",
   "metadata": {},
   "outputs": [],
   "source": []
  },
  {
   "cell_type": "markdown",
   "id": "9919c63f-e1fe-451b-9d9a-0f6e021bec6d",
   "metadata": {},
   "source": [
    "# 데이터 변환\n",
    "> 다음 내용이 유일"
   ]
  },
  {
   "cell_type": "code",
   "execution_count": null,
   "id": "b5c4d6ba-5a3a-4d41-a133-5b3150888975",
   "metadata": {},
   "outputs": [],
   "source": [
    "## object 데이터들 더미처리\n",
    "ready_data = pd.get_dummies(data, columns=['sex','education','marital_stat','imcome_cat','card_type'], drop_first= True)"
   ]
  }
 ],
 "metadata": {
  "kernelspec": {
   "display_name": "Python 3",
   "language": "python",
   "name": "python3"
  },
  "language_info": {
   "codemirror_mode": {
    "name": "ipython",
    "version": 3
   },
   "file_extension": ".py",
   "mimetype": "text/x-python",
   "name": "python",
   "nbconvert_exporter": "python",
   "pygments_lexer": "ipython3",
   "version": "3.6.13"
  }
 },
 "nbformat": 4,
 "nbformat_minor": 5
}
