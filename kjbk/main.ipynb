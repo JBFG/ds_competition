{
 "cells": [
  {
   "cell_type": "code",
   "execution_count": 1,
   "id": "0f4eacdb-f1cb-4930-b8c4-14f71e5ef809",
   "metadata": {},
   "outputs": [],
   "source": [
    "from jbfg.pandas_utils import *\n",
    "import matplotlib.pyplot as plt\n",
    "import seaborn as sns\n",
    "import calendar\n",
    "from datetime import date, datetime, timedelta\n",
    "from dateutil.relativedelta import relativedelta\n",
    "import plotly\n",
    "import plotly.graph_objects as go\n",
    "from sklearn.model_selection import train_test_split\n",
    "from sklearn.linear_model import LogisticRegression\n",
    "from sklearn.metrics import accuracy_score\n",
    "import matplotlib.pyplot as plt"
   ]
  },
  {
   "cell_type": "code",
   "execution_count": 2,
   "id": "8d9ca043-b059-44fb-8267-5a5e56facb5b",
   "metadata": {},
   "outputs": [
    {
     "data": {
      "text/html": [
       "<div>\n",
       "<style scoped>\n",
       "    .dataframe tbody tr th:only-of-type {\n",
       "        vertical-align: middle;\n",
       "    }\n",
       "\n",
       "    .dataframe tbody tr th {\n",
       "        vertical-align: top;\n",
       "    }\n",
       "\n",
       "    .dataframe thead th {\n",
       "        text-align: right;\n",
       "    }\n",
       "</style>\n",
       "<table border=\"1\" class=\"dataframe\">\n",
       "  <thead>\n",
       "    <tr style=\"text-align: right;\">\n",
       "      <th></th>\n",
       "      <th>cstno</th>\n",
       "      <th>tot_product_count</th>\n",
       "      <th>is_churned</th>\n",
       "    </tr>\n",
       "  </thead>\n",
       "  <tbody>\n",
       "    <tr>\n",
       "      <th>0</th>\n",
       "      <td>708082083</td>\n",
       "      <td>4</td>\n",
       "      <td>0</td>\n",
       "    </tr>\n",
       "    <tr>\n",
       "      <th>1</th>\n",
       "      <td>708083283</td>\n",
       "      <td>3</td>\n",
       "      <td>1</td>\n",
       "    </tr>\n",
       "    <tr>\n",
       "      <th>2</th>\n",
       "      <td>708084558</td>\n",
       "      <td>6</td>\n",
       "      <td>1</td>\n",
       "    </tr>\n",
       "    <tr>\n",
       "      <th>3</th>\n",
       "      <td>708085458</td>\n",
       "      <td>6</td>\n",
       "      <td>0</td>\n",
       "    </tr>\n",
       "    <tr>\n",
       "      <th>4</th>\n",
       "      <td>708086958</td>\n",
       "      <td>3</td>\n",
       "      <td>0</td>\n",
       "    </tr>\n",
       "    <tr>\n",
       "      <th>...</th>\n",
       "      <td>...</td>\n",
       "      <td>...</td>\n",
       "      <td>...</td>\n",
       "    </tr>\n",
       "    <tr>\n",
       "      <th>8096</th>\n",
       "      <td>828285858</td>\n",
       "      <td>3</td>\n",
       "      <td>0</td>\n",
       "    </tr>\n",
       "    <tr>\n",
       "      <th>8097</th>\n",
       "      <td>828288333</td>\n",
       "      <td>4</td>\n",
       "      <td>0</td>\n",
       "    </tr>\n",
       "    <tr>\n",
       "      <th>8098</th>\n",
       "      <td>828294933</td>\n",
       "      <td>3</td>\n",
       "      <td>1</td>\n",
       "    </tr>\n",
       "    <tr>\n",
       "      <th>8099</th>\n",
       "      <td>828298908</td>\n",
       "      <td>4</td>\n",
       "      <td>0</td>\n",
       "    </tr>\n",
       "    <tr>\n",
       "      <th>8100</th>\n",
       "      <td>828343083</td>\n",
       "      <td>3</td>\n",
       "      <td>0</td>\n",
       "    </tr>\n",
       "  </tbody>\n",
       "</table>\n",
       "<p>8101 rows × 3 columns</p>\n",
       "</div>"
      ],
      "text/plain": [
       "          cstno  tot_product_count  is_churned\n",
       "0     708082083                  4           0\n",
       "1     708083283                  3           1\n",
       "2     708084558                  6           1\n",
       "3     708085458                  6           0\n",
       "4     708086958                  3           0\n",
       "...         ...                ...         ...\n",
       "8096  828285858                  3           0\n",
       "8097  828288333                  4           0\n",
       "8098  828294933                  3           1\n",
       "8099  828298908                  4           0\n",
       "8100  828343083                  3           0\n",
       "\n",
       "[8101 rows x 3 columns]"
      ]
     },
     "execution_count": 2,
     "metadata": {},
     "output_type": "execute_result"
    }
   ],
   "source": [
    "custData = pd.read_csv(\"../0.data/bank_churner.csv\")\n",
    "custData[['cstno', 'tot_product_count', 'is_churned']]"
   ]
  },
  {
   "cell_type": "code",
   "execution_count": 18,
   "id": "41c8671f-026a-4c34-9a5c-b42557937519",
   "metadata": {},
   "outputs": [],
   "source": [
    "# 상품건수와 이탈 여부 사이 관계\n",
    "\n",
    "sql = f\"\"\"\n",
    "\n",
    " SELECT \n",
    "    CSTNO     \n",
    "    ,tot_product_count -- 현재 보유 상품 개수        \n",
    "    ,is_churned   -- 이탈여부\n",
    "  FROM l2_kjbk_extnl.bank_churner \n",
    "    \n",
    "\"\"\""
   ]
  },
  {
   "cell_type": "code",
   "execution_count": 3,
   "id": "a232c824-7a82-4592-ab0f-e5d3bf00334a",
   "metadata": {},
   "outputs": [
    {
     "ename": "NameError",
     "evalue": "name 'converDataFormat' is not defined",
     "output_type": "error",
     "traceback": [
      "\u001b[0;31m---------------------------------------------------------------------------\u001b[0m",
      "\u001b[0;31mNameError\u001b[0m                                 Traceback (most recent call last)",
      "Cell \u001b[0;32mIn[3], line 4\u001b[0m\n\u001b[1;32m      2\u001b[0m \u001b[38;5;28;01mfor\u001b[39;00m index, row \u001b[38;5;129;01min\u001b[39;00m custData\u001b[38;5;241m.\u001b[39miterrows() :\n\u001b[1;32m      3\u001b[0m     \u001b[38;5;28;01mfor\u001b[39;00m line \u001b[38;5;129;01min\u001b[39;00m custData :\n\u001b[0;32m----> 4\u001b[0m         custData\u001b[38;5;241m.\u001b[39mat[index,line] \u001b[38;5;241m=\u001b[39m \u001b[43mconverDataFormat\u001b[49m(line, row[line])    \n",
      "\u001b[0;31mNameError\u001b[0m: name 'converDataFormat' is not defined"
     ]
    }
   ],
   "source": [
    "# custData = get_df(sql)\n",
    "for index, row in custData.iterrows() :\n",
    "    for line in custData :\n",
    "        custData.at[index,line] = converDataFormat(line, row[line])    "
   ]
  },
  {
   "cell_type": "code",
   "execution_count": 36,
   "id": "8e132448-1df8-441b-b7ef-37d373638a9c",
   "metadata": {},
   "outputs": [],
   "source": [
    "# 현재 보유 상품 개수 범위 추출"
   ]
  },
  {
   "cell_type": "code",
   "execution_count": 11,
   "id": "95804aaf-e949-4c67-b00d-6f2008e18101",
   "metadata": {},
   "outputs": [],
   "source": [
    "# 상품건수와 이탈 여부 사이 관계\n",
    "\n",
    "sql = f\"\"\"\n",
    "\n",
    " SELECT \n",
    "    tot_product_count\n",
    "  FROM l2_kjbk_extnl.bank_churner \n",
    "  group by tot_product_count\n",
    "    \n",
    "\"\"\""
   ]
  },
  {
   "cell_type": "code",
   "execution_count": 12,
   "id": "342201bc-2599-4ee2-b0fe-7afad4f7ab55",
   "metadata": {},
   "outputs": [],
   "source": [
    "custData = get_df(sql)\n",
    "for index, row in custData.iterrows() :\n",
    "    for line in custData :\n",
    "        custData.at[index,line] = converDataFormat(line, row[line])    \n",
    "        productCount = custData[\"tot_product_count\"]\n",
    "        \n",
    "product_min = custData.min()\n",
    "product_max = custData.max()"
   ]
  },
  {
   "cell_type": "code",
   "execution_count": 34,
   "id": "45b557e5-664d-400c-8e1b-1f4e882f667e",
   "metadata": {},
   "outputs": [],
   "source": [
    "# 현재 보유 상품 개수 중 이탈 여부가 높은 구간 추출"
   ]
  },
  {
   "cell_type": "code",
   "execution_count": 13,
   "id": "76314f9a-c46f-4b63-b426-693eaab21365",
   "metadata": {},
   "outputs": [],
   "source": [
    "# 이탈 여부가 높은 구간 추출\n",
    "\n",
    "sql = f\"\"\"\n",
    "\n",
    " SELECT \n",
    "    COUNT(*)\n",
    "  FROM l2_kjbk_extnl.bank_churner \n",
    "  WHERE is_churned = 'Y'\n",
    "  AND tot_product_count = '${productCount}'\n",
    "    \n",
    "\"\"\""
   ]
  },
  {
   "cell_type": "code",
   "execution_count": 14,
   "id": "fce150cc-4655-4e78-b47c-1006bdbdbb41",
   "metadata": {},
   "outputs": [
    {
     "name": "stdout",
     "output_type": "stream",
     "text": [
      "   expr_1\n",
      "0       0\n"
     ]
    }
   ],
   "source": [
    "custData = get_df(sql)\n",
    "for index, row in custData.iterrows() :\n",
    "    for line in custData :\n",
    "        custData.at[index,line] = converDataFormat(line, row[line])    \n",
    "print(custData)"
   ]
  },
  {
   "cell_type": "code",
   "execution_count": null,
   "id": "5a84f895-9a34-466f-9099-9b8c509f4fb5",
   "metadata": {},
   "outputs": [],
   "source": [
    "# 함수 모음"
   ]
  },
  {
   "cell_type": "code",
   "execution_count": 8,
   "id": "127f8c3a-640d-437e-ae48-53d4c27c98d7",
   "metadata": {},
   "outputs": [],
   "source": [
    "#데이터 포맷 가공 함수\n",
    "def converDataFormat(col, param) :\n",
    "    #기본 데이터 NULL, \"\", Unknown 은 0으로 처리\n",
    "    if param is None :\n",
    "      param =  0\n",
    "    if param == \"\" :\n",
    "      param =  0\n",
    "    if param == \"Unknown\":\n",
    "      param =  0    \n",
    "    # 기본 데이터 끝    \n",
    "    \n",
    "    return param\n",
    "    \n",
    "\n",
    "    "
   ]
  },
  {
   "cell_type": "code",
   "execution_count": 20,
   "id": "18d7f2fa-c587-47f4-9290-7e49e1cf9c41",
   "metadata": {},
   "outputs": [],
   "source": [
    "# 함수 모음 끝"
   ]
  },
  {
   "cell_type": "code",
   "execution_count": 20,
   "id": "661a15d6-6f63-4788-9d77-d413a5d72c4d",
   "metadata": {},
   "outputs": [
    {
     "name": "stdout",
     "output_type": "stream",
     "text": [
      "Accuracy: 0.8285009253547193\n"
     ]
    }
   ],
   "source": [
    "#특성과 타켓 변수 분리\n",
    "custData = custData.dropna()\n",
    "X = custData[[\"tot_product_count\"]]\n",
    "Y = custData[\"is_churned\"]\n",
    "#학습 데이터와 테스트 데이터 분할\n",
    "X_train, X_test, Y_train, Y_test = train_test_split(X,Y,test_size=0.2, random_state=42)\n",
    "model = LogisticRegression()\n",
    "#로지스틱 회귀 모델 학습\n",
    "model.fit(X_train, Y_train)\n",
    "#예측\n",
    "Y_pred = model.predict(X_test)\n",
    "#정확도 평가\n",
    "accuracy = accuracy_score(Y_test,Y_pred)\n",
    "print(\"Accuracy:\",accuracy)"
   ]
  },
  {
   "cell_type": "code",
   "execution_count": 21,
   "id": "ddd5b83f-f32c-4755-b854-6de0e1e00d45",
   "metadata": {},
   "outputs": [],
   "source": [
    "# 소진율과 이탈 여부 사이 관계\n",
    "\n",
    "sql = f\"\"\"\n",
    "\n",
    " SELECT \n",
    "    CSTNO     \n",
    "    ,mean_open_to_buy -- 평균 사용가능 신용한도\n",
    "    ,mean_util_pct -- 평균 한도 소진율        \n",
    "    , months_inact_for_12m -- 거래가 없었던 개월 수\n",
    "    ,is_churned   -- 이탈여부\n",
    "  FROM l2_kjbk_extnl.bank_churner \n",
    "    \n",
    "\"\"\""
   ]
  },
  {
   "cell_type": "code",
   "execution_count": 22,
   "id": "6e20612e-dd2e-46dc-a885-b1ef59aae953",
   "metadata": {},
   "outputs": [],
   "source": [
    "custData = get_df(sql)\n",
    "for index, row in custData.iterrows() :\n",
    "    for line in custData :\n",
    "        custData.at[index,line] = converDataFormat(line, row[line])    "
   ]
  },
  {
   "cell_type": "code",
   "execution_count": 24,
   "id": "b014b22e-24f9-47ee-ac24-39560cbd6ab3",
   "metadata": {},
   "outputs": [
    {
     "name": "stdout",
     "output_type": "stream",
     "text": [
      "Accuracy: 0.8223318938926588\n"
     ]
    }
   ],
   "source": [
    "#특성과 타켓 변수 분리\n",
    "custData = custData.dropna()\n",
    "X = custData[[\"mean_open_to_buy\",\"mean_util_pct\",\"months_inact_for_12m\"]]\n",
    "Y = custData[\"is_churned\"]\n",
    "#학습 데이터와 테스트 데이터 분할\n",
    "X_train, X_test, Y_train, Y_test = train_test_split(X,Y,test_size=0.2, random_state=42)\n",
    "model = LogisticRegression()\n",
    "#로지스틱 회귀 모델 학습\n",
    "model.fit(X_train, Y_train)\n",
    "#예측\n",
    "Y_pred = model.predict(X_test)\n",
    "#정확도 평가\n",
    "accuracy = accuracy_score(Y_test,Y_pred)\n",
    "print(\"Accuracy:\",accuracy)"
   ]
  },
  {
   "cell_type": "code",
   "execution_count": 27,
   "id": "7d0c7c15-dcf9-4366-96c7-a0c7c7867141",
   "metadata": {},
   "outputs": [],
   "source": [
    "# 카드 거래가 없는 개월수와 이탈 여부 사이 관계\n",
    "\n",
    "sql = f\"\"\"\n",
    "\n",
    " SELECT \n",
    "    CSTNO         \n",
    "    , months_inact_for_12m -- 거래가 없었던 개월 수\n",
    "    ,is_churned   -- 이탈여부\n",
    "  FROM l2_kjbk_extnl.bank_churner \n",
    "    \n",
    "\"\"\""
   ]
  },
  {
   "cell_type": "code",
   "execution_count": 28,
   "id": "b6cca9c3-4106-4759-a531-85fe27a33793",
   "metadata": {},
   "outputs": [],
   "source": [
    "custData = get_df(sql)\n",
    "for index, row in custData.iterrows() :\n",
    "    for line in custData :\n",
    "        custData.at[index,line] = converDataFormat(line, row[line])    "
   ]
  },
  {
   "cell_type": "code",
   "execution_count": 30,
   "id": "54879d81-31b1-4f7c-bc86-efd6383c9cdb",
   "metadata": {},
   "outputs": [
    {
     "name": "stdout",
     "output_type": "stream",
     "text": [
      "Accuracy: 0.8285009253547193\n"
     ]
    }
   ],
   "source": [
    "#특성과 타켓 변수 분리\n",
    "custData = custData.dropna()\n",
    "X = custData[[\"months_inact_for_12m\"]]\n",
    "Y = custData[\"is_churned\"]\n",
    "#학습 데이터와 테스트 데이터 분할\n",
    "X_train, X_test, Y_train, Y_test = train_test_split(X,Y,test_size=0.2, random_state=42)\n",
    "model = LogisticRegression()\n",
    "#로지스틱 회귀 모델 학습\n",
    "model.fit(X_train, Y_train)\n",
    "#예측\n",
    "Y_pred = model.predict(X_test)\n",
    "#정확도 평가\n",
    "accuracy = accuracy_score(Y_test,Y_pred)\n",
    "print(\"Accuracy:\",accuracy)"
   ]
  }
 ],
 "metadata": {
  "kernelspec": {
   "display_name": "Python 3 (ipykernel)",
   "language": "python",
   "name": "python3"
  },
  "language_info": {
   "codemirror_mode": {
    "name": "ipython",
    "version": 3
   },
   "file_extension": ".py",
   "mimetype": "text/x-python",
   "name": "python",
   "nbconvert_exporter": "python",
   "pygments_lexer": "ipython3",
   "version": "3.9.16"
  }
 },
 "nbformat": 4,
 "nbformat_minor": 5
}
