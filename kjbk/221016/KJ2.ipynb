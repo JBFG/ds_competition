{
 "cells": [
  {
   "cell_type": "code",
   "execution_count": 15,
   "id": "df18a43b-93e7-464e-b122-af0018079fea",
   "metadata": {},
   "outputs": [],
   "source": [
    "from impala.dbapi import connect\n",
    "import pandas as pd\n",
    "import pickle"
   ]
  },
  {
   "cell_type": "code",
   "execution_count": 16,
   "id": "df98a411-0120-42a1-bed3-b1c7c7053239",
   "metadata": {},
   "outputs": [],
   "source": [
    "def _connect_impala():\n",
    "    return connect(host     = 'impala.dhap.jbfg.com',\n",
    "                   port     = 21050,\n",
    "                   database = 'l2_kjbk_extnl',\n",
    "                   auth_mechanism = 'GSSAPI',\n",
    "                   kerberos_service_name = 'impala'\n",
    "                  )\n"
   ]
  },
  {
   "cell_type": "code",
   "execution_count": 17,
   "id": "e649fc24-33aa-4a7d-b1a4-aa1df44ece8b",
   "metadata": {},
   "outputs": [],
   "source": [
    "def to_pickle(tablename):\n",
    "    sql = f\"\"\"\n",
    "    SELECT *\n",
    "    FROM   {tablename}\n",
    "    \"\"\"\n",
    "    con = _connect_impala()\n",
    "    df = pd.read_sql(sql,con)\n",
    "    con.close()\n",
    "    file = open(f\"../../input/{tablename}.pickle\",\"wb\")\n",
    "    df.to_pickle(file)\n",
    "    file.close()\n",
    "    print(f\"{tablename} was copied into pickle\")\n",
    "    return df   \n",
    "    "
   ]
  },
  {
   "cell_type": "code",
   "execution_count": 18,
   "id": "7209cebb-f2c2-4f11-88dd-0070b9fa4f11",
   "metadata": {},
   "outputs": [
    {
     "ename": "FileNotFoundError",
     "evalue": "[Errno 2] No such file or directory: '../../input/products_info.pickle'",
     "output_type": "error",
     "traceback": [
      "\u001b[0;31m---------------------------------------------------------------------------\u001b[0m",
      "\u001b[0;31mFileNotFoundError\u001b[0m                         Traceback (most recent call last)",
      "\u001b[0;32m<timed exec>\u001b[0m in \u001b[0;36m<module>\u001b[0;34m\u001b[0m\n",
      "\u001b[0;32m<ipython-input-17-45f33a860b71>\u001b[0m in \u001b[0;36mto_pickle\u001b[0;34m(tablename)\u001b[0m\n\u001b[1;32m      7\u001b[0m     \u001b[0mdf\u001b[0m \u001b[0;34m=\u001b[0m \u001b[0mpd\u001b[0m\u001b[0;34m.\u001b[0m\u001b[0mread_sql\u001b[0m\u001b[0;34m(\u001b[0m\u001b[0msql\u001b[0m\u001b[0;34m,\u001b[0m\u001b[0mcon\u001b[0m\u001b[0;34m)\u001b[0m\u001b[0;34m\u001b[0m\u001b[0;34m\u001b[0m\u001b[0m\n\u001b[1;32m      8\u001b[0m     \u001b[0mcon\u001b[0m\u001b[0;34m.\u001b[0m\u001b[0mclose\u001b[0m\u001b[0;34m(\u001b[0m\u001b[0;34m)\u001b[0m\u001b[0;34m\u001b[0m\u001b[0;34m\u001b[0m\u001b[0m\n\u001b[0;32m----> 9\u001b[0;31m     \u001b[0mfile\u001b[0m \u001b[0;34m=\u001b[0m \u001b[0mopen\u001b[0m\u001b[0;34m(\u001b[0m\u001b[0;34mf\"../../input/{tablename}.pickle\"\u001b[0m\u001b[0;34m,\u001b[0m\u001b[0;34m\"wb\"\u001b[0m\u001b[0;34m)\u001b[0m\u001b[0;34m\u001b[0m\u001b[0;34m\u001b[0m\u001b[0m\n\u001b[0m\u001b[1;32m     10\u001b[0m     \u001b[0mdf\u001b[0m\u001b[0;34m.\u001b[0m\u001b[0mto_pickle\u001b[0m\u001b[0;34m(\u001b[0m\u001b[0mfile\u001b[0m\u001b[0;34m)\u001b[0m\u001b[0;34m\u001b[0m\u001b[0;34m\u001b[0m\u001b[0m\n\u001b[1;32m     11\u001b[0m     \u001b[0mfile\u001b[0m\u001b[0;34m.\u001b[0m\u001b[0mclose\u001b[0m\u001b[0;34m(\u001b[0m\u001b[0;34m)\u001b[0m\u001b[0;34m\u001b[0m\u001b[0;34m\u001b[0m\u001b[0m\n",
      "\u001b[0;31mFileNotFoundError\u001b[0m: [Errno 2] No such file or directory: '../../input/products_info.pickle'"
     ]
    }
   ],
   "source": [
    "%%time\n",
    "for tablename in (\"products_info\",\"train_x_past\",\"train_x_current\",\"train_y\",\"test_x_past\",\"test_x_current\"):\n",
    "    to_pickle(tablename)\n",
    "    "
   ]
  },
  {
   "cell_type": "code",
   "execution_count": 14,
   "id": "23c2289c-2d9e-44fc-8e44-99a5937fcacf",
   "metadata": {},
   "outputs": [
    {
     "data": {
      "text/plain": [
       "product_id       True\n",
       "name             True\n",
       "category_id      True\n",
       "division_id      True\n",
       "category_name    True\n",
       "division_name    True\n",
       "dtype: bool"
      ]
     },
     "execution_count": 14,
     "metadata": {},
     "output_type": "execute_result"
    }
   ],
   "source": []
  },
  {
   "cell_type": "code",
   "execution_count": null,
   "id": "8b29951d-45d4-432f-896e-63a0cdd267bd",
   "metadata": {},
   "outputs": [],
   "source": []
  }
 ],
 "metadata": {
  "kernelspec": {
   "display_name": "Python 3",
   "language": "python",
   "name": "python3"
  },
  "language_info": {
   "codemirror_mode": {
    "name": "ipython",
    "version": 3
   },
   "file_extension": ".py",
   "mimetype": "text/x-python",
   "name": "python",
   "nbconvert_exporter": "python",
   "pygments_lexer": "ipython3",
   "version": "3.6.13"
  }
 },
 "nbformat": 4,
 "nbformat_minor": 5
}
