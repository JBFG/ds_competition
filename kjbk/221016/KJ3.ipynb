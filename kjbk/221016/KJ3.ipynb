{
 "cells": [
  {
   "cell_type": "code",
   "execution_count": 1,
   "id": "66e54f46-dfcc-4507-a06b-0615742c1d43",
   "metadata": {},
   "outputs": [],
   "source": [
    "#CASE 1. 고객별 상품 빈도 파악\n",
    "#CASE 2. 특정고객 구매 예측"
   ]
  },
  {
   "cell_type": "code",
   "execution_count": 2,
   "id": "61d4e03a-d699-4cc5-8af3-cc7ab2d60efd",
   "metadata": {},
   "outputs": [],
   "source": [
    "#CASE 1 : 고객별 상품 빈도 파악\n",
    "from jbfg.pandas_utils import *\n",
    "schema = 'l2_kjbk_extnl'"
   ]
  },
  {
   "cell_type": "code",
   "execution_count": 3,
   "id": "7f5fdfe3-9c53-4f49-9372-3f99cdf042be",
   "metadata": {},
   "outputs": [],
   "source": [
    "#고객별 상품 빈도 파악, testcase : cstno,34552\n",
    "sql = 'select order_id, product_id, dense_rank() over(order by order_id) AS rnk from train_x_past where cstno =\"34552\" order by order_id'\n",
    "df1=get_df(sql,schema)\n",
    "\n",
    "sql2 = 'select product_id, count(*) from train_x_past where cstno =\"34552\" group by product_id order by product_id'\n",
    "df2 = get_df(sql2,schema)"
   ]
  },
  {
   "cell_type": "code",
   "execution_count": 4,
   "id": "99f41af7-120e-4e43-9dfe-65084b484a44",
   "metadata": {},
   "outputs": [
    {
     "name": "stdout",
     "output_type": "stream",
     "text": [
      "     rnk  order_id product_id\n",
      "0      1   1051978      35951\n",
      "1      2   1061517      47626\n",
      "2      2   1061517      49683\n",
      "3      3   1082161      27521\n",
      "4      3   1082161      35221\n",
      "..   ...       ...        ...\n",
      "261   76    898217      33000\n",
      "262   76    898217      18465\n",
      "263   77    999996      49683\n",
      "264   77    999996      24852\n",
      "265   77    999996      18465\n",
      "\n",
      "[266 rows x 3 columns]\n"
     ]
    }
   ],
   "source": [
    "#동일한 주문번호에 속한 상품끼리 묶기\n",
    "df1['order_id'] = df1['order_id'].astype('int')\n",
    "df_tmp = df1[['rnk', 'order_id','product_id']]\n",
    "print(df_tmp)"
   ]
  },
  {
   "cell_type": "code",
   "execution_count": 5,
   "id": "71614bd0-f6d1-4c24-8dc0-abec3380d111",
   "metadata": {},
   "outputs": [
    {
     "name": "stdout",
     "output_type": "stream",
     "text": [
      "[['35951'], ['49683', '47626'], ['27521', '35221'], ['35951', '35221', '24852'], ['22935', '35221', '46667', '34358'], ['18465', '35221'], ['33000'], ['18465', '27521'], ['35221', '21616', '24184'], ['18465', '35221', '34358', '30391', '10749', '5450', '21616'], ['18465', '4605', '34358', '48679', '21616', '28204'], ['35221', '24852', '28204'], ['46906'], ['18465'], ['18465'], ['21903', '49683', '24184', '5450', '39928'], ['5450', '18465'], ['47626', '35221', '33000', '21137', '49683', '9076'], ['10749', '35951', '24964'], ['18465', '47626', '35221', '16759', '34358', '46667', '22935', '28204'], ['8518', '47209', '24184', '21903', '8424'], ['5450', '24184', '21903', '44359'], ['47626', '35221', '34358', '47209', '21903', '49683', '46667'], ['35951', '47626', '35221', '33000'], ['18465', '35221', '46667', '34358'], ['35221'], ['49683', '47626', '44359'], ['49683', '18465', '34358'], ['18465', '47626', '4605', '44359', '49683', '19057', '21616'], ['35221', '33000'], ['18465', '35221', '33000', '44359', '28204'], ['10749', '25890'], ['16797', '44359'], ['33000'], ['46979', '18465', '35221', '8424', '47209', '44359', '21903', '24184', '27104', '30391'], ['35221', '34358', '21903', '44359', '5450', '22935', '27521'], ['47626', '25890', '17794', '44359', '24184', '5450', '39928'], ['16797', '35221', '25890', '21903'], ['4605', '35221', '34358', '35951', '46667'], ['18465', '47626', '33000', '16797', '28204'], ['43961'], ['18465', '34358'], ['43961', '33000'], ['29487', '35221', '33000', '34358', '46667', '22935'], ['35951', '35221', '21903', '34358'], ['47626', '35221', '35951', '21903', '49683'], ['35221', '24852', '46667'], ['18465', '35221'], ['35221'], ['18465', '21903'], ['34358', '17794', '34126', '21616', '44359', '22935', '34969'], ['5450', '34358', '30391', '21903'], ['24852'], ['5450', '47626', '34358'], ['47626', '35221', '35951', '19057', '22935', '21616'], ['8518'], ['49683', '18465'], ['35951'], ['26209', '18465', '35221'], ['18465', '45007', '35221', '44359'], ['34358', '46667'], ['47626', '35221', '24852', '34358', '35951'], ['5450', '35951', '30391', '21903'], ['18465', '21903', '26209', '5450', '22935', '27521', '39928'], ['18465', '47626', '35221', '16797'], ['18465', '35221'], ['8518', '34358', '24184', '49683', '21903'], ['47209', '4605', '21903'], ['49683', '35221', '33000'], ['24852', '45007', '8424'], ['49683'], ['18465', '34358'], ['5450', '35221', '24852', '21616'], ['22935', '35221', '28204'], ['35221', '34358'], ['18465', '33000'], ['49683', '18465', '24852']]\n"
     ]
    }
   ],
   "source": [
    "#인덱스생성\n",
    "#for index, value in enumerate(df_tmp, start=1) :\n",
    "#    print(index, value)\n",
    "\n",
    "df_tmp_arr=[[]for i in range(78)]\n",
    "num = 0\n",
    "for i in df_tmp['product_id'] :\n",
    "    df_tmp_arr[df_tmp['rnk'][num]].append(i)\n",
    "    num += 1\n",
    "\n",
    "df_tmp_arr.pop(0) #첫번쨰 빈데이터 제거\n",
    "num=0\n",
    "for i in df_tmp_arr :\n",
    "    df_tmp_arr[num] = list(set(df_tmp_arr[num]))\n",
    "    num+=1\n",
    "\n",
    "print(df_tmp_arr)"
   ]
  },
  {
   "cell_type": "code",
   "execution_count": 6,
   "id": "78dbc0a5-b3dd-44d5-84e8-623d1ea49321",
   "metadata": {},
   "outputs": [],
   "source": [
    "#CASE 1 종료\n",
    "#향 후 진행방향 \n",
    "#1. 전체 고객에 대한 동일 주문번호에 속한 상품끼리 묶기\n",
    "#2. 동일 주문번호별 입력가능한 분석모델 생성, 검증"
   ]
  },
  {
   "cell_type": "code",
   "execution_count": 7,
   "id": "60639603-a591-41fc-9648-942c7beb3d55",
   "metadata": {},
   "outputs": [],
   "source": [
    "##########################################"
   ]
  },
  {
   "cell_type": "code",
   "execution_count": 8,
   "id": "8eae911c-f113-4dc4-9699-f5bbd6f6f349",
   "metadata": {},
   "outputs": [],
   "source": [
    "##########################################"
   ]
  },
  {
   "cell_type": "code",
   "execution_count": 9,
   "id": "6b87663f-1850-4506-a1af-47e86dca611d",
   "metadata": {},
   "outputs": [],
   "source": [
    "#CASE 2 : 특정고객 구매 예측\n",
    "#머신러닝을 통한 모델 생성\n",
    "#Automatic scikit-learn 사용"
   ]
  },
  {
   "cell_type": "code",
   "execution_count": 10,
   "id": "e3583ad8-5bd8-4a37-852b-00249d21fa9a",
   "metadata": {},
   "outputs": [],
   "source": [
    "#import\n",
    "#from jbfg.pandas_utils import *\n",
    "from autosklearn.classification import AutoSklearnClassifier\n",
    "from sklearn.model_selection import train_test_split\n",
    "import pandas as pd\n",
    "#import numpy as np\n",
    "#import seaborn as sns\n",
    "#import matplotlib.pyplot as plt\n",
    "#import os\n",
    "#import random\n",
    "\n",
    "#DB Connection\n",
    "schema = 'l2_kjbk_extnl'\n",
    "\n",
    "#seed\n",
    "#현 단계 사용x, 데이터 전처리를 위해 향후 사용\n",
    "#def seed_eveything(seed):\n",
    "#    random.seed(seed)\n",
    "#    os.environ['PYTHONHASHSEED'] = str(seed)\n",
    "#    np.random.seed(seed)"
   ]
  },
  {
   "cell_type": "code",
   "execution_count": 11,
   "id": "25c048f7-fc3b-405b-ac2e-0502ef88e343",
   "metadata": {},
   "outputs": [],
   "source": [
    "#DataFrame\n",
    "#1.train_x\n",
    "sql = 'select order_number, week_day, order_hour, case when order_interval = \"\" then \"0\" else SUBSTR(order_interval,1 ,(INSTR(order_interval, \".\")-1)) end as order_interval, add_order, Is_reordered from train_x_past'\n",
    "train_x = get_df(sql,schema)\n",
    "train_x = train_x.astype('int')\n",
    "\n",
    "#2.train_y\n",
    "sql = 'select product_id from train_x_past'\n",
    "train_y = get_df(sql,schema)\n",
    "\n",
    "#3.test_x\n",
    "#고객별 예측률 파악, 129332\n",
    "sql = 'select order_number, week_day, order_hour, case when order_interval = \"\" then \"0\" else TRIM(SUBSTR(order_interval,1 ,(INSTR(order_interval, \".\")-1))) end as order_interval, add_order, Is_reordered from train_x_current where cstno =\"129332\"'\n",
    "test_x = get_df(sql,schema)\n",
    "test_x = test_x.astype('int')\n",
    "#test_x = test_x.astype('catagory')\n",
    "#test_x = test_x.astype({'is_reordered':'bool'})"
   ]
  },
  {
   "cell_type": "code",
   "execution_count": null,
   "id": "ca9b37e9-b855-4f06-af31-c2be047aadb4",
   "metadata": {},
   "outputs": [],
   "source": [
    "#Auto-Sklearn\n",
    "#time_left_for_this_task, per_run_time_limit별로 정롹도 측정 필요\n",
    "#간헐적 커널 종료현상발생 -> 입력변수 확인필요\n",
    "automl = AutoSklearnClassifier(time_left_for_this_task = 300, per_run_time_limit=20, n_jobs=-1) \n",
    "automl.fit(train_x, train_y)\n",
    "\n",
    "predictions = automl.predict(test_x)"
   ]
  },
  {
   "cell_type": "code",
   "execution_count": null,
   "id": "51ae3982-b9f3-465b-b304-72b80173f080",
   "metadata": {},
   "outputs": [],
   "source": [
    "print(automl.sprint_statistics())"
   ]
  },
  {
   "cell_type": "code",
   "execution_count": null,
   "id": "deac9457-e4fd-4c73-8752-24d1a24073b9",
   "metadata": {},
   "outputs": [],
   "source": [
    "print(automl.show_models())"
   ]
  },
  {
   "cell_type": "code",
   "execution_count": null,
   "id": "801daa75-8727-45b9-a3a8-d4ccf8fb1fd7",
   "metadata": {},
   "outputs": [],
   "source": [
    "print(predictions)"
   ]
  },
  {
   "cell_type": "code",
   "execution_count": null,
   "id": "dd472524-c713-4c28-b4a4-d842e3655b02",
   "metadata": {},
   "outputs": [],
   "source": [
    "#Merge train_x_past, train_y \n",
    "sql = 'SELECT * FROM train_y'\n",
    "df_train_y = get_df(sql, schema)\n",
    "df_train_y.tail()\n",
    "\n",
    "sql = 'SELECT * FROM train_x_current'\n",
    "df_train_x_current = get_df(sql, schema)\n",
    "df_train_x_current.tail()\n",
    "\n",
    "#데이터병합\n",
    "current_merge = pd.merge(df_train_x_current, df_train_y, left_index=True, right_index=True, how='left')\n",
    "current_merge"
   ]
  },
  {
   "cell_type": "code",
   "execution_count": null,
   "id": "b43e7e27-fcc7-46b6-b64c-4ab697ca298e",
   "metadata": {},
   "outputs": [],
   "source": [
    "df_x_merge[df_x_merge['cstno']=='129332']"
   ]
  },
  {
   "cell_type": "code",
   "execution_count": null,
   "id": "be6a4916-885f-4061-88d7-72aa71f993ae",
   "metadata": {},
   "outputs": [],
   "source": [
    "#CASE 2 종료\n",
    "#향 후 진행방향 \n",
    "#1. 데이터 전처리 필요, 데이터 타입 변경에 따른 정확도 분석\n",
    "#2. AutoSklearnClassifier의 변수 변경 등 필요"
   ]
  }
 ],
 "metadata": {
  "kernelspec": {
   "display_name": "Python 3",
   "language": "python",
   "name": "python3"
  },
  "language_info": {
   "codemirror_mode": {
    "name": "ipython",
    "version": 3
   },
   "file_extension": ".py",
   "mimetype": "text/x-python",
   "name": "python",
   "nbconvert_exporter": "python",
   "pygments_lexer": "ipython3",
   "version": "3.6.13"
  }
 },
 "nbformat": 4,
 "nbformat_minor": 5
}
