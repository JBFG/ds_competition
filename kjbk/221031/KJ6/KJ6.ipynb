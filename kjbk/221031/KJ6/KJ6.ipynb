{
 "cells": [
  {
   "cell_type": "code",
   "execution_count": 1,
   "id": "4288efb1-0cb2-43d3-9b30-f31970f7a049",
   "metadata": {},
   "outputs": [],
   "source": [
    "import m\n",
    "import matplotlib.pyplot as plt\n",
    "import datetime\n",
    "import pandas as pd"
   ]
  },
  {
   "cell_type": "markdown",
   "id": "b11640fc-e9bd-45c2-8a96-7943ab2d4651",
   "metadata": {
    "tags": []
   },
   "source": [
    "# 00. table 기본 탐색"
   ]
  },
  {
   "cell_type": "code",
   "execution_count": 2,
   "id": "0dbf7f35-4ef4-4db1-9f41-fcbac66d6ca6",
   "metadata": {},
   "outputs": [
    {
     "name": "stdout",
     "output_type": "stream",
     "text": [
      "\n",
      " ***products_info*** \n",
      "\n",
      "- shape  :  (100, 6)\n",
      "- colume :  ['product_id', 'name', 'category_id', 'division_id', 'category_name', 'division_name']\n",
      "- colume_type \n",
      " product_id       object\n",
      "name             object\n",
      "category_id      object\n",
      "division_id      object\n",
      "category_name    object\n",
      "division_name    object\n",
      "dtype: object\n",
      "- unique\n",
      "product_id  :  100\n",
      "name  :  100\n",
      "category_id  :  21\n",
      "division_id  :  9\n",
      "category_name  :  21\n",
      "division_name  :  9\n",
      "----------------------------------------------\n",
      "\n",
      " ***train_x_past*** \n",
      "\n",
      "- shape  :  (1253972, 9)\n",
      "- colume :  ['order_id', 'cstno', 'order_number', 'week_day', 'order_hour', 'order_interval', 'add_order', 'is_reordered', 'product_id']\n",
      "- colume_type \n",
      " order_id          object\n",
      "cstno             object\n",
      "order_number      object\n",
      "week_day          object\n",
      "order_hour        object\n",
      "order_interval    object\n",
      "add_order         object\n",
      "is_reordered      object\n",
      "product_id        object\n",
      "dtype: object\n",
      "- unique\n",
      "order_id  :  341678\n",
      "cstno  :  5859\n",
      "order_number  :  99\n",
      "week_day  :  7\n",
      "order_hour  :  24\n",
      "order_interval  :  32\n",
      "add_order  :  93\n",
      "is_reordered  :  2\n",
      "product_id  :  100\n",
      "----------------------------------------------\n",
      "\n",
      " ***train_x_current*** \n",
      "\n",
      "- shape  :  (24424, 8)\n",
      "- colume :  ['order_id', 'cstno', 'order_number', 'week_day', 'order_hour', 'order_interval', 'add_order', 'is_reordered']\n",
      "- colume_type \n",
      " order_id          object\n",
      "cstno             object\n",
      "order_number      object\n",
      "week_day          object\n",
      "order_hour        object\n",
      "order_interval    object\n",
      "add_order         object\n",
      "is_reordered      object\n",
      "dtype: object\n",
      "- unique\n",
      "order_id  :  5859\n",
      "cstno  :  5859\n",
      "order_number  :  58\n",
      "week_day  :  7\n",
      "order_hour  :  24\n",
      "order_interval  :  31\n",
      "add_order  :  55\n",
      "is_reordered  :  2\n",
      "----------------------------------------------\n",
      "\n",
      " ***train_y*** \n",
      "\n",
      "- shape  :  (24424, 1)\n",
      "- colume :  ['product_id']\n",
      "- colume_type \n",
      " product_id    object\n",
      "dtype: object\n",
      "- unique\n",
      "product_id  :  100\n",
      "----------------------------------------------\n",
      "\n",
      " ***test_x_past*** \n",
      "\n",
      "- shape  :  (541922, 9)\n",
      "- colume :  ['order_id', 'cstno', 'order_number', 'week_day', 'order_hour', 'order_interval', 'add_order', 'is_reordered', 'product_id']\n",
      "- colume_type \n",
      " order_id          object\n",
      "cstno             object\n",
      "order_number      object\n",
      "week_day          object\n",
      "order_hour        object\n",
      "order_interval    object\n",
      "add_order         object\n",
      "is_reordered      object\n",
      "product_id        object\n",
      "dtype: object\n",
      "- unique\n",
      "order_id  :  156689\n",
      "cstno  :  4141\n",
      "order_number  :  99\n",
      "week_day  :  7\n",
      "order_hour  :  24\n",
      "order_interval  :  32\n",
      "add_order  :  79\n",
      "is_reordered  :  2\n",
      "product_id  :  100\n",
      "----------------------------------------------\n",
      "\n",
      " ***test_x_current*** \n",
      "\n",
      "- shape  :  (16126, 8)\n",
      "- colume :  ['order_id', 'cstno', 'order_number', 'week_day', 'order_hour', 'order_interval', 'add_order', 'is_reordered']\n",
      "- colume_type \n",
      " order_id          object\n",
      "cstno             object\n",
      "order_number      object\n",
      "week_day          object\n",
      "order_hour        object\n",
      "order_interval    object\n",
      "add_order         object\n",
      "is_reordered      object\n",
      "dtype: object\n",
      "- unique\n",
      "order_id  :  4141\n",
      "cstno  :  4141\n",
      "order_number  :  63\n",
      "week_day  :  7\n",
      "order_hour  :  24\n",
      "order_interval  :  31\n",
      "add_order  :  52\n",
      "is_reordered  :  2\n",
      "----------------------------------------------\n"
     ]
    }
   ],
   "source": [
    "for table_ in ['products_info','train_x_past','train_x_current','train_y','test_x_past','test_x_current'] :\n",
    "    m.table기본(table_)"
   ]
  },
  {
   "cell_type": "markdown",
   "id": "3065ab26-742c-46cc-8b3a-7dedd09beaee",
   "metadata": {
    "tags": []
   },
   "source": [
    "# 01. EDA(train past, train current, test past merge)"
   ]
  },
  {
   "cell_type": "code",
   "execution_count": 3,
   "id": "b0fb924b-26bc-4ea2-b29a-4ee13712168e",
   "metadata": {},
   "outputs": [],
   "source": [
    "products_info = m._read_table('products_info')"
   ]
  },
  {
   "cell_type": "code",
   "execution_count": 4,
   "id": "41c2518b-438a-4761-a0de-67ec2b6582d7",
   "metadata": {},
   "outputs": [],
   "source": [
    "train_past = m._read_table('train_x_past')"
   ]
  },
  {
   "cell_type": "code",
   "execution_count": 5,
   "id": "42484541-efbe-41fd-a7c6-50ee2c792933",
   "metadata": {},
   "outputs": [],
   "source": [
    "train_y_current = m._read_table('train_y')"
   ]
  },
  {
   "cell_type": "code",
   "execution_count": 6,
   "id": "416f6ca9-691e-4644-bac6-3fcd9d844fb3",
   "metadata": {},
   "outputs": [],
   "source": [
    "train_x_current = m._read_table('train_x_current')"
   ]
  },
  {
   "cell_type": "code",
   "execution_count": 7,
   "id": "f795f668-0880-4639-a7bf-45e830382db2",
   "metadata": {},
   "outputs": [],
   "source": [
    "train_current = m.pd.concat([train_x_current,train_y_current],axis=1)"
   ]
  },
  {
   "cell_type": "code",
   "execution_count": 8,
   "id": "7ec8d226-dc4b-46ac-a12b-b7dcca329a95",
   "metadata": {},
   "outputs": [],
   "source": [
    "test_past = m._read_table('test_x_past')"
   ]
  },
  {
   "cell_type": "code",
   "execution_count": 9,
   "id": "b67a6a9b-578c-4835-bed7-a8b47402805d",
   "metadata": {},
   "outputs": [],
   "source": [
    "EDA_data = m.pd.concat([train_past,train_current,test_past],axis=0).reset_index(drop=True)"
   ]
  },
  {
   "cell_type": "markdown",
   "id": "619183fb-c8e2-4e22-886e-7661b20b312a",
   "metadata": {},
   "source": [
    "- EDA용으로 train past data에 product정보 붙이기"
   ]
  },
  {
   "cell_type": "code",
   "execution_count": 10,
   "id": "8ccddb0e-e596-48e7-b1bd-55bc6a21449c",
   "metadata": {
    "tags": []
   },
   "outputs": [
    {
     "data": {
      "text/html": [
       "<div>\n",
       "<style scoped>\n",
       "    .dataframe tbody tr th:only-of-type {\n",
       "        vertical-align: middle;\n",
       "    }\n",
       "\n",
       "    .dataframe tbody tr th {\n",
       "        vertical-align: top;\n",
       "    }\n",
       "\n",
       "    .dataframe thead th {\n",
       "        text-align: right;\n",
       "    }\n",
       "</style>\n",
       "<table border=\"1\" class=\"dataframe\">\n",
       "  <thead>\n",
       "    <tr style=\"text-align: right;\">\n",
       "      <th></th>\n",
       "      <th>order_id</th>\n",
       "      <th>cstno</th>\n",
       "      <th>order_number</th>\n",
       "      <th>week_day</th>\n",
       "      <th>order_hour</th>\n",
       "      <th>order_interval</th>\n",
       "      <th>add_order</th>\n",
       "      <th>is_reordered</th>\n",
       "      <th>product_id</th>\n",
       "      <th>name</th>\n",
       "      <th>category_id</th>\n",
       "      <th>division_id</th>\n",
       "      <th>category_name</th>\n",
       "      <th>division_name</th>\n",
       "    </tr>\n",
       "  </thead>\n",
       "  <tbody>\n",
       "    <tr>\n",
       "      <th>0</th>\n",
       "      <td>717029</td>\n",
       "      <td>196613</td>\n",
       "      <td>15</td>\n",
       "      <td>1</td>\n",
       "      <td>9</td>\n",
       "      <td>3.0</td>\n",
       "      <td>5</td>\n",
       "      <td>0</td>\n",
       "      <td>41220</td>\n",
       "      <td>Organic Romaine Lettuce</td>\n",
       "      <td>83</td>\n",
       "      <td>4</td>\n",
       "      <td>fresh vegetables</td>\n",
       "      <td>produce</td>\n",
       "    </tr>\n",
       "    <tr>\n",
       "      <th>1</th>\n",
       "      <td>2325772</td>\n",
       "      <td>196613</td>\n",
       "      <td>35</td>\n",
       "      <td>6</td>\n",
       "      <td>11</td>\n",
       "      <td>2.0</td>\n",
       "      <td>7</td>\n",
       "      <td>1</td>\n",
       "      <td>41220</td>\n",
       "      <td>Organic Romaine Lettuce</td>\n",
       "      <td>83</td>\n",
       "      <td>4</td>\n",
       "      <td>fresh vegetables</td>\n",
       "      <td>produce</td>\n",
       "    </tr>\n",
       "    <tr>\n",
       "      <th>2</th>\n",
       "      <td>642668</td>\n",
       "      <td>196613</td>\n",
       "      <td>69</td>\n",
       "      <td>2</td>\n",
       "      <td>16</td>\n",
       "      <td>2.0</td>\n",
       "      <td>11</td>\n",
       "      <td>1</td>\n",
       "      <td>4210</td>\n",
       "      <td>Whole Milk</td>\n",
       "      <td>84</td>\n",
       "      <td>16</td>\n",
       "      <td>milk</td>\n",
       "      <td>dairy eggs</td>\n",
       "    </tr>\n",
       "    <tr>\n",
       "      <th>3</th>\n",
       "      <td>1326515</td>\n",
       "      <td>196613</td>\n",
       "      <td>61</td>\n",
       "      <td>3</td>\n",
       "      <td>19</td>\n",
       "      <td>3.0</td>\n",
       "      <td>3</td>\n",
       "      <td>1</td>\n",
       "      <td>4210</td>\n",
       "      <td>Whole Milk</td>\n",
       "      <td>84</td>\n",
       "      <td>16</td>\n",
       "      <td>milk</td>\n",
       "      <td>dairy eggs</td>\n",
       "    </tr>\n",
       "    <tr>\n",
       "      <th>4</th>\n",
       "      <td>1437845</td>\n",
       "      <td>196613</td>\n",
       "      <td>36</td>\n",
       "      <td>3</td>\n",
       "      <td>15</td>\n",
       "      <td>4.0</td>\n",
       "      <td>16</td>\n",
       "      <td>0</td>\n",
       "      <td>4210</td>\n",
       "      <td>Whole Milk</td>\n",
       "      <td>84</td>\n",
       "      <td>16</td>\n",
       "      <td>milk</td>\n",
       "      <td>dairy eggs</td>\n",
       "    </tr>\n",
       "  </tbody>\n",
       "</table>\n",
       "</div>"
      ],
      "text/plain": [
       "  order_id   cstno order_number week_day order_hour order_interval add_order  \\\n",
       "0   717029  196613           15        1          9            3.0         5   \n",
       "1  2325772  196613           35        6         11            2.0         7   \n",
       "2   642668  196613           69        2         16            2.0        11   \n",
       "3  1326515  196613           61        3         19            3.0         3   \n",
       "4  1437845  196613           36        3         15            4.0        16   \n",
       "\n",
       "  is_reordered product_id                     name category_id division_id  \\\n",
       "0            0      41220  Organic Romaine Lettuce          83           4   \n",
       "1            1      41220  Organic Romaine Lettuce          83           4   \n",
       "2            1       4210               Whole Milk          84          16   \n",
       "3            1       4210               Whole Milk          84          16   \n",
       "4            0       4210               Whole Milk          84          16   \n",
       "\n",
       "      category_name division_name  \n",
       "0  fresh vegetables       produce  \n",
       "1  fresh vegetables       produce  \n",
       "2              milk    dairy eggs  \n",
       "3              milk    dairy eggs  \n",
       "4              milk    dairy eggs  "
      ]
     },
     "execution_count": 10,
     "metadata": {},
     "output_type": "execute_result"
    }
   ],
   "source": [
    "EDA_data = EDA_data.merge(products_info,on='product_id',how='left')\n",
    "EDA_data.head(5)"
   ]
  },
  {
   "cell_type": "markdown",
   "id": "7ba6100a-010a-4a64-83d8-1ce678672eda",
   "metadata": {},
   "source": [
    "#### 상품별 구매 분포\n",
    "- banana, Bag of Organic Bananas, Organic Strawberries 순으로 가장 많이 주문함."
   ]
  },
  {
   "cell_type": "code",
   "execution_count": 11,
   "id": "9c79603f-923a-4fc8-ac74-aa353f8f7c7e",
   "metadata": {},
   "outputs": [
    {
     "data": {
      "image/png": "[encoded data removed]",
      "text/plain": [
       "<Figure size 1440x720 with 1 Axes>"
      ]
     },
     "metadata": {
      "needs_background": "light"
     },
     "output_type": "display_data"
    }
   ],
   "source": [
    "plt.figure(figsize=(20,10))\n",
    "EDA_data['name'].value_counts().plot(kind='bar',color='palevioletred')\n",
    "plt.show()"
   ]
  },
  {
   "cell_type": "markdown",
   "id": "377082e7-1339-4ecb-9961-7efc83da8c5a",
   "metadata": {},
   "source": [
    "#### 상품 카테고리별 구매 수 분포\n",
    "- fresh fruits, fresh vegetables, packeged vegetables fruits순으로 구매가 많음."
   ]
  },
  {
   "cell_type": "code",
   "execution_count": 12,
   "id": "6cdd55b5-53bd-4c02-b0f3-eb2db0473f36",
   "metadata": {},
   "outputs": [
    {
     "data": {
      "image/png": "[encoded data removed]",
      "text/plain": [
       "<Figure size 720x360 with 1 Axes>"
      ]
     },
     "metadata": {
      "needs_background": "light"
     },
     "output_type": "display_data"
    }
   ],
   "source": [
    "plt.figure(figsize=(10,5))\n",
    "EDA_data['category_name'].value_counts().plot(kind='bar',color='salmon')\n",
    "plt.show()"
   ]
  },
  {
   "cell_type": "markdown",
   "id": "98f3c45d-5af7-4fe2-840a-ff31205b0433",
   "metadata": {
    "tags": []
   },
   "source": [
    "#### 요일별 주문 건 수 분포\n",
    "- 일요일, 월요일이 구매가 많음."
   ]
  },
  {
   "cell_type": "code",
   "execution_count": 13,
   "id": "bd166336-f8dc-4676-9e58-c1330b633005",
   "metadata": {},
   "outputs": [
    {
     "data": {
      "image/png": "[encoded data removed]",
      "text/plain": [
       "<Figure size 720x360 with 1 Axes>"
      ]
     },
     "metadata": {
      "needs_background": "light"
     },
     "output_type": "display_data"
    }
   ],
   "source": [
    "EDA_data.loc[EDA_data.week_day=='0','week_day_cha'] = 'sun'\n",
    "EDA_data.loc[EDA_data.week_day=='1','week_day_cha'] = 'mon'\n",
    "EDA_data.loc[EDA_data.week_day=='2','week_day_cha'] = 'tue'\n",
    "EDA_data.loc[EDA_data.week_day=='3','week_day_cha'] = 'wed'\n",
    "EDA_data.loc[EDA_data.week_day=='4','week_day_cha'] = 'thu'\n",
    "EDA_data.loc[EDA_data.week_day=='5','week_day_cha'] = 'fri'\n",
    "EDA_data.loc[EDA_data.week_day=='6','week_day_cha'] = 'sat'\n",
    "\n",
    "plt.figure(figsize=(10,5))\n",
    "EDA_data['week_day_cha'].value_counts().plot(kind='bar',color='navajowhite')\n",
    "plt.show()"
   ]
  },
  {
   "cell_type": "markdown",
   "id": "9ab0157a-543c-4a8f-b167-6d3839aed918",
   "metadata": {
    "tags": []
   },
   "source": [
    "#### 시간대별 주문 건 수 분포\n",
    "- 10시, 9시, 11시 순, 8~16시로 몰려있음."
   ]
  },
  {
   "cell_type": "code",
   "execution_count": 14,
   "id": "4a08e948-0f93-41af-b92d-501495754d2f",
   "metadata": {},
   "outputs": [
    {
     "data": {
      "image/png": "[encoded data removed]",
      "text/plain": [
       "<Figure size 720x360 with 1 Axes>"
      ]
     },
     "metadata": {
      "needs_background": "light"
     },
     "output_type": "display_data"
    }
   ],
   "source": [
    "plt.figure(figsize=(10,5))\n",
    "EDA_data['order_hour'].value_counts().plot(kind='bar',color='lightblue')\n",
    "plt.show()"
   ]
  },
  {
   "cell_type": "markdown",
   "id": "844e9df8-18aa-42ae-883c-1d64c143576a",
   "metadata": {},
   "source": [
    "#### 유기농 구분\n",
    "- 유기농 주문 수가 더 많음."
   ]
  },
  {
   "cell_type": "code",
   "execution_count": 15,
   "id": "a83673cb-33ad-4f47-9052-856300894326",
   "metadata": {},
   "outputs": [
    {
     "data": {
      "image/png": "[encoded data removed]",
      "text/plain": [
       "<Figure size 720x360 with 1 Axes>"
      ]
     },
     "metadata": {
      "needs_background": "light"
     },
     "output_type": "display_data"
    }
   ],
   "source": [
    "EDA_data['is_organic'] = EDA_data['name'].str.contains('Organic')\n",
    "\n",
    "plt.figure(figsize=(10,5))\n",
    "EDA_data['is_organic'].value_counts().plot(kind='bar',color='darkseagreen')\n",
    "plt.show()"
   ]
  },
  {
   "cell_type": "markdown",
   "id": "b336852f-d85b-4070-9873-e9e3e626f925",
   "metadata": {},
   "source": [
    "#### 전체 재구매 비율 확인\n",
    "- 재구매가 1,550,480건으로, 전체 구매 중 85%를 차지"
   ]
  },
  {
   "cell_type": "code",
   "execution_count": 16,
   "id": "771237f2-98da-4ff0-971c-4757cd3da5f3",
   "metadata": {},
   "outputs": [
    {
     "data": {
      "text/plain": [
       "1    1550480\n",
       "0     269838\n",
       "Name: is_reordered, dtype: int64"
      ]
     },
     "execution_count": 16,
     "metadata": {},
     "output_type": "execute_result"
    }
   ],
   "source": [
    "EDA_data.is_reordered.value_counts()"
   ]
  },
  {
   "cell_type": "markdown",
   "id": "fe93f3d4-1712-44c7-b06c-df7b8f89bf1a",
   "metadata": {},
   "source": [
    "#### 10번 이상 주문한 고객 수 : 10,00명"
   ]
  },
  {
   "cell_type": "code",
   "execution_count": 17,
   "id": "b4be8a72-6a9e-43ed-8d95-dff51ca10a5f",
   "metadata": {
    "tags": []
   },
   "outputs": [
    {
     "data": {
      "text/plain": [
       "10000"
      ]
     },
     "execution_count": 17,
     "metadata": {},
     "output_type": "execute_result"
    }
   ],
   "source": [
    "a = EDA_data.groupby(['cstno'])['order_id'].count().reset_index()\n",
    "len(a.loc[a.order_id >= 10])"
   ]
  },
  {
   "cell_type": "markdown",
   "id": "d4d053f5-9417-4309-ba80-f6cd2ad9a593",
   "metadata": {},
   "source": [
    "#### 통계학적 특성 산출을 위해 컬럼을 int로 형전환\n",
    "- order_interval int로 바꾸기위한 전처리\n",
    "- 고객의 첫 구매시 order_interval   ''로 들어가 있음. (0으로 전환)"
   ]
  },
  {
   "cell_type": "code",
   "execution_count": 18,
   "id": "f7c6e020-eef4-4458-a5ef-2006613a1ca1",
   "metadata": {},
   "outputs": [
    {
     "data": {
      "text/html": [
       "<div>\n",
       "<style scoped>\n",
       "    .dataframe tbody tr th:only-of-type {\n",
       "        vertical-align: middle;\n",
       "    }\n",
       "\n",
       "    .dataframe tbody tr th {\n",
       "        vertical-align: top;\n",
       "    }\n",
       "\n",
       "    .dataframe thead th {\n",
       "        text-align: right;\n",
       "    }\n",
       "</style>\n",
       "<table border=\"1\" class=\"dataframe\">\n",
       "  <thead>\n",
       "    <tr style=\"text-align: right;\">\n",
       "      <th></th>\n",
       "      <th>order_id</th>\n",
       "      <th>cstno</th>\n",
       "      <th>order_number</th>\n",
       "      <th>week_day</th>\n",
       "      <th>order_hour</th>\n",
       "      <th>order_interval</th>\n",
       "      <th>add_order</th>\n",
       "      <th>is_reordered</th>\n",
       "      <th>product_id</th>\n",
       "      <th>name</th>\n",
       "      <th>category_id</th>\n",
       "      <th>division_id</th>\n",
       "      <th>category_name</th>\n",
       "      <th>division_name</th>\n",
       "      <th>week_day_cha</th>\n",
       "      <th>is_organic</th>\n",
       "    </tr>\n",
       "  </thead>\n",
       "  <tbody>\n",
       "    <tr>\n",
       "      <th>57</th>\n",
       "      <td>1175721</td>\n",
       "      <td>196613</td>\n",
       "      <td>1</td>\n",
       "      <td>6</td>\n",
       "      <td>13</td>\n",
       "      <td></td>\n",
       "      <td>10</td>\n",
       "      <td>0</td>\n",
       "      <td>24184</td>\n",
       "      <td>Red Peppers</td>\n",
       "      <td>83</td>\n",
       "      <td>4</td>\n",
       "      <td>fresh vegetables</td>\n",
       "      <td>produce</td>\n",
       "      <td>sat</td>\n",
       "      <td>False</td>\n",
       "    </tr>\n",
       "    <tr>\n",
       "      <th>112</th>\n",
       "      <td>1175721</td>\n",
       "      <td>196613</td>\n",
       "      <td>1</td>\n",
       "      <td>6</td>\n",
       "      <td>13</td>\n",
       "      <td></td>\n",
       "      <td>5</td>\n",
       "      <td>0</td>\n",
       "      <td>17794</td>\n",
       "      <td>Carrots</td>\n",
       "      <td>83</td>\n",
       "      <td>4</td>\n",
       "      <td>fresh vegetables</td>\n",
       "      <td>produce</td>\n",
       "      <td>sat</td>\n",
       "      <td>False</td>\n",
       "    </tr>\n",
       "    <tr>\n",
       "      <th>185</th>\n",
       "      <td>1175721</td>\n",
       "      <td>196613</td>\n",
       "      <td>1</td>\n",
       "      <td>6</td>\n",
       "      <td>13</td>\n",
       "      <td></td>\n",
       "      <td>8</td>\n",
       "      <td>0</td>\n",
       "      <td>24852</td>\n",
       "      <td>Banana</td>\n",
       "      <td>24</td>\n",
       "      <td>4</td>\n",
       "      <td>fresh fruits</td>\n",
       "      <td>produce</td>\n",
       "      <td>sat</td>\n",
       "      <td>False</td>\n",
       "    </tr>\n",
       "    <tr>\n",
       "      <th>1278142</th>\n",
       "      <td>2414402</td>\n",
       "      <td>196613</td>\n",
       "      <td>100</td>\n",
       "      <td>6</td>\n",
       "      <td>13</td>\n",
       "      <td>5.0</td>\n",
       "      <td>1</td>\n",
       "      <td>1</td>\n",
       "      <td>24852</td>\n",
       "      <td>Banana</td>\n",
       "      <td>24</td>\n",
       "      <td>4</td>\n",
       "      <td>fresh fruits</td>\n",
       "      <td>produce</td>\n",
       "      <td>sat</td>\n",
       "      <td>False</td>\n",
       "    </tr>\n",
       "    <tr>\n",
       "      <th>1255604</th>\n",
       "      <td>2414402</td>\n",
       "      <td>196613</td>\n",
       "      <td>100</td>\n",
       "      <td>6</td>\n",
       "      <td>13</td>\n",
       "      <td>5.0</td>\n",
       "      <td>4</td>\n",
       "      <td>1</td>\n",
       "      <td>43122</td>\n",
       "      <td>Organic Bartlett Pear</td>\n",
       "      <td>24</td>\n",
       "      <td>4</td>\n",
       "      <td>fresh fruits</td>\n",
       "      <td>produce</td>\n",
       "      <td>sat</td>\n",
       "      <td>True</td>\n",
       "    </tr>\n",
       "  </tbody>\n",
       "</table>\n",
       "</div>"
      ],
      "text/plain": [
       "        order_id   cstno order_number week_day order_hour order_interval  \\\n",
       "57       1175721  196613            1        6         13                  \n",
       "112      1175721  196613            1        6         13                  \n",
       "185      1175721  196613            1        6         13                  \n",
       "1278142  2414402  196613          100        6         13            5.0   \n",
       "1255604  2414402  196613          100        6         13            5.0   \n",
       "\n",
       "        add_order is_reordered product_id                   name category_id  \\\n",
       "57             10            0      24184            Red Peppers          83   \n",
       "112             5            0      17794                Carrots          83   \n",
       "185             8            0      24852                 Banana          24   \n",
       "1278142         1            1      24852                 Banana          24   \n",
       "1255604         4            1      43122  Organic Bartlett Pear          24   \n",
       "\n",
       "        division_id     category_name division_name week_day_cha  is_organic  \n",
       "57                4  fresh vegetables       produce          sat       False  \n",
       "112               4  fresh vegetables       produce          sat       False  \n",
       "185               4      fresh fruits       produce          sat       False  \n",
       "1278142           4      fresh fruits       produce          sat       False  \n",
       "1255604           4      fresh fruits       produce          sat        True  "
      ]
     },
     "execution_count": 18,
     "metadata": {},
     "output_type": "execute_result"
    }
   ],
   "source": [
    "EDA_data.loc[EDA_data.cstno == '196613'].sort_values(['order_number','add_order'],ascending=[True,True]).head(5)"
   ]
  },
  {
   "cell_type": "code",
   "execution_count": 19,
   "id": "23585ad1-f5e7-44d2-8902-667a9ded38b4",
   "metadata": {},
   "outputs": [],
   "source": [
    "EDA_data.order_interval = EDA_data.order_interval.apply(lambda x : x[:-2])\n",
    "EDA_data.order_interval.replace('','0',inplace=True)"
   ]
  },
  {
   "cell_type": "code",
   "execution_count": 20,
   "id": "cbfd696e-0ab1-42a8-90cc-735f7e135799",
   "metadata": {},
   "outputs": [
    {
     "data": {
      "text/html": [
       "<div>\n",
       "<style scoped>\n",
       "    .dataframe tbody tr th:only-of-type {\n",
       "        vertical-align: middle;\n",
       "    }\n",
       "\n",
       "    .dataframe tbody tr th {\n",
       "        vertical-align: top;\n",
       "    }\n",
       "\n",
       "    .dataframe thead th {\n",
       "        text-align: right;\n",
       "    }\n",
       "</style>\n",
       "<table border=\"1\" class=\"dataframe\">\n",
       "  <thead>\n",
       "    <tr style=\"text-align: right;\">\n",
       "      <th></th>\n",
       "      <th>order_id</th>\n",
       "      <th>cstno</th>\n",
       "      <th>order_number</th>\n",
       "      <th>week_day</th>\n",
       "      <th>order_hour</th>\n",
       "      <th>order_interval</th>\n",
       "      <th>add_order</th>\n",
       "      <th>is_reordered</th>\n",
       "      <th>product_id</th>\n",
       "      <th>name</th>\n",
       "      <th>category_id</th>\n",
       "      <th>division_id</th>\n",
       "      <th>category_name</th>\n",
       "      <th>division_name</th>\n",
       "      <th>week_day_cha</th>\n",
       "      <th>is_organic</th>\n",
       "    </tr>\n",
       "  </thead>\n",
       "  <tbody>\n",
       "    <tr>\n",
       "      <th>57</th>\n",
       "      <td>1175721</td>\n",
       "      <td>196613</td>\n",
       "      <td>1</td>\n",
       "      <td>6</td>\n",
       "      <td>13</td>\n",
       "      <td>0</td>\n",
       "      <td>10</td>\n",
       "      <td>0</td>\n",
       "      <td>24184</td>\n",
       "      <td>Red Peppers</td>\n",
       "      <td>83</td>\n",
       "      <td>4</td>\n",
       "      <td>fresh vegetables</td>\n",
       "      <td>produce</td>\n",
       "      <td>sat</td>\n",
       "      <td>False</td>\n",
       "    </tr>\n",
       "    <tr>\n",
       "      <th>112</th>\n",
       "      <td>1175721</td>\n",
       "      <td>196613</td>\n",
       "      <td>1</td>\n",
       "      <td>6</td>\n",
       "      <td>13</td>\n",
       "      <td>0</td>\n",
       "      <td>5</td>\n",
       "      <td>0</td>\n",
       "      <td>17794</td>\n",
       "      <td>Carrots</td>\n",
       "      <td>83</td>\n",
       "      <td>4</td>\n",
       "      <td>fresh vegetables</td>\n",
       "      <td>produce</td>\n",
       "      <td>sat</td>\n",
       "      <td>False</td>\n",
       "    </tr>\n",
       "    <tr>\n",
       "      <th>185</th>\n",
       "      <td>1175721</td>\n",
       "      <td>196613</td>\n",
       "      <td>1</td>\n",
       "      <td>6</td>\n",
       "      <td>13</td>\n",
       "      <td>0</td>\n",
       "      <td>8</td>\n",
       "      <td>0</td>\n",
       "      <td>24852</td>\n",
       "      <td>Banana</td>\n",
       "      <td>24</td>\n",
       "      <td>4</td>\n",
       "      <td>fresh fruits</td>\n",
       "      <td>produce</td>\n",
       "      <td>sat</td>\n",
       "      <td>False</td>\n",
       "    </tr>\n",
       "    <tr>\n",
       "      <th>1278142</th>\n",
       "      <td>2414402</td>\n",
       "      <td>196613</td>\n",
       "      <td>100</td>\n",
       "      <td>6</td>\n",
       "      <td>13</td>\n",
       "      <td>5</td>\n",
       "      <td>1</td>\n",
       "      <td>1</td>\n",
       "      <td>24852</td>\n",
       "      <td>Banana</td>\n",
       "      <td>24</td>\n",
       "      <td>4</td>\n",
       "      <td>fresh fruits</td>\n",
       "      <td>produce</td>\n",
       "      <td>sat</td>\n",
       "      <td>False</td>\n",
       "    </tr>\n",
       "    <tr>\n",
       "      <th>1255604</th>\n",
       "      <td>2414402</td>\n",
       "      <td>196613</td>\n",
       "      <td>100</td>\n",
       "      <td>6</td>\n",
       "      <td>13</td>\n",
       "      <td>5</td>\n",
       "      <td>4</td>\n",
       "      <td>1</td>\n",
       "      <td>43122</td>\n",
       "      <td>Organic Bartlett Pear</td>\n",
       "      <td>24</td>\n",
       "      <td>4</td>\n",
       "      <td>fresh fruits</td>\n",
       "      <td>produce</td>\n",
       "      <td>sat</td>\n",
       "      <td>True</td>\n",
       "    </tr>\n",
       "  </tbody>\n",
       "</table>\n",
       "</div>"
      ],
      "text/plain": [
       "        order_id   cstno order_number week_day order_hour order_interval  \\\n",
       "57       1175721  196613            1        6         13              0   \n",
       "112      1175721  196613            1        6         13              0   \n",
       "185      1175721  196613            1        6         13              0   \n",
       "1278142  2414402  196613          100        6         13              5   \n",
       "1255604  2414402  196613          100        6         13              5   \n",
       "\n",
       "        add_order is_reordered product_id                   name category_id  \\\n",
       "57             10            0      24184            Red Peppers          83   \n",
       "112             5            0      17794                Carrots          83   \n",
       "185             8            0      24852                 Banana          24   \n",
       "1278142         1            1      24852                 Banana          24   \n",
       "1255604         4            1      43122  Organic Bartlett Pear          24   \n",
       "\n",
       "        division_id     category_name division_name week_day_cha  is_organic  \n",
       "57                4  fresh vegetables       produce          sat       False  \n",
       "112               4  fresh vegetables       produce          sat       False  \n",
       "185               4      fresh fruits       produce          sat       False  \n",
       "1278142           4      fresh fruits       produce          sat       False  \n",
       "1255604           4      fresh fruits       produce          sat        True  "
      ]
     },
     "execution_count": 20,
     "metadata": {},
     "output_type": "execute_result"
    }
   ],
   "source": [
    "EDA_data.loc[EDA_data.cstno == '196613'].sort_values(['order_number','add_order'],ascending=[True,True]).head(5)"
   ]
  },
  {
   "cell_type": "code",
   "execution_count": 21,
   "id": "2535d404-c660-4e3d-8c8a-c73c9933e71c",
   "metadata": {},
   "outputs": [],
   "source": [
    "for column in ['order_number','week_day','order_hour','order_interval','add_order','is_reordered'] :\n",
    "    EDA_data[f'{column}'] = EDA_data[f'{column}'].astype('int')"
   ]
  },
  {
   "cell_type": "markdown",
   "id": "5fe0d8f1-3243-469e-a061-f07bd08753b2",
   "metadata": {
    "tags": []
   },
   "source": [
    "# 02. 유의미한 파생 변수 생성"
   ]
  },
  {
   "cell_type": "markdown",
   "id": "0ccc4c6e-c9d1-4644-8f69-4f6af566683c",
   "metadata": {
    "tags": []
   },
   "source": [
    "## 1. TRAIN"
   ]
  },
  {
   "cell_type": "code",
   "execution_count": 22,
   "id": "55f7ee26-c68d-4a7d-9202-5e4138839850",
   "metadata": {},
   "outputs": [],
   "source": [
    "train_past = m._read_table('train_x_past')"
   ]
  },
  {
   "cell_type": "code",
   "execution_count": 23,
   "id": "71e86c26-8e9c-4af7-832d-02ddb59f6793",
   "metadata": {},
   "outputs": [],
   "source": [
    "train_y_current = m._read_table('train_y')"
   ]
  },
  {
   "cell_type": "code",
   "execution_count": 24,
   "id": "b97de01a-0a37-4610-ba78-4df3ce6a5d6b",
   "metadata": {},
   "outputs": [],
   "source": [
    "train_x_current = m._read_table('train_x_current')"
   ]
  },
  {
   "cell_type": "code",
   "execution_count": 25,
   "id": "170af780-4e54-416f-9f96-08af62b4d651",
   "metadata": {},
   "outputs": [],
   "source": [
    "train_current = m.pd.concat([train_x_current,train_y_current],axis=1)"
   ]
  },
  {
   "cell_type": "code",
   "execution_count": 26,
   "id": "54b398b7-e6b4-4086-8a80-d41d39594de1",
   "metadata": {},
   "outputs": [],
   "source": [
    "train = m.pd.concat([train_past,train_current],axis=0)"
   ]
  },
  {
   "cell_type": "code",
   "execution_count": 27,
   "id": "069e6e17-d12f-4093-a298-5deb46a1a2ab",
   "metadata": {},
   "outputs": [],
   "source": [
    "test = m._read_table('test_x_past')"
   ]
  },
  {
   "cell_type": "code",
   "execution_count": 28,
   "id": "f825fd78-c058-4b5f-a650-f593c8129d77",
   "metadata": {},
   "outputs": [],
   "source": [
    "train.order_interval = train.order_interval.apply(lambda x : x[:-2])\n",
    "train.order_interval.replace('','0',inplace=True)"
   ]
  },
  {
   "cell_type": "code",
   "execution_count": 29,
   "id": "64b3f305-64a2-4b8a-8fe7-eeace13f719f",
   "metadata": {},
   "outputs": [],
   "source": [
    "for column in ['order_number','week_day','order_hour','order_interval','add_order','is_reordered'] :\n",
    "    train[f'{column}'] = train[f'{column}'].astype('int')"
   ]
  },
  {
   "cell_type": "code",
   "execution_count": 30,
   "id": "890e07a3-0b46-4ac6-9273-a82acb6773a1",
   "metadata": {},
   "outputs": [],
   "source": [
    "test.order_interval = test.order_interval.apply(lambda x : x[:-2])\n",
    "test.order_interval.replace('','0',inplace=True)"
   ]
  },
  {
   "cell_type": "code",
   "execution_count": 31,
   "id": "de59bcf1-9f33-440b-a2c6-bce15e1aea13",
   "metadata": {},
   "outputs": [],
   "source": [
    "for column in ['order_number','week_day','order_hour','order_interval','add_order','is_reordered'] :\n",
    "    test[f'{column}'] = test[f'{column}'].astype('int')"
   ]
  },
  {
   "cell_type": "markdown",
   "id": "9e772ae5-9be9-4fec-a3a0-69c278822d14",
   "metadata": {
    "tags": []
   },
   "source": [
    "### ⅰ.상품별 통계학적 특성 (products_stat)"
   ]
  },
  {
   "cell_type": "markdown",
   "id": "1ad33560-b02c-48b4-885f-906f15e446f9",
   "metadata": {},
   "source": [
    "- 고객/상품별로 구매횟수 컬럼 생성 (product_time)"
   ]
  },
  {
   "cell_type": "code",
   "execution_count": 32,
   "id": "8dc9dc1c-16b5-413e-9ddb-5055d639b1ea",
   "metadata": {},
   "outputs": [],
   "source": [
    "train['product_time'] = train.groupby(['cstno','product_id'])['order_number'].rank(method='min',ascending=False)"
   ]
  },
  {
   "cell_type": "code",
   "execution_count": 33,
   "id": "7d27d7e8-ee77-4041-8c93-0eb8eabbd67d",
   "metadata": {},
   "outputs": [
    {
     "data": {
      "text/html": [
       "<div>\n",
       "<style scoped>\n",
       "    .dataframe tbody tr th:only-of-type {\n",
       "        vertical-align: middle;\n",
       "    }\n",
       "\n",
       "    .dataframe tbody tr th {\n",
       "        vertical-align: top;\n",
       "    }\n",
       "\n",
       "    .dataframe thead th {\n",
       "        text-align: right;\n",
       "    }\n",
       "</style>\n",
       "<table border=\"1\" class=\"dataframe\">\n",
       "  <thead>\n",
       "    <tr style=\"text-align: right;\">\n",
       "      <th></th>\n",
       "      <th>order_id</th>\n",
       "      <th>cstno</th>\n",
       "      <th>order_number</th>\n",
       "      <th>week_day</th>\n",
       "      <th>order_hour</th>\n",
       "      <th>order_interval</th>\n",
       "      <th>add_order</th>\n",
       "      <th>is_reordered</th>\n",
       "      <th>product_id</th>\n",
       "      <th>product_time</th>\n",
       "    </tr>\n",
       "  </thead>\n",
       "  <tbody>\n",
       "    <tr>\n",
       "      <th>423346</th>\n",
       "      <td>1990815</td>\n",
       "      <td>10000</td>\n",
       "      <td>71</td>\n",
       "      <td>1</td>\n",
       "      <td>13</td>\n",
       "      <td>2</td>\n",
       "      <td>8</td>\n",
       "      <td>1</td>\n",
       "      <td>10749</td>\n",
       "      <td>1.0</td>\n",
       "    </tr>\n",
       "    <tr>\n",
       "      <th>423340</th>\n",
       "      <td>343340</td>\n",
       "      <td>10000</td>\n",
       "      <td>67</td>\n",
       "      <td>0</td>\n",
       "      <td>12</td>\n",
       "      <td>8</td>\n",
       "      <td>4</td>\n",
       "      <td>1</td>\n",
       "      <td>10749</td>\n",
       "      <td>2.0</td>\n",
       "    </tr>\n",
       "    <tr>\n",
       "      <th>423348</th>\n",
       "      <td>2477429</td>\n",
       "      <td>10000</td>\n",
       "      <td>61</td>\n",
       "      <td>2</td>\n",
       "      <td>8</td>\n",
       "      <td>6</td>\n",
       "      <td>3</td>\n",
       "      <td>1</td>\n",
       "      <td>10749</td>\n",
       "      <td>3.0</td>\n",
       "    </tr>\n",
       "    <tr>\n",
       "      <th>423338</th>\n",
       "      <td>193643</td>\n",
       "      <td>10000</td>\n",
       "      <td>56</td>\n",
       "      <td>0</td>\n",
       "      <td>7</td>\n",
       "      <td>10</td>\n",
       "      <td>6</td>\n",
       "      <td>1</td>\n",
       "      <td>10749</td>\n",
       "      <td>4.0</td>\n",
       "    </tr>\n",
       "    <tr>\n",
       "      <th>423342</th>\n",
       "      <td>664258</td>\n",
       "      <td>10000</td>\n",
       "      <td>49</td>\n",
       "      <td>0</td>\n",
       "      <td>11</td>\n",
       "      <td>7</td>\n",
       "      <td>6</td>\n",
       "      <td>1</td>\n",
       "      <td>10749</td>\n",
       "      <td>5.0</td>\n",
       "    </tr>\n",
       "  </tbody>\n",
       "</table>\n",
       "</div>"
      ],
      "text/plain": [
       "       order_id  cstno  order_number  week_day  order_hour  order_interval  \\\n",
       "423346  1990815  10000            71         1          13               2   \n",
       "423340   343340  10000            67         0          12               8   \n",
       "423348  2477429  10000            61         2           8               6   \n",
       "423338   193643  10000            56         0           7              10   \n",
       "423342   664258  10000            49         0          11               7   \n",
       "\n",
       "        add_order  is_reordered product_id  product_time  \n",
       "423346          8             1      10749           1.0  \n",
       "423340          4             1      10749           2.0  \n",
       "423348          3             1      10749           3.0  \n",
       "423338          6             1      10749           4.0  \n",
       "423342          6             1      10749           5.0  "
      ]
     },
     "execution_count": 33,
     "metadata": {},
     "output_type": "execute_result"
    }
   ],
   "source": [
    "train.sort_values(['cstno','product_id','product_time'],ascending=True).head(5)"
   ]
  },
  {
   "cell_type": "markdown",
   "id": "ee8082d3-1d4f-41bd-8903-d8285d1b4125",
   "metadata": {
    "tags": []
   },
   "source": [
    "#### 상품별 재구매비율 계산\n",
    "- Banana, Organic Reduced Fat Milk, Bag of Organic Bananas, Soda 순으로 높음."
   ]
  },
  {
   "cell_type": "code",
   "execution_count": 34,
   "id": "376c7a90-371c-4dc9-b8fb-c72f1471cedb",
   "metadata": {},
   "outputs": [],
   "source": [
    "# 해당 상품의 구매빈도 (prod_N)\n",
    "products_stat_train = train.product_id.value_counts().reset_index().rename(columns={'index':'product_id','product_id':'prod_N'})"
   ]
  },
  {
   "cell_type": "code",
   "execution_count": 35,
   "id": "d65652c3-b14d-4879-9608-147c9cc48b3d",
   "metadata": {},
   "outputs": [],
   "source": [
    "products_stat_train = products_stat_train.merge(products_info[['product_id','name']],on='product_id',how='left')"
   ]
  },
  {
   "cell_type": "code",
   "execution_count": 36,
   "id": "eeaf4a9a-411d-4cd3-b713-091ee815e0e2",
   "metadata": {},
   "outputs": [],
   "source": [
    "b = train.groupby(['product_id'])['is_reordered'].sum().reset_index().rename(columns={'index':'product_id','is_reordered':'a'})"
   ]
  },
  {
   "cell_type": "code",
   "execution_count": 37,
   "id": "eae345bd-ecc9-4946-89a2-d224ba665de4",
   "metadata": {},
   "outputs": [],
   "source": [
    "products_stat_train = products_stat_train.merge(b,on='product_id',how='left')"
   ]
  },
  {
   "cell_type": "code",
   "execution_count": 38,
   "id": "cd0c6aff-37b8-4e64-8de4-ebd46ee3e4c2",
   "metadata": {},
   "outputs": [],
   "source": [
    "# 해당상품의 전체 판매 중 재구매에 의한 판매 비율 (prod_ReorderedRatio)\n",
    "products_stat_train['prod_ReorderedRatio'] = products_stat_train.a/products_stat_train.prod_N"
   ]
  },
  {
   "cell_type": "code",
   "execution_count": 39,
   "id": "a6d356b9-bca8-4f52-b55f-734f9d9cf20b",
   "metadata": {},
   "outputs": [],
   "source": [
    "products_stat_train.drop(columns='a',inplace=True)"
   ]
  },
  {
   "cell_type": "code",
   "execution_count": 40,
   "id": "ec46ce4c-b831-4234-88d8-7def7097a010",
   "metadata": {},
   "outputs": [
    {
     "data": {
      "text/html": [
       "<div>\n",
       "<style scoped>\n",
       "    .dataframe tbody tr th:only-of-type {\n",
       "        vertical-align: middle;\n",
       "    }\n",
       "\n",
       "    .dataframe tbody tr th {\n",
       "        vertical-align: top;\n",
       "    }\n",
       "\n",
       "    .dataframe thead th {\n",
       "        text-align: right;\n",
       "    }\n",
       "</style>\n",
       "<table border=\"1\" class=\"dataframe\">\n",
       "  <thead>\n",
       "    <tr style=\"text-align: right;\">\n",
       "      <th></th>\n",
       "      <th>product_id</th>\n",
       "      <th>prod_N</th>\n",
       "      <th>name</th>\n",
       "      <th>prod_ReorderedRatio</th>\n",
       "    </tr>\n",
       "  </thead>\n",
       "  <tbody>\n",
       "    <tr>\n",
       "      <th>0</th>\n",
       "      <td>24852</td>\n",
       "      <td>76026</td>\n",
       "      <td>Banana</td>\n",
       "      <td>0.952582</td>\n",
       "    </tr>\n",
       "    <tr>\n",
       "      <th>1</th>\n",
       "      <td>13176</td>\n",
       "      <td>68949</td>\n",
       "      <td>Bag of Organic Bananas</td>\n",
       "      <td>0.942987</td>\n",
       "    </tr>\n",
       "    <tr>\n",
       "      <th>54</th>\n",
       "      <td>38689</td>\n",
       "      <td>8988</td>\n",
       "      <td>Organic Reduced Fat Milk</td>\n",
       "      <td>0.942813</td>\n",
       "    </tr>\n",
       "    <tr>\n",
       "      <th>99</th>\n",
       "      <td>196</td>\n",
       "      <td>2754</td>\n",
       "      <td>Soda</td>\n",
       "      <td>0.936819</td>\n",
       "    </tr>\n",
       "    <tr>\n",
       "      <th>5</th>\n",
       "      <td>27845</td>\n",
       "      <td>30274</td>\n",
       "      <td>Organic Whole Milk</td>\n",
       "      <td>0.933474</td>\n",
       "    </tr>\n",
       "  </tbody>\n",
       "</table>\n",
       "</div>"
      ],
      "text/plain": [
       "   product_id  prod_N                      name  prod_ReorderedRatio\n",
       "0       24852   76026                    Banana             0.952582\n",
       "1       13176   68949    Bag of Organic Bananas             0.942987\n",
       "54      38689    8988  Organic Reduced Fat Milk             0.942813\n",
       "99        196    2754                      Soda             0.936819\n",
       "5       27845   30274        Organic Whole Milk             0.933474"
      ]
     },
     "execution_count": 40,
     "metadata": {},
     "output_type": "execute_result"
    }
   ],
   "source": [
    "products_stat_train.sort_values(['prod_ReorderedRatio'],ascending=False).head(5)"
   ]
  },
  {
   "cell_type": "markdown",
   "id": "ae02b1f5-7e65-4e10-b8b7-0018f26b64ca",
   "metadata": {
    "tags": []
   },
   "source": [
    "#### 상품별 재구매확률 계산\n",
    " - Organic Strawberries, Bag of Organic Bananas, Banana 순으로 높음"
   ]
  },
  {
   "cell_type": "code",
   "execution_count": 41,
   "id": "2158abd1-4d2d-4c66-827f-75d6d555d979",
   "metadata": {},
   "outputs": [],
   "source": [
    "b=train.groupby(['product_id','product_time'],as_index=False)['order_id'].count()"
   ]
  },
  {
   "cell_type": "code",
   "execution_count": 42,
   "id": "842ce9de-cf7d-4ba2-841a-500e491a6713",
   "metadata": {},
   "outputs": [],
   "source": [
    "# 해당 상품을 처음 구매한 고객 수(prod_FirstOrders)\n",
    "b_1 = b.loc[b.product_time == 1].rename(columns={'order_id':'prod_FirstOrders'})"
   ]
  },
  {
   "cell_type": "code",
   "execution_count": 43,
   "id": "3d862fda-9cda-4669-b6d0-6f309cf1110d",
   "metadata": {},
   "outputs": [],
   "source": [
    "b_2 = b.loc[b.product_time == 2]"
   ]
  },
  {
   "cell_type": "code",
   "execution_count": 44,
   "id": "cbca831f-8925-45ef-ba4e-bd401e2e98ff",
   "metadata": {},
   "outputs": [],
   "source": [
    "b = b_1.merge(b_2,on='product_id',how='left')"
   ]
  },
  {
   "cell_type": "code",
   "execution_count": 45,
   "id": "b4cd78a4-b43d-4e16-b56f-20b2640a8165",
   "metadata": {},
   "outputs": [],
   "source": [
    "# 해당 상품을 재구매할 확률(prod_ReorderedProb)\n",
    "b['prod_ReorderedProb'] = b.order_id/b.prod_FirstOrders"
   ]
  },
  {
   "cell_type": "code",
   "execution_count": 46,
   "id": "b7d4b05d-4a3a-48af-9fd0-c6866295b33a",
   "metadata": {},
   "outputs": [],
   "source": [
    "products_stat_train = products_stat_train.merge(b[['product_id','prod_FirstOrders','prod_ReorderedProb']],on='product_id',how='left')"
   ]
  },
  {
   "cell_type": "code",
   "execution_count": 47,
   "id": "1c1dd9c2-165c-465c-b739-79d4218bf840",
   "metadata": {},
   "outputs": [
    {
     "data": {
      "text/html": [
       "<div>\n",
       "<style scoped>\n",
       "    .dataframe tbody tr th:only-of-type {\n",
       "        vertical-align: middle;\n",
       "    }\n",
       "\n",
       "    .dataframe tbody tr th {\n",
       "        vertical-align: top;\n",
       "    }\n",
       "\n",
       "    .dataframe thead th {\n",
       "        text-align: right;\n",
       "    }\n",
       "</style>\n",
       "<table border=\"1\" class=\"dataframe\">\n",
       "  <thead>\n",
       "    <tr style=\"text-align: right;\">\n",
       "      <th></th>\n",
       "      <th>product_id</th>\n",
       "      <th>prod_N</th>\n",
       "      <th>name</th>\n",
       "      <th>prod_ReorderedRatio</th>\n",
       "      <th>prod_FirstOrders</th>\n",
       "      <th>prod_ReorderedProb</th>\n",
       "    </tr>\n",
       "  </thead>\n",
       "  <tbody>\n",
       "    <tr>\n",
       "      <th>2</th>\n",
       "      <td>21137</td>\n",
       "      <td>54032</td>\n",
       "      <td>Organic Strawberries</td>\n",
       "      <td>0.918215</td>\n",
       "      <td>4419</td>\n",
       "      <td>0.894773</td>\n",
       "    </tr>\n",
       "    <tr>\n",
       "      <th>1</th>\n",
       "      <td>13176</td>\n",
       "      <td>68949</td>\n",
       "      <td>Bag of Organic Bananas</td>\n",
       "      <td>0.942987</td>\n",
       "      <td>3931</td>\n",
       "      <td>0.885271</td>\n",
       "    </tr>\n",
       "    <tr>\n",
       "      <th>0</th>\n",
       "      <td>24852</td>\n",
       "      <td>76026</td>\n",
       "      <td>Banana</td>\n",
       "      <td>0.952582</td>\n",
       "      <td>3605</td>\n",
       "      <td>0.878225</td>\n",
       "    </tr>\n",
       "    <tr>\n",
       "      <th>4</th>\n",
       "      <td>21903</td>\n",
       "      <td>40795</td>\n",
       "      <td>Organic Baby Spinach</td>\n",
       "      <td>0.909621</td>\n",
       "      <td>3687</td>\n",
       "      <td>0.868999</td>\n",
       "    </tr>\n",
       "    <tr>\n",
       "      <th>3</th>\n",
       "      <td>47209</td>\n",
       "      <td>43298</td>\n",
       "      <td>Organic Hass Avocado</td>\n",
       "      <td>0.919511</td>\n",
       "      <td>3485</td>\n",
       "      <td>0.867145</td>\n",
       "    </tr>\n",
       "  </tbody>\n",
       "</table>\n",
       "</div>"
      ],
      "text/plain": [
       "  product_id  prod_N                    name  prod_ReorderedRatio  \\\n",
       "2      21137   54032    Organic Strawberries             0.918215   \n",
       "1      13176   68949  Bag of Organic Bananas             0.942987   \n",
       "0      24852   76026                  Banana             0.952582   \n",
       "4      21903   40795    Organic Baby Spinach             0.909621   \n",
       "3      47209   43298    Organic Hass Avocado             0.919511   \n",
       "\n",
       "   prod_FirstOrders  prod_ReorderedProb  \n",
       "2              4419            0.894773  \n",
       "1              3931            0.885271  \n",
       "0              3605            0.878225  \n",
       "4              3687            0.868999  \n",
       "3              3485            0.867145  "
      ]
     },
     "execution_count": 47,
     "metadata": {},
     "output_type": "execute_result"
    }
   ],
   "source": [
    "products_stat_train.sort_values(['prod_ReorderedProb'],ascending=False).head(5)"
   ]
  },
  {
   "cell_type": "markdown",
   "id": "cebda1b3-4b11-4389-b69d-f89c62ea129c",
   "metadata": {
    "tags": []
   },
   "source": [
    "#### 중위수 이용\n",
    "- 해당상품이 주로 주문되는 시간(prod_OrderedTime)\n",
    "- 해당상품의 재주문 기간(prod_ReorderedPeriod)\n",
    "- 해당 상품이 주로 장바구니에 담기는 순서(prod_CartOrder)"
   ]
  },
  {
   "cell_type": "code",
   "execution_count": 48,
   "id": "a643d2c5-2283-4425-b263-0bbe9510c8ee",
   "metadata": {},
   "outputs": [
    {
     "name": "stderr",
     "output_type": "stream",
     "text": [
      "/opt/conda/envs/python3.6/lib/python3.6/site-packages/ipykernel_launcher.py:1: FutureWarning: Indexing with multiple keys (implicitly converted to a tuple of keys) will be deprecated, use a list instead.\n",
      "  \"\"\"Entry point for launching an IPython kernel.\n"
     ]
    }
   ],
   "source": [
    "b = train.groupby(['product_id'],as_index=False)['order_hour','order_interval','add_order'].median().rename(columns={'order_hour':'prod_OrderedTime','order_interval':'prod_ReorderedPeriod','add_order':'prod_CartOrder'})"
   ]
  },
  {
   "cell_type": "code",
   "execution_count": 49,
   "id": "913c73ec-9b79-4509-8bf0-9dc4828118e8",
   "metadata": {},
   "outputs": [],
   "source": [
    "products_stat_train= products_stat_train.merge(b[['product_id','prod_OrderedTime','prod_ReorderedPeriod','prod_CartOrder']],on='product_id',how='left').reset_index(drop=True)"
   ]
  },
  {
   "cell_type": "code",
   "execution_count": 50,
   "id": "a5fcbab9-14de-4efb-bf42-b7ba7f2df357",
   "metadata": {},
   "outputs": [],
   "source": [
    "products_stat_train.drop(columns='name',inplace=True)"
   ]
  },
  {
   "cell_type": "markdown",
   "id": "d4f2bc02-8c0d-4df6-b2f0-0415e79b9f05",
   "metadata": {
    "tags": []
   },
   "source": [
    "### ⅱ. 고객의 통계 정보 및 주문 정보 (users_stat)"
   ]
  },
  {
   "cell_type": "code",
   "execution_count": 51,
   "id": "cf965606-5bb8-4e04-9395-4c84cd654d86",
   "metadata": {},
   "outputs": [],
   "source": [
    "# 고객별 총 주문 횟수 & 평균 주문간격 & 상품의 개수\n",
    "users_stat_train = train.groupby('cstno',as_index=False).agg({'order_id':'count', 'order_interval':'mean'})"
   ]
  },
  {
   "cell_type": "code",
   "execution_count": 52,
   "id": "9e8cdf6f-d590-40ff-a8b6-7d6990e8a32b",
   "metadata": {},
   "outputs": [],
   "source": [
    "# 고객별 주문한 상품의 개수\n",
    "a = train.groupby(['cstno'],as_index=False)['product_id'].nunique().rename(columns={'product_id':'pl_N'})"
   ]
  },
  {
   "cell_type": "code",
   "execution_count": 53,
   "id": "aac47c35-fec8-493f-bbab-a50bf73e98a2",
   "metadata": {},
   "outputs": [],
   "source": [
    "users_stat_train = users_stat_train.merge(a,on='cstno',how='left')"
   ]
  },
  {
   "cell_type": "code",
   "execution_count": 54,
   "id": "78f4172c-5ca7-4eba-8cb4-e19657d408a6",
   "metadata": {},
   "outputs": [
    {
     "data": {
      "text/html": [
       "<div>\n",
       "<style scoped>\n",
       "    .dataframe tbody tr th:only-of-type {\n",
       "        vertical-align: middle;\n",
       "    }\n",
       "\n",
       "    .dataframe tbody tr th {\n",
       "        vertical-align: top;\n",
       "    }\n",
       "\n",
       "    .dataframe thead th {\n",
       "        text-align: right;\n",
       "    }\n",
       "</style>\n",
       "<table border=\"1\" class=\"dataframe\">\n",
       "  <thead>\n",
       "    <tr style=\"text-align: right;\">\n",
       "      <th></th>\n",
       "      <th>cstno</th>\n",
       "      <th>order_id</th>\n",
       "      <th>order_interval</th>\n",
       "      <th>pl_N</th>\n",
       "    </tr>\n",
       "  </thead>\n",
       "  <tbody>\n",
       "    <tr>\n",
       "      <th>0</th>\n",
       "      <td>10000</td>\n",
       "      <td>345</td>\n",
       "      <td>5.139130</td>\n",
       "      <td>44</td>\n",
       "    </tr>\n",
       "    <tr>\n",
       "      <th>1</th>\n",
       "      <td>100001</td>\n",
       "      <td>353</td>\n",
       "      <td>6.192635</td>\n",
       "      <td>40</td>\n",
       "    </tr>\n",
       "    <tr>\n",
       "      <th>2</th>\n",
       "      <td>100046</td>\n",
       "      <td>235</td>\n",
       "      <td>5.357447</td>\n",
       "      <td>33</td>\n",
       "    </tr>\n",
       "    <tr>\n",
       "      <th>3</th>\n",
       "      <td>100071</td>\n",
       "      <td>227</td>\n",
       "      <td>5.991189</td>\n",
       "      <td>27</td>\n",
       "    </tr>\n",
       "    <tr>\n",
       "      <th>4</th>\n",
       "      <td>100108</td>\n",
       "      <td>176</td>\n",
       "      <td>5.238636</td>\n",
       "      <td>22</td>\n",
       "    </tr>\n",
       "    <tr>\n",
       "      <th>...</th>\n",
       "      <td>...</td>\n",
       "      <td>...</td>\n",
       "      <td>...</td>\n",
       "      <td>...</td>\n",
       "    </tr>\n",
       "    <tr>\n",
       "      <th>5854</th>\n",
       "      <td>9981</td>\n",
       "      <td>100</td>\n",
       "      <td>7.260000</td>\n",
       "      <td>9</td>\n",
       "    </tr>\n",
       "    <tr>\n",
       "      <th>5855</th>\n",
       "      <td>99829</td>\n",
       "      <td>244</td>\n",
       "      <td>7.995902</td>\n",
       "      <td>43</td>\n",
       "    </tr>\n",
       "    <tr>\n",
       "      <th>5856</th>\n",
       "      <td>99887</td>\n",
       "      <td>370</td>\n",
       "      <td>4.275676</td>\n",
       "      <td>23</td>\n",
       "    </tr>\n",
       "    <tr>\n",
       "      <th>5857</th>\n",
       "      <td>99894</td>\n",
       "      <td>176</td>\n",
       "      <td>5.909091</td>\n",
       "      <td>28</td>\n",
       "    </tr>\n",
       "    <tr>\n",
       "      <th>5858</th>\n",
       "      <td>99901</td>\n",
       "      <td>104</td>\n",
       "      <td>7.355769</td>\n",
       "      <td>12</td>\n",
       "    </tr>\n",
       "  </tbody>\n",
       "</table>\n",
       "<p>5859 rows × 4 columns</p>\n",
       "</div>"
      ],
      "text/plain": [
       "       cstno  order_id  order_interval  pl_N\n",
       "0      10000       345        5.139130    44\n",
       "1     100001       353        6.192635    40\n",
       "2     100046       235        5.357447    33\n",
       "3     100071       227        5.991189    27\n",
       "4     100108       176        5.238636    22\n",
       "...      ...       ...             ...   ...\n",
       "5854    9981       100        7.260000     9\n",
       "5855   99829       244        7.995902    43\n",
       "5856   99887       370        4.275676    23\n",
       "5857   99894       176        5.909091    28\n",
       "5858   99901       104        7.355769    12\n",
       "\n",
       "[5859 rows x 4 columns]"
      ]
     },
     "execution_count": 54,
     "metadata": {},
     "output_type": "execute_result"
    }
   ],
   "source": [
    "users_stat_train"
   ]
  },
  {
   "cell_type": "code",
   "execution_count": 55,
   "id": "e87fee29-1327-4d31-a671-1ace6ec3eef1",
   "metadata": {},
   "outputs": [],
   "source": [
    "b=train.groupby(['cstno','product_time'],as_index=False)['order_id'].count()"
   ]
  },
  {
   "cell_type": "code",
   "execution_count": 56,
   "id": "0f481a56-2d10-4bd5-8c7f-eb9cc08f5262",
   "metadata": {},
   "outputs": [],
   "source": [
    "b_1 = b.loc[b.product_time == 1].rename(columns={'order_id':'a'})"
   ]
  },
  {
   "cell_type": "code",
   "execution_count": 57,
   "id": "1e45b040-bce3-4986-9926-6fb505d9b5ca",
   "metadata": {},
   "outputs": [],
   "source": [
    "b_2 = b.loc[b.product_time == 2].rename(columns={'order_id':'c'})"
   ]
  },
  {
   "cell_type": "code",
   "execution_count": 58,
   "id": "ab879bba-565e-44b4-a93f-f7d3aaaf8c45",
   "metadata": {},
   "outputs": [],
   "source": [
    "b = b_1.merge(b_2,on='cstno',how='left')"
   ]
  },
  {
   "cell_type": "code",
   "execution_count": 59,
   "id": "b44245ca-0136-47b9-ab75-9bbe711d0ae3",
   "metadata": {},
   "outputs": [],
   "source": [
    "#재구매비율\n",
    "b['user_ReorderedRatio'] = b.a/b.c"
   ]
  },
  {
   "cell_type": "code",
   "execution_count": 60,
   "id": "07406672-a764-420b-882c-7142aa604c10",
   "metadata": {},
   "outputs": [],
   "source": [
    "users_stat_train = users_stat_train.merge(b[['cstno','user_ReorderedRatio']],on='cstno',how='left')"
   ]
  },
  {
   "cell_type": "code",
   "execution_count": 61,
   "id": "9e0b387d-7940-4edb-8eef-a46231e59872",
   "metadata": {},
   "outputs": [
    {
     "data": {
      "text/html": [
       "<div>\n",
       "<style scoped>\n",
       "    .dataframe tbody tr th:only-of-type {\n",
       "        vertical-align: middle;\n",
       "    }\n",
       "\n",
       "    .dataframe tbody tr th {\n",
       "        vertical-align: top;\n",
       "    }\n",
       "\n",
       "    .dataframe thead th {\n",
       "        text-align: right;\n",
       "    }\n",
       "</style>\n",
       "<table border=\"1\" class=\"dataframe\">\n",
       "  <thead>\n",
       "    <tr style=\"text-align: right;\">\n",
       "      <th></th>\n",
       "      <th>cstno</th>\n",
       "      <th>order_id</th>\n",
       "      <th>order_interval</th>\n",
       "      <th>pl_N</th>\n",
       "      <th>user_ReorderedRatio</th>\n",
       "    </tr>\n",
       "  </thead>\n",
       "  <tbody>\n",
       "    <tr>\n",
       "      <th>0</th>\n",
       "      <td>10000</td>\n",
       "      <td>345</td>\n",
       "      <td>5.139130</td>\n",
       "      <td>44</td>\n",
       "      <td>1.517241</td>\n",
       "    </tr>\n",
       "    <tr>\n",
       "      <th>1</th>\n",
       "      <td>100001</td>\n",
       "      <td>353</td>\n",
       "      <td>6.192635</td>\n",
       "      <td>40</td>\n",
       "      <td>1.290323</td>\n",
       "    </tr>\n",
       "    <tr>\n",
       "      <th>2</th>\n",
       "      <td>100046</td>\n",
       "      <td>235</td>\n",
       "      <td>5.357447</td>\n",
       "      <td>33</td>\n",
       "      <td>1.375000</td>\n",
       "    </tr>\n",
       "    <tr>\n",
       "      <th>3</th>\n",
       "      <td>100071</td>\n",
       "      <td>227</td>\n",
       "      <td>5.991189</td>\n",
       "      <td>27</td>\n",
       "      <td>1.125000</td>\n",
       "    </tr>\n",
       "    <tr>\n",
       "      <th>4</th>\n",
       "      <td>100108</td>\n",
       "      <td>176</td>\n",
       "      <td>5.238636</td>\n",
       "      <td>22</td>\n",
       "      <td>1.294118</td>\n",
       "    </tr>\n",
       "  </tbody>\n",
       "</table>\n",
       "</div>"
      ],
      "text/plain": [
       "    cstno  order_id  order_interval  pl_N  user_ReorderedRatio\n",
       "0   10000       345        5.139130    44             1.517241\n",
       "1  100001       353        6.192635    40             1.290323\n",
       "2  100046       235        5.357447    33             1.375000\n",
       "3  100071       227        5.991189    27             1.125000\n",
       "4  100108       176        5.238636    22             1.294118"
      ]
     },
     "execution_count": 61,
     "metadata": {},
     "output_type": "execute_result"
    }
   ],
   "source": [
    "users_stat_train.head(5)"
   ]
  },
  {
   "cell_type": "markdown",
   "id": "598a1a35-053a-405a-a8fb-574bcbc917b5",
   "metadata": {
    "tags": []
   },
   "source": [
    "### ⅲ. 고객별 구매 상품 리스트 (purchase_list)"
   ]
  },
  {
   "cell_type": "code",
   "execution_count": 62,
   "id": "9ab338dc-bc59-4c74-93ad-66c4ca0cb759",
   "metadata": {},
   "outputs": [],
   "source": [
    "purchase_list_train = train.groupby(['cstno','product_id'],as_index=False)['order_number'].count().rename(columns={'order_number':'pl_N'})"
   ]
  },
  {
   "cell_type": "code",
   "execution_count": 63,
   "id": "4ad15d94-ac0a-4f53-8887-5d97e12ce6b5",
   "metadata": {},
   "outputs": [],
   "source": [
    "a = train.groupby(['cstno','product_id'],as_index=False)['order_number'].min().rename(columns={'order_number':'pl_FirstPurchase'})"
   ]
  },
  {
   "cell_type": "code",
   "execution_count": 64,
   "id": "0661895a-140c-4217-992c-0e1c4ef7ce17",
   "metadata": {},
   "outputs": [],
   "source": [
    "purchase_list_train = purchase_list_train.merge(a,on=['cstno','product_id'],how='left')"
   ]
  },
  {
   "cell_type": "code",
   "execution_count": 65,
   "id": "cf6d7072-1607-41fc-838c-073a691eedd5",
   "metadata": {},
   "outputs": [],
   "source": [
    "b = train.groupby(['cstno','product_id'],as_index=False)['order_number'].max().rename(columns={'order_number':'pl_LastPurchase'})"
   ]
  },
  {
   "cell_type": "code",
   "execution_count": 66,
   "id": "8f1133c7-f8ac-4321-930b-b6f5150be094",
   "metadata": {},
   "outputs": [],
   "source": [
    "purchase_list_train = purchase_list_train.merge(b,on=['cstno','product_id'],how='left')"
   ]
  },
  {
   "cell_type": "code",
   "execution_count": 67,
   "id": "70632c56-0ab4-4107-997b-7107012987c3",
   "metadata": {},
   "outputs": [],
   "source": [
    "c = train.groupby(['cstno','product_id'],as_index=False)['add_order'].median().rename(columns={'add_order':'pl_CartOrder'})"
   ]
  },
  {
   "cell_type": "code",
   "execution_count": 68,
   "id": "1b75df83-8c8b-4500-be61-39ab5ed32020",
   "metadata": {},
   "outputs": [],
   "source": [
    "purchase_list_train = purchase_list_train.merge(c,on=['cstno','product_id'],how='left')"
   ]
  },
  {
   "cell_type": "code",
   "execution_count": 69,
   "id": "4663e247-9eb0-434c-b558-228c4d8c4633",
   "metadata": {},
   "outputs": [
    {
     "data": {
      "text/html": [
       "<div>\n",
       "<style scoped>\n",
       "    .dataframe tbody tr th:only-of-type {\n",
       "        vertical-align: middle;\n",
       "    }\n",
       "\n",
       "    .dataframe tbody tr th {\n",
       "        vertical-align: top;\n",
       "    }\n",
       "\n",
       "    .dataframe thead th {\n",
       "        text-align: right;\n",
       "    }\n",
       "</style>\n",
       "<table border=\"1\" class=\"dataframe\">\n",
       "  <thead>\n",
       "    <tr style=\"text-align: right;\">\n",
       "      <th></th>\n",
       "      <th>cstno</th>\n",
       "      <th>product_id</th>\n",
       "      <th>pl_N</th>\n",
       "      <th>pl_FirstPurchase</th>\n",
       "      <th>pl_LastPurchase</th>\n",
       "      <th>pl_CartOrder</th>\n",
       "    </tr>\n",
       "  </thead>\n",
       "  <tbody>\n",
       "    <tr>\n",
       "      <th>0</th>\n",
       "      <td>10000</td>\n",
       "      <td>10749</td>\n",
       "      <td>15</td>\n",
       "      <td>10</td>\n",
       "      <td>71</td>\n",
       "      <td>6.0</td>\n",
       "    </tr>\n",
       "    <tr>\n",
       "      <th>1</th>\n",
       "      <td>10000</td>\n",
       "      <td>11520</td>\n",
       "      <td>15</td>\n",
       "      <td>40</td>\n",
       "      <td>72</td>\n",
       "      <td>6.0</td>\n",
       "    </tr>\n",
       "    <tr>\n",
       "      <th>2</th>\n",
       "      <td>10000</td>\n",
       "      <td>13176</td>\n",
       "      <td>6</td>\n",
       "      <td>10</td>\n",
       "      <td>57</td>\n",
       "      <td>11.0</td>\n",
       "    </tr>\n",
       "    <tr>\n",
       "      <th>3</th>\n",
       "      <td>10000</td>\n",
       "      <td>15290</td>\n",
       "      <td>5</td>\n",
       "      <td>1</td>\n",
       "      <td>59</td>\n",
       "      <td>10.0</td>\n",
       "    </tr>\n",
       "    <tr>\n",
       "      <th>4</th>\n",
       "      <td>10000</td>\n",
       "      <td>16759</td>\n",
       "      <td>1</td>\n",
       "      <td>40</td>\n",
       "      <td>40</td>\n",
       "      <td>17.0</td>\n",
       "    </tr>\n",
       "  </tbody>\n",
       "</table>\n",
       "</div>"
      ],
      "text/plain": [
       "   cstno product_id  pl_N  pl_FirstPurchase  pl_LastPurchase  pl_CartOrder\n",
       "0  10000      10749    15                10               71           6.0\n",
       "1  10000      11520    15                40               72           6.0\n",
       "2  10000      13176     6                10               57          11.0\n",
       "3  10000      15290     5                 1               59          10.0\n",
       "4  10000      16759     1                40               40          17.0"
      ]
     },
     "execution_count": 69,
     "metadata": {},
     "output_type": "execute_result"
    }
   ],
   "source": [
    "purchase_list_train.head(5)"
   ]
  },
  {
   "cell_type": "code",
   "execution_count": 70,
   "id": "b80029b4-51d2-48a3-904b-cfd2ed49cc31",
   "metadata": {},
   "outputs": [],
   "source": [
    "purchase_list_train = purchase_list_train.merge(products_stat_train,on='product_id',how='inner')"
   ]
  },
  {
   "cell_type": "code",
   "execution_count": 71,
   "id": "d24cef2c-0dbc-437b-a0aa-cdbb94bf8ce1",
   "metadata": {},
   "outputs": [],
   "source": [
    "purchase_list_train = purchase_list_train.merge(users_stat_train,on='cstno',how='inner')"
   ]
  },
  {
   "cell_type": "code",
   "execution_count": 72,
   "id": "5bed37d2-40d9-4ef1-ae53-5948b0983778",
   "metadata": {},
   "outputs": [],
   "source": [
    "train_X = purchase_list_train.drop(columns='product_id')"
   ]
  },
  {
   "cell_type": "code",
   "execution_count": 73,
   "id": "253955ee-7d0d-4211-8ae4-403c55f7a5bf",
   "metadata": {},
   "outputs": [],
   "source": [
    "train_y = purchase_list_train['product_id']"
   ]
  },
  {
   "cell_type": "markdown",
   "id": "43af7488-50de-456a-b140-5c1218571f4b",
   "metadata": {
    "tags": []
   },
   "source": [
    "## 2. TEST"
   ]
  },
  {
   "cell_type": "markdown",
   "id": "70a20dc0-534d-4498-a66a-e08ad0bc3c03",
   "metadata": {
    "tags": []
   },
   "source": [
    "### ⅰ.상품별 통계학적 특성 (products_stat)"
   ]
  },
  {
   "cell_type": "markdown",
   "id": "8ca023dc-043f-4d80-a3f5-0b87afef7205",
   "metadata": {},
   "source": [
    "- 고객/상품별로 구매횟수 컬럼 생성 (product_time)"
   ]
  },
  {
   "cell_type": "code",
   "execution_count": 74,
   "id": "8a002122-cbd9-464b-9ee1-df464c9b5aa7",
   "metadata": {},
   "outputs": [],
   "source": [
    "test['product_time'] = test.groupby(['cstno','product_id'])['order_number'].rank(method='min',ascending=False)"
   ]
  },
  {
   "cell_type": "code",
   "execution_count": 75,
   "id": "b7db82b7-5b55-4012-973c-093201761f85",
   "metadata": {},
   "outputs": [
    {
     "data": {
      "text/html": [
       "<div>\n",
       "<style scoped>\n",
       "    .dataframe tbody tr th:only-of-type {\n",
       "        vertical-align: middle;\n",
       "    }\n",
       "\n",
       "    .dataframe tbody tr th {\n",
       "        vertical-align: top;\n",
       "    }\n",
       "\n",
       "    .dataframe thead th {\n",
       "        text-align: right;\n",
       "    }\n",
       "</style>\n",
       "<table border=\"1\" class=\"dataframe\">\n",
       "  <thead>\n",
       "    <tr style=\"text-align: right;\">\n",
       "      <th></th>\n",
       "      <th>order_id</th>\n",
       "      <th>cstno</th>\n",
       "      <th>order_number</th>\n",
       "      <th>week_day</th>\n",
       "      <th>order_hour</th>\n",
       "      <th>order_interval</th>\n",
       "      <th>add_order</th>\n",
       "      <th>is_reordered</th>\n",
       "      <th>product_id</th>\n",
       "      <th>product_time</th>\n",
       "    </tr>\n",
       "  </thead>\n",
       "  <tbody>\n",
       "    <tr>\n",
       "      <th>500569</th>\n",
       "      <td>886128</td>\n",
       "      <td>100041</td>\n",
       "      <td>39</td>\n",
       "      <td>6</td>\n",
       "      <td>11</td>\n",
       "      <td>11</td>\n",
       "      <td>4</td>\n",
       "      <td>1</td>\n",
       "      <td>13176</td>\n",
       "      <td>1.0</td>\n",
       "    </tr>\n",
       "    <tr>\n",
       "      <th>500580</th>\n",
       "      <td>2483732</td>\n",
       "      <td>100041</td>\n",
       "      <td>33</td>\n",
       "      <td>3</td>\n",
       "      <td>14</td>\n",
       "      <td>3</td>\n",
       "      <td>1</td>\n",
       "      <td>1</td>\n",
       "      <td>13176</td>\n",
       "      <td>2.0</td>\n",
       "    </tr>\n",
       "    <tr>\n",
       "      <th>500576</th>\n",
       "      <td>1881946</td>\n",
       "      <td>100041</td>\n",
       "      <td>31</td>\n",
       "      <td>4</td>\n",
       "      <td>7</td>\n",
       "      <td>4</td>\n",
       "      <td>4</td>\n",
       "      <td>1</td>\n",
       "      <td>13176</td>\n",
       "      <td>3.0</td>\n",
       "    </tr>\n",
       "    <tr>\n",
       "      <th>500583</th>\n",
       "      <td>2893588</td>\n",
       "      <td>100041</td>\n",
       "      <td>30</td>\n",
       "      <td>0</td>\n",
       "      <td>11</td>\n",
       "      <td>8</td>\n",
       "      <td>9</td>\n",
       "      <td>1</td>\n",
       "      <td>13176</td>\n",
       "      <td>4.0</td>\n",
       "    </tr>\n",
       "    <tr>\n",
       "      <th>500567</th>\n",
       "      <td>774277</td>\n",
       "      <td>100041</td>\n",
       "      <td>29</td>\n",
       "      <td>6</td>\n",
       "      <td>15</td>\n",
       "      <td>19</td>\n",
       "      <td>4</td>\n",
       "      <td>1</td>\n",
       "      <td>13176</td>\n",
       "      <td>5.0</td>\n",
       "    </tr>\n",
       "  </tbody>\n",
       "</table>\n",
       "</div>"
      ],
      "text/plain": [
       "       order_id   cstno  order_number  week_day  order_hour  order_interval  \\\n",
       "500569   886128  100041            39         6          11              11   \n",
       "500580  2483732  100041            33         3          14               3   \n",
       "500576  1881946  100041            31         4           7               4   \n",
       "500583  2893588  100041            30         0          11               8   \n",
       "500567   774277  100041            29         6          15              19   \n",
       "\n",
       "        add_order  is_reordered product_id  product_time  \n",
       "500569          4             1      13176           1.0  \n",
       "500580          1             1      13176           2.0  \n",
       "500576          4             1      13176           3.0  \n",
       "500583          9             1      13176           4.0  \n",
       "500567          4             1      13176           5.0  "
      ]
     },
     "execution_count": 75,
     "metadata": {},
     "output_type": "execute_result"
    }
   ],
   "source": [
    "test.sort_values(['cstno','product_id','product_time'],ascending=True).head(5)"
   ]
  },
  {
   "cell_type": "markdown",
   "id": "4859b5d4-301d-464c-a513-fd271e665304",
   "metadata": {
    "tags": []
   },
   "source": [
    "#### 상품별 재구매비율 계산\n",
    "- Banana, Organic Reduced Fat Milk, Bag of Organic Bananas, Soda 순으로 높음."
   ]
  },
  {
   "cell_type": "code",
   "execution_count": 76,
   "id": "84473d78-7964-4ebe-9483-ebf05db585ae",
   "metadata": {},
   "outputs": [],
   "source": [
    "# 해당 상품의 구매빈도 (prod_N)\n",
    "products_stat_test = test.product_id.value_counts().reset_index().rename(columns={'index':'product_id','product_id':'prod_N'})"
   ]
  },
  {
   "cell_type": "code",
   "execution_count": 77,
   "id": "9c23fc71-64bf-4877-85e4-7f2061e1a120",
   "metadata": {},
   "outputs": [],
   "source": [
    "products_stat_test = products_stat_test.merge(products_info[['product_id','name']],on='product_id',how='left')"
   ]
  },
  {
   "cell_type": "code",
   "execution_count": 78,
   "id": "0c1c254e-c3b1-4df3-8237-7c06fb831db4",
   "metadata": {},
   "outputs": [],
   "source": [
    "b = test.groupby(['product_id'])['is_reordered'].sum().reset_index().rename(columns={'index':'product_id','is_reordered':'a'})"
   ]
  },
  {
   "cell_type": "code",
   "execution_count": 79,
   "id": "73c2c678-b04d-4b8e-9d66-c2c2ec034740",
   "metadata": {},
   "outputs": [],
   "source": [
    "products_stat_test = products_stat_test.merge(b,on='product_id',how='left')"
   ]
  },
  {
   "cell_type": "code",
   "execution_count": 80,
   "id": "81196b98-fbbc-44b3-9ad2-ea1bfd258f5b",
   "metadata": {},
   "outputs": [],
   "source": [
    "# 해당상품의 전체 판매 중 재구매에 의한 판매 비율 (prod_ReorderedRatio)\n",
    "products_stat_test['prod_ReorderedRatio'] = products_stat_test.a/products_stat_test.prod_N"
   ]
  },
  {
   "cell_type": "code",
   "execution_count": 81,
   "id": "6790fa20-9522-4e30-b0d6-99cf362742ca",
   "metadata": {},
   "outputs": [],
   "source": [
    "products_stat_test.drop(columns='a',inplace=True)"
   ]
  },
  {
   "cell_type": "code",
   "execution_count": 82,
   "id": "3898f347-fe62-4fbb-a6da-880a6ac2cc96",
   "metadata": {},
   "outputs": [
    {
     "data": {
      "text/html": [
       "<div>\n",
       "<style scoped>\n",
       "    .dataframe tbody tr th:only-of-type {\n",
       "        vertical-align: middle;\n",
       "    }\n",
       "\n",
       "    .dataframe tbody tr th {\n",
       "        vertical-align: top;\n",
       "    }\n",
       "\n",
       "    .dataframe thead th {\n",
       "        text-align: right;\n",
       "    }\n",
       "</style>\n",
       "<table border=\"1\" class=\"dataframe\">\n",
       "  <thead>\n",
       "    <tr style=\"text-align: right;\">\n",
       "      <th></th>\n",
       "      <th>product_id</th>\n",
       "      <th>prod_N</th>\n",
       "      <th>name</th>\n",
       "      <th>prod_ReorderedRatio</th>\n",
       "    </tr>\n",
       "  </thead>\n",
       "  <tbody>\n",
       "    <tr>\n",
       "      <th>0</th>\n",
       "      <td>24852</td>\n",
       "      <td>34287</td>\n",
       "      <td>Banana</td>\n",
       "      <td>0.930119</td>\n",
       "    </tr>\n",
       "    <tr>\n",
       "      <th>96</th>\n",
       "      <td>196</td>\n",
       "      <td>2241</td>\n",
       "      <td>Soda</td>\n",
       "      <td>0.922802</td>\n",
       "    </tr>\n",
       "    <tr>\n",
       "      <th>1</th>\n",
       "      <td>13176</td>\n",
       "      <td>29086</td>\n",
       "      <td>Bag of Organic Bananas</td>\n",
       "      <td>0.915526</td>\n",
       "    </tr>\n",
       "    <tr>\n",
       "      <th>85</th>\n",
       "      <td>38689</td>\n",
       "      <td>2644</td>\n",
       "      <td>Organic Reduced Fat Milk</td>\n",
       "      <td>0.905068</td>\n",
       "    </tr>\n",
       "    <tr>\n",
       "      <th>91</th>\n",
       "      <td>23909</td>\n",
       "      <td>2335</td>\n",
       "      <td>2% Reduced Fat Milk</td>\n",
       "      <td>0.902784</td>\n",
       "    </tr>\n",
       "  </tbody>\n",
       "</table>\n",
       "</div>"
      ],
      "text/plain": [
       "   product_id  prod_N                      name  prod_ReorderedRatio\n",
       "0       24852   34287                    Banana             0.930119\n",
       "96        196    2241                      Soda             0.922802\n",
       "1       13176   29086    Bag of Organic Bananas             0.915526\n",
       "85      38689    2644  Organic Reduced Fat Milk             0.905068\n",
       "91      23909    2335       2% Reduced Fat Milk             0.902784"
      ]
     },
     "execution_count": 82,
     "metadata": {},
     "output_type": "execute_result"
    }
   ],
   "source": [
    "products_stat_test.sort_values(['prod_ReorderedRatio'],ascending=False).head(5)"
   ]
  },
  {
   "cell_type": "markdown",
   "id": "3c1a9753-b8c5-4bc9-b7f5-5b8f861fd9ce",
   "metadata": {
    "tags": []
   },
   "source": [
    "#### 상품별 재구매확률 계산\n",
    " - Organic Strawberries, Bag of Organic Bananas, Banana 순으로 높음"
   ]
  },
  {
   "cell_type": "code",
   "execution_count": 83,
   "id": "625cc0f7-2ed1-4a46-9704-857e5910c808",
   "metadata": {},
   "outputs": [],
   "source": [
    "b=test.groupby(['product_id','product_time'],as_index=False)['order_id'].count()"
   ]
  },
  {
   "cell_type": "code",
   "execution_count": 84,
   "id": "b8af0a68-2de9-43ee-9437-d2201af52dfb",
   "metadata": {},
   "outputs": [],
   "source": [
    "# 해당 상품을 처음 구매한 고객 수(prod_FirstOrders)\n",
    "b_1 = b.loc[b.product_time == 1].rename(columns={'order_id':'prod_FirstOrders'})"
   ]
  },
  {
   "cell_type": "code",
   "execution_count": 85,
   "id": "3bbfead3-9af9-4441-84f7-c43e46d9a73c",
   "metadata": {},
   "outputs": [],
   "source": [
    "b_2 = b.loc[b.product_time == 2]"
   ]
  },
  {
   "cell_type": "code",
   "execution_count": 86,
   "id": "eb2d80bd-0278-4dd4-a672-da56b16163d6",
   "metadata": {},
   "outputs": [],
   "source": [
    "b = b_1.merge(b_2,on='product_id',how='left')"
   ]
  },
  {
   "cell_type": "code",
   "execution_count": 87,
   "id": "f0d5d00a-8b1d-4bb8-b79c-52c2373fd04d",
   "metadata": {},
   "outputs": [],
   "source": [
    "# 해당 상품을 재구매할 확률(prod_ReorderedProb)\n",
    "b['prod_ReorderedProb'] = b.order_id/b.prod_FirstOrders"
   ]
  },
  {
   "cell_type": "code",
   "execution_count": 88,
   "id": "59903a64-a9a3-4ece-89ae-bcaadb41264a",
   "metadata": {},
   "outputs": [],
   "source": [
    "products_stat_test = products_stat_test.merge(b[['product_id','prod_FirstOrders','prod_ReorderedProb']],on='product_id',how='left')"
   ]
  },
  {
   "cell_type": "code",
   "execution_count": 89,
   "id": "d7658cc6-8810-48ee-9a86-e76d9441e02f",
   "metadata": {},
   "outputs": [
    {
     "data": {
      "text/html": [
       "<div>\n",
       "<style scoped>\n",
       "    .dataframe tbody tr th:only-of-type {\n",
       "        vertical-align: middle;\n",
       "    }\n",
       "\n",
       "    .dataframe tbody tr th {\n",
       "        vertical-align: top;\n",
       "    }\n",
       "\n",
       "    .dataframe thead th {\n",
       "        text-align: right;\n",
       "    }\n",
       "</style>\n",
       "<table border=\"1\" class=\"dataframe\">\n",
       "  <thead>\n",
       "    <tr style=\"text-align: right;\">\n",
       "      <th></th>\n",
       "      <th>product_id</th>\n",
       "      <th>prod_N</th>\n",
       "      <th>name</th>\n",
       "      <th>prod_ReorderedRatio</th>\n",
       "      <th>prod_FirstOrders</th>\n",
       "      <th>prod_ReorderedProb</th>\n",
       "    </tr>\n",
       "  </thead>\n",
       "  <tbody>\n",
       "    <tr>\n",
       "      <th>0</th>\n",
       "      <td>24852</td>\n",
       "      <td>34287</td>\n",
       "      <td>Banana</td>\n",
       "      <td>0.930119</td>\n",
       "      <td>2396</td>\n",
       "      <td>0.879382</td>\n",
       "    </tr>\n",
       "    <tr>\n",
       "      <th>1</th>\n",
       "      <td>13176</td>\n",
       "      <td>29086</td>\n",
       "      <td>Bag of Organic Bananas</td>\n",
       "      <td>0.915526</td>\n",
       "      <td>2457</td>\n",
       "      <td>0.868539</td>\n",
       "    </tr>\n",
       "    <tr>\n",
       "      <th>2</th>\n",
       "      <td>21137</td>\n",
       "      <td>20064</td>\n",
       "      <td>Organic Strawberries</td>\n",
       "      <td>0.868820</td>\n",
       "      <td>2632</td>\n",
       "      <td>0.832447</td>\n",
       "    </tr>\n",
       "    <tr>\n",
       "      <th>4</th>\n",
       "      <td>47209</td>\n",
       "      <td>16237</td>\n",
       "      <td>Organic Hass Avocado</td>\n",
       "      <td>0.877872</td>\n",
       "      <td>1983</td>\n",
       "      <td>0.830560</td>\n",
       "    </tr>\n",
       "    <tr>\n",
       "      <th>3</th>\n",
       "      <td>21903</td>\n",
       "      <td>16974</td>\n",
       "      <td>Organic Baby Spinach</td>\n",
       "      <td>0.869860</td>\n",
       "      <td>2209</td>\n",
       "      <td>0.822997</td>\n",
       "    </tr>\n",
       "  </tbody>\n",
       "</table>\n",
       "</div>"
      ],
      "text/plain": [
       "  product_id  prod_N                    name  prod_ReorderedRatio  \\\n",
       "0      24852   34287                  Banana             0.930119   \n",
       "1      13176   29086  Bag of Organic Bananas             0.915526   \n",
       "2      21137   20064    Organic Strawberries             0.868820   \n",
       "4      47209   16237    Organic Hass Avocado             0.877872   \n",
       "3      21903   16974    Organic Baby Spinach             0.869860   \n",
       "\n",
       "   prod_FirstOrders  prod_ReorderedProb  \n",
       "0              2396            0.879382  \n",
       "1              2457            0.868539  \n",
       "2              2632            0.832447  \n",
       "4              1983            0.830560  \n",
       "3              2209            0.822997  "
      ]
     },
     "execution_count": 89,
     "metadata": {},
     "output_type": "execute_result"
    }
   ],
   "source": [
    "products_stat_test.sort_values(['prod_ReorderedProb'],ascending=False).head(5)"
   ]
  },
  {
   "cell_type": "markdown",
   "id": "65db773e-496c-422e-b654-9f0df2fee63c",
   "metadata": {
    "tags": []
   },
   "source": [
    "#### 중위수 이용\n",
    "- 해당상품이 주로 주문되는 시간(prod_OrderedTime)\n",
    "- 해당상품의 재주문 기간(prod_ReorderedPeriod)\n",
    "- 해당 상품이 주로 장바구니에 담기는 순서(prod_CartOrder)"
   ]
  },
  {
   "cell_type": "code",
   "execution_count": 90,
   "id": "3743f722-8f49-4737-8768-d67eea6b91e2",
   "metadata": {},
   "outputs": [
    {
     "name": "stderr",
     "output_type": "stream",
     "text": [
      "/opt/conda/envs/python3.6/lib/python3.6/site-packages/ipykernel_launcher.py:1: FutureWarning: Indexing with multiple keys (implicitly converted to a tuple of keys) will be deprecated, use a list instead.\n",
      "  \"\"\"Entry point for launching an IPython kernel.\n"
     ]
    }
   ],
   "source": [
    "b = test.groupby(['product_id'],as_index=False)['order_hour','order_interval','add_order'].median().rename(columns={'order_hour':'prod_OrderedTime','order_interval':'prod_ReorderedPeriod','add_order':'prod_CartOrder'})"
   ]
  },
  {
   "cell_type": "code",
   "execution_count": 91,
   "id": "8f318456-4178-4b12-a93c-d18d475687f6",
   "metadata": {},
   "outputs": [],
   "source": [
    "products_stat_test= products_stat_test.merge(b[['product_id','prod_OrderedTime','prod_ReorderedPeriod','prod_CartOrder']],on='product_id',how='left').reset_index(drop=True)"
   ]
  },
  {
   "cell_type": "code",
   "execution_count": 92,
   "id": "e8649d9a-48d7-42c6-ba08-9a0cd7defcdc",
   "metadata": {},
   "outputs": [],
   "source": [
    "products_stat_test.drop(columns='name',inplace=True)"
   ]
  },
  {
   "cell_type": "markdown",
   "id": "9fae0b07-c604-4c95-be2c-1a6d0dbb921a",
   "metadata": {
    "tags": []
   },
   "source": [
    "### ⅱ. 고객의 통계 정보 및 주문 정보 (users_stat)"
   ]
  },
  {
   "cell_type": "code",
   "execution_count": 93,
   "id": "835d32b3-aac5-468f-8ad3-e1c5adaaff12",
   "metadata": {},
   "outputs": [],
   "source": [
    "# 고객별 총 주문 횟수 & 평균 주문간격 & 상품의 개수\n",
    "users_stat_test = test.groupby('cstno',as_index=False).agg({'order_id':'count', 'order_interval':'mean'})"
   ]
  },
  {
   "cell_type": "code",
   "execution_count": 94,
   "id": "5c0e99c5-19a6-4288-a006-62b2f57b6a19",
   "metadata": {},
   "outputs": [],
   "source": [
    "# 고객별 주문한 상품의 개수\n",
    "a = test.groupby(['cstno'],as_index=False)['product_id'].nunique().rename(columns={'product_id':'pl_N'})"
   ]
  },
  {
   "cell_type": "code",
   "execution_count": 95,
   "id": "17d52a84-466d-4db9-b8dc-b9b6fd30e765",
   "metadata": {},
   "outputs": [],
   "source": [
    "users_stat_test = users_stat_test.merge(a,on='cstno',how='left')"
   ]
  },
  {
   "cell_type": "code",
   "execution_count": 96,
   "id": "bb7e09f3-6f6d-4499-a2bc-e1b0ababbf71",
   "metadata": {},
   "outputs": [
    {
     "data": {
      "text/html": [
       "<div>\n",
       "<style scoped>\n",
       "    .dataframe tbody tr th:only-of-type {\n",
       "        vertical-align: middle;\n",
       "    }\n",
       "\n",
       "    .dataframe tbody tr th {\n",
       "        vertical-align: top;\n",
       "    }\n",
       "\n",
       "    .dataframe thead th {\n",
       "        text-align: right;\n",
       "    }\n",
       "</style>\n",
       "<table border=\"1\" class=\"dataframe\">\n",
       "  <thead>\n",
       "    <tr style=\"text-align: right;\">\n",
       "      <th></th>\n",
       "      <th>cstno</th>\n",
       "      <th>order_id</th>\n",
       "      <th>order_interval</th>\n",
       "      <th>pl_N</th>\n",
       "    </tr>\n",
       "  </thead>\n",
       "  <tbody>\n",
       "    <tr>\n",
       "      <th>0</th>\n",
       "      <td>100041</td>\n",
       "      <td>163</td>\n",
       "      <td>8.319018</td>\n",
       "      <td>29</td>\n",
       "    </tr>\n",
       "    <tr>\n",
       "      <th>1</th>\n",
       "      <td>100103</td>\n",
       "      <td>137</td>\n",
       "      <td>6.883212</td>\n",
       "      <td>16</td>\n",
       "    </tr>\n",
       "    <tr>\n",
       "      <th>2</th>\n",
       "      <td>100165</td>\n",
       "      <td>127</td>\n",
       "      <td>9.527559</td>\n",
       "      <td>25</td>\n",
       "    </tr>\n",
       "    <tr>\n",
       "      <th>3</th>\n",
       "      <td>100270</td>\n",
       "      <td>46</td>\n",
       "      <td>7.217391</td>\n",
       "      <td>5</td>\n",
       "    </tr>\n",
       "    <tr>\n",
       "      <th>4</th>\n",
       "      <td>100359</td>\n",
       "      <td>171</td>\n",
       "      <td>10.280702</td>\n",
       "      <td>32</td>\n",
       "    </tr>\n",
       "    <tr>\n",
       "      <th>...</th>\n",
       "      <td>...</td>\n",
       "      <td>...</td>\n",
       "      <td>...</td>\n",
       "      <td>...</td>\n",
       "    </tr>\n",
       "    <tr>\n",
       "      <th>4136</th>\n",
       "      <td>99897</td>\n",
       "      <td>177</td>\n",
       "      <td>8.333333</td>\n",
       "      <td>29</td>\n",
       "    </tr>\n",
       "    <tr>\n",
       "      <th>4137</th>\n",
       "      <td>999</td>\n",
       "      <td>284</td>\n",
       "      <td>9.116197</td>\n",
       "      <td>39</td>\n",
       "    </tr>\n",
       "    <tr>\n",
       "      <th>4138</th>\n",
       "      <td>99915</td>\n",
       "      <td>206</td>\n",
       "      <td>9.466019</td>\n",
       "      <td>35</td>\n",
       "    </tr>\n",
       "    <tr>\n",
       "      <th>4139</th>\n",
       "      <td>99963</td>\n",
       "      <td>85</td>\n",
       "      <td>3.647059</td>\n",
       "      <td>22</td>\n",
       "    </tr>\n",
       "    <tr>\n",
       "      <th>4140</th>\n",
       "      <td>99990</td>\n",
       "      <td>147</td>\n",
       "      <td>10.095238</td>\n",
       "      <td>25</td>\n",
       "    </tr>\n",
       "  </tbody>\n",
       "</table>\n",
       "<p>4141 rows × 4 columns</p>\n",
       "</div>"
      ],
      "text/plain": [
       "       cstno  order_id  order_interval  pl_N\n",
       "0     100041       163        8.319018    29\n",
       "1     100103       137        6.883212    16\n",
       "2     100165       127        9.527559    25\n",
       "3     100270        46        7.217391     5\n",
       "4     100359       171       10.280702    32\n",
       "...      ...       ...             ...   ...\n",
       "4136   99897       177        8.333333    29\n",
       "4137     999       284        9.116197    39\n",
       "4138   99915       206        9.466019    35\n",
       "4139   99963        85        3.647059    22\n",
       "4140   99990       147       10.095238    25\n",
       "\n",
       "[4141 rows x 4 columns]"
      ]
     },
     "execution_count": 96,
     "metadata": {},
     "output_type": "execute_result"
    }
   ],
   "source": [
    "users_stat_test"
   ]
  },
  {
   "cell_type": "code",
   "execution_count": 97,
   "id": "3bd28afe-72a4-46e1-9650-83490f691dbc",
   "metadata": {},
   "outputs": [],
   "source": [
    "b=test.groupby(['cstno','product_time'],as_index=False)['order_id'].count()"
   ]
  },
  {
   "cell_type": "code",
   "execution_count": 98,
   "id": "ab98d306-0fc4-4206-b011-8cf0c4f74775",
   "metadata": {},
   "outputs": [],
   "source": [
    "b_1 = b.loc[b.product_time == 1].rename(columns={'order_id':'a'})"
   ]
  },
  {
   "cell_type": "code",
   "execution_count": 99,
   "id": "aac129e9-fda5-4f26-a5e8-c2a0b4540e68",
   "metadata": {},
   "outputs": [],
   "source": [
    "b_2 = b.loc[b.product_time == 2].rename(columns={'order_id':'c'})"
   ]
  },
  {
   "cell_type": "code",
   "execution_count": 100,
   "id": "a922f25d-d184-4172-b99d-1f44500e8794",
   "metadata": {},
   "outputs": [],
   "source": [
    "b = b_1.merge(b_2,on='cstno',how='left')"
   ]
  },
  {
   "cell_type": "code",
   "execution_count": 101,
   "id": "a3ae1ffe-aec8-4027-a3b5-0d582bbf8ca3",
   "metadata": {},
   "outputs": [],
   "source": [
    "#재구매비율\n",
    "b['user_ReorderedRatio'] = b.a/b.c"
   ]
  },
  {
   "cell_type": "code",
   "execution_count": 102,
   "id": "4c7d2753-479c-4749-8bdb-cc120be6423a",
   "metadata": {},
   "outputs": [],
   "source": [
    "users_stat_test = users_stat_test.merge(b[['cstno','user_ReorderedRatio']],on='cstno',how='left')"
   ]
  },
  {
   "cell_type": "code",
   "execution_count": 103,
   "id": "54402ff7-e15a-4b4b-910e-02838e3e3dbc",
   "metadata": {},
   "outputs": [
    {
     "data": {
      "text/html": [
       "<div>\n",
       "<style scoped>\n",
       "    .dataframe tbody tr th:only-of-type {\n",
       "        vertical-align: middle;\n",
       "    }\n",
       "\n",
       "    .dataframe tbody tr th {\n",
       "        vertical-align: top;\n",
       "    }\n",
       "\n",
       "    .dataframe thead th {\n",
       "        text-align: right;\n",
       "    }\n",
       "</style>\n",
       "<table border=\"1\" class=\"dataframe\">\n",
       "  <thead>\n",
       "    <tr style=\"text-align: right;\">\n",
       "      <th></th>\n",
       "      <th>cstno</th>\n",
       "      <th>order_id</th>\n",
       "      <th>order_interval</th>\n",
       "      <th>pl_N</th>\n",
       "      <th>user_ReorderedRatio</th>\n",
       "    </tr>\n",
       "  </thead>\n",
       "  <tbody>\n",
       "    <tr>\n",
       "      <th>0</th>\n",
       "      <td>100041</td>\n",
       "      <td>163</td>\n",
       "      <td>8.319018</td>\n",
       "      <td>29</td>\n",
       "      <td>1.260870</td>\n",
       "    </tr>\n",
       "    <tr>\n",
       "      <th>1</th>\n",
       "      <td>100103</td>\n",
       "      <td>137</td>\n",
       "      <td>6.883212</td>\n",
       "      <td>16</td>\n",
       "      <td>1.333333</td>\n",
       "    </tr>\n",
       "    <tr>\n",
       "      <th>2</th>\n",
       "      <td>100165</td>\n",
       "      <td>127</td>\n",
       "      <td>9.527559</td>\n",
       "      <td>25</td>\n",
       "      <td>1.470588</td>\n",
       "    </tr>\n",
       "    <tr>\n",
       "      <th>3</th>\n",
       "      <td>100270</td>\n",
       "      <td>46</td>\n",
       "      <td>7.217391</td>\n",
       "      <td>5</td>\n",
       "      <td>1.666667</td>\n",
       "    </tr>\n",
       "    <tr>\n",
       "      <th>4</th>\n",
       "      <td>100359</td>\n",
       "      <td>171</td>\n",
       "      <td>10.280702</td>\n",
       "      <td>32</td>\n",
       "      <td>1.333333</td>\n",
       "    </tr>\n",
       "  </tbody>\n",
       "</table>\n",
       "</div>"
      ],
      "text/plain": [
       "    cstno  order_id  order_interval  pl_N  user_ReorderedRatio\n",
       "0  100041       163        8.319018    29             1.260870\n",
       "1  100103       137        6.883212    16             1.333333\n",
       "2  100165       127        9.527559    25             1.470588\n",
       "3  100270        46        7.217391     5             1.666667\n",
       "4  100359       171       10.280702    32             1.333333"
      ]
     },
     "execution_count": 103,
     "metadata": {},
     "output_type": "execute_result"
    }
   ],
   "source": [
    "users_stat_test.head(5)"
   ]
  },
  {
   "cell_type": "markdown",
   "id": "b3af7f34-b519-4f69-aa82-2d932e3b25fa",
   "metadata": {
    "tags": []
   },
   "source": [
    "### ⅲ. 고객별 구매 상품 리스트 (purchase_list)"
   ]
  },
  {
   "cell_type": "code",
   "execution_count": 104,
   "id": "f60ce726-b228-4ac5-a091-3b95f73d32fd",
   "metadata": {},
   "outputs": [],
   "source": [
    "purchase_list_test = test.groupby(['cstno','product_id'],as_index=False)['order_number'].count().rename(columns={'order_number':'pl_N'})"
   ]
  },
  {
   "cell_type": "code",
   "execution_count": 105,
   "id": "938141dc-54f7-411f-9b0f-e60c0e6a6e83",
   "metadata": {},
   "outputs": [],
   "source": [
    "a = test.groupby(['cstno','product_id'],as_index=False)['order_number'].min().rename(columns={'order_number':'pl_FirstPurchase'})"
   ]
  },
  {
   "cell_type": "code",
   "execution_count": 106,
   "id": "fcdc93dc-a9c3-4402-b7ab-2aaa1504e472",
   "metadata": {},
   "outputs": [],
   "source": [
    "purchase_list_test = purchase_list_test.merge(a,on=['cstno','product_id'],how='left')"
   ]
  },
  {
   "cell_type": "code",
   "execution_count": 107,
   "id": "6cf7cb48-47f6-4cf7-8f4d-6dc57ea14e8d",
   "metadata": {},
   "outputs": [],
   "source": [
    "b = test.groupby(['cstno','product_id'],as_index=False)['order_number'].max().rename(columns={'order_number':'pl_LastPurchase'})"
   ]
  },
  {
   "cell_type": "code",
   "execution_count": 108,
   "id": "0bf2ca66-c8ad-426b-a426-1fa06ab85f86",
   "metadata": {},
   "outputs": [],
   "source": [
    "purchase_list_test = purchase_list_test.merge(b,on=['cstno','product_id'],how='left')"
   ]
  },
  {
   "cell_type": "code",
   "execution_count": 109,
   "id": "d661f784-ca1b-467f-a2b4-eef9f451f0e4",
   "metadata": {},
   "outputs": [],
   "source": [
    "c = test.groupby(['cstno','product_id'],as_index=False)['add_order'].median().rename(columns={'add_order':'pl_CartOrder'})"
   ]
  },
  {
   "cell_type": "code",
   "execution_count": 110,
   "id": "e38a523a-fd73-4d0e-af6e-31fb6dbdaba1",
   "metadata": {},
   "outputs": [],
   "source": [
    "purchase_list_test = purchase_list_test.merge(c,on=['cstno','product_id'],how='left')"
   ]
  },
  {
   "cell_type": "code",
   "execution_count": 111,
   "id": "b67e88d0-c268-4991-9b47-d73255f3e16a",
   "metadata": {},
   "outputs": [
    {
     "data": {
      "text/html": [
       "<div>\n",
       "<style scoped>\n",
       "    .dataframe tbody tr th:only-of-type {\n",
       "        vertical-align: middle;\n",
       "    }\n",
       "\n",
       "    .dataframe tbody tr th {\n",
       "        vertical-align: top;\n",
       "    }\n",
       "\n",
       "    .dataframe thead th {\n",
       "        text-align: right;\n",
       "    }\n",
       "</style>\n",
       "<table border=\"1\" class=\"dataframe\">\n",
       "  <thead>\n",
       "    <tr style=\"text-align: right;\">\n",
       "      <th></th>\n",
       "      <th>cstno</th>\n",
       "      <th>product_id</th>\n",
       "      <th>pl_N</th>\n",
       "      <th>pl_FirstPurchase</th>\n",
       "      <th>pl_LastPurchase</th>\n",
       "      <th>pl_CartOrder</th>\n",
       "    </tr>\n",
       "  </thead>\n",
       "  <tbody>\n",
       "    <tr>\n",
       "      <th>0</th>\n",
       "      <td>100041</td>\n",
       "      <td>13176</td>\n",
       "      <td>19</td>\n",
       "      <td>1</td>\n",
       "      <td>39</td>\n",
       "      <td>5.0</td>\n",
       "    </tr>\n",
       "    <tr>\n",
       "      <th>1</th>\n",
       "      <td>100041</td>\n",
       "      <td>17794</td>\n",
       "      <td>2</td>\n",
       "      <td>21</td>\n",
       "      <td>27</td>\n",
       "      <td>8.0</td>\n",
       "    </tr>\n",
       "    <tr>\n",
       "      <th>2</th>\n",
       "      <td>100041</td>\n",
       "      <td>21137</td>\n",
       "      <td>5</td>\n",
       "      <td>3</td>\n",
       "      <td>39</td>\n",
       "      <td>10.0</td>\n",
       "    </tr>\n",
       "    <tr>\n",
       "      <th>3</th>\n",
       "      <td>100041</td>\n",
       "      <td>21616</td>\n",
       "      <td>2</td>\n",
       "      <td>7</td>\n",
       "      <td>40</td>\n",
       "      <td>4.0</td>\n",
       "    </tr>\n",
       "    <tr>\n",
       "      <th>4</th>\n",
       "      <td>100041</td>\n",
       "      <td>21903</td>\n",
       "      <td>16</td>\n",
       "      <td>1</td>\n",
       "      <td>31</td>\n",
       "      <td>4.0</td>\n",
       "    </tr>\n",
       "  </tbody>\n",
       "</table>\n",
       "</div>"
      ],
      "text/plain": [
       "    cstno product_id  pl_N  pl_FirstPurchase  pl_LastPurchase  pl_CartOrder\n",
       "0  100041      13176    19                 1               39           5.0\n",
       "1  100041      17794     2                21               27           8.0\n",
       "2  100041      21137     5                 3               39          10.0\n",
       "3  100041      21616     2                 7               40           4.0\n",
       "4  100041      21903    16                 1               31           4.0"
      ]
     },
     "execution_count": 111,
     "metadata": {},
     "output_type": "execute_result"
    }
   ],
   "source": [
    "purchase_list_test.head(5)"
   ]
  },
  {
   "cell_type": "code",
   "execution_count": 112,
   "id": "6627457b-26bf-48fc-bd54-1d1b4b5acc91",
   "metadata": {},
   "outputs": [],
   "source": [
    "purchase_list_test = purchase_list_test.merge(products_stat_test,on='product_id',how='inner')"
   ]
  },
  {
   "cell_type": "code",
   "execution_count": 113,
   "id": "fc74775f-c543-430f-87ae-16bac471629b",
   "metadata": {},
   "outputs": [],
   "source": [
    "purchase_list_test = purchase_list_test.merge(users_stat_test,on='cstno',how='inner')"
   ]
  },
  {
   "cell_type": "code",
   "execution_count": 114,
   "id": "75c49bf4-0c35-4cdf-b95f-483a6399df94",
   "metadata": {},
   "outputs": [
    {
     "data": {
      "text/html": [
       "<div>\n",
       "<style scoped>\n",
       "    .dataframe tbody tr th:only-of-type {\n",
       "        vertical-align: middle;\n",
       "    }\n",
       "\n",
       "    .dataframe tbody tr th {\n",
       "        vertical-align: top;\n",
       "    }\n",
       "\n",
       "    .dataframe thead th {\n",
       "        text-align: right;\n",
       "    }\n",
       "</style>\n",
       "<table border=\"1\" class=\"dataframe\">\n",
       "  <thead>\n",
       "    <tr style=\"text-align: right;\">\n",
       "      <th></th>\n",
       "      <th>cstno</th>\n",
       "      <th>product_id</th>\n",
       "      <th>pl_N_x</th>\n",
       "      <th>pl_FirstPurchase</th>\n",
       "      <th>pl_LastPurchase</th>\n",
       "      <th>pl_CartOrder</th>\n",
       "      <th>prod_N</th>\n",
       "      <th>prod_ReorderedRatio</th>\n",
       "      <th>prod_FirstOrders</th>\n",
       "      <th>prod_ReorderedProb</th>\n",
       "      <th>prod_OrderedTime</th>\n",
       "      <th>prod_ReorderedPeriod</th>\n",
       "      <th>prod_CartOrder</th>\n",
       "      <th>order_id</th>\n",
       "      <th>order_interval</th>\n",
       "      <th>pl_N_y</th>\n",
       "      <th>user_ReorderedRatio</th>\n",
       "    </tr>\n",
       "  </thead>\n",
       "  <tbody>\n",
       "    <tr>\n",
       "      <th>0</th>\n",
       "      <td>100041</td>\n",
       "      <td>13176</td>\n",
       "      <td>19</td>\n",
       "      <td>1</td>\n",
       "      <td>39</td>\n",
       "      <td>5.0</td>\n",
       "      <td>29086</td>\n",
       "      <td>0.915526</td>\n",
       "      <td>2457</td>\n",
       "      <td>0.868539</td>\n",
       "      <td>13</td>\n",
       "      <td>7</td>\n",
       "      <td>4</td>\n",
       "      <td>163</td>\n",
       "      <td>8.319018</td>\n",
       "      <td>29</td>\n",
       "      <td>1.26087</td>\n",
       "    </tr>\n",
       "    <tr>\n",
       "      <th>1</th>\n",
       "      <td>100041</td>\n",
       "      <td>17794</td>\n",
       "      <td>2</td>\n",
       "      <td>21</td>\n",
       "      <td>27</td>\n",
       "      <td>8.0</td>\n",
       "      <td>5295</td>\n",
       "      <td>0.747686</td>\n",
       "      <td>1336</td>\n",
       "      <td>0.667665</td>\n",
       "      <td>13</td>\n",
       "      <td>7</td>\n",
       "      <td>7</td>\n",
       "      <td>163</td>\n",
       "      <td>8.319018</td>\n",
       "      <td>29</td>\n",
       "      <td>1.26087</td>\n",
       "    </tr>\n",
       "    <tr>\n",
       "      <th>2</th>\n",
       "      <td>100041</td>\n",
       "      <td>21137</td>\n",
       "      <td>5</td>\n",
       "      <td>3</td>\n",
       "      <td>39</td>\n",
       "      <td>10.0</td>\n",
       "      <td>20064</td>\n",
       "      <td>0.868820</td>\n",
       "      <td>2632</td>\n",
       "      <td>0.832447</td>\n",
       "      <td>13</td>\n",
       "      <td>7</td>\n",
       "      <td>6</td>\n",
       "      <td>163</td>\n",
       "      <td>8.319018</td>\n",
       "      <td>29</td>\n",
       "      <td>1.26087</td>\n",
       "    </tr>\n",
       "    <tr>\n",
       "      <th>3</th>\n",
       "      <td>100041</td>\n",
       "      <td>21616</td>\n",
       "      <td>2</td>\n",
       "      <td>7</td>\n",
       "      <td>40</td>\n",
       "      <td>4.0</td>\n",
       "      <td>5389</td>\n",
       "      <td>0.790499</td>\n",
       "      <td>1129</td>\n",
       "      <td>0.683791</td>\n",
       "      <td>13</td>\n",
       "      <td>7</td>\n",
       "      <td>7</td>\n",
       "      <td>163</td>\n",
       "      <td>8.319018</td>\n",
       "      <td>29</td>\n",
       "      <td>1.26087</td>\n",
       "    </tr>\n",
       "    <tr>\n",
       "      <th>4</th>\n",
       "      <td>100041</td>\n",
       "      <td>21903</td>\n",
       "      <td>16</td>\n",
       "      <td>1</td>\n",
       "      <td>31</td>\n",
       "      <td>4.0</td>\n",
       "      <td>16974</td>\n",
       "      <td>0.869860</td>\n",
       "      <td>2209</td>\n",
       "      <td>0.822997</td>\n",
       "      <td>13</td>\n",
       "      <td>7</td>\n",
       "      <td>6</td>\n",
       "      <td>163</td>\n",
       "      <td>8.319018</td>\n",
       "      <td>29</td>\n",
       "      <td>1.26087</td>\n",
       "    </tr>\n",
       "  </tbody>\n",
       "</table>\n",
       "</div>"
      ],
      "text/plain": [
       "    cstno product_id  pl_N_x  pl_FirstPurchase  pl_LastPurchase  pl_CartOrder  \\\n",
       "0  100041      13176      19                 1               39           5.0   \n",
       "1  100041      17794       2                21               27           8.0   \n",
       "2  100041      21137       5                 3               39          10.0   \n",
       "3  100041      21616       2                 7               40           4.0   \n",
       "4  100041      21903      16                 1               31           4.0   \n",
       "\n",
       "   prod_N  prod_ReorderedRatio  prod_FirstOrders  prod_ReorderedProb  \\\n",
       "0   29086             0.915526              2457            0.868539   \n",
       "1    5295             0.747686              1336            0.667665   \n",
       "2   20064             0.868820              2632            0.832447   \n",
       "3    5389             0.790499              1129            0.683791   \n",
       "4   16974             0.869860              2209            0.822997   \n",
       "\n",
       "   prod_OrderedTime  prod_ReorderedPeriod  prod_CartOrder  order_id  \\\n",
       "0                13                     7               4       163   \n",
       "1                13                     7               7       163   \n",
       "2                13                     7               6       163   \n",
       "3                13                     7               7       163   \n",
       "4                13                     7               6       163   \n",
       "\n",
       "   order_interval  pl_N_y  user_ReorderedRatio  \n",
       "0        8.319018      29              1.26087  \n",
       "1        8.319018      29              1.26087  \n",
       "2        8.319018      29              1.26087  \n",
       "3        8.319018      29              1.26087  \n",
       "4        8.319018      29              1.26087  "
      ]
     },
     "execution_count": 114,
     "metadata": {},
     "output_type": "execute_result"
    }
   ],
   "source": [
    "purchase_list_test.head(5)"
   ]
  },
  {
   "cell_type": "code",
   "execution_count": null,
   "id": "354bde9d-bd51-46c8-b657-25cc126b19eb",
   "metadata": {},
   "outputs": [],
   "source": [
    "test_X = purchase_list_test.drop(columns='product_id')"
   ]
  },
  {
   "cell_type": "code",
   "execution_count": 116,
   "id": "cbbbfe45-5d85-4c5a-8519-19d984b42c49",
   "metadata": {},
   "outputs": [],
   "source": [
    "test_y = purchase_list_test['product_id']"
   ]
  },
  {
   "cell_type": "code",
   "execution_count": 117,
   "id": "030879c1-cfd4-41d3-9b9d-dbf3d59aacf5",
   "metadata": {},
   "outputs": [
    {
     "data": {
      "text/plain": [
       "171635"
      ]
     },
     "execution_count": 117,
     "metadata": {},
     "output_type": "execute_result"
    }
   ],
   "source": [
    "len(train_X)"
   ]
  },
  {
   "cell_type": "markdown",
   "id": "166e1bf8-bc5f-4209-b751-e2c73896276c",
   "metadata": {
    "tags": []
   },
   "source": [
    "# 03. modeling"
   ]
  },
  {
   "cell_type": "code",
   "execution_count": 118,
   "id": "59c5e216-30cb-4eaf-92b7-a7d23558b706",
   "metadata": {},
   "outputs": [],
   "source": [
    "train_X = train_X.drop(columns='cstno')"
   ]
  },
  {
   "cell_type": "code",
   "execution_count": 119,
   "id": "aef988cf-ba91-476a-80fc-8316eb584ab7",
   "metadata": {},
   "outputs": [],
   "source": [
    "test_X = test_X.drop(columns='cstno')"
   ]
  },
  {
   "cell_type": "code",
   "execution_count": 120,
   "id": "1ab25c8a-8014-4044-a136-a98af31f2dd9",
   "metadata": {},
   "outputs": [],
   "source": [
    "from xgboost import XGBClassifier"
   ]
  },
  {
   "cell_type": "code",
   "execution_count": 121,
   "id": "5e4f5460-5dbf-4df4-9b56-62609f459be4",
   "metadata": {},
   "outputs": [],
   "source": [
    "model_XGB = XGBClassifier()"
   ]
  },
  {
   "cell_type": "code",
   "execution_count": 122,
   "id": "790075fa-5402-4a1f-9bf6-b7dfd0477559",
   "metadata": {},
   "outputs": [
    {
     "name": "stderr",
     "output_type": "stream",
     "text": [
      "/opt/conda/envs/python3.6/lib/python3.6/site-packages/xgboost/sklearn.py:1224: UserWarning: The use of label encoder in XGBClassifier is deprecated and will be removed in a future release. To remove this warning, do the following: 1) Pass option use_label_encoder=False when constructing XGBClassifier object; and 2) Encode your labels (y) as integers starting with 0, i.e. 0, 1, 2, ..., [num_class - 1].\n",
      "  warnings.warn(label_encoder_deprecation_msg, UserWarning)\n"
     ]
    },
    {
     "name": "stdout",
     "output_type": "stream",
     "text": [
      "[23:13:31] WARNING: ../src/learner.cc:1115: Starting in XGBoost 1.3.0, the default evaluation metric used with the objective 'multi:softprob' was changed from 'merror' to 'mlogloss'. Explicitly set eval_metric if you'd like to restore the old behavior.\n"
     ]
    },
    {
     "data": {
      "text/plain": [
       "XGBClassifier(base_score=0.5, booster='gbtree', colsample_bylevel=1,\n",
       "              colsample_bynode=1, colsample_bytree=1, enable_categorical=False,\n",
       "              gamma=0, gpu_id=-1, importance_type=None,\n",
       "              interaction_constraints='', learning_rate=0.300000012,\n",
       "              max_delta_step=0, max_depth=6, min_child_weight=1, missing=nan,\n",
       "              monotone_constraints='()', n_estimators=100, n_jobs=48,\n",
       "              num_parallel_tree=1, objective='multi:softprob', predictor='auto',\n",
       "              random_state=0, reg_alpha=0, reg_lambda=1, scale_pos_weight=None,\n",
       "              subsample=1, tree_method='exact', validate_parameters=1,\n",
       "              verbosity=None)"
      ]
     },
     "execution_count": 122,
     "metadata": {},
     "output_type": "execute_result"
    }
   ],
   "source": [
    "model_XGB.fit(train_X,train_y)"
   ]
  },
  {
   "cell_type": "code",
   "execution_count": 123,
   "id": "14c87af6-838d-4b32-a1a1-7372c40b3e38",
   "metadata": {},
   "outputs": [],
   "source": [
    "y_pred = model_XGB.predict(test_X)"
   ]
  },
  {
   "cell_type": "code",
   "execution_count": 128,
   "id": "b8b7e5a1-2124-4d91-b72b-40f7bd6743d1",
   "metadata": {},
   "outputs": [],
   "source": [
    "from sklearn.metrics import accuracy_score"
   ]
  },
  {
   "cell_type": "code",
   "execution_count": 129,
   "id": "31c17a00-fb32-4654-9738-d2e220ab2f3c",
   "metadata": {},
   "outputs": [
    {
     "data": {
      "text/plain": [
       "0.01340081260246632"
      ]
     },
     "execution_count": 129,
     "metadata": {},
     "output_type": "execute_result"
    }
   ],
   "source": [
    "accuracy_score(y_pred,test_y)"
   ]
  },
  {
   "cell_type": "code",
   "execution_count": 151,
   "id": "2375bc7d-3559-45e4-8123-3de6baebc2c6",
   "metadata": {},
   "outputs": [
    {
     "data": {
      "text/plain": [
       "16126"
      ]
     },
     "execution_count": 151,
     "metadata": {},
     "output_type": "execute_result"
    }
   ],
   "source": [
    "len(test_x_current)"
   ]
  },
  {
   "cell_type": "code",
   "execution_count": 130,
   "id": "ce4eb8ea-04cb-4b83-8fcc-4da87e8493b4",
   "metadata": {},
   "outputs": [],
   "source": [
    "test_x_current = m._read_table('test_x_current')"
   ]
  },
  {
   "cell_type": "code",
   "execution_count": 134,
   "id": "847fe4bd-e27d-4a36-b6ab-32d5d88ae555",
   "metadata": {},
   "outputs": [],
   "source": [
    "test_X = purchase_list_test.drop(columns='product_id')"
   ]
  },
  {
   "cell_type": "code",
   "execution_count": 141,
   "id": "b15daf6a-9b84-4490-a10b-1044ec602cdf",
   "metadata": {},
   "outputs": [],
   "source": [
    "final_test = pd.merge(test_x_current[['cstno']],test_X,on='cstno',how='left')"
   ]
  },
  {
   "cell_type": "code",
   "execution_count": 142,
   "id": "67f69103-5cef-4fc3-9465-ad8c864c2de9",
   "metadata": {},
   "outputs": [],
   "source": [
    "final_test = final_test.drop(columns='cstno')"
   ]
  },
  {
   "cell_type": "code",
   "execution_count": 144,
   "id": "8e13e47c-601c-4603-9413-7e1c0fda9eeb",
   "metadata": {},
   "outputs": [],
   "source": [
    "final = model_XGB.predict(final_test)"
   ]
  },
  {
   "cell_type": "code",
   "execution_count": 148,
   "id": "4ac6bd80-4c5d-4ce5-8c0a-a9298d3c148b",
   "metadata": {},
   "outputs": [],
   "source": [
    "final_df = pd.DataFrame({'y':final})"
   ]
  },
  {
   "cell_type": "code",
   "execution_count": 149,
   "id": "d9a1410d-1d16-494e-8b3c-f96c55738391",
   "metadata": {},
   "outputs": [],
   "source": [
    "final_df.to_csv('test_y.csv')"
   ]
  }
 ],
 "metadata": {
  "kernelspec": {
   "display_name": "Python 3",
   "language": "python",
   "name": "python3"
  },
  "language_info": {
   "codemirror_mode": {
    "name": "ipython",
    "version": 3
   },
   "file_extension": ".py",
   "mimetype": "text/x-python",
   "name": "python",
   "nbconvert_exporter": "python",
   "pygments_lexer": "ipython3",
   "version": "3.6.13"
  }
 },
 "nbformat": 4,
 "nbformat_minor": 5
}
