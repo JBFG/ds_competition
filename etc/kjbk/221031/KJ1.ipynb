{
 "cells": [
  {
   "cell_type": "markdown",
   "id": "a00a76cb-f753-4b95-860e-1f98e3f76abd",
   "metadata": {
    "tags": []
   },
   "source": [
    "# 1. Data Set 설명"
   ]
  },
  {
   "cell_type": "raw",
   "id": "bce64e2a-509c-4caf-8bc4-cd0c918a9eec",
   "metadata": {},
   "source": [
    " # 데이터 세트 개요\n",
    "  - 상품 : 100개, 고객 : 10,000명\n",
    "  - 시간(구매요일/시각), 주문서에 담긴 순서, 재구매 등에 따른 고객별 구매 내역 정보\n",
    "  - 과거 구매 내역을 통해 소비패턴 발견\n",
    "  - 한 번의 구매 내역(order_id) 안에 여러 상품 정보가 담길 수 있음\n",
    "  -> test_x_current 테이블의 각 상품 구매 내역(row)에 대한 \n",
    "     현재 구매 중인 상품ID를 예측한 test_y.csv 생성"
   ]
  },
  {
   "cell_type": "raw",
   "id": "bbf4bf6b-fab7-4a8a-bc74-e1a0a566fb64",
   "metadata": {},
   "source": [
    " # 테이블 개요\n",
    "  - products_info : 100개 상품에 대한 정보 (id, 이름, 분류명, 담당부서명 등)\n",
    "  - train_x_past : 5,859명 고객들의 과거 구매 이력\n",
    "  - train_x_current : 상품 ID를 제외한 5,859명 고객들의 현재 구매 정보\n",
    "  - train_y : 5,859명 고객들의 현재 주문 정보에 대한 상품 ID\n",
    "  - test_x_past : 4,141명 고객들의 과거 구매 이력\n",
    "  - test_x_current : 상품 ID를 제외한 4,141명 고객들이 현재 구매 정보"
   ]
  },
  {
   "cell_type": "markdown",
   "id": "eb999a1f-1f9c-4d75-9af1-e3dc60ac88ad",
   "metadata": {},
   "source": [
    "# 2. Data Preparation"
   ]
  },
  {
   "cell_type": "code",
   "execution_count": 1,
   "id": "5cf7c63e-ef5a-43e9-aee4-14073cb18323",
   "metadata": {},
   "outputs": [],
   "source": [
    "# 라이브러리\n",
    "\n",
    "from jbfg.pandas_utils import *\n",
    "import calendar\n",
    "from datetime import date, datetime, timedelta\n",
    "from dateutil.relativedelta import relativedelta\n",
    "import matplotlib.pyplot as plt\n",
    "import matplotlib.font_manager as fm\n",
    "import seaborn as sns\n",
    "import numpy as np \n",
    "import pandas as pd\n",
    "import pickle as pkl\n",
    "import random\n",
    "import IPython.display\n",
    "\n",
    "#color = sns.color_palette(\"crest\", 8)\n",
    "#cmap_colors = sns.cubehelix_palette(start=.5, rot=-.5, as_cmap=True)\n",
    "\n",
    "#%matplotlib inline\n",
    "\n",
    "\n",
    "#pd.options.mode.chained_assignment = None"
   ]
  },
  {
   "cell_type": "code",
   "execution_count": 1,
   "id": "3198da50-07c5-40c2-8ad7-5a00c2fbf324",
   "metadata": {},
   "outputs": [],
   "source": [
    "from jbfg.pandas_utils import *\n",
    "import pandas as pd\n",
    "import numpy as np\n",
    "import matplotlib.pyplot as plt\n",
    "import matplotlib.font_manager as fm\n",
    "import seaborn as sns\n",
    "import pickle as pkl\n",
    "import calendar\n",
    "\n",
    "from datetime import date, datetime, timedelta\n",
    "from dateutil.relativedelta import relativedelta"
   ]
  },
  {
   "cell_type": "markdown",
   "id": "14960f7f-6e86-4a33-8908-0d21cbdbea62",
   "metadata": {},
   "source": [
    "### 테이블 조회"
   ]
  },
  {
   "cell_type": "code",
   "execution_count": 172,
   "id": "e27c5440-12cd-446a-8d48-403bfd04a47a",
   "metadata": {},
   "outputs": [],
   "source": [
    "schema = 'l2_kjbk_extnl'\n",
    "products_sql = 'select * from products_info'\n",
    "train_x_past_sql = 'select * from train_x_past'\n",
    "train_x_current_sql = 'select * from train_x_current'\n",
    "train_y_sql = 'select * from train_y'\n",
    "test_x_past_sql = 'select * from test_x_past'\n",
    "test_x_current_sql = 'select * from test_x_current'"
   ]
  },
  {
   "cell_type": "code",
   "execution_count": 173,
   "id": "4d39d68f-1b14-4234-aeae-a4b0656f56a5",
   "metadata": {
    "tags": []
   },
   "outputs": [],
   "source": [
    "products_info = get_df(products_sql, schema)\n",
    "train_x_past = get_df(train_x_past_sql, schema)\n",
    "train_x_current = get_df(train_x_current_sql, schema)\n",
    "train_y = get_df(train_y_sql, schema)\n",
    "test_x_past =(test_x_past_sql, schema)\n",
    "test_x_current =(test_x_current_sql, schema)"
   ]
  },
  {
   "cell_type": "code",
   "execution_count": 174,
   "id": "5412042f-ce0d-46d9-9ee8-50a890169bbd",
   "metadata": {
    "collapsed": true,
    "jupyter": {
     "outputs_hidden": true
    },
    "tags": []
   },
   "outputs": [
    {
     "ename": "AttributeError",
     "evalue": "'tuple' object has no attribute 'copy'",
     "output_type": "error",
     "traceback": [
      "\u001b[0;31m---------------------------------------------------------------------------\u001b[0m",
      "\u001b[0;31mAttributeError\u001b[0m                            Traceback (most recent call last)",
      "\u001b[0;32m<ipython-input-304-fd8191f44340>\u001b[0m in \u001b[0;36m<module>\u001b[0;34m\u001b[0m\n\u001b[1;32m      2\u001b[0m \u001b[0mtrain_past\u001b[0m \u001b[0;34m=\u001b[0m \u001b[0mtrain_x_past\u001b[0m\u001b[0;34m.\u001b[0m\u001b[0mcopy\u001b[0m\u001b[0;34m(\u001b[0m\u001b[0;34m)\u001b[0m\u001b[0;34m\u001b[0m\u001b[0;34m\u001b[0m\u001b[0m\n\u001b[1;32m      3\u001b[0m \u001b[0mtrain_current\u001b[0m \u001b[0;34m=\u001b[0m \u001b[0mtrain_x_current\u001b[0m\u001b[0;34m.\u001b[0m\u001b[0mcopy\u001b[0m\u001b[0;34m(\u001b[0m\u001b[0;34m)\u001b[0m\u001b[0;34m\u001b[0m\u001b[0;34m\u001b[0m\u001b[0m\n\u001b[0;32m----> 4\u001b[0;31m \u001b[0mtest_past\u001b[0m \u001b[0;34m=\u001b[0m \u001b[0mtest_x_past\u001b[0m\u001b[0;34m.\u001b[0m\u001b[0mcopy\u001b[0m\u001b[0;34m(\u001b[0m\u001b[0;34m)\u001b[0m\u001b[0;34m\u001b[0m\u001b[0;34m\u001b[0m\u001b[0m\n\u001b[0m",
      "\u001b[0;31mAttributeError\u001b[0m: 'tuple' object has no attribute 'copy'"
     ]
    }
   ],
   "source": [
    "products = products_info.copy()\n",
    "train_past = train_x_past.copy()\n",
    "train_current = train_x_current.copy()"
   ]
  },
  {
   "cell_type": "code",
   "execution_count": 317,
   "id": "61fd27e3-e748-4f10-94e9-8c19f8868fc5",
   "metadata": {
    "tags": []
   },
   "outputs": [],
   "source": [
    "# data 타입변환\n",
    "def type_change(df, col, to_type):\n",
    "    df[col] = df[col].astype(to_type)\n",
    "    return df\n",
    "\n",
    "def _str2int(strV, replaceV_when_blank):\n",
    "    if strV in (None,\" \",\"\"): return int(replaceV_when_blank)\n",
    "    else: return int(float(strV.replace(\" \",\"\")))"
   ]
  },
  {
   "cell_type": "code",
   "execution_count": 318,
   "id": "7913d92c-05c1-49c6-ab24-8b21d4d82032",
   "metadata": {},
   "outputs": [],
   "source": [
    "type_change(train_past, ['order_number', 'week_day', 'order_hour', 'add_order', 'is_reordered'], 'int')\n",
    "type_change(train_current, ['order_number', 'week_day', 'order_hour', 'add_order', 'is_reordered'], 'int')\n",
    "train_past.order_interval = train_past.order_interval.map(lambda x : _str2int(x,0))\n",
    "train_current.order_interval = train_current.order_interval.map(lambda x : _str2int(x,0))"
   ]
  },
  {
   "cell_type": "code",
   "execution_count": null,
   "id": "e3161e06-b6a5-46a6-8927-6d788b531523",
   "metadata": {},
   "outputs": [],
   "source": []
  },
  {
   "cell_type": "markdown",
   "id": "710015de-d669-4b84-86a8-41d9dc55972e",
   "metadata": {},
   "source": [
    "### 테이블 합치기"
   ]
  },
  {
   "cell_type": "code",
   "execution_count": 233,
   "id": "ca49f800-6ed0-4504-83e6-6a0d735d7398",
   "metadata": {},
   "outputs": [
    {
     "data": {
      "text/html": [
       "<div>\n",
       "<style scoped>\n",
       "    .dataframe tbody tr th:only-of-type {\n",
       "        vertical-align: middle;\n",
       "    }\n",
       "\n",
       "    .dataframe tbody tr th {\n",
       "        vertical-align: top;\n",
       "    }\n",
       "\n",
       "    .dataframe thead th {\n",
       "        text-align: right;\n",
       "    }\n",
       "</style>\n",
       "<table border=\"1\" class=\"dataframe\">\n",
       "  <thead>\n",
       "    <tr style=\"text-align: right;\">\n",
       "      <th></th>\n",
       "      <th>order_id</th>\n",
       "      <th>cstno</th>\n",
       "      <th>order_number</th>\n",
       "      <th>week_day</th>\n",
       "      <th>order_hour</th>\n",
       "      <th>order_interval</th>\n",
       "      <th>add_order</th>\n",
       "      <th>is_reordered</th>\n",
       "      <th>product_id</th>\n",
       "    </tr>\n",
       "  </thead>\n",
       "  <tbody>\n",
       "    <tr>\n",
       "      <th>0</th>\n",
       "      <td>806422</td>\n",
       "      <td>41116</td>\n",
       "      <td>47</td>\n",
       "      <td>5</td>\n",
       "      <td>18</td>\n",
       "      <td>3</td>\n",
       "      <td>4</td>\n",
       "      <td>1</td>\n",
       "      <td>21709</td>\n",
       "    </tr>\n",
       "    <tr>\n",
       "      <th>1</th>\n",
       "      <td>2146033</td>\n",
       "      <td>127113</td>\n",
       "      <td>45</td>\n",
       "      <td>1</td>\n",
       "      <td>10</td>\n",
       "      <td>7</td>\n",
       "      <td>24</td>\n",
       "      <td>1</td>\n",
       "      <td>21709</td>\n",
       "    </tr>\n",
       "    <tr>\n",
       "      <th>2</th>\n",
       "      <td>3055498</td>\n",
       "      <td>140168</td>\n",
       "      <td>45</td>\n",
       "      <td>5</td>\n",
       "      <td>10</td>\n",
       "      <td>26</td>\n",
       "      <td>11</td>\n",
       "      <td>1</td>\n",
       "      <td>21709</td>\n",
       "    </tr>\n",
       "  </tbody>\n",
       "</table>\n",
       "</div>"
      ],
      "text/plain": [
       "  order_id   cstno  order_number  week_day  order_hour  order_interval  \\\n",
       "0   806422   41116            47         5          18               3   \n",
       "1  2146033  127113            45         1          10               7   \n",
       "2  3055498  140168            45         5          10              26   \n",
       "\n",
       "   add_order  is_reordered product_id  \n",
       "0          4             1      21709  \n",
       "1         24             1      21709  \n",
       "2         11             1      21709  "
      ]
     },
     "execution_count": 233,
     "metadata": {},
     "output_type": "execute_result"
    }
   ],
   "source": [
    "# train_curr = train_current + train_y \n",
    "train_curr = pd.concat([train_current, train_y], axis=1) \n",
    "train_curr.head(3)\n"
   ]
  },
  {
   "cell_type": "code",
   "execution_count": 234,
   "id": "25f6df76-5616-4057-9287-c52d9f258cc1",
   "metadata": {
    "tags": []
   },
   "outputs": [
    {
     "data": {
      "text/html": [
       "<div>\n",
       "<style scoped>\n",
       "    .dataframe tbody tr th:only-of-type {\n",
       "        vertical-align: middle;\n",
       "    }\n",
       "\n",
       "    .dataframe tbody tr th {\n",
       "        vertical-align: top;\n",
       "    }\n",
       "\n",
       "    .dataframe thead th {\n",
       "        text-align: right;\n",
       "    }\n",
       "</style>\n",
       "<table border=\"1\" class=\"dataframe\">\n",
       "  <thead>\n",
       "    <tr style=\"text-align: right;\">\n",
       "      <th></th>\n",
       "      <th>order_id</th>\n",
       "      <th>cstno</th>\n",
       "      <th>order_number</th>\n",
       "      <th>week_day</th>\n",
       "      <th>order_hour</th>\n",
       "      <th>order_interval</th>\n",
       "      <th>add_order</th>\n",
       "      <th>is_reordered</th>\n",
       "      <th>product_id</th>\n",
       "      <th>last_order_yn</th>\n",
       "    </tr>\n",
       "  </thead>\n",
       "  <tbody>\n",
       "    <tr>\n",
       "      <th>0</th>\n",
       "      <td>717029</td>\n",
       "      <td>196613</td>\n",
       "      <td>15</td>\n",
       "      <td>1</td>\n",
       "      <td>9</td>\n",
       "      <td>3</td>\n",
       "      <td>5</td>\n",
       "      <td>0</td>\n",
       "      <td>41220</td>\n",
       "      <td>0</td>\n",
       "    </tr>\n",
       "    <tr>\n",
       "      <th>1</th>\n",
       "      <td>2325772</td>\n",
       "      <td>196613</td>\n",
       "      <td>35</td>\n",
       "      <td>6</td>\n",
       "      <td>11</td>\n",
       "      <td>2</td>\n",
       "      <td>7</td>\n",
       "      <td>1</td>\n",
       "      <td>41220</td>\n",
       "      <td>0</td>\n",
       "    </tr>\n",
       "    <tr>\n",
       "      <th>2</th>\n",
       "      <td>642668</td>\n",
       "      <td>196613</td>\n",
       "      <td>69</td>\n",
       "      <td>2</td>\n",
       "      <td>16</td>\n",
       "      <td>2</td>\n",
       "      <td>11</td>\n",
       "      <td>1</td>\n",
       "      <td>4210</td>\n",
       "      <td>0</td>\n",
       "    </tr>\n",
       "    <tr>\n",
       "      <th>3</th>\n",
       "      <td>1326515</td>\n",
       "      <td>196613</td>\n",
       "      <td>61</td>\n",
       "      <td>3</td>\n",
       "      <td>19</td>\n",
       "      <td>3</td>\n",
       "      <td>3</td>\n",
       "      <td>1</td>\n",
       "      <td>4210</td>\n",
       "      <td>0</td>\n",
       "    </tr>\n",
       "    <tr>\n",
       "      <th>4</th>\n",
       "      <td>1437845</td>\n",
       "      <td>196613</td>\n",
       "      <td>36</td>\n",
       "      <td>3</td>\n",
       "      <td>15</td>\n",
       "      <td>4</td>\n",
       "      <td>16</td>\n",
       "      <td>0</td>\n",
       "      <td>4210</td>\n",
       "      <td>0</td>\n",
       "    </tr>\n",
       "    <tr>\n",
       "      <th>...</th>\n",
       "      <td>...</td>\n",
       "      <td>...</td>\n",
       "      <td>...</td>\n",
       "      <td>...</td>\n",
       "      <td>...</td>\n",
       "      <td>...</td>\n",
       "      <td>...</td>\n",
       "      <td>...</td>\n",
       "      <td>...</td>\n",
       "      <td>...</td>\n",
       "    </tr>\n",
       "    <tr>\n",
       "      <th>24419</th>\n",
       "      <td>3184000</td>\n",
       "      <td>174046</td>\n",
       "      <td>100</td>\n",
       "      <td>5</td>\n",
       "      <td>7</td>\n",
       "      <td>2</td>\n",
       "      <td>12</td>\n",
       "      <td>1</td>\n",
       "      <td>24852</td>\n",
       "      <td>1</td>\n",
       "    </tr>\n",
       "    <tr>\n",
       "      <th>24420</th>\n",
       "      <td>1754722</td>\n",
       "      <td>6710</td>\n",
       "      <td>100</td>\n",
       "      <td>5</td>\n",
       "      <td>11</td>\n",
       "      <td>3</td>\n",
       "      <td>21</td>\n",
       "      <td>1</td>\n",
       "      <td>24852</td>\n",
       "      <td>1</td>\n",
       "    </tr>\n",
       "    <tr>\n",
       "      <th>24421</th>\n",
       "      <td>1076973</td>\n",
       "      <td>150840</td>\n",
       "      <td>100</td>\n",
       "      <td>0</td>\n",
       "      <td>13</td>\n",
       "      <td>0</td>\n",
       "      <td>18</td>\n",
       "      <td>1</td>\n",
       "      <td>24852</td>\n",
       "      <td>1</td>\n",
       "    </tr>\n",
       "    <tr>\n",
       "      <th>24422</th>\n",
       "      <td>1247049</td>\n",
       "      <td>99707</td>\n",
       "      <td>100</td>\n",
       "      <td>1</td>\n",
       "      <td>13</td>\n",
       "      <td>3</td>\n",
       "      <td>6</td>\n",
       "      <td>1</td>\n",
       "      <td>24852</td>\n",
       "      <td>1</td>\n",
       "    </tr>\n",
       "    <tr>\n",
       "      <th>24423</th>\n",
       "      <td>1775787</td>\n",
       "      <td>201038</td>\n",
       "      <td>100</td>\n",
       "      <td>5</td>\n",
       "      <td>9</td>\n",
       "      <td>2</td>\n",
       "      <td>1</td>\n",
       "      <td>1</td>\n",
       "      <td>24852</td>\n",
       "      <td>1</td>\n",
       "    </tr>\n",
       "  </tbody>\n",
       "</table>\n",
       "<p>1278396 rows × 10 columns</p>\n",
       "</div>"
      ],
      "text/plain": [
       "      order_id   cstno  order_number  week_day  order_hour  order_interval  \\\n",
       "0       717029  196613            15         1           9               3   \n",
       "1      2325772  196613            35         6          11               2   \n",
       "2       642668  196613            69         2          16               2   \n",
       "3      1326515  196613            61         3          19               3   \n",
       "4      1437845  196613            36         3          15               4   \n",
       "...        ...     ...           ...       ...         ...             ...   \n",
       "24419  3184000  174046           100         5           7               2   \n",
       "24420  1754722    6710           100         5          11               3   \n",
       "24421  1076973  150840           100         0          13               0   \n",
       "24422  1247049   99707           100         1          13               3   \n",
       "24423  1775787  201038           100         5           9               2   \n",
       "\n",
       "       add_order  is_reordered product_id  last_order_yn  \n",
       "0              5             0      41220              0  \n",
       "1              7             1      41220              0  \n",
       "2             11             1       4210              0  \n",
       "3              3             1       4210              0  \n",
       "4             16             0       4210              0  \n",
       "...          ...           ...        ...            ...  \n",
       "24419         12             1      24852              1  \n",
       "24420         21             1      24852              1  \n",
       "24421         18             1      24852              1  \n",
       "24422          6             1      24852              1  \n",
       "24423          1             1      24852              1  \n",
       "\n",
       "[1278396 rows x 10 columns]"
      ]
     },
     "metadata": {},
     "output_type": "display_data"
    }
   ],
   "source": [
    "# train = train_past + train_curr\n",
    "train_past['last_order_yn'] = 0\n",
    "train_curr['last_order_yn'] = 1\n",
    "\n",
    "train = pd.concat([train_past,train_curr], axis=0)\n",
    "display(train)"
   ]
  },
  {
   "cell_type": "code",
   "execution_count": 235,
   "id": "a72b8793-5768-4cad-81df-bddf50720253",
   "metadata": {},
   "outputs": [],
   "source": [
    "train = pd.merge(left = train, right = products, how = 'left', on = 'product_id')"
   ]
  },
  {
   "cell_type": "code",
   "execution_count": 301,
   "id": "478b8714-df0b-4bc7-b10f-e3727183f6d8",
   "metadata": {
    "tags": []
   },
   "outputs": [
    {
     "name": "stdout",
     "output_type": "stream",
     "text": [
      "<class 'pandas.core.frame.DataFrame'>\n",
      "Int64Index: 1278396 entries, 0 to 1278395\n",
      "Data columns (total 15 columns):\n",
      " #   Column          Non-Null Count    Dtype \n",
      "---  ------          --------------    ----- \n",
      " 0   order_id        1278396 non-null  object\n",
      " 1   cstno           1278396 non-null  object\n",
      " 2   order_number    1278396 non-null  int64 \n",
      " 3   week_day        1278396 non-null  int64 \n",
      " 4   order_hour      1278396 non-null  int64 \n",
      " 5   order_interval  1278396 non-null  int64 \n",
      " 6   add_order       1278396 non-null  int64 \n",
      " 7   is_reordered    1278396 non-null  int64 \n",
      " 8   product_id      1278396 non-null  object\n",
      " 9   last_order_yn   1278396 non-null  int64 \n",
      " 10  name            1278396 non-null  object\n",
      " 11  category_id     1278396 non-null  object\n",
      " 12  division_id     1278396 non-null  object\n",
      " 13  category_name   1278396 non-null  object\n",
      " 14  division_name   1278396 non-null  object\n",
      "dtypes: int64(7), object(8)\n",
      "memory usage: 156.1+ MB\n"
     ]
    }
   ],
   "source": [
    "train.info()"
   ]
  },
  {
   "cell_type": "code",
   "execution_count": 237,
   "id": "17d68b84-619a-4194-a841-9d72f79a7dd9",
   "metadata": {},
   "outputs": [],
   "source": [
    "train_p = train.loc[train['last_order_yn'] ==0]\n",
    "train_c = train.loc[train['last_order_yn'] ==1]"
   ]
  },
  {
   "cell_type": "code",
   "execution_count": 238,
   "id": "32a35ea6-c228-4c39-9ea4-06a94e0b4554",
   "metadata": {},
   "outputs": [
    {
     "name": "stdout",
     "output_type": "stream",
     "text": [
      "total no. of values = 1278396\n",
      "no. of null values = 0\n"
     ]
    }
   ],
   "source": [
    "number_of_nulls = train['order_interval'].isnull().sum(axis=0)\n",
    "print('total no. of values =', len(train))\n",
    "print('no. of null values =', number_of_nulls)"
   ]
  },
  {
   "cell_type": "code",
   "execution_count": 239,
   "id": "0d3d8fdf-c7cd-4e1c-8946-7066a0efce95",
   "metadata": {},
   "outputs": [
    {
     "data": {
      "text/plain": [
       "0    1253972\n",
       "1      24424\n",
       "Name: last_order_yn, dtype: int64"
      ]
     },
     "execution_count": 239,
     "metadata": {},
     "output_type": "execute_result"
    }
   ],
   "source": [
    "train['last_order_yn'].value_counts()"
   ]
  },
  {
   "cell_type": "code",
   "execution_count": null,
   "id": "1a037efa-e15b-451d-91eb-5762f8f37702",
   "metadata": {},
   "outputs": [],
   "source": []
  },
  {
   "cell_type": "code",
   "execution_count": null,
   "id": "ff9f1a18-65eb-4864-a032-ba8dab970796",
   "metadata": {},
   "outputs": [],
   "source": []
  },
  {
   "cell_type": "code",
   "execution_count": 17,
   "id": "d7809918-2977-49d9-ab2d-bced39188fa0",
   "metadata": {},
   "outputs": [
    {
     "data": {
      "text/plain": [
       "order_id          717029\n",
       "cstno             196613\n",
       "order_number          15\n",
       "week_day               1\n",
       "order_hour             9\n",
       "order_interval         3\n",
       "add_order              5\n",
       "is_reordered           0\n",
       "product_id         41220\n",
       "last_order_yn          0\n",
       "Name: 0, dtype: object"
      ]
     },
     "execution_count": 17,
     "metadata": {},
     "output_type": "execute_result"
    }
   ],
   "source": [
    "train2.reset_index(drop=True, inplace=True)\n",
    "train2.loc[0,:]"
   ]
  },
  {
   "cell_type": "code",
   "execution_count": 32,
   "id": "b68d74d4-d862-4581-aa47-1959acfd5a99",
   "metadata": {},
   "outputs": [],
   "source": [
    "# row_number\n",
    "def row_number(df, new_col, base_col, asc, agg_col):\n",
    "    df[new_col] = df.sort_values(base_col, ascending=asc).groupby(agg_col).cumcount() +1\n",
    "    return df"
   ]
  },
  {
   "cell_type": "code",
   "execution_count": 33,
   "id": "65ce2c21-06c3-4b21-8ee9-92913fbcc942",
   "metadata": {},
   "outputs": [
    {
     "data": {
      "text/html": [
       "<div>\n",
       "<style scoped>\n",
       "    .dataframe tbody tr th:only-of-type {\n",
       "        vertical-align: middle;\n",
       "    }\n",
       "\n",
       "    .dataframe tbody tr th {\n",
       "        vertical-align: top;\n",
       "    }\n",
       "\n",
       "    .dataframe thead th {\n",
       "        text-align: right;\n",
       "    }\n",
       "</style>\n",
       "<table border=\"1\" class=\"dataframe\">\n",
       "  <thead>\n",
       "    <tr style=\"text-align: right;\">\n",
       "      <th></th>\n",
       "      <th>order_id</th>\n",
       "      <th>cstno</th>\n",
       "      <th>order_number</th>\n",
       "      <th>week_day</th>\n",
       "      <th>order_hour</th>\n",
       "      <th>order_interval</th>\n",
       "      <th>add_order</th>\n",
       "      <th>is_reordered</th>\n",
       "      <th>product_id</th>\n",
       "      <th>last_order_yn</th>\n",
       "      <th>week_day_nm</th>\n",
       "      <th>add_order_2</th>\n",
       "    </tr>\n",
       "  </thead>\n",
       "  <tbody>\n",
       "    <tr>\n",
       "      <th>0</th>\n",
       "      <td>717029</td>\n",
       "      <td>196613</td>\n",
       "      <td>15</td>\n",
       "      <td>1</td>\n",
       "      <td>9</td>\n",
       "      <td>3.0</td>\n",
       "      <td>5</td>\n",
       "      <td>0</td>\n",
       "      <td>41220</td>\n",
       "      <td>0</td>\n",
       "      <td>1</td>\n",
       "      <td>1</td>\n",
       "    </tr>\n",
       "    <tr>\n",
       "      <th>1</th>\n",
       "      <td>2325772</td>\n",
       "      <td>196613</td>\n",
       "      <td>35</td>\n",
       "      <td>6</td>\n",
       "      <td>11</td>\n",
       "      <td>2.0</td>\n",
       "      <td>7</td>\n",
       "      <td>1</td>\n",
       "      <td>41220</td>\n",
       "      <td>0</td>\n",
       "      <td>6</td>\n",
       "      <td>2</td>\n",
       "    </tr>\n",
       "    <tr>\n",
       "      <th>2</th>\n",
       "      <td>642668</td>\n",
       "      <td>196613</td>\n",
       "      <td>69</td>\n",
       "      <td>2</td>\n",
       "      <td>16</td>\n",
       "      <td>2.0</td>\n",
       "      <td>11</td>\n",
       "      <td>1</td>\n",
       "      <td>4210</td>\n",
       "      <td>0</td>\n",
       "      <td>2</td>\n",
       "      <td>3</td>\n",
       "    </tr>\n",
       "    <tr>\n",
       "      <th>3</th>\n",
       "      <td>1326515</td>\n",
       "      <td>196613</td>\n",
       "      <td>61</td>\n",
       "      <td>3</td>\n",
       "      <td>19</td>\n",
       "      <td>3.0</td>\n",
       "      <td>3</td>\n",
       "      <td>1</td>\n",
       "      <td>4210</td>\n",
       "      <td>0</td>\n",
       "      <td>3</td>\n",
       "      <td>1</td>\n",
       "    </tr>\n",
       "    <tr>\n",
       "      <th>4</th>\n",
       "      <td>1437845</td>\n",
       "      <td>196613</td>\n",
       "      <td>36</td>\n",
       "      <td>3</td>\n",
       "      <td>15</td>\n",
       "      <td>4.0</td>\n",
       "      <td>16</td>\n",
       "      <td>0</td>\n",
       "      <td>4210</td>\n",
       "      <td>0</td>\n",
       "      <td>3</td>\n",
       "      <td>3</td>\n",
       "    </tr>\n",
       "    <tr>\n",
       "      <th>...</th>\n",
       "      <td>...</td>\n",
       "      <td>...</td>\n",
       "      <td>...</td>\n",
       "      <td>...</td>\n",
       "      <td>...</td>\n",
       "      <td>...</td>\n",
       "      <td>...</td>\n",
       "      <td>...</td>\n",
       "      <td>...</td>\n",
       "      <td>...</td>\n",
       "      <td>...</td>\n",
       "      <td>...</td>\n",
       "    </tr>\n",
       "    <tr>\n",
       "      <th>1278391</th>\n",
       "      <td>3184000</td>\n",
       "      <td>174046</td>\n",
       "      <td>100</td>\n",
       "      <td>5</td>\n",
       "      <td>7</td>\n",
       "      <td>2.0</td>\n",
       "      <td>12</td>\n",
       "      <td>1</td>\n",
       "      <td>24852</td>\n",
       "      <td>1</td>\n",
       "      <td>5</td>\n",
       "      <td>5</td>\n",
       "    </tr>\n",
       "    <tr>\n",
       "      <th>1278392</th>\n",
       "      <td>1754722</td>\n",
       "      <td>6710</td>\n",
       "      <td>100</td>\n",
       "      <td>5</td>\n",
       "      <td>11</td>\n",
       "      <td>3.0</td>\n",
       "      <td>21</td>\n",
       "      <td>1</td>\n",
       "      <td>24852</td>\n",
       "      <td>1</td>\n",
       "      <td>5</td>\n",
       "      <td>6</td>\n",
       "    </tr>\n",
       "    <tr>\n",
       "      <th>1278393</th>\n",
       "      <td>1076973</td>\n",
       "      <td>150840</td>\n",
       "      <td>100</td>\n",
       "      <td>0</td>\n",
       "      <td>13</td>\n",
       "      <td>0.0</td>\n",
       "      <td>18</td>\n",
       "      <td>1</td>\n",
       "      <td>24852</td>\n",
       "      <td>1</td>\n",
       "      <td>0</td>\n",
       "      <td>9</td>\n",
       "    </tr>\n",
       "    <tr>\n",
       "      <th>1278394</th>\n",
       "      <td>1247049</td>\n",
       "      <td>99707</td>\n",
       "      <td>100</td>\n",
       "      <td>1</td>\n",
       "      <td>13</td>\n",
       "      <td>3.0</td>\n",
       "      <td>6</td>\n",
       "      <td>1</td>\n",
       "      <td>24852</td>\n",
       "      <td>1</td>\n",
       "      <td>1</td>\n",
       "      <td>2</td>\n",
       "    </tr>\n",
       "    <tr>\n",
       "      <th>1278395</th>\n",
       "      <td>1775787</td>\n",
       "      <td>201038</td>\n",
       "      <td>100</td>\n",
       "      <td>5</td>\n",
       "      <td>9</td>\n",
       "      <td>2.0</td>\n",
       "      <td>1</td>\n",
       "      <td>1</td>\n",
       "      <td>24852</td>\n",
       "      <td>1</td>\n",
       "      <td>5</td>\n",
       "      <td>1</td>\n",
       "    </tr>\n",
       "  </tbody>\n",
       "</table>\n",
       "<p>1278396 rows × 12 columns</p>\n",
       "</div>"
      ],
      "text/plain": [
       "        order_id   cstno  order_number week_day  order_hour order_interval  \\\n",
       "0         717029  196613            15        1           9            3.0   \n",
       "1        2325772  196613            35        6          11            2.0   \n",
       "2         642668  196613            69        2          16            2.0   \n",
       "3        1326515  196613            61        3          19            3.0   \n",
       "4        1437845  196613            36        3          15            4.0   \n",
       "...          ...     ...           ...      ...         ...            ...   \n",
       "1278391  3184000  174046           100        5           7            2.0   \n",
       "1278392  1754722    6710           100        5          11            3.0   \n",
       "1278393  1076973  150840           100        0          13            0.0   \n",
       "1278394  1247049   99707           100        1          13            3.0   \n",
       "1278395  1775787  201038           100        5           9            2.0   \n",
       "\n",
       "         add_order is_reordered product_id  last_order_yn week_day_nm  \\\n",
       "0                5            0      41220              0           1   \n",
       "1                7            1      41220              0           6   \n",
       "2               11            1       4210              0           2   \n",
       "3                3            1       4210              0           3   \n",
       "4               16            0       4210              0           3   \n",
       "...            ...          ...        ...            ...         ...   \n",
       "1278391         12            1      24852              1           5   \n",
       "1278392         21            1      24852              1           5   \n",
       "1278393         18            1      24852              1           0   \n",
       "1278394          6            1      24852              1           1   \n",
       "1278395          1            1      24852              1           5   \n",
       "\n",
       "         add_order_2  \n",
       "0                  1  \n",
       "1                  2  \n",
       "2                  3  \n",
       "3                  1  \n",
       "4                  3  \n",
       "...              ...  \n",
       "1278391            5  \n",
       "1278392            6  \n",
       "1278393            9  \n",
       "1278394            2  \n",
       "1278395            1  \n",
       "\n",
       "[1278396 rows x 12 columns]"
      ]
     },
     "execution_count": 33,
     "metadata": {},
     "output_type": "execute_result"
    }
   ],
   "source": [
    "row_number(train2, 'add_order_2', 'add_order', True, ['cstno', 'order_number'])"
   ]
  },
  {
   "cell_type": "code",
   "execution_count": 34,
   "id": "eeba07f1-e38b-4648-b612-f24e3743883d",
   "metadata": {},
   "outputs": [
    {
     "data": {
      "text/plain": [
       "cstno\n",
       "10000     False\n",
       "100001    False\n",
       "100046    False\n",
       "100071    False\n",
       "100108    False\n",
       "          ...  \n",
       "9981      False\n",
       "99829      True\n",
       "99887     False\n",
       "99894      True\n",
       "99901     False\n",
       "Name: order_number, Length: 5859, dtype: bool"
      ]
     },
     "execution_count": 34,
     "metadata": {},
     "output_type": "execute_result"
    }
   ],
   "source": [
    "train2.groupby('cstno')['order_number'].max() == train2.groupby('cstno')['order_number'].nunique()"
   ]
  },
  {
   "cell_type": "code",
   "execution_count": null,
   "id": "f407321e-c49f-4862-a0e4-0f1e9919d8af",
   "metadata": {},
   "outputs": [],
   "source": []
  },
  {
   "cell_type": "code",
   "execution_count": null,
   "id": "8b6b4818-fcb4-48b7-83ba-a772f71a08b9",
   "metadata": {},
   "outputs": [],
   "source": []
  },
  {
   "cell_type": "code",
   "execution_count": null,
   "id": "9e573f65-9f33-4237-a2e9-aea815b924f4",
   "metadata": {},
   "outputs": [],
   "source": []
  },
  {
   "cell_type": "code",
   "execution_count": 11,
   "id": "b50537ee-5280-490b-bc44-0522303b7030",
   "metadata": {},
   "outputs": [],
   "source": []
  },
  {
   "cell_type": "code",
   "execution_count": 12,
   "id": "8a33c84c-7014-4257-88aa-a474a36b5c8e",
   "metadata": {},
   "outputs": [
    {
     "name": "stdout",
     "output_type": "stream",
     "text": [
      "<class 'pandas.core.frame.DataFrame'>\n",
      "Int64Index: 1278396 entries, 0 to 1278395\n",
      "Data columns (total 15 columns):\n",
      " #   Column          Non-Null Count    Dtype  \n",
      "---  ------          --------------    -----  \n",
      " 0   order_id        1278396 non-null  object \n",
      " 1   cstno           1278396 non-null  object \n",
      " 2   order_number    1278396 non-null  int64  \n",
      " 3   week_day        1278396 non-null  object \n",
      " 4   order_hour      1278396 non-null  int64  \n",
      " 5   order_interval  1256710 non-null  float64\n",
      " 6   add_order       1278396 non-null  int64  \n",
      " 7   is_reordered    1278396 non-null  object \n",
      " 8   product_id      1278396 non-null  object \n",
      " 9   last_order_yn   1278396 non-null  int64  \n",
      " 10  name            1278396 non-null  object \n",
      " 11  category_id     1278396 non-null  object \n",
      " 12  division_id     1278396 non-null  object \n",
      " 13  category_name   1278396 non-null  object \n",
      " 14  division_name   1278396 non-null  object \n",
      "dtypes: float64(1), int64(4), object(10)\n",
      "memory usage: 156.1+ MB\n"
     ]
    }
   ],
   "source": []
  },
  {
   "cell_type": "code",
   "execution_count": 18,
   "id": "9525da42-ee48-4ad7-966f-f397dad6eb21",
   "metadata": {},
   "outputs": [
    {
     "data": {
      "text/plain": [
       "order_id              0\n",
       "cstno                 0\n",
       "order_number          0\n",
       "week_day              0\n",
       "order_hour            0\n",
       "order_interval    21686\n",
       "add_order             0\n",
       "is_reordered          0\n",
       "product_id            0\n",
       "last_order_yn         0\n",
       "name                  0\n",
       "category_id           0\n",
       "division_id           0\n",
       "category_name         0\n",
       "division_name         0\n",
       "dtype: int64"
      ]
     },
     "execution_count": 18,
     "metadata": {},
     "output_type": "execute_result"
    }
   ],
   "source": [
    "train.isnull().sum()"
   ]
  },
  {
   "cell_type": "code",
   "execution_count": null,
   "id": "ce67e7cf-4462-46d0-83da-55af6608e2f2",
   "metadata": {},
   "outputs": [],
   "source": [
    "tmp_order_interval = train[['csto','cst_"
   ]
  },
  {
   "cell_type": "code",
   "execution_count": null,
   "id": "7eed8359-815d-4227-b82e-85720608f813",
   "metadata": {},
   "outputs": [],
   "source": []
  },
  {
   "cell_type": "code",
   "execution_count": 17,
   "id": "990d3cd6-d06c-4603-908a-10dc7548e3f6",
   "metadata": {
    "collapsed": true,
    "jupyter": {
     "outputs_hidden": true
    },
    "tags": []
   },
   "outputs": [
    {
     "ename": "ValueError",
     "evalue": "Cannot convert non-finite values (NA or inf) to integer",
     "output_type": "error",
     "traceback": [
      "\u001b[0;31m---------------------------------------------------------------------------\u001b[0m",
      "\u001b[0;31mValueError\u001b[0m                                Traceback (most recent call last)",
      "\u001b[0;32m<ipython-input-17-464cc4dbfd6e>\u001b[0m in \u001b[0;36m<module>\u001b[0;34m\u001b[0m\n\u001b[0;32m----> 1\u001b[0;31m \u001b[0mtype_change\u001b[0m\u001b[0;34m(\u001b[0m\u001b[0mtrain\u001b[0m\u001b[0;34m,\u001b[0m \u001b[0;34m[\u001b[0m\u001b[0;34m'order_interval'\u001b[0m\u001b[0;34m]\u001b[0m\u001b[0;34m,\u001b[0m \u001b[0;34m'int'\u001b[0m\u001b[0;34m)\u001b[0m\u001b[0;34m\u001b[0m\u001b[0;34m\u001b[0m\u001b[0m\n\u001b[0m",
      "\u001b[0;32m<ipython-input-7-b4475a2a4de1>\u001b[0m in \u001b[0;36mtype_change\u001b[0;34m(df, col, to_type)\u001b[0m\n\u001b[1;32m      1\u001b[0m \u001b[0;32mdef\u001b[0m \u001b[0mtype_change\u001b[0m\u001b[0;34m(\u001b[0m\u001b[0mdf\u001b[0m\u001b[0;34m,\u001b[0m \u001b[0mcol\u001b[0m\u001b[0;34m,\u001b[0m \u001b[0mto_type\u001b[0m\u001b[0;34m)\u001b[0m\u001b[0;34m:\u001b[0m\u001b[0;34m\u001b[0m\u001b[0;34m\u001b[0m\u001b[0m\n\u001b[0;32m----> 2\u001b[0;31m     \u001b[0mdf\u001b[0m\u001b[0;34m[\u001b[0m\u001b[0mcol\u001b[0m\u001b[0;34m]\u001b[0m \u001b[0;34m=\u001b[0m \u001b[0mdf\u001b[0m\u001b[0;34m[\u001b[0m\u001b[0mcol\u001b[0m\u001b[0;34m]\u001b[0m\u001b[0;34m.\u001b[0m\u001b[0mastype\u001b[0m\u001b[0;34m(\u001b[0m\u001b[0mto_type\u001b[0m\u001b[0;34m)\u001b[0m\u001b[0;34m\u001b[0m\u001b[0;34m\u001b[0m\u001b[0m\n\u001b[0m\u001b[1;32m      3\u001b[0m     \u001b[0;32mreturn\u001b[0m \u001b[0mdf\u001b[0m\u001b[0;34m\u001b[0m\u001b[0;34m\u001b[0m\u001b[0m\n",
      "\u001b[0;32m/opt/conda/envs/python3.6/lib/python3.6/site-packages/pandas/core/generic.py\u001b[0m in \u001b[0;36mastype\u001b[0;34m(self, dtype, copy, errors)\u001b[0m\n\u001b[1;32m   5546\u001b[0m         \u001b[0;32melse\u001b[0m\u001b[0;34m:\u001b[0m\u001b[0;34m\u001b[0m\u001b[0;34m\u001b[0m\u001b[0m\n\u001b[1;32m   5547\u001b[0m             \u001b[0;31m# else, only a single dtype is given\u001b[0m\u001b[0;34m\u001b[0m\u001b[0;34m\u001b[0m\u001b[0;34m\u001b[0m\u001b[0m\n\u001b[0;32m-> 5548\u001b[0;31m             \u001b[0mnew_data\u001b[0m \u001b[0;34m=\u001b[0m \u001b[0mself\u001b[0m\u001b[0;34m.\u001b[0m\u001b[0m_mgr\u001b[0m\u001b[0;34m.\u001b[0m\u001b[0mastype\u001b[0m\u001b[0;34m(\u001b[0m\u001b[0mdtype\u001b[0m\u001b[0;34m=\u001b[0m\u001b[0mdtype\u001b[0m\u001b[0;34m,\u001b[0m \u001b[0mcopy\u001b[0m\u001b[0;34m=\u001b[0m\u001b[0mcopy\u001b[0m\u001b[0;34m,\u001b[0m \u001b[0merrors\u001b[0m\u001b[0;34m=\u001b[0m\u001b[0merrors\u001b[0m\u001b[0;34m,\u001b[0m\u001b[0;34m)\u001b[0m\u001b[0;34m\u001b[0m\u001b[0;34m\u001b[0m\u001b[0m\n\u001b[0m\u001b[1;32m   5549\u001b[0m             \u001b[0;32mreturn\u001b[0m \u001b[0mself\u001b[0m\u001b[0;34m.\u001b[0m\u001b[0m_constructor\u001b[0m\u001b[0;34m(\u001b[0m\u001b[0mnew_data\u001b[0m\u001b[0;34m)\u001b[0m\u001b[0;34m.\u001b[0m\u001b[0m__finalize__\u001b[0m\u001b[0;34m(\u001b[0m\u001b[0mself\u001b[0m\u001b[0;34m,\u001b[0m \u001b[0mmethod\u001b[0m\u001b[0;34m=\u001b[0m\u001b[0;34m\"astype\"\u001b[0m\u001b[0;34m)\u001b[0m\u001b[0;34m\u001b[0m\u001b[0;34m\u001b[0m\u001b[0m\n\u001b[1;32m   5550\u001b[0m \u001b[0;34m\u001b[0m\u001b[0m\n",
      "\u001b[0;32m/opt/conda/envs/python3.6/lib/python3.6/site-packages/pandas/core/internals/managers.py\u001b[0m in \u001b[0;36mastype\u001b[0;34m(self, dtype, copy, errors)\u001b[0m\n\u001b[1;32m    602\u001b[0m         \u001b[0mself\u001b[0m\u001b[0;34m,\u001b[0m \u001b[0mdtype\u001b[0m\u001b[0;34m,\u001b[0m \u001b[0mcopy\u001b[0m\u001b[0;34m:\u001b[0m \u001b[0mbool\u001b[0m \u001b[0;34m=\u001b[0m \u001b[0;32mFalse\u001b[0m\u001b[0;34m,\u001b[0m \u001b[0merrors\u001b[0m\u001b[0;34m:\u001b[0m \u001b[0mstr\u001b[0m \u001b[0;34m=\u001b[0m \u001b[0;34m\"raise\"\u001b[0m\u001b[0;34m\u001b[0m\u001b[0;34m\u001b[0m\u001b[0m\n\u001b[1;32m    603\u001b[0m     ) -> \"BlockManager\":\n\u001b[0;32m--> 604\u001b[0;31m         \u001b[0;32mreturn\u001b[0m \u001b[0mself\u001b[0m\u001b[0;34m.\u001b[0m\u001b[0mapply\u001b[0m\u001b[0;34m(\u001b[0m\u001b[0;34m\"astype\"\u001b[0m\u001b[0;34m,\u001b[0m \u001b[0mdtype\u001b[0m\u001b[0;34m=\u001b[0m\u001b[0mdtype\u001b[0m\u001b[0;34m,\u001b[0m \u001b[0mcopy\u001b[0m\u001b[0;34m=\u001b[0m\u001b[0mcopy\u001b[0m\u001b[0;34m,\u001b[0m \u001b[0merrors\u001b[0m\u001b[0;34m=\u001b[0m\u001b[0merrors\u001b[0m\u001b[0;34m)\u001b[0m\u001b[0;34m\u001b[0m\u001b[0;34m\u001b[0m\u001b[0m\n\u001b[0m\u001b[1;32m    605\u001b[0m \u001b[0;34m\u001b[0m\u001b[0m\n\u001b[1;32m    606\u001b[0m     def convert(\n",
      "\u001b[0;32m/opt/conda/envs/python3.6/lib/python3.6/site-packages/pandas/core/internals/managers.py\u001b[0m in \u001b[0;36mapply\u001b[0;34m(self, f, align_keys, **kwargs)\u001b[0m\n\u001b[1;32m    407\u001b[0m                 \u001b[0mapplied\u001b[0m \u001b[0;34m=\u001b[0m \u001b[0mb\u001b[0m\u001b[0;34m.\u001b[0m\u001b[0mapply\u001b[0m\u001b[0;34m(\u001b[0m\u001b[0mf\u001b[0m\u001b[0;34m,\u001b[0m \u001b[0;34m**\u001b[0m\u001b[0mkwargs\u001b[0m\u001b[0;34m)\u001b[0m\u001b[0;34m\u001b[0m\u001b[0;34m\u001b[0m\u001b[0m\n\u001b[1;32m    408\u001b[0m             \u001b[0;32melse\u001b[0m\u001b[0;34m:\u001b[0m\u001b[0;34m\u001b[0m\u001b[0;34m\u001b[0m\u001b[0m\n\u001b[0;32m--> 409\u001b[0;31m                 \u001b[0mapplied\u001b[0m \u001b[0;34m=\u001b[0m \u001b[0mgetattr\u001b[0m\u001b[0;34m(\u001b[0m\u001b[0mb\u001b[0m\u001b[0;34m,\u001b[0m \u001b[0mf\u001b[0m\u001b[0;34m)\u001b[0m\u001b[0;34m(\u001b[0m\u001b[0;34m**\u001b[0m\u001b[0mkwargs\u001b[0m\u001b[0;34m)\u001b[0m\u001b[0;34m\u001b[0m\u001b[0;34m\u001b[0m\u001b[0m\n\u001b[0m\u001b[1;32m    410\u001b[0m             \u001b[0mresult_blocks\u001b[0m \u001b[0;34m=\u001b[0m \u001b[0m_extend_blocks\u001b[0m\u001b[0;34m(\u001b[0m\u001b[0mapplied\u001b[0m\u001b[0;34m,\u001b[0m \u001b[0mresult_blocks\u001b[0m\u001b[0;34m)\u001b[0m\u001b[0;34m\u001b[0m\u001b[0;34m\u001b[0m\u001b[0m\n\u001b[1;32m    411\u001b[0m \u001b[0;34m\u001b[0m\u001b[0m\n",
      "\u001b[0;32m/opt/conda/envs/python3.6/lib/python3.6/site-packages/pandas/core/internals/blocks.py\u001b[0m in \u001b[0;36mastype\u001b[0;34m(self, dtype, copy, errors)\u001b[0m\n\u001b[1;32m    593\u001b[0m             \u001b[0mvals1d\u001b[0m \u001b[0;34m=\u001b[0m \u001b[0mvalues\u001b[0m\u001b[0;34m.\u001b[0m\u001b[0mravel\u001b[0m\u001b[0;34m(\u001b[0m\u001b[0;34m)\u001b[0m\u001b[0;34m\u001b[0m\u001b[0;34m\u001b[0m\u001b[0m\n\u001b[1;32m    594\u001b[0m             \u001b[0;32mtry\u001b[0m\u001b[0;34m:\u001b[0m\u001b[0;34m\u001b[0m\u001b[0;34m\u001b[0m\u001b[0m\n\u001b[0;32m--> 595\u001b[0;31m                 \u001b[0mvalues\u001b[0m \u001b[0;34m=\u001b[0m \u001b[0mastype_nansafe\u001b[0m\u001b[0;34m(\u001b[0m\u001b[0mvals1d\u001b[0m\u001b[0;34m,\u001b[0m \u001b[0mdtype\u001b[0m\u001b[0;34m,\u001b[0m \u001b[0mcopy\u001b[0m\u001b[0;34m=\u001b[0m\u001b[0;32mTrue\u001b[0m\u001b[0;34m)\u001b[0m\u001b[0;34m\u001b[0m\u001b[0;34m\u001b[0m\u001b[0m\n\u001b[0m\u001b[1;32m    596\u001b[0m             \u001b[0;32mexcept\u001b[0m \u001b[0;34m(\u001b[0m\u001b[0mValueError\u001b[0m\u001b[0;34m,\u001b[0m \u001b[0mTypeError\u001b[0m\u001b[0;34m)\u001b[0m\u001b[0;34m:\u001b[0m\u001b[0;34m\u001b[0m\u001b[0;34m\u001b[0m\u001b[0m\n\u001b[1;32m    597\u001b[0m                 \u001b[0;31m# e.g. astype_nansafe can fail on object-dtype of strings\u001b[0m\u001b[0;34m\u001b[0m\u001b[0;34m\u001b[0m\u001b[0;34m\u001b[0m\u001b[0m\n",
      "\u001b[0;32m/opt/conda/envs/python3.6/lib/python3.6/site-packages/pandas/core/dtypes/cast.py\u001b[0m in \u001b[0;36mastype_nansafe\u001b[0;34m(arr, dtype, copy, skipna)\u001b[0m\n\u001b[1;32m    966\u001b[0m \u001b[0;34m\u001b[0m\u001b[0m\n\u001b[1;32m    967\u001b[0m         \u001b[0;32mif\u001b[0m \u001b[0;32mnot\u001b[0m \u001b[0mnp\u001b[0m\u001b[0;34m.\u001b[0m\u001b[0misfinite\u001b[0m\u001b[0;34m(\u001b[0m\u001b[0marr\u001b[0m\u001b[0;34m)\u001b[0m\u001b[0;34m.\u001b[0m\u001b[0mall\u001b[0m\u001b[0;34m(\u001b[0m\u001b[0;34m)\u001b[0m\u001b[0;34m:\u001b[0m\u001b[0;34m\u001b[0m\u001b[0;34m\u001b[0m\u001b[0m\n\u001b[0;32m--> 968\u001b[0;31m             \u001b[0;32mraise\u001b[0m \u001b[0mValueError\u001b[0m\u001b[0;34m(\u001b[0m\u001b[0;34m\"Cannot convert non-finite values (NA or inf) to integer\"\u001b[0m\u001b[0;34m)\u001b[0m\u001b[0;34m\u001b[0m\u001b[0;34m\u001b[0m\u001b[0m\n\u001b[0m\u001b[1;32m    969\u001b[0m \u001b[0;34m\u001b[0m\u001b[0m\n\u001b[1;32m    970\u001b[0m     \u001b[0;32melif\u001b[0m \u001b[0mis_object_dtype\u001b[0m\u001b[0;34m(\u001b[0m\u001b[0marr\u001b[0m\u001b[0;34m)\u001b[0m\u001b[0;34m:\u001b[0m\u001b[0;34m\u001b[0m\u001b[0;34m\u001b[0m\u001b[0m\n",
      "\u001b[0;31mValueError\u001b[0m: Cannot convert non-finite values (NA or inf) to integer"
     ]
    }
   ],
   "source": [
    "type_change(train, ['order_interval'], 'int')"
   ]
  },
  {
   "cell_type": "code",
   "execution_count": null,
   "id": "e02b752e-b9c4-41a3-8016-1d86bbc891e1",
   "metadata": {},
   "outputs": [],
   "source": []
  },
  {
   "cell_type": "code",
   "execution_count": null,
   "id": "8e40f9c7-f34d-4807-8737-df248fec1939",
   "metadata": {},
   "outputs": [],
   "source": []
  },
  {
   "cell_type": "code",
   "execution_count": null,
   "id": "14be9449-d2ae-40de-bfd3-eb971d683562",
   "metadata": {},
   "outputs": [],
   "source": []
  },
  {
   "cell_type": "code",
   "execution_count": 15,
   "id": "c2906a04-122b-48b9-b22b-32f982b88ea8",
   "metadata": {},
   "outputs": [
    {
     "data": {
      "text/plain": [
       "(1278396, 15)"
      ]
     },
     "execution_count": 15,
     "metadata": {},
     "output_type": "execute_result"
    }
   ],
   "source": [
    "train.shape"
   ]
  },
  {
   "cell_type": "code",
   "execution_count": 57,
   "id": "8023e59f-417c-4d15-8db6-a687d1edb493",
   "metadata": {},
   "outputs": [],
   "source": [
    "train_p = train.loc[train['last_order_yn'] ==0]\n",
    "train_c = train.loc[train['last_order_yn'] ==1]"
   ]
  },
  {
   "cell_type": "code",
   "execution_count": 58,
   "id": "b8e65428-aa5d-4eae-8e60-eccd494f4660",
   "metadata": {},
   "outputs": [
    {
     "data": {
      "text/html": [
       "<div>\n",
       "<style scoped>\n",
       "    .dataframe tbody tr th:only-of-type {\n",
       "        vertical-align: middle;\n",
       "    }\n",
       "\n",
       "    .dataframe tbody tr th {\n",
       "        vertical-align: top;\n",
       "    }\n",
       "\n",
       "    .dataframe thead th {\n",
       "        text-align: right;\n",
       "    }\n",
       "</style>\n",
       "<table border=\"1\" class=\"dataframe\">\n",
       "  <thead>\n",
       "    <tr style=\"text-align: right;\">\n",
       "      <th></th>\n",
       "      <th>order_id</th>\n",
       "      <th>cstno</th>\n",
       "      <th>order_number</th>\n",
       "      <th>week_day</th>\n",
       "      <th>order_hour</th>\n",
       "      <th>order_interval</th>\n",
       "      <th>add_order</th>\n",
       "      <th>is_reordered</th>\n",
       "      <th>product_id</th>\n",
       "      <th>last_order_yn</th>\n",
       "      <th>name</th>\n",
       "      <th>category_id</th>\n",
       "      <th>division_id</th>\n",
       "      <th>category_name</th>\n",
       "      <th>division_name</th>\n",
       "    </tr>\n",
       "  </thead>\n",
       "  <tbody>\n",
       "    <tr>\n",
       "      <th>0</th>\n",
       "      <td>717029</td>\n",
       "      <td>196613</td>\n",
       "      <td>15</td>\n",
       "      <td>1</td>\n",
       "      <td>9</td>\n",
       "      <td>3.0</td>\n",
       "      <td>5</td>\n",
       "      <td>0</td>\n",
       "      <td>41220</td>\n",
       "      <td>0</td>\n",
       "      <td>Organic Romaine Lettuce</td>\n",
       "      <td>83</td>\n",
       "      <td>4</td>\n",
       "      <td>fresh vegetables</td>\n",
       "      <td>produce</td>\n",
       "    </tr>\n",
       "    <tr>\n",
       "      <th>1</th>\n",
       "      <td>2325772</td>\n",
       "      <td>196613</td>\n",
       "      <td>35</td>\n",
       "      <td>6</td>\n",
       "      <td>11</td>\n",
       "      <td>2.0</td>\n",
       "      <td>7</td>\n",
       "      <td>1</td>\n",
       "      <td>41220</td>\n",
       "      <td>0</td>\n",
       "      <td>Organic Romaine Lettuce</td>\n",
       "      <td>83</td>\n",
       "      <td>4</td>\n",
       "      <td>fresh vegetables</td>\n",
       "      <td>produce</td>\n",
       "    </tr>\n",
       "    <tr>\n",
       "      <th>2</th>\n",
       "      <td>642668</td>\n",
       "      <td>196613</td>\n",
       "      <td>69</td>\n",
       "      <td>2</td>\n",
       "      <td>16</td>\n",
       "      <td>2.0</td>\n",
       "      <td>11</td>\n",
       "      <td>1</td>\n",
       "      <td>4210</td>\n",
       "      <td>0</td>\n",
       "      <td>Whole Milk</td>\n",
       "      <td>84</td>\n",
       "      <td>16</td>\n",
       "      <td>milk</td>\n",
       "      <td>dairy eggs</td>\n",
       "    </tr>\n",
       "  </tbody>\n",
       "</table>\n",
       "</div>"
      ],
      "text/plain": [
       "  order_id   cstno order_number week_day order_hour  order_interval add_order  \\\n",
       "0   717029  196613           15        1          9             3.0         5   \n",
       "1  2325772  196613           35        6         11             2.0         7   \n",
       "2   642668  196613           69        2         16             2.0        11   \n",
       "\n",
       "  is_reordered product_id  last_order_yn                     name category_id  \\\n",
       "0            0      41220              0  Organic Romaine Lettuce          83   \n",
       "1            1      41220              0  Organic Romaine Lettuce          83   \n",
       "2            1       4210              0               Whole Milk          84   \n",
       "\n",
       "  division_id     category_name division_name  \n",
       "0           4  fresh vegetables       produce  \n",
       "1           4  fresh vegetables       produce  \n",
       "2          16              milk    dairy eggs  "
      ]
     },
     "execution_count": 58,
     "metadata": {},
     "output_type": "execute_result"
    }
   ],
   "source": [
    "train_p.head(3)"
   ]
  },
  {
   "cell_type": "code",
   "execution_count": null,
   "id": "b2ea16bc-0ed7-4037-a156-52e3b5c734f5",
   "metadata": {},
   "outputs": [],
   "source": []
  },
  {
   "cell_type": "markdown",
   "id": "fde70016-d07e-4d06-b29a-a7ad6a67f771",
   "metadata": {
    "tags": []
   },
   "source": [
    "# 3. EDA 및 데이터 전처리"
   ]
  },
  {
   "cell_type": "code",
   "execution_count": 184,
   "id": "7e87ed72-f8cc-48aa-b5f6-afd23686f446",
   "metadata": {
    "tags": []
   },
   "outputs": [
    {
     "name": "stdout",
     "output_type": "stream",
     "text": [
      "Unique products : 100\n"
     ]
    }
   ],
   "source": [
    "# 상품수\n",
    "print(\"Unique products : {}\".format(len(products.product_id.unique())))"
   ]
  },
  {
   "cell_type": "code",
   "execution_count": 185,
   "id": "71c41f96-961c-4e63-a243-667701ba5ddb",
   "metadata": {},
   "outputs": [
    {
     "name": "stdout",
     "output_type": "stream",
     "text": [
      "Unique cstnos : 5859\n"
     ]
    }
   ],
   "source": [
    "# train 고객수\n",
    "print(\"Unique cstnos : {}\".format(len(train.cstno.unique())))"
   ]
  },
  {
   "cell_type": "code",
   "execution_count": 186,
   "id": "3ed71aa5-6c99-433d-9ed0-9c24e7dbc991",
   "metadata": {
    "tags": []
   },
   "outputs": [
    {
     "name": "stdout",
     "output_type": "stream",
     "text": [
      "(1278396, 15)\n"
     ]
    }
   ],
   "source": [
    "print(train.shape)"
   ]
  },
  {
   "cell_type": "markdown",
   "id": "cdcc2b42-4931-48f4-ac10-a1f5cebedd58",
   "metadata": {},
   "source": [
    ">요일과 시간에 따른 구매 패턴 확인"
   ]
  },
  {
   "cell_type": "code",
   "execution_count": 187,
   "id": "eacf3a01-76a0-47c9-aec5-5090cf4a9d9b",
   "metadata": {},
   "outputs": [
    {
     "name": "stderr",
     "output_type": "stream",
     "text": [
      "/opt/conda/envs/python3.6/lib/python3.6/site-packages/seaborn/_decorators.py:43: FutureWarning: Pass the following variables as keyword args: x, y. From version 0.12, the only valid positional argument will be `data`, and passing other arguments without an explicit keyword will result in an error or misinterpretation.\n",
      "  FutureWarning\n"
     ]
    },
    {
     "data": {
      "image/png": "[encoded data removed]",
      "text/plain": [
       "<Figure size 720x360 with 1 Axes>"
      ]
     },
     "metadata": {},
     "output_type": "display_data"
    }
   ],
   "source": [
    "# 요일별 주문수 (0: 일요일, --- , 6:토요일) -> 주문이 발생한 요일은 0~6으로 구분\n",
    "orders_by_dayofweek= train_p.groupby('week_day')['order_id'].count()\n",
    "#print(orders_by_dayofweek.head(10))\n",
    "plt.figure(figsize=(10,5))\n",
    "sns.barplot(orders_by_dayofweek.index, orders_by_dayofweek.values, alpha=0.8)\n",
    "plt.xlabel('day of week')\n",
    "plt.ylabel('number of orders')\n",
    "plt.title('orders by day of week')\n",
    "plt.xticks(rotation='vertical')\n",
    "plt.show()\n"
   ]
  },
  {
   "cell_type": "code",
   "execution_count": 188,
   "id": "76979e84-05c7-4347-a14b-285a5bbc5076",
   "metadata": {
    "tags": []
   },
   "outputs": [
    {
     "name": "stderr",
     "output_type": "stream",
     "text": [
      "/opt/conda/envs/python3.6/lib/python3.6/site-packages/seaborn/_decorators.py:43: FutureWarning: Pass the following variables as keyword args: x, y. From version 0.12, the only valid positional argument will be `data`, and passing other arguments without an explicit keyword will result in an error or misinterpretation.\n",
      "  FutureWarning\n"
     ]
    },
    {
     "data": {
      "image/png": "[encoded data removed]",
      "text/plain": [
       "<Figure size 720x360 with 1 Axes>"
      ]
     },
     "metadata": {},
     "output_type": "display_data"
    }
   ],
   "source": [
    "# 시간별 주문수\n",
    "orders_by_hour= train_p.groupby('order_hour')['order_id'].count()\n",
    "#print(orders_by_hour.head(24))\n",
    "plt.figure(figsize=(10,5))\n",
    "sns.barplot(orders_by_hour.index +1, orders_by_hour.values, alpha=0.8)\n",
    "plt.xlabel('hour of day')\n",
    "plt.ylabel('number of orders')\n",
    "plt.title('orders by hour of a day')\n",
    "plt.xticks(rotation='vertical')\n",
    "plt.show()\n"
   ]
  },
  {
   "cell_type": "code",
   "execution_count": 189,
   "id": "7c5d8e30-746f-47bf-82fc-cee90105ef4f",
   "metadata": {},
   "outputs": [
    {
     "data": {
      "text/html": [
       "<div>\n",
       "<style scoped>\n",
       "    .dataframe tbody tr th:only-of-type {\n",
       "        vertical-align: middle;\n",
       "    }\n",
       "\n",
       "    .dataframe tbody tr th {\n",
       "        vertical-align: top;\n",
       "    }\n",
       "\n",
       "    .dataframe thead th {\n",
       "        text-align: right;\n",
       "    }\n",
       "</style>\n",
       "<table border=\"1\" class=\"dataframe\">\n",
       "  <thead>\n",
       "    <tr style=\"text-align: right;\">\n",
       "      <th></th>\n",
       "      <th>week_day</th>\n",
       "      <th>order_hour</th>\n",
       "      <th>order_id</th>\n",
       "    </tr>\n",
       "  </thead>\n",
       "  <tbody>\n",
       "    <tr>\n",
       "      <th>0</th>\n",
       "      <td>0</td>\n",
       "      <td>0</td>\n",
       "      <td>1459</td>\n",
       "    </tr>\n",
       "    <tr>\n",
       "      <th>1</th>\n",
       "      <td>0</td>\n",
       "      <td>1</td>\n",
       "      <td>779</td>\n",
       "    </tr>\n",
       "    <tr>\n",
       "      <th>2</th>\n",
       "      <td>0</td>\n",
       "      <td>2</td>\n",
       "      <td>362</td>\n",
       "    </tr>\n",
       "    <tr>\n",
       "      <th>3</th>\n",
       "      <td>0</td>\n",
       "      <td>3</td>\n",
       "      <td>307</td>\n",
       "    </tr>\n",
       "    <tr>\n",
       "      <th>4</th>\n",
       "      <td>0</td>\n",
       "      <td>4</td>\n",
       "      <td>352</td>\n",
       "    </tr>\n",
       "  </tbody>\n",
       "</table>\n",
       "</div>"
      ],
      "text/plain": [
       "   week_day  order_hour  order_id\n",
       "0         0           0      1459\n",
       "1         0           1       779\n",
       "2         0           2       362\n",
       "3         0           3       307\n",
       "4         0           4       352"
      ]
     },
     "execution_count": 189,
     "metadata": {},
     "output_type": "execute_result"
    }
   ],
   "source": [
    "#구매요일 구매시간 주문번호\n",
    "orders_by_hourAndDay= train_p.groupby(['week_day','order_hour'])['order_id'].count().reset_index()\n",
    "orders_by_hourAndDay.head()\n",
    "#df_importance.rename(columns={:'importance_score_sum'},inplace=True)"
   ]
  },
  {
   "cell_type": "code",
   "execution_count": 190,
   "id": "44751439-446f-4d58-aadf-c2a0a14eeaea",
   "metadata": {},
   "outputs": [
    {
     "name": "stdout",
     "output_type": "stream",
     "text": [
      "   week_day  order_hour  order_count day_and_hour\n",
      "0         0           0         1459          0_0\n",
      "1         0           1          779          0_1\n",
      "2         0           2          362          0_2\n",
      "3         0           3          307          0_3\n",
      "4         0           4          352          0_4\n",
      "5         0           5          486          0_5\n",
      "6         0           6         1709          0_6\n",
      "7         0           7         7015          0_7\n",
      "8         0           8        14593          0_8\n",
      "9         0           9        19222          0_9\n"
     ]
    },
    {
     "name": "stderr",
     "output_type": "stream",
     "text": [
      "/opt/conda/envs/python3.6/lib/python3.6/site-packages/seaborn/_decorators.py:43: FutureWarning: Pass the following variables as keyword args: x, y. From version 0.12, the only valid positional argument will be `data`, and passing other arguments without an explicit keyword will result in an error or misinterpretation.\n",
      "  FutureWarning\n"
     ]
    },
    {
     "data": {
      "image/png": "[encoded data removed]",
      "text/plain": [
       "<Figure size 720x360 with 1 Axes>"
      ]
     },
     "metadata": {},
     "output_type": "display_data"
    }
   ],
   "source": [
    "# day_and_hour 컬럼 추가\n",
    "orders_by_hourAndDay.rename(columns={'order_id':'order_count'},inplace=True)\n",
    "orders_by_hourAndDay['day_and_hour']= orders_by_hourAndDay['week_day'].astype(str)+'_'+orders_by_hourAndDay['order_hour'].astype(str)\n",
    "print(orders_by_hourAndDay.head(10))\n",
    "plt.figure(figsize=(10,5))\n",
    "orders_by_hourAndDay.sort_values('order_count', ascending=False, inplace=True)\n",
    "sns.barplot(orders_by_hourAndDay['day_and_hour'][:20],orders_by_hourAndDay['order_count'][:20], order=orders_by_hourAndDay['day_and_hour'][:20], alpha=0.8)\n",
    "plt.xlabel('hour of day')\n",
    "plt.ylabel('number of orders')\n",
    "plt.title('orders by hour of a day')\n",
    "plt.xticks(rotation='vertical')\n",
    "plt.show()"
   ]
  },
  {
   "cell_type": "markdown",
   "id": "448a7d33-ae5a-493c-ad79-6dd19531c1cc",
   "metadata": {},
   "source": [
    ">직전 구매 후 경과일수에 따른 구매 패턴 확인"
   ]
  },
  {
   "cell_type": "code",
   "execution_count": 191,
   "id": "28eeb9bb-4f59-4a0a-bc1a-02680ea36bf0",
   "metadata": {},
   "outputs": [
    {
     "name": "stderr",
     "output_type": "stream",
     "text": [
      "/opt/conda/envs/python3.6/lib/python3.6/site-packages/seaborn/_decorators.py:43: FutureWarning: Pass the following variables as keyword args: x, y. From version 0.12, the only valid positional argument will be `data`, and passing other arguments without an explicit keyword will result in an error or misinterpretation.\n",
      "  FutureWarning\n"
     ]
    },
    {
     "data": {
      "image/png": "[encoded data removed]",
      "text/plain": [
       "<Figure size 720x360 with 1 Axes>"
      ]
     },
     "metadata": {},
     "output_type": "display_data"
    }
   ],
   "source": [
    "# 직전 구매 후 경과일수 분석\n",
    "orders_cleaned= train_p[train_p['order_interval'].notnull()]\n",
    "len(orders_cleaned)\n",
    "\n",
    "orders_by_days_prior_order= train_p.groupby('order_interval')['order_id'].count()\n",
    "plt.figure(figsize=(10,5))\n",
    "sns.barplot(orders_by_days_prior_order.index, orders_by_days_prior_order.values, alpha=0.8)\n",
    "plt.xlabel('number of days since prior order')\n",
    "plt.ylabel('number of orders')\n",
    "plt.title('total orders by number of days since prior order')\n",
    "plt.xticks(rotation='vertical')\n",
    "plt.show()"
   ]
  },
  {
   "cell_type": "code",
   "execution_count": 192,
   "id": "72c710ab-5384-476a-8416-d553fa86b5d3",
   "metadata": {},
   "outputs": [
    {
     "name": "stdout",
     "output_type": "stream",
     "text": [
      "4      26189\n",
      "5      25566\n",
      "3      25235\n",
      "6      24728\n",
      "7      22960\n",
      "       ...  \n",
      "66         1\n",
      "92         1\n",
      "110        1\n",
      "96         1\n",
      "115        1\n",
      "Name: add_order, Length: 85, dtype: int64\n",
      "\n",
      "Median no. of products in an order is  8.0\n"
     ]
    }
   ],
   "source": [
    "#No. of products per order\n",
    "products_per_order= train_p.groupby('order_id')['add_order'].max().reset_index()\n",
    "products_per_order= products_per_order['add_order'].value_counts()\n",
    "products_per_order_100= products_per_order.sort_values(ascending=False)[:100]\n",
    "print(products_per_order_100.head(100))\n",
    "print(\"\")\n",
    "print('Median no. of products in an order is ', train_p.groupby('order_id')['add_order'].max().median())"
   ]
  },
  {
   "cell_type": "markdown",
   "id": "5fe87df8-397b-4e23-aeca-f9e17d3480ae",
   "metadata": {},
   "source": [
    ">상품별 판매 패턴 확인"
   ]
  },
  {
   "cell_type": "code",
   "execution_count": 193,
   "id": "7e2334a9-7aeb-423a-8d14-8cd38c5b47a4",
   "metadata": {},
   "outputs": [],
   "source": [
    "# train_p copy\n",
    "orders_with_order_products= train_p.copy()\n",
    "\n",
    "#  check for null or duplicate values.\n",
    "with open('orders_with_order_products.pkl', 'wb') as f:\n",
    "    pkl.dump(orders_with_order_products,f)\n",
    "\n",
    "with open('orders_with_order_products.pkl', 'rb') as f:\n",
    "    orders_with_order_products= pkl.load(f)"
   ]
  },
  {
   "cell_type": "code",
   "execution_count": 194,
   "id": "ee7c0b82-882f-4983-8e35-ce47230e2508",
   "metadata": {},
   "outputs": [
    {
     "data": {
      "text/plain": [
       "order_id          False\n",
       "cstno             False\n",
       "order_number      False\n",
       "week_day          False\n",
       "order_hour        False\n",
       "order_interval    False\n",
       "add_order         False\n",
       "is_reordered      False\n",
       "product_id        False\n",
       "last_order_yn     False\n",
       "name              False\n",
       "category_id       False\n",
       "division_id       False\n",
       "category_name     False\n",
       "division_name     False\n",
       "dtype: bool"
      ]
     },
     "execution_count": 194,
     "metadata": {},
     "output_type": "execute_result"
    }
   ],
   "source": [
    "orders_with_order_products.isnull().any()    "
   ]
  },
  {
   "cell_type": "code",
   "execution_count": 195,
   "id": "6d988321-3440-48fd-9e86-cc21370693cb",
   "metadata": {},
   "outputs": [
    {
     "data": {
      "text/plain": [
       "False"
      ]
     },
     "execution_count": 195,
     "metadata": {},
     "output_type": "execute_result"
    }
   ],
   "source": [
    "orders_with_order_products.duplicated().any()"
   ]
  },
  {
   "cell_type": "code",
   "execution_count": 196,
   "id": "bc50aefb-d776-4f62-b8d7-75563721e322",
   "metadata": {},
   "outputs": [
    {
     "name": "stderr",
     "output_type": "stream",
     "text": [
      "/opt/conda/envs/python3.6/lib/python3.6/site-packages/seaborn/_decorators.py:43: FutureWarning: Pass the following variables as keyword args: x, y. From version 0.12, the only valid positional argument will be `data`, and passing other arguments without an explicit keyword will result in an error or misinterpretation.\n",
      "  FutureWarning\n"
     ]
    },
    {
     "data": {
      "image/png": "[encoded data removed]",
      "text/plain": [
       "<Figure size 720x360 with 1 Axes>"
      ]
     },
     "metadata": {},
     "output_type": "display_data"
    }
   ],
   "source": [
    "#상품 대분류별 판매현황\n",
    "division_wise_orders= orders_with_order_products['division_name'].value_counts()\n",
    "plt.figure(figsize=(10,5))\n",
    "sns.barplot(division_wise_orders.index, division_wise_orders.values, alpha=0.8)\n",
    "plt.xlabel('division')\n",
    "plt.ylabel('total number of orders')\n",
    "plt.title('total orders by division')\n",
    "plt.xticks(rotation='vertical')\n",
    "plt.show()\n"
   ]
  },
  {
   "cell_type": "code",
   "execution_count": 197,
   "id": "b4b6f6c3-b384-4f79-a577-e9d691b66ff3",
   "metadata": {},
   "outputs": [
    {
     "name": "stderr",
     "output_type": "stream",
     "text": [
      "/opt/conda/envs/python3.6/lib/python3.6/site-packages/seaborn/_decorators.py:43: FutureWarning: Pass the following variables as keyword args: x, y. From version 0.12, the only valid positional argument will be `data`, and passing other arguments without an explicit keyword will result in an error or misinterpretation.\n",
      "  FutureWarning\n"
     ]
    },
    {
     "data": {
      "image/png": "[encoded data removed]",
      "text/plain": [
       "<Figure size 720x360 with 1 Axes>"
      ]
     },
     "metadata": {},
     "output_type": "display_data"
    }
   ],
   "source": [
    "#상품 카테고리별 판매현황\n",
    "category_wise_orders= orders_with_order_products['category_name'].value_counts()[:5]\n",
    "plt.figure(figsize=(10,5))\n",
    "sns.barplot(category_wise_orders.index, category_wise_orders.values, alpha=0.8)\n",
    "plt.xlabel('category')\n",
    "plt.ylabel('total number of orders')\n",
    "plt.title('Top 5 total orders by category')\n",
    "plt.xticks(rotation='vertical')\n",
    "plt.show()"
   ]
  },
  {
   "cell_type": "code",
   "execution_count": 198,
   "id": "7cfa3834-98ae-4fe6-b553-9c26aa8b8e02",
   "metadata": {},
   "outputs": [
    {
     "name": "stdout",
     "output_type": "stream",
     "text": [
      "Banana                                  74686\n",
      "Bag of Organic Bananas                  67514\n",
      "Organic Strawberries                    52917\n",
      "Organic Hass Avocado                    42604\n",
      "Organic Baby Spinach                    40112\n",
      "Organic Whole Milk                      29757\n",
      "Organic Raspberries                     28207\n",
      "Organic Avocado                         25046\n",
      "Limes                                   21216\n",
      "Large Lemon                             21012\n",
      "Organic Yellow Onion                    20977\n",
      "Organic Garlic                          19332\n",
      "Apple Honeycrisp Organic                18511\n",
      "Strawberries                            17900\n",
      "Organic Zucchini                        17884\n",
      "Organic Large Extra Fancy Fuji Apple    16387\n",
      "Organic Lemon                           15970\n",
      "Organic Gala Apples                     15611\n",
      "Organic Cucumber                        15470\n",
      "Organic Blueberries                     14859\n",
      "Name: name, dtype: int64\n"
     ]
    },
    {
     "name": "stderr",
     "output_type": "stream",
     "text": [
      "/opt/conda/envs/python3.6/lib/python3.6/site-packages/seaborn/_decorators.py:43: FutureWarning: Pass the following variables as keyword args: x, y. From version 0.12, the only valid positional argument will be `data`, and passing other arguments without an explicit keyword will result in an error or misinterpretation.\n",
      "  FutureWarning\n"
     ]
    },
    {
     "data": {
      "image/png": "[encoded data removed]",
      "text/plain": [
       "<Figure size 720x360 with 1 Axes>"
      ]
     },
     "metadata": {},
     "output_type": "display_data"
    }
   ],
   "source": [
    "#가장 많이 구매한 상품 top20\n",
    "products_wise_order= orders_with_order_products['name'].value_counts()\n",
    "products_wise_order= products_wise_order[:20]\n",
    "print(products_wise_order)\n",
    "plt.figure(figsize=(10,5))\n",
    "sns.barplot(products_wise_order.index, products_wise_order.values, alpha=0.8)\n",
    "plt.xlabel('product name')\n",
    "plt.ylabel('total number of orders')\n",
    "plt.title('total orders by products')\n",
    "plt.xticks(rotation='vertical')\n",
    "plt.show()"
   ]
  },
  {
   "cell_type": "code",
   "execution_count": 199,
   "id": "ffd65ab1-121e-4dd6-9db8-e53fb3f78dc1",
   "metadata": {},
   "outputs": [
    {
     "name": "stdout",
     "output_type": "stream",
     "text": [
      "<class 'pandas.core.frame.DataFrame'>\n",
      "Int64Index: 1253972 entries, 0 to 1253971\n",
      "Data columns (total 15 columns):\n",
      " #   Column          Non-Null Count    Dtype \n",
      "---  ------          --------------    ----- \n",
      " 0   order_id        1253972 non-null  object\n",
      " 1   cstno           1253972 non-null  object\n",
      " 2   order_number    1253972 non-null  int64 \n",
      " 3   week_day        1253972 non-null  int64 \n",
      " 4   order_hour      1253972 non-null  int64 \n",
      " 5   order_interval  1253972 non-null  int64 \n",
      " 6   add_order       1253972 non-null  int64 \n",
      " 7   is_reordered    1253972 non-null  int64 \n",
      " 8   product_id      1253972 non-null  object\n",
      " 9   last_order_yn   1253972 non-null  int64 \n",
      " 10  name            1253972 non-null  object\n",
      " 11  category_id     1253972 non-null  object\n",
      " 12  division_id     1253972 non-null  object\n",
      " 13  category_name   1253972 non-null  object\n",
      " 14  division_name   1253972 non-null  object\n",
      "dtypes: int64(7), object(8)\n",
      "memory usage: 153.1+ MB\n"
     ]
    }
   ],
   "source": [
    "orders_with_order_products.info()"
   ]
  },
  {
   "cell_type": "markdown",
   "id": "dd02ee1e-ffbe-405d-87f4-68166c2ef60d",
   "metadata": {},
   "source": [
    ">재구매 패턴 확인"
   ]
  },
  {
   "cell_type": "code",
   "execution_count": 240,
   "id": "c63afee7-298b-45db-b5cf-98aeca2b1cd3",
   "metadata": {},
   "outputs": [],
   "source": [
    "with open('orders_with_order_products.pkl', 'rb') as f:\n",
    "    orders_with_order_products = pkl.load(f)"
   ]
  },
  {
   "cell_type": "code",
   "execution_count": 241,
   "id": "49da9196-95d8-4f4d-b6ff-787ff0dd756e",
   "metadata": {},
   "outputs": [
    {
     "data": {
      "text/html": [
       "<div>\n",
       "<style scoped>\n",
       "    .dataframe tbody tr th:only-of-type {\n",
       "        vertical-align: middle;\n",
       "    }\n",
       "\n",
       "    .dataframe tbody tr th {\n",
       "        vertical-align: top;\n",
       "    }\n",
       "\n",
       "    .dataframe thead th {\n",
       "        text-align: right;\n",
       "    }\n",
       "</style>\n",
       "<table border=\"1\" class=\"dataframe\">\n",
       "  <thead>\n",
       "    <tr style=\"text-align: right;\">\n",
       "      <th></th>\n",
       "      <th>cstno</th>\n",
       "      <th>is_reordered</th>\n",
       "    </tr>\n",
       "  </thead>\n",
       "  <tbody>\n",
       "    <tr>\n",
       "      <th>0</th>\n",
       "      <td>10000</td>\n",
       "      <td>300</td>\n",
       "    </tr>\n",
       "    <tr>\n",
       "      <th>1</th>\n",
       "      <td>100001</td>\n",
       "      <td>304</td>\n",
       "    </tr>\n",
       "    <tr>\n",
       "      <th>2</th>\n",
       "      <td>100046</td>\n",
       "      <td>200</td>\n",
       "    </tr>\n",
       "    <tr>\n",
       "      <th>3</th>\n",
       "      <td>100071</td>\n",
       "      <td>193</td>\n",
       "    </tr>\n",
       "    <tr>\n",
       "      <th>4</th>\n",
       "      <td>100108</td>\n",
       "      <td>151</td>\n",
       "    </tr>\n",
       "  </tbody>\n",
       "</table>\n",
       "</div>"
      ],
      "text/plain": [
       "    cstno  is_reordered\n",
       "0   10000           300\n",
       "1  100001           304\n",
       "2  100046           200\n",
       "3  100071           193\n",
       "4  100108           151"
      ]
     },
     "execution_count": 241,
     "metadata": {},
     "output_type": "execute_result"
    }
   ],
   "source": [
    "#고객별 재구매수\n",
    "reorders_cstno= orders_with_order_products.groupby('cstno')['is_reordered'].sum().reset_index()\n",
    "reorders_cstno.head()"
   ]
  },
  {
   "cell_type": "code",
   "execution_count": 242,
   "id": "831ea57d-8d1c-498d-9450-82bcd44d33a4",
   "metadata": {},
   "outputs": [
    {
     "data": {
      "text/html": [
       "<div>\n",
       "<style scoped>\n",
       "    .dataframe tbody tr th:only-of-type {\n",
       "        vertical-align: middle;\n",
       "    }\n",
       "\n",
       "    .dataframe tbody tr th {\n",
       "        vertical-align: top;\n",
       "    }\n",
       "\n",
       "    .dataframe thead th {\n",
       "        text-align: right;\n",
       "    }\n",
       "</style>\n",
       "<table border=\"1\" class=\"dataframe\">\n",
       "  <thead>\n",
       "    <tr style=\"text-align: right;\">\n",
       "      <th></th>\n",
       "      <th>cstno</th>\n",
       "      <th>is_reordered</th>\n",
       "    </tr>\n",
       "  </thead>\n",
       "  <tbody>\n",
       "    <tr>\n",
       "      <th>1611</th>\n",
       "      <td>150840</td>\n",
       "      <td>745</td>\n",
       "    </tr>\n",
       "    <tr>\n",
       "      <th>117</th>\n",
       "      <td>103593</td>\n",
       "      <td>743</td>\n",
       "    </tr>\n",
       "    <tr>\n",
       "      <th>2669</th>\n",
       "      <td>184451</td>\n",
       "      <td>718</td>\n",
       "    </tr>\n",
       "    <tr>\n",
       "      <th>5728</th>\n",
       "      <td>95967</td>\n",
       "      <td>709</td>\n",
       "    </tr>\n",
       "    <tr>\n",
       "      <th>30</th>\n",
       "      <td>100787</td>\n",
       "      <td>702</td>\n",
       "    </tr>\n",
       "    <tr>\n",
       "      <th>4426</th>\n",
       "      <td>54485</td>\n",
       "      <td>696</td>\n",
       "    </tr>\n",
       "    <tr>\n",
       "      <th>2300</th>\n",
       "      <td>172806</td>\n",
       "      <td>686</td>\n",
       "    </tr>\n",
       "    <tr>\n",
       "      <th>2367</th>\n",
       "      <td>175294</td>\n",
       "      <td>684</td>\n",
       "    </tr>\n",
       "    <tr>\n",
       "      <th>521</th>\n",
       "      <td>115495</td>\n",
       "      <td>680</td>\n",
       "    </tr>\n",
       "    <tr>\n",
       "      <th>1905</th>\n",
       "      <td>160106</td>\n",
       "      <td>678</td>\n",
       "    </tr>\n",
       "    <tr>\n",
       "      <th>2905</th>\n",
       "      <td>191755</td>\n",
       "      <td>677</td>\n",
       "    </tr>\n",
       "    <tr>\n",
       "      <th>77</th>\n",
       "      <td>102282</td>\n",
       "      <td>667</td>\n",
       "    </tr>\n",
       "    <tr>\n",
       "      <th>613</th>\n",
       "      <td>118221</td>\n",
       "      <td>664</td>\n",
       "    </tr>\n",
       "    <tr>\n",
       "      <th>870</th>\n",
       "      <td>127158</td>\n",
       "      <td>661</td>\n",
       "    </tr>\n",
       "    <tr>\n",
       "      <th>2332</th>\n",
       "      <td>174046</td>\n",
       "      <td>652</td>\n",
       "    </tr>\n",
       "    <tr>\n",
       "      <th>4496</th>\n",
       "      <td>5665</td>\n",
       "      <td>640</td>\n",
       "    </tr>\n",
       "    <tr>\n",
       "      <th>4797</th>\n",
       "      <td>66806</td>\n",
       "      <td>625</td>\n",
       "    </tr>\n",
       "    <tr>\n",
       "      <th>4835</th>\n",
       "      <td>67870</td>\n",
       "      <td>621</td>\n",
       "    </tr>\n",
       "    <tr>\n",
       "      <th>943</th>\n",
       "      <td>129304</td>\n",
       "      <td>616</td>\n",
       "    </tr>\n",
       "    <tr>\n",
       "      <th>2378</th>\n",
       "      <td>175540</td>\n",
       "      <td>616</td>\n",
       "    </tr>\n",
       "  </tbody>\n",
       "</table>\n",
       "</div>"
      ],
      "text/plain": [
       "       cstno  is_reordered\n",
       "1611  150840           745\n",
       "117   103593           743\n",
       "2669  184451           718\n",
       "5728   95967           709\n",
       "30    100787           702\n",
       "4426   54485           696\n",
       "2300  172806           686\n",
       "2367  175294           684\n",
       "521   115495           680\n",
       "1905  160106           678\n",
       "2905  191755           677\n",
       "77    102282           667\n",
       "613   118221           664\n",
       "870   127158           661\n",
       "2332  174046           652\n",
       "4496    5665           640\n",
       "4797   66806           625\n",
       "4835   67870           621\n",
       "943   129304           616\n",
       "2378  175540           616"
      ]
     },
     "execution_count": 242,
     "metadata": {},
     "output_type": "execute_result"
    }
   ],
   "source": [
    "# 고객별 재구매수 top20\n",
    "reorders_cstno= reorders_cstno.sort_values(by=['is_reordered'], ascending=False)[:20]\n",
    "reorders_cstno.head(20)"
   ]
  },
  {
   "cell_type": "code",
   "execution_count": 243,
   "id": "aa12791b-c4d0-4930-a16e-4da4ec39b869",
   "metadata": {},
   "outputs": [
    {
     "name": "stderr",
     "output_type": "stream",
     "text": [
      "/opt/conda/envs/python3.6/lib/python3.6/site-packages/seaborn/_decorators.py:43: FutureWarning: Pass the following variables as keyword args: x, y. From version 0.12, the only valid positional argument will be `data`, and passing other arguments without an explicit keyword will result in an error or misinterpretation.\n",
      "  FutureWarning\n"
     ]
    },
    {
     "data": {
      "image/png": "[encoded data removed]",
      "text/plain": [
       "<Figure size 720x360 with 1 Axes>"
      ]
     },
     "metadata": {},
     "output_type": "display_data"
    }
   ],
   "source": [
    "# 상품별 재구매\n",
    "\n",
    "reorders_products= orders_with_order_products.groupby('name')['is_reordered'].sum().reset_index()\n",
    "reorders_products.head()\n",
    "\n",
    "reorders_products= reorders_products.sort_values(by=['is_reordered'], ascending=False)[:50]\n",
    "plt.figure(figsize=(10,5))\n",
    "sns.barplot(reorders_products['name'], reorders_products['is_reordered'], alpha=0.8)\n",
    "plt.xlabel('product name')\n",
    "plt.ylabel('total number of reorders')\n",
    "plt.title('total reorders by products')\n",
    "plt.xticks(rotation='vertical')\n",
    "plt.show()\n"
   ]
  },
  {
   "cell_type": "code",
   "execution_count": 244,
   "id": "a6666e6a-ccf2-4d70-96f9-277ef0add43e",
   "metadata": {},
   "outputs": [
    {
     "name": "stderr",
     "output_type": "stream",
     "text": [
      "/opt/conda/envs/python3.6/lib/python3.6/site-packages/seaborn/_decorators.py:43: FutureWarning: Pass the following variables as keyword args: x, y. From version 0.12, the only valid positional argument will be `data`, and passing other arguments without an explicit keyword will result in an error or misinterpretation.\n",
      "  FutureWarning\n"
     ]
    },
    {
     "data": {
      "image/png": "[encoded data removed]",
      "text/plain": [
       "<Figure size 720x360 with 1 Axes>"
      ]
     },
     "metadata": {},
     "output_type": "display_data"
    },
    {
     "name": "stdout",
     "output_type": "stream",
     "text": [
      "Total no. of 1st time order = 170198\n",
      "Total no. of reorders = 1083774\n"
     ]
    }
   ],
   "source": [
    "#전체주문에서 재주문비율 (첫주문 : 0, 재주문: 1)\n",
    "reorders= orders_with_order_products['is_reordered'].value_counts()\n",
    "plt.figure(figsize=(10,5))\n",
    "sns.barplot(reorders.index, reorders.values, alpha=0.8)\n",
    "plt.xlabel('is_reordered')\n",
    "plt.ylabel('total number of orders')\n",
    "plt.title('total orders reordered')\n",
    "plt.xticks(rotation='vertical')\n",
    "plt.show()\n",
    "\n",
    "print('Total no. of 1st time order =', reorders[0])\n",
    "print('Total no. of reorders =', reorders[1])"
   ]
  },
  {
   "cell_type": "code",
   "execution_count": 245,
   "id": "3feff5f9-c1c7-4c4a-ac7a-29a2768abd8f",
   "metadata": {},
   "outputs": [
    {
     "name": "stderr",
     "output_type": "stream",
     "text": [
      "/opt/conda/envs/python3.6/lib/python3.6/site-packages/seaborn/_decorators.py:43: FutureWarning: Pass the following variables as keyword args: x, y. From version 0.12, the only valid positional argument will be `data`, and passing other arguments without an explicit keyword will result in an error or misinterpretation.\n",
      "  FutureWarning\n"
     ]
    },
    {
     "data": {
      "image/png": "[encoded data removed]",
      "text/plain": [
       "<Figure size 864x432 with 1 Axes>"
      ]
     },
     "metadata": {},
     "output_type": "display_data"
    }
   ],
   "source": [
    "#상품 대분류별 재주문\n",
    "reorders_department_average= orders_with_order_products.groupby('division_name')['is_reordered'].sum()\n",
    "reorders_department_average= reorders_department_average.sort_values(ascending=False)\n",
    "plt.figure(figsize=(12,6))\n",
    "sns.barplot(reorders_department_average.index, reorders_department_average.values, alpha=0.8)\n",
    "plt.xlabel('Division')\n",
    "plt.ylabel('number of reorders')\n",
    "plt.title('reorders with respect to department')\n",
    "plt.xticks(rotation='vertical')\n",
    "plt.show()"
   ]
  },
  {
   "cell_type": "markdown",
   "id": "57a1bda8-9b5e-42ef-b5b0-e01cb488ee6d",
   "metadata": {},
   "source": [
    "> add new features"
   ]
  },
  {
   "cell_type": "code",
   "execution_count": 246,
   "id": "9182c503-8f8c-4ba0-a335-46d74e4f05fd",
   "metadata": {},
   "outputs": [
    {
     "data": {
      "text/html": [
       "<div>\n",
       "<style scoped>\n",
       "    .dataframe tbody tr th:only-of-type {\n",
       "        vertical-align: middle;\n",
       "    }\n",
       "\n",
       "    .dataframe tbody tr th {\n",
       "        vertical-align: top;\n",
       "    }\n",
       "\n",
       "    .dataframe thead th {\n",
       "        text-align: right;\n",
       "    }\n",
       "</style>\n",
       "<table border=\"1\" class=\"dataframe\">\n",
       "  <thead>\n",
       "    <tr style=\"text-align: right;\">\n",
       "      <th></th>\n",
       "      <th>cstno</th>\n",
       "      <th>num_orders</th>\n",
       "    </tr>\n",
       "  </thead>\n",
       "  <tbody>\n",
       "    <tr>\n",
       "      <th>0</th>\n",
       "      <td>10000</td>\n",
       "      <td>66</td>\n",
       "    </tr>\n",
       "    <tr>\n",
       "      <th>1</th>\n",
       "      <td>100001</td>\n",
       "      <td>63</td>\n",
       "    </tr>\n",
       "    <tr>\n",
       "      <th>2</th>\n",
       "      <td>100046</td>\n",
       "      <td>62</td>\n",
       "    </tr>\n",
       "    <tr>\n",
       "      <th>3</th>\n",
       "      <td>100071</td>\n",
       "      <td>51</td>\n",
       "    </tr>\n",
       "    <tr>\n",
       "      <th>4</th>\n",
       "      <td>100108</td>\n",
       "      <td>63</td>\n",
       "    </tr>\n",
       "  </tbody>\n",
       "</table>\n",
       "</div>"
      ],
      "text/plain": [
       "    cstno  num_orders\n",
       "0   10000          66\n",
       "1  100001          63\n",
       "2  100046          62\n",
       "3  100071          51\n",
       "4  100108          63"
      ]
     },
     "execution_count": 246,
     "metadata": {},
     "output_type": "execute_result"
    }
   ],
   "source": [
    "# Number of orders for each user  고객별 주문수\n",
    "# https://www.geeksforgeeks.org/get-unique-values-from-a-column-in-pandas-dataframe/\n",
    "number_of_orders = orders_with_order_products.groupby('cstno')['order_id'].nunique().reset_index()\n",
    "number_of_orders.rename(columns={'order_id':'num_orders'},inplace=True)\n",
    "number_of_orders.head()\n",
    "# percentage "
   ]
  },
  {
   "cell_type": "code",
   "execution_count": 247,
   "id": "b820f334-66a1-4a9b-a7be-d1518f20ea28",
   "metadata": {},
   "outputs": [],
   "source": [
    "orders_with_order_products= pd.merge(orders_with_order_products, number_of_orders, on='cstno', how='left')\n",
    "del number_of_orders"
   ]
  },
  {
   "cell_type": "code",
   "execution_count": 248,
   "id": "21f2eb89-7ec5-40bb-9dec-3f5ffff24bb9",
   "metadata": {},
   "outputs": [
    {
     "data": {
      "text/html": [
       "<div>\n",
       "<style scoped>\n",
       "    .dataframe tbody tr th:only-of-type {\n",
       "        vertical-align: middle;\n",
       "    }\n",
       "\n",
       "    .dataframe tbody tr th {\n",
       "        vertical-align: top;\n",
       "    }\n",
       "\n",
       "    .dataframe thead th {\n",
       "        text-align: right;\n",
       "    }\n",
       "</style>\n",
       "<table border=\"1\" class=\"dataframe\">\n",
       "  <thead>\n",
       "    <tr style=\"text-align: right;\">\n",
       "      <th></th>\n",
       "      <th>order_id</th>\n",
       "      <th>order_length</th>\n",
       "    </tr>\n",
       "  </thead>\n",
       "  <tbody>\n",
       "    <tr>\n",
       "      <th>0</th>\n",
       "      <td>1000003</td>\n",
       "      <td>13</td>\n",
       "    </tr>\n",
       "    <tr>\n",
       "      <th>1</th>\n",
       "      <td>1000015</td>\n",
       "      <td>5</td>\n",
       "    </tr>\n",
       "    <tr>\n",
       "      <th>2</th>\n",
       "      <td>1000019</td>\n",
       "      <td>1</td>\n",
       "    </tr>\n",
       "    <tr>\n",
       "      <th>3</th>\n",
       "      <td>1000026</td>\n",
       "      <td>1</td>\n",
       "    </tr>\n",
       "    <tr>\n",
       "      <th>4</th>\n",
       "      <td>1000027</td>\n",
       "      <td>2</td>\n",
       "    </tr>\n",
       "  </tbody>\n",
       "</table>\n",
       "</div>"
      ],
      "text/plain": [
       "  order_id  order_length\n",
       "0  1000003            13\n",
       "1  1000015             5\n",
       "2  1000019             1\n",
       "3  1000026             1\n",
       "4  1000027             2"
      ]
     },
     "execution_count": 248,
     "metadata": {},
     "output_type": "execute_result"
    }
   ],
   "source": [
    "order_length = orders_with_order_products.groupby('order_id').size().reset_index()\n",
    "order_length.rename(columns={0:'order_length'},inplace=True)\n",
    "order_length.head()"
   ]
  },
  {
   "cell_type": "code",
   "execution_count": 249,
   "id": "093b38b2-7e47-4416-8e03-4a788419a393",
   "metadata": {},
   "outputs": [],
   "source": [
    "orders_with_order_products= pd.merge(orders_with_order_products, order_length, on='order_id', how='left')\n",
    "del order_length"
   ]
  },
  {
   "cell_type": "code",
   "execution_count": 250,
   "id": "bbe098d1-e958-4534-9178-0deea36e68ba",
   "metadata": {},
   "outputs": [],
   "source": [
    "# order importance = order_number/num_orders\n",
    "# More recent orders have more weight\n",
    "orders_with_order_products['order_importance'] = orders_with_order_products['order_number']/orders_with_order_products['num_orders']"
   ]
  },
  {
   "cell_type": "code",
   "execution_count": 251,
   "id": "83f388c1-cceb-4627-b512-4842e51e1896",
   "metadata": {},
   "outputs": [],
   "source": [
    "# product importance = (order_length-add_to_cart_order+1)/order_length\n",
    "# Assign more importance to products that are added earlier to the cart for each order\n",
    "orders_with_order_products['product_importance'] = (orders_with_order_products['order_length']-orders_with_order_products['add_order']+1)/orders_with_order_products['order_length']"
   ]
  },
  {
   "cell_type": "code",
   "execution_count": 252,
   "id": "2dbbdd46-e58d-406a-b6cd-4fc9d92537a1",
   "metadata": {},
   "outputs": [
    {
     "data": {
      "text/html": [
       "<div>\n",
       "<style scoped>\n",
       "    .dataframe tbody tr th:only-of-type {\n",
       "        vertical-align: middle;\n",
       "    }\n",
       "\n",
       "    .dataframe tbody tr th {\n",
       "        vertical-align: top;\n",
       "    }\n",
       "\n",
       "    .dataframe thead th {\n",
       "        text-align: right;\n",
       "    }\n",
       "</style>\n",
       "<table border=\"1\" class=\"dataframe\">\n",
       "  <thead>\n",
       "    <tr style=\"text-align: right;\">\n",
       "      <th></th>\n",
       "      <th>order_id</th>\n",
       "      <th>cstno</th>\n",
       "      <th>order_number</th>\n",
       "      <th>week_day</th>\n",
       "      <th>order_hour</th>\n",
       "      <th>order_interval</th>\n",
       "      <th>add_order</th>\n",
       "      <th>is_reordered</th>\n",
       "      <th>product_id</th>\n",
       "      <th>last_order_yn</th>\n",
       "      <th>name</th>\n",
       "      <th>category_id</th>\n",
       "      <th>division_id</th>\n",
       "      <th>category_name</th>\n",
       "      <th>division_name</th>\n",
       "      <th>num_orders</th>\n",
       "      <th>order_length</th>\n",
       "      <th>order_importance</th>\n",
       "      <th>product_importance</th>\n",
       "      <th>importance_score</th>\n",
       "    </tr>\n",
       "  </thead>\n",
       "  <tbody>\n",
       "    <tr>\n",
       "      <th>1253962</th>\n",
       "      <td>1449524</td>\n",
       "      <td>163819</td>\n",
       "      <td>46</td>\n",
       "      <td>1</td>\n",
       "      <td>16</td>\n",
       "      <td>7</td>\n",
       "      <td>3</td>\n",
       "      <td>1</td>\n",
       "      <td>24852</td>\n",
       "      <td>0</td>\n",
       "      <td>Banana</td>\n",
       "      <td>24</td>\n",
       "      <td>4</td>\n",
       "      <td>fresh fruits</td>\n",
       "      <td>produce</td>\n",
       "      <td>47</td>\n",
       "      <td>8</td>\n",
       "      <td>0.978723</td>\n",
       "      <td>0.750000</td>\n",
       "      <td>0.734043</td>\n",
       "    </tr>\n",
       "    <tr>\n",
       "      <th>1253963</th>\n",
       "      <td>1471330</td>\n",
       "      <td>163819</td>\n",
       "      <td>7</td>\n",
       "      <td>1</td>\n",
       "      <td>10</td>\n",
       "      <td>12</td>\n",
       "      <td>1</td>\n",
       "      <td>1</td>\n",
       "      <td>24852</td>\n",
       "      <td>0</td>\n",
       "      <td>Banana</td>\n",
       "      <td>24</td>\n",
       "      <td>4</td>\n",
       "      <td>fresh fruits</td>\n",
       "      <td>produce</td>\n",
       "      <td>47</td>\n",
       "      <td>4</td>\n",
       "      <td>0.148936</td>\n",
       "      <td>1.000000</td>\n",
       "      <td>0.148936</td>\n",
       "    </tr>\n",
       "    <tr>\n",
       "      <th>1253964</th>\n",
       "      <td>1518830</td>\n",
       "      <td>163819</td>\n",
       "      <td>2</td>\n",
       "      <td>2</td>\n",
       "      <td>11</td>\n",
       "      <td>7</td>\n",
       "      <td>5</td>\n",
       "      <td>1</td>\n",
       "      <td>24852</td>\n",
       "      <td>0</td>\n",
       "      <td>Banana</td>\n",
       "      <td>24</td>\n",
       "      <td>4</td>\n",
       "      <td>fresh fruits</td>\n",
       "      <td>produce</td>\n",
       "      <td>47</td>\n",
       "      <td>4</td>\n",
       "      <td>0.042553</td>\n",
       "      <td>0.000000</td>\n",
       "      <td>0.000000</td>\n",
       "    </tr>\n",
       "    <tr>\n",
       "      <th>1253965</th>\n",
       "      <td>1714563</td>\n",
       "      <td>163819</td>\n",
       "      <td>3</td>\n",
       "      <td>1</td>\n",
       "      <td>16</td>\n",
       "      <td>13</td>\n",
       "      <td>1</td>\n",
       "      <td>1</td>\n",
       "      <td>24852</td>\n",
       "      <td>0</td>\n",
       "      <td>Banana</td>\n",
       "      <td>24</td>\n",
       "      <td>4</td>\n",
       "      <td>fresh fruits</td>\n",
       "      <td>produce</td>\n",
       "      <td>47</td>\n",
       "      <td>5</td>\n",
       "      <td>0.063830</td>\n",
       "      <td>1.000000</td>\n",
       "      <td>0.063830</td>\n",
       "    </tr>\n",
       "    <tr>\n",
       "      <th>1253966</th>\n",
       "      <td>1727821</td>\n",
       "      <td>163819</td>\n",
       "      <td>38</td>\n",
       "      <td>1</td>\n",
       "      <td>11</td>\n",
       "      <td>7</td>\n",
       "      <td>14</td>\n",
       "      <td>1</td>\n",
       "      <td>24852</td>\n",
       "      <td>0</td>\n",
       "      <td>Banana</td>\n",
       "      <td>24</td>\n",
       "      <td>4</td>\n",
       "      <td>fresh fruits</td>\n",
       "      <td>produce</td>\n",
       "      <td>47</td>\n",
       "      <td>4</td>\n",
       "      <td>0.808511</td>\n",
       "      <td>-2.250000</td>\n",
       "      <td>-1.819149</td>\n",
       "    </tr>\n",
       "    <tr>\n",
       "      <th>1253967</th>\n",
       "      <td>1902783</td>\n",
       "      <td>163819</td>\n",
       "      <td>47</td>\n",
       "      <td>0</td>\n",
       "      <td>19</td>\n",
       "      <td>13</td>\n",
       "      <td>2</td>\n",
       "      <td>1</td>\n",
       "      <td>24852</td>\n",
       "      <td>0</td>\n",
       "      <td>Banana</td>\n",
       "      <td>24</td>\n",
       "      <td>4</td>\n",
       "      <td>fresh fruits</td>\n",
       "      <td>produce</td>\n",
       "      <td>47</td>\n",
       "      <td>8</td>\n",
       "      <td>1.000000</td>\n",
       "      <td>0.875000</td>\n",
       "      <td>0.875000</td>\n",
       "    </tr>\n",
       "    <tr>\n",
       "      <th>1253968</th>\n",
       "      <td>1969590</td>\n",
       "      <td>163819</td>\n",
       "      <td>42</td>\n",
       "      <td>1</td>\n",
       "      <td>15</td>\n",
       "      <td>6</td>\n",
       "      <td>3</td>\n",
       "      <td>1</td>\n",
       "      <td>24852</td>\n",
       "      <td>0</td>\n",
       "      <td>Banana</td>\n",
       "      <td>24</td>\n",
       "      <td>4</td>\n",
       "      <td>fresh fruits</td>\n",
       "      <td>produce</td>\n",
       "      <td>47</td>\n",
       "      <td>4</td>\n",
       "      <td>0.893617</td>\n",
       "      <td>0.500000</td>\n",
       "      <td>0.446809</td>\n",
       "    </tr>\n",
       "    <tr>\n",
       "      <th>1253969</th>\n",
       "      <td>2549215</td>\n",
       "      <td>163819</td>\n",
       "      <td>9</td>\n",
       "      <td>1</td>\n",
       "      <td>11</td>\n",
       "      <td>7</td>\n",
       "      <td>1</td>\n",
       "      <td>1</td>\n",
       "      <td>24852</td>\n",
       "      <td>0</td>\n",
       "      <td>Banana</td>\n",
       "      <td>24</td>\n",
       "      <td>4</td>\n",
       "      <td>fresh fruits</td>\n",
       "      <td>produce</td>\n",
       "      <td>47</td>\n",
       "      <td>5</td>\n",
       "      <td>0.191489</td>\n",
       "      <td>1.000000</td>\n",
       "      <td>0.191489</td>\n",
       "    </tr>\n",
       "    <tr>\n",
       "      <th>1253970</th>\n",
       "      <td>3103211</td>\n",
       "      <td>163819</td>\n",
       "      <td>39</td>\n",
       "      <td>1</td>\n",
       "      <td>14</td>\n",
       "      <td>7</td>\n",
       "      <td>3</td>\n",
       "      <td>1</td>\n",
       "      <td>24852</td>\n",
       "      <td>0</td>\n",
       "      <td>Banana</td>\n",
       "      <td>24</td>\n",
       "      <td>4</td>\n",
       "      <td>fresh fruits</td>\n",
       "      <td>produce</td>\n",
       "      <td>47</td>\n",
       "      <td>3</td>\n",
       "      <td>0.829787</td>\n",
       "      <td>0.333333</td>\n",
       "      <td>0.276596</td>\n",
       "    </tr>\n",
       "    <tr>\n",
       "      <th>1253971</th>\n",
       "      <td>3207262</td>\n",
       "      <td>163819</td>\n",
       "      <td>8</td>\n",
       "      <td>1</td>\n",
       "      <td>12</td>\n",
       "      <td>7</td>\n",
       "      <td>1</td>\n",
       "      <td>1</td>\n",
       "      <td>24852</td>\n",
       "      <td>0</td>\n",
       "      <td>Banana</td>\n",
       "      <td>24</td>\n",
       "      <td>4</td>\n",
       "      <td>fresh fruits</td>\n",
       "      <td>produce</td>\n",
       "      <td>47</td>\n",
       "      <td>2</td>\n",
       "      <td>0.170213</td>\n",
       "      <td>1.000000</td>\n",
       "      <td>0.170213</td>\n",
       "    </tr>\n",
       "  </tbody>\n",
       "</table>\n",
       "</div>"
      ],
      "text/plain": [
       "        order_id   cstno  order_number  week_day  order_hour  order_interval  \\\n",
       "1253962  1449524  163819            46         1          16               7   \n",
       "1253963  1471330  163819             7         1          10              12   \n",
       "1253964  1518830  163819             2         2          11               7   \n",
       "1253965  1714563  163819             3         1          16              13   \n",
       "1253966  1727821  163819            38         1          11               7   \n",
       "1253967  1902783  163819            47         0          19              13   \n",
       "1253968  1969590  163819            42         1          15               6   \n",
       "1253969  2549215  163819             9         1          11               7   \n",
       "1253970  3103211  163819            39         1          14               7   \n",
       "1253971  3207262  163819             8         1          12               7   \n",
       "\n",
       "         add_order  is_reordered product_id  last_order_yn    name  \\\n",
       "1253962          3             1      24852              0  Banana   \n",
       "1253963          1             1      24852              0  Banana   \n",
       "1253964          5             1      24852              0  Banana   \n",
       "1253965          1             1      24852              0  Banana   \n",
       "1253966         14             1      24852              0  Banana   \n",
       "1253967          2             1      24852              0  Banana   \n",
       "1253968          3             1      24852              0  Banana   \n",
       "1253969          1             1      24852              0  Banana   \n",
       "1253970          3             1      24852              0  Banana   \n",
       "1253971          1             1      24852              0  Banana   \n",
       "\n",
       "        category_id division_id category_name division_name  num_orders  \\\n",
       "1253962          24           4  fresh fruits       produce          47   \n",
       "1253963          24           4  fresh fruits       produce          47   \n",
       "1253964          24           4  fresh fruits       produce          47   \n",
       "1253965          24           4  fresh fruits       produce          47   \n",
       "1253966          24           4  fresh fruits       produce          47   \n",
       "1253967          24           4  fresh fruits       produce          47   \n",
       "1253968          24           4  fresh fruits       produce          47   \n",
       "1253969          24           4  fresh fruits       produce          47   \n",
       "1253970          24           4  fresh fruits       produce          47   \n",
       "1253971          24           4  fresh fruits       produce          47   \n",
       "\n",
       "         order_length  order_importance  product_importance  importance_score  \n",
       "1253962             8          0.978723            0.750000          0.734043  \n",
       "1253963             4          0.148936            1.000000          0.148936  \n",
       "1253964             4          0.042553            0.000000          0.000000  \n",
       "1253965             5          0.063830            1.000000          0.063830  \n",
       "1253966             4          0.808511           -2.250000         -1.819149  \n",
       "1253967             8          1.000000            0.875000          0.875000  \n",
       "1253968             4          0.893617            0.500000          0.446809  \n",
       "1253969             5          0.191489            1.000000          0.191489  \n",
       "1253970             3          0.829787            0.333333          0.276596  \n",
       "1253971             2          0.170213            1.000000          0.170213  "
      ]
     },
     "execution_count": 252,
     "metadata": {},
     "output_type": "execute_result"
    }
   ],
   "source": [
    "# importance_score = product_importance * order_importance\n",
    "# for each product-order pair\n",
    "orders_with_order_products['importance_score'] = orders_with_order_products['product_importance']*orders_with_order_products['order_importance']\n",
    "orders_with_order_products.tail(10)"
   ]
  },
  {
   "cell_type": "code",
   "execution_count": 253,
   "id": "99d03c14-2063-4cba-85aa-44f33c1d0fef",
   "metadata": {},
   "outputs": [],
   "source": [
    "with open('orders_with_order_products_new10.pkl', 'wb') as f:\n",
    "    pkl.dump(orders_with_order_products,f)"
   ]
  },
  {
   "cell_type": "code",
   "execution_count": 254,
   "id": "79aa9833-b4ac-4a65-b74e-69186ca55b2a",
   "metadata": {},
   "outputs": [],
   "source": [
    "with open('orders_with_order_products_new10.pkl', 'rb') as f:\n",
    "    orders_with_order_products= pkl.load(f)"
   ]
  },
  {
   "cell_type": "code",
   "execution_count": 255,
   "id": "03dbb2c6-c027-4561-9dd5-3331ba87b8d5",
   "metadata": {},
   "outputs": [],
   "source": [
    "with open('orders_with_order_products_new1.pkl', 'wb') as f:\n",
    "    pkl.dump(orders_with_order_products,f)"
   ]
  },
  {
   "cell_type": "code",
   "execution_count": 256,
   "id": "0c99f6f8-86e1-496f-b8de-e8764b386ae5",
   "metadata": {},
   "outputs": [],
   "source": [
    "with open('orders_with_order_products_new1.pkl', 'rb') as f:\n",
    "    orders_with_order_products= pkl.load(f)"
   ]
  },
  {
   "cell_type": "code",
   "execution_count": 257,
   "id": "e3acad7e-e6e0-4491-91b0-38d489bb9ea0",
   "metadata": {},
   "outputs": [
    {
     "data": {
      "text/html": [
       "<div>\n",
       "<style scoped>\n",
       "    .dataframe tbody tr th:only-of-type {\n",
       "        vertical-align: middle;\n",
       "    }\n",
       "\n",
       "    .dataframe tbody tr th {\n",
       "        vertical-align: top;\n",
       "    }\n",
       "\n",
       "    .dataframe thead th {\n",
       "        text-align: right;\n",
       "    }\n",
       "</style>\n",
       "<table border=\"1\" class=\"dataframe\">\n",
       "  <thead>\n",
       "    <tr style=\"text-align: right;\">\n",
       "      <th></th>\n",
       "      <th>cstno</th>\n",
       "      <th>product_id</th>\n",
       "      <th>importance_score_sum</th>\n",
       "    </tr>\n",
       "  </thead>\n",
       "  <tbody>\n",
       "    <tr>\n",
       "      <th>0</th>\n",
       "      <td>10000</td>\n",
       "      <td>10749</td>\n",
       "      <td>-0.320780</td>\n",
       "    </tr>\n",
       "    <tr>\n",
       "      <th>1</th>\n",
       "      <td>10000</td>\n",
       "      <td>11520</td>\n",
       "      <td>-4.170996</td>\n",
       "    </tr>\n",
       "    <tr>\n",
       "      <th>2</th>\n",
       "      <td>10000</td>\n",
       "      <td>13176</td>\n",
       "      <td>-4.538717</td>\n",
       "    </tr>\n",
       "    <tr>\n",
       "      <th>3</th>\n",
       "      <td>10000</td>\n",
       "      <td>15290</td>\n",
       "      <td>0.567280</td>\n",
       "    </tr>\n",
       "    <tr>\n",
       "      <th>4</th>\n",
       "      <td>10000</td>\n",
       "      <td>16759</td>\n",
       "      <td>-0.471380</td>\n",
       "    </tr>\n",
       "    <tr>\n",
       "      <th>5</th>\n",
       "      <td>10000</td>\n",
       "      <td>17794</td>\n",
       "      <td>-3.501299</td>\n",
       "    </tr>\n",
       "    <tr>\n",
       "      <th>6</th>\n",
       "      <td>10000</td>\n",
       "      <td>18465</td>\n",
       "      <td>0.036364</td>\n",
       "    </tr>\n",
       "    <tr>\n",
       "      <th>7</th>\n",
       "      <td>10000</td>\n",
       "      <td>19660</td>\n",
       "      <td>0.037879</td>\n",
       "    </tr>\n",
       "    <tr>\n",
       "      <th>8</th>\n",
       "      <td>10000</td>\n",
       "      <td>21137</td>\n",
       "      <td>-6.208675</td>\n",
       "    </tr>\n",
       "    <tr>\n",
       "      <th>9</th>\n",
       "      <td>10000</td>\n",
       "      <td>21903</td>\n",
       "      <td>-3.872006</td>\n",
       "    </tr>\n",
       "  </tbody>\n",
       "</table>\n",
       "</div>"
      ],
      "text/plain": [
       "   cstno product_id  importance_score_sum\n",
       "0  10000      10749             -0.320780\n",
       "1  10000      11520             -4.170996\n",
       "2  10000      13176             -4.538717\n",
       "3  10000      15290              0.567280\n",
       "4  10000      16759             -0.471380\n",
       "5  10000      17794             -3.501299\n",
       "6  10000      18465              0.036364\n",
       "7  10000      19660              0.037879\n",
       "8  10000      21137             -6.208675\n",
       "9  10000      21903             -3.872006"
      ]
     },
     "execution_count": 257,
     "metadata": {},
     "output_type": "execute_result"
    }
   ],
   "source": [
    "# sum up the importance_scores for each product_id for each cstno\n",
    "# This feature will be most important feature as it gives a sum of all importance score based on a customer and product unique combination. \n",
    "df_importance = orders_with_order_products.groupby(['cstno','product_id'])['importance_score'].sum().reset_index()\n",
    "df_importance.rename(columns={'importance_score':'importance_score_sum'},inplace=True)\n",
    "df_importance.head(10)"
   ]
  },
  {
   "cell_type": "code",
   "execution_count": 258,
   "id": "b16830f0-4f5f-4f8e-9e6e-04872bc64aa0",
   "metadata": {},
   "outputs": [
    {
     "data": {
      "text/html": [
       "<div>\n",
       "<style scoped>\n",
       "    .dataframe tbody tr th:only-of-type {\n",
       "        vertical-align: middle;\n",
       "    }\n",
       "\n",
       "    .dataframe tbody tr th {\n",
       "        vertical-align: top;\n",
       "    }\n",
       "\n",
       "    .dataframe thead th {\n",
       "        text-align: right;\n",
       "    }\n",
       "</style>\n",
       "<table border=\"1\" class=\"dataframe\">\n",
       "  <thead>\n",
       "    <tr style=\"text-align: right;\">\n",
       "      <th></th>\n",
       "      <th>order_id</th>\n",
       "      <th>cstno</th>\n",
       "      <th>order_number</th>\n",
       "      <th>week_day</th>\n",
       "      <th>order_hour</th>\n",
       "      <th>order_interval</th>\n",
       "      <th>add_order</th>\n",
       "      <th>is_reordered</th>\n",
       "      <th>product_id</th>\n",
       "      <th>last_order_yn</th>\n",
       "      <th>...</th>\n",
       "      <th>category_id</th>\n",
       "      <th>division_id</th>\n",
       "      <th>category_name</th>\n",
       "      <th>division_name</th>\n",
       "      <th>num_orders</th>\n",
       "      <th>order_length</th>\n",
       "      <th>order_importance</th>\n",
       "      <th>product_importance</th>\n",
       "      <th>importance_score</th>\n",
       "      <th>importance_score_sum</th>\n",
       "    </tr>\n",
       "  </thead>\n",
       "  <tbody>\n",
       "    <tr>\n",
       "      <th>0</th>\n",
       "      <td>717029</td>\n",
       "      <td>196613</td>\n",
       "      <td>15</td>\n",
       "      <td>1</td>\n",
       "      <td>9</td>\n",
       "      <td>3</td>\n",
       "      <td>5</td>\n",
       "      <td>0</td>\n",
       "      <td>41220</td>\n",
       "      <td>0</td>\n",
       "      <td>...</td>\n",
       "      <td>83</td>\n",
       "      <td>4</td>\n",
       "      <td>fresh vegetables</td>\n",
       "      <td>produce</td>\n",
       "      <td>70</td>\n",
       "      <td>2</td>\n",
       "      <td>0.214286</td>\n",
       "      <td>-1.0</td>\n",
       "      <td>-0.214286</td>\n",
       "      <td>-0.714286</td>\n",
       "    </tr>\n",
       "    <tr>\n",
       "      <th>1</th>\n",
       "      <td>2325772</td>\n",
       "      <td>196613</td>\n",
       "      <td>35</td>\n",
       "      <td>6</td>\n",
       "      <td>11</td>\n",
       "      <td>2</td>\n",
       "      <td>7</td>\n",
       "      <td>1</td>\n",
       "      <td>41220</td>\n",
       "      <td>0</td>\n",
       "      <td>...</td>\n",
       "      <td>83</td>\n",
       "      <td>4</td>\n",
       "      <td>fresh vegetables</td>\n",
       "      <td>produce</td>\n",
       "      <td>70</td>\n",
       "      <td>3</td>\n",
       "      <td>0.500000</td>\n",
       "      <td>-1.0</td>\n",
       "      <td>-0.500000</td>\n",
       "      <td>-0.714286</td>\n",
       "    </tr>\n",
       "    <tr>\n",
       "      <th>2</th>\n",
       "      <td>642668</td>\n",
       "      <td>196613</td>\n",
       "      <td>69</td>\n",
       "      <td>2</td>\n",
       "      <td>16</td>\n",
       "      <td>2</td>\n",
       "      <td>11</td>\n",
       "      <td>1</td>\n",
       "      <td>4210</td>\n",
       "      <td>0</td>\n",
       "      <td>...</td>\n",
       "      <td>84</td>\n",
       "      <td>16</td>\n",
       "      <td>milk</td>\n",
       "      <td>dairy eggs</td>\n",
       "      <td>70</td>\n",
       "      <td>5</td>\n",
       "      <td>0.985714</td>\n",
       "      <td>-1.0</td>\n",
       "      <td>-0.985714</td>\n",
       "      <td>-3.042857</td>\n",
       "    </tr>\n",
       "    <tr>\n",
       "      <th>3</th>\n",
       "      <td>1326515</td>\n",
       "      <td>196613</td>\n",
       "      <td>61</td>\n",
       "      <td>3</td>\n",
       "      <td>19</td>\n",
       "      <td>3</td>\n",
       "      <td>3</td>\n",
       "      <td>1</td>\n",
       "      <td>4210</td>\n",
       "      <td>0</td>\n",
       "      <td>...</td>\n",
       "      <td>84</td>\n",
       "      <td>16</td>\n",
       "      <td>milk</td>\n",
       "      <td>dairy eggs</td>\n",
       "      <td>70</td>\n",
       "      <td>2</td>\n",
       "      <td>0.871429</td>\n",
       "      <td>0.0</td>\n",
       "      <td>0.000000</td>\n",
       "      <td>-3.042857</td>\n",
       "    </tr>\n",
       "    <tr>\n",
       "      <th>4</th>\n",
       "      <td>1437845</td>\n",
       "      <td>196613</td>\n",
       "      <td>36</td>\n",
       "      <td>3</td>\n",
       "      <td>15</td>\n",
       "      <td>4</td>\n",
       "      <td>16</td>\n",
       "      <td>0</td>\n",
       "      <td>4210</td>\n",
       "      <td>0</td>\n",
       "      <td>...</td>\n",
       "      <td>84</td>\n",
       "      <td>16</td>\n",
       "      <td>milk</td>\n",
       "      <td>dairy eggs</td>\n",
       "      <td>70</td>\n",
       "      <td>3</td>\n",
       "      <td>0.514286</td>\n",
       "      <td>-4.0</td>\n",
       "      <td>-2.057143</td>\n",
       "      <td>-3.042857</td>\n",
       "    </tr>\n",
       "    <tr>\n",
       "      <th>5</th>\n",
       "      <td>185079</td>\n",
       "      <td>196613</td>\n",
       "      <td>94</td>\n",
       "      <td>6</td>\n",
       "      <td>17</td>\n",
       "      <td>6</td>\n",
       "      <td>1</td>\n",
       "      <td>1</td>\n",
       "      <td>38689</td>\n",
       "      <td>0</td>\n",
       "      <td>...</td>\n",
       "      <td>84</td>\n",
       "      <td>16</td>\n",
       "      <td>milk</td>\n",
       "      <td>dairy eggs</td>\n",
       "      <td>70</td>\n",
       "      <td>3</td>\n",
       "      <td>1.342857</td>\n",
       "      <td>1.0</td>\n",
       "      <td>1.342857</td>\n",
       "      <td>-7.666905</td>\n",
       "    </tr>\n",
       "    <tr>\n",
       "      <th>6</th>\n",
       "      <td>358293</td>\n",
       "      <td>196613</td>\n",
       "      <td>93</td>\n",
       "      <td>0</td>\n",
       "      <td>11</td>\n",
       "      <td>4</td>\n",
       "      <td>1</td>\n",
       "      <td>1</td>\n",
       "      <td>38689</td>\n",
       "      <td>0</td>\n",
       "      <td>...</td>\n",
       "      <td>84</td>\n",
       "      <td>16</td>\n",
       "      <td>milk</td>\n",
       "      <td>dairy eggs</td>\n",
       "      <td>70</td>\n",
       "      <td>2</td>\n",
       "      <td>1.328571</td>\n",
       "      <td>1.0</td>\n",
       "      <td>1.328571</td>\n",
       "      <td>-7.666905</td>\n",
       "    </tr>\n",
       "    <tr>\n",
       "      <th>7</th>\n",
       "      <td>539821</td>\n",
       "      <td>196613</td>\n",
       "      <td>50</td>\n",
       "      <td>6</td>\n",
       "      <td>15</td>\n",
       "      <td>4</td>\n",
       "      <td>13</td>\n",
       "      <td>1</td>\n",
       "      <td>38689</td>\n",
       "      <td>0</td>\n",
       "      <td>...</td>\n",
       "      <td>84</td>\n",
       "      <td>16</td>\n",
       "      <td>milk</td>\n",
       "      <td>dairy eggs</td>\n",
       "      <td>70</td>\n",
       "      <td>4</td>\n",
       "      <td>0.714286</td>\n",
       "      <td>-2.0</td>\n",
       "      <td>-1.428571</td>\n",
       "      <td>-7.666905</td>\n",
       "    </tr>\n",
       "    <tr>\n",
       "      <th>8</th>\n",
       "      <td>642668</td>\n",
       "      <td>196613</td>\n",
       "      <td>69</td>\n",
       "      <td>2</td>\n",
       "      <td>16</td>\n",
       "      <td>2</td>\n",
       "      <td>15</td>\n",
       "      <td>1</td>\n",
       "      <td>38689</td>\n",
       "      <td>0</td>\n",
       "      <td>...</td>\n",
       "      <td>84</td>\n",
       "      <td>16</td>\n",
       "      <td>milk</td>\n",
       "      <td>dairy eggs</td>\n",
       "      <td>70</td>\n",
       "      <td>5</td>\n",
       "      <td>0.985714</td>\n",
       "      <td>-1.8</td>\n",
       "      <td>-1.774286</td>\n",
       "      <td>-7.666905</td>\n",
       "    </tr>\n",
       "    <tr>\n",
       "      <th>9</th>\n",
       "      <td>696513</td>\n",
       "      <td>196613</td>\n",
       "      <td>66</td>\n",
       "      <td>3</td>\n",
       "      <td>21</td>\n",
       "      <td>0</td>\n",
       "      <td>2</td>\n",
       "      <td>1</td>\n",
       "      <td>38689</td>\n",
       "      <td>0</td>\n",
       "      <td>...</td>\n",
       "      <td>84</td>\n",
       "      <td>16</td>\n",
       "      <td>milk</td>\n",
       "      <td>dairy eggs</td>\n",
       "      <td>70</td>\n",
       "      <td>1</td>\n",
       "      <td>0.942857</td>\n",
       "      <td>0.0</td>\n",
       "      <td>0.000000</td>\n",
       "      <td>-7.666905</td>\n",
       "    </tr>\n",
       "  </tbody>\n",
       "</table>\n",
       "<p>10 rows × 21 columns</p>\n",
       "</div>"
      ],
      "text/plain": [
       "  order_id   cstno  order_number  week_day  order_hour  order_interval  \\\n",
       "0   717029  196613            15         1           9               3   \n",
       "1  2325772  196613            35         6          11               2   \n",
       "2   642668  196613            69         2          16               2   \n",
       "3  1326515  196613            61         3          19               3   \n",
       "4  1437845  196613            36         3          15               4   \n",
       "5   185079  196613            94         6          17               6   \n",
       "6   358293  196613            93         0          11               4   \n",
       "7   539821  196613            50         6          15               4   \n",
       "8   642668  196613            69         2          16               2   \n",
       "9   696513  196613            66         3          21               0   \n",
       "\n",
       "   add_order  is_reordered product_id  last_order_yn  ... category_id  \\\n",
       "0          5             0      41220              0  ...          83   \n",
       "1          7             1      41220              0  ...          83   \n",
       "2         11             1       4210              0  ...          84   \n",
       "3          3             1       4210              0  ...          84   \n",
       "4         16             0       4210              0  ...          84   \n",
       "5          1             1      38689              0  ...          84   \n",
       "6          1             1      38689              0  ...          84   \n",
       "7         13             1      38689              0  ...          84   \n",
       "8         15             1      38689              0  ...          84   \n",
       "9          2             1      38689              0  ...          84   \n",
       "\n",
       "  division_id     category_name division_name num_orders  order_length  \\\n",
       "0           4  fresh vegetables       produce         70             2   \n",
       "1           4  fresh vegetables       produce         70             3   \n",
       "2          16              milk    dairy eggs         70             5   \n",
       "3          16              milk    dairy eggs         70             2   \n",
       "4          16              milk    dairy eggs         70             3   \n",
       "5          16              milk    dairy eggs         70             3   \n",
       "6          16              milk    dairy eggs         70             2   \n",
       "7          16              milk    dairy eggs         70             4   \n",
       "8          16              milk    dairy eggs         70             5   \n",
       "9          16              milk    dairy eggs         70             1   \n",
       "\n",
       "   order_importance  product_importance  importance_score  \\\n",
       "0          0.214286                -1.0         -0.214286   \n",
       "1          0.500000                -1.0         -0.500000   \n",
       "2          0.985714                -1.0         -0.985714   \n",
       "3          0.871429                 0.0          0.000000   \n",
       "4          0.514286                -4.0         -2.057143   \n",
       "5          1.342857                 1.0          1.342857   \n",
       "6          1.328571                 1.0          1.328571   \n",
       "7          0.714286                -2.0         -1.428571   \n",
       "8          0.985714                -1.8         -1.774286   \n",
       "9          0.942857                 0.0          0.000000   \n",
       "\n",
       "   importance_score_sum  \n",
       "0             -0.714286  \n",
       "1             -0.714286  \n",
       "2             -3.042857  \n",
       "3             -3.042857  \n",
       "4             -3.042857  \n",
       "5             -7.666905  \n",
       "6             -7.666905  \n",
       "7             -7.666905  \n",
       "8             -7.666905  \n",
       "9             -7.666905  \n",
       "\n",
       "[10 rows x 21 columns]"
      ]
     },
     "execution_count": 258,
     "metadata": {},
     "output_type": "execute_result"
    }
   ],
   "source": [
    "orders_with_order_products= pd.merge(orders_with_order_products,df_importance, on=['cstno','product_id'],how='left')\n",
    " \n",
    "orders_with_order_products.head(10)"
   ]
  },
  {
   "cell_type": "code",
   "execution_count": 259,
   "id": "4d435991-1eec-44db-ab67-f8afdaaadf59",
   "metadata": {},
   "outputs": [],
   "source": [
    "with open('orders_with_order_products_new11.pkl', 'wb') as f:\n",
    "    pkl.dump(orders_with_order_products,f)"
   ]
  },
  {
   "cell_type": "code",
   "execution_count": 260,
   "id": "6d74f4b3-b510-4796-98c3-71d9defd5336",
   "metadata": {},
   "outputs": [],
   "source": [
    "with open('orders_with_order_products_new11.pkl', 'rb') as f:\n",
    "    orders_with_order_products= pkl.load(f)"
   ]
  },
  {
   "cell_type": "code",
   "execution_count": 261,
   "id": "7e1c2fa1-4a47-4788-9809-6a979c47f1cf",
   "metadata": {},
   "outputs": [],
   "source": [
    "with open('orders_with_order_products_new2.pkl', 'wb') as f:\n",
    "    pkl.dump(orders_with_order_products,f)"
   ]
  },
  {
   "cell_type": "code",
   "execution_count": 262,
   "id": "185d6769-2276-4024-bf86-bd50111ca1fa",
   "metadata": {},
   "outputs": [],
   "source": [
    "with open('orders_with_order_products_new2.pkl', 'rb') as f:\n",
    "    orders_with_order_products= pkl.load(f)"
   ]
  },
  {
   "cell_type": "code",
   "execution_count": 263,
   "id": "71c119fe-1792-4bf5-84f9-82ac2f7a298e",
   "metadata": {},
   "outputs": [],
   "source": [
    "#number of reorders of a customer\n",
    "reorders_cstno = orders_with_order_products.groupby('cstno')['is_reordered'].sum().reset_index()\n",
    "reorders_cstno.head()\n",
    "reorders_cstno.columns= ['cstno', 'reordered_count']"
   ]
  },
  {
   "cell_type": "code",
   "execution_count": 292,
   "id": "6a14082f-2959-4da9-a310-151360a3c6cc",
   "metadata": {},
   "outputs": [
    {
     "data": {
      "text/plain": [
       "0"
      ]
     },
     "execution_count": 292,
     "metadata": {},
     "output_type": "execute_result"
    }
   ],
   "source": [
    "# dropping columns\n",
    "orders_with_order_products= orders_with_order_products.drop(['division_name', 'category_name', 'last_order_yn','name'], axis=1)\n",
    "import gc\n",
    "gc.collect()"
   ]
  },
  {
   "cell_type": "code",
   "execution_count": 293,
   "id": "40732ef1-c62c-423e-8f27-39778816f374",
   "metadata": {},
   "outputs": [
    {
     "ename": "NameError",
     "evalue": "name 'reorders_cstno' is not defined",
     "output_type": "error",
     "traceback": [
      "\u001b[0;31m---------------------------------------------------------------------------\u001b[0m",
      "\u001b[0;31mNameError\u001b[0m                                 Traceback (most recent call last)",
      "\u001b[0;32m<ipython-input-293-7b943cab5be3>\u001b[0m in \u001b[0;36m<module>\u001b[0;34m\u001b[0m\n\u001b[1;32m      1\u001b[0m \u001b[0;32mimport\u001b[0m \u001b[0mgc\u001b[0m\u001b[0;34m\u001b[0m\u001b[0;34m\u001b[0m\u001b[0m\n\u001b[0;32m----> 2\u001b[0;31m \u001b[0morders_with_order_products\u001b[0m\u001b[0;34m=\u001b[0m \u001b[0mpd\u001b[0m\u001b[0;34m.\u001b[0m\u001b[0mmerge\u001b[0m\u001b[0;34m(\u001b[0m\u001b[0morders_with_order_products\u001b[0m\u001b[0;34m,\u001b[0m \u001b[0mreorders_cstno\u001b[0m\u001b[0;34m,\u001b[0m \u001b[0mon\u001b[0m\u001b[0;34m=\u001b[0m\u001b[0;34m'cstno'\u001b[0m\u001b[0;34m,\u001b[0m \u001b[0mhow\u001b[0m\u001b[0;34m=\u001b[0m\u001b[0;34m'left'\u001b[0m\u001b[0;34m)\u001b[0m\u001b[0;34m\u001b[0m\u001b[0;34m\u001b[0m\u001b[0m\n\u001b[0m\u001b[1;32m      3\u001b[0m \u001b[0;32mdel\u001b[0m \u001b[0mreorders_cstno\u001b[0m\u001b[0;34m\u001b[0m\u001b[0;34m\u001b[0m\u001b[0m\n\u001b[1;32m      4\u001b[0m \u001b[0mgc\u001b[0m\u001b[0;34m.\u001b[0m\u001b[0mcollect\u001b[0m\u001b[0;34m(\u001b[0m\u001b[0;34m)\u001b[0m\u001b[0;34m\u001b[0m\u001b[0;34m\u001b[0m\u001b[0m\n",
      "\u001b[0;31mNameError\u001b[0m: name 'reorders_cstno' is not defined"
     ]
    }
   ],
   "source": [
    "import gc\n",
    "orders_with_order_products= pd.merge(orders_with_order_products, reorders_cstno, on='cstno', how='left')\n",
    "del reorders_cstno\n",
    "gc.collect()"
   ]
  },
  {
   "cell_type": "code",
   "execution_count": 265,
   "id": "c63991c2-8d5c-4dda-90b0-34bc9e8e1843",
   "metadata": {},
   "outputs": [
    {
     "data": {
      "text/html": [
       "<div>\n",
       "<style scoped>\n",
       "    .dataframe tbody tr th:only-of-type {\n",
       "        vertical-align: middle;\n",
       "    }\n",
       "\n",
       "    .dataframe tbody tr th {\n",
       "        vertical-align: top;\n",
       "    }\n",
       "\n",
       "    .dataframe thead th {\n",
       "        text-align: right;\n",
       "    }\n",
       "</style>\n",
       "<table border=\"1\" class=\"dataframe\">\n",
       "  <thead>\n",
       "    <tr style=\"text-align: right;\">\n",
       "      <th></th>\n",
       "      <th>cstno</th>\n",
       "      <th>reorder_ratio</th>\n",
       "    </tr>\n",
       "  </thead>\n",
       "  <tbody>\n",
       "    <tr>\n",
       "      <th>0</th>\n",
       "      <td>10000</td>\n",
       "      <td>0.872093</td>\n",
       "    </tr>\n",
       "    <tr>\n",
       "      <th>1</th>\n",
       "      <td>100001</td>\n",
       "      <td>0.883721</td>\n",
       "    </tr>\n",
       "    <tr>\n",
       "      <th>2</th>\n",
       "      <td>100046</td>\n",
       "      <td>0.858369</td>\n",
       "    </tr>\n",
       "    <tr>\n",
       "      <th>3</th>\n",
       "      <td>100071</td>\n",
       "      <td>0.877273</td>\n",
       "    </tr>\n",
       "    <tr>\n",
       "      <th>4</th>\n",
       "      <td>100108</td>\n",
       "      <td>0.872832</td>\n",
       "    </tr>\n",
       "  </tbody>\n",
       "</table>\n",
       "</div>"
      ],
      "text/plain": [
       "    cstno  reorder_ratio\n",
       "0   10000       0.872093\n",
       "1  100001       0.883721\n",
       "2  100046       0.858369\n",
       "3  100071       0.877273\n",
       "4  100108       0.872832"
      ]
     },
     "execution_count": 265,
     "metadata": {},
     "output_type": "execute_result"
    }
   ],
   "source": [
    "# 고객의 재주문율 -> add feature\n",
    "reorders_cstno_average = orders_with_order_products.groupby('cstno')['is_reordered'].mean().reset_index()\n",
    "reorders_cstno_average.rename(columns={'is_reordered':'reorder_ratio'},inplace=True)\n",
    "\n",
    "reorders_cstno_average.head()"
   ]
  },
  {
   "cell_type": "code",
   "execution_count": 266,
   "id": "dc13e3ef-9578-4d4d-9c48-ac0f17ee7b0e",
   "metadata": {},
   "outputs": [
    {
     "data": {
      "text/plain": [
       "0"
      ]
     },
     "execution_count": 266,
     "metadata": {},
     "output_type": "execute_result"
    }
   ],
   "source": [
    "orders_with_order_products= pd.merge(orders_with_order_products, reorders_cstno_average, on='cstno', how='left')\n",
    "del reorders_cstno_average\n",
    "gc.collect()"
   ]
  },
  {
   "cell_type": "code",
   "execution_count": 267,
   "id": "aca5413e-8d0d-4589-8537-a80e54313e5f",
   "metadata": {},
   "outputs": [
    {
     "data": {
      "text/html": [
       "<div>\n",
       "<style scoped>\n",
       "    .dataframe tbody tr th:only-of-type {\n",
       "        vertical-align: middle;\n",
       "    }\n",
       "\n",
       "    .dataframe tbody tr th {\n",
       "        vertical-align: top;\n",
       "    }\n",
       "\n",
       "    .dataframe thead th {\n",
       "        text-align: right;\n",
       "    }\n",
       "</style>\n",
       "<table border=\"1\" class=\"dataframe\">\n",
       "  <thead>\n",
       "    <tr style=\"text-align: right;\">\n",
       "      <th></th>\n",
       "      <th>order_id</th>\n",
       "      <th>cstno</th>\n",
       "      <th>order_number</th>\n",
       "      <th>week_day</th>\n",
       "      <th>order_hour</th>\n",
       "      <th>order_interval</th>\n",
       "      <th>add_order</th>\n",
       "      <th>is_reordered</th>\n",
       "      <th>product_id</th>\n",
       "      <th>last_order_yn</th>\n",
       "      <th>...</th>\n",
       "      <th>category_name</th>\n",
       "      <th>division_name</th>\n",
       "      <th>num_orders</th>\n",
       "      <th>order_length</th>\n",
       "      <th>order_importance</th>\n",
       "      <th>product_importance</th>\n",
       "      <th>importance_score</th>\n",
       "      <th>importance_score_sum</th>\n",
       "      <th>reordered_count</th>\n",
       "      <th>reorder_ratio</th>\n",
       "    </tr>\n",
       "  </thead>\n",
       "  <tbody>\n",
       "    <tr>\n",
       "      <th>0</th>\n",
       "      <td>717029</td>\n",
       "      <td>196613</td>\n",
       "      <td>15</td>\n",
       "      <td>1</td>\n",
       "      <td>9</td>\n",
       "      <td>3</td>\n",
       "      <td>5</td>\n",
       "      <td>0</td>\n",
       "      <td>41220</td>\n",
       "      <td>0</td>\n",
       "      <td>...</td>\n",
       "      <td>fresh vegetables</td>\n",
       "      <td>produce</td>\n",
       "      <td>70</td>\n",
       "      <td>2</td>\n",
       "      <td>0.214286</td>\n",
       "      <td>-1.0</td>\n",
       "      <td>-0.214286</td>\n",
       "      <td>-0.714286</td>\n",
       "      <td>161</td>\n",
       "      <td>0.793103</td>\n",
       "    </tr>\n",
       "    <tr>\n",
       "      <th>1</th>\n",
       "      <td>2325772</td>\n",
       "      <td>196613</td>\n",
       "      <td>35</td>\n",
       "      <td>6</td>\n",
       "      <td>11</td>\n",
       "      <td>2</td>\n",
       "      <td>7</td>\n",
       "      <td>1</td>\n",
       "      <td>41220</td>\n",
       "      <td>0</td>\n",
       "      <td>...</td>\n",
       "      <td>fresh vegetables</td>\n",
       "      <td>produce</td>\n",
       "      <td>70</td>\n",
       "      <td>3</td>\n",
       "      <td>0.500000</td>\n",
       "      <td>-1.0</td>\n",
       "      <td>-0.500000</td>\n",
       "      <td>-0.714286</td>\n",
       "      <td>161</td>\n",
       "      <td>0.793103</td>\n",
       "    </tr>\n",
       "    <tr>\n",
       "      <th>2</th>\n",
       "      <td>642668</td>\n",
       "      <td>196613</td>\n",
       "      <td>69</td>\n",
       "      <td>2</td>\n",
       "      <td>16</td>\n",
       "      <td>2</td>\n",
       "      <td>11</td>\n",
       "      <td>1</td>\n",
       "      <td>4210</td>\n",
       "      <td>0</td>\n",
       "      <td>...</td>\n",
       "      <td>milk</td>\n",
       "      <td>dairy eggs</td>\n",
       "      <td>70</td>\n",
       "      <td>5</td>\n",
       "      <td>0.985714</td>\n",
       "      <td>-1.0</td>\n",
       "      <td>-0.985714</td>\n",
       "      <td>-3.042857</td>\n",
       "      <td>161</td>\n",
       "      <td>0.793103</td>\n",
       "    </tr>\n",
       "    <tr>\n",
       "      <th>3</th>\n",
       "      <td>1326515</td>\n",
       "      <td>196613</td>\n",
       "      <td>61</td>\n",
       "      <td>3</td>\n",
       "      <td>19</td>\n",
       "      <td>3</td>\n",
       "      <td>3</td>\n",
       "      <td>1</td>\n",
       "      <td>4210</td>\n",
       "      <td>0</td>\n",
       "      <td>...</td>\n",
       "      <td>milk</td>\n",
       "      <td>dairy eggs</td>\n",
       "      <td>70</td>\n",
       "      <td>2</td>\n",
       "      <td>0.871429</td>\n",
       "      <td>0.0</td>\n",
       "      <td>0.000000</td>\n",
       "      <td>-3.042857</td>\n",
       "      <td>161</td>\n",
       "      <td>0.793103</td>\n",
       "    </tr>\n",
       "    <tr>\n",
       "      <th>4</th>\n",
       "      <td>1437845</td>\n",
       "      <td>196613</td>\n",
       "      <td>36</td>\n",
       "      <td>3</td>\n",
       "      <td>15</td>\n",
       "      <td>4</td>\n",
       "      <td>16</td>\n",
       "      <td>0</td>\n",
       "      <td>4210</td>\n",
       "      <td>0</td>\n",
       "      <td>...</td>\n",
       "      <td>milk</td>\n",
       "      <td>dairy eggs</td>\n",
       "      <td>70</td>\n",
       "      <td>3</td>\n",
       "      <td>0.514286</td>\n",
       "      <td>-4.0</td>\n",
       "      <td>-2.057143</td>\n",
       "      <td>-3.042857</td>\n",
       "      <td>161</td>\n",
       "      <td>0.793103</td>\n",
       "    </tr>\n",
       "  </tbody>\n",
       "</table>\n",
       "<p>5 rows × 23 columns</p>\n",
       "</div>"
      ],
      "text/plain": [
       "  order_id   cstno  order_number  week_day  order_hour  order_interval  \\\n",
       "0   717029  196613            15         1           9               3   \n",
       "1  2325772  196613            35         6          11               2   \n",
       "2   642668  196613            69         2          16               2   \n",
       "3  1326515  196613            61         3          19               3   \n",
       "4  1437845  196613            36         3          15               4   \n",
       "\n",
       "   add_order  is_reordered product_id  last_order_yn  ...     category_name  \\\n",
       "0          5             0      41220              0  ...  fresh vegetables   \n",
       "1          7             1      41220              0  ...  fresh vegetables   \n",
       "2         11             1       4210              0  ...              milk   \n",
       "3          3             1       4210              0  ...              milk   \n",
       "4         16             0       4210              0  ...              milk   \n",
       "\n",
       "  division_name num_orders order_length order_importance  product_importance  \\\n",
       "0       produce         70            2         0.214286                -1.0   \n",
       "1       produce         70            3         0.500000                -1.0   \n",
       "2    dairy eggs         70            5         0.985714                -1.0   \n",
       "3    dairy eggs         70            2         0.871429                 0.0   \n",
       "4    dairy eggs         70            3         0.514286                -4.0   \n",
       "\n",
       "   importance_score  importance_score_sum  reordered_count  reorder_ratio  \n",
       "0         -0.214286             -0.714286              161       0.793103  \n",
       "1         -0.500000             -0.714286              161       0.793103  \n",
       "2         -0.985714             -3.042857              161       0.793103  \n",
       "3          0.000000             -3.042857              161       0.793103  \n",
       "4         -2.057143             -3.042857              161       0.793103  \n",
       "\n",
       "[5 rows x 23 columns]"
      ]
     },
     "execution_count": 267,
     "metadata": {},
     "output_type": "execute_result"
    }
   ],
   "source": [
    "orders_with_order_products.head()"
   ]
  },
  {
   "cell_type": "code",
   "execution_count": 268,
   "id": "8c47c273-e8fc-44f5-92e3-f2f72223528f",
   "metadata": {},
   "outputs": [],
   "source": [
    "with open('orders_with_order_products_new4.pkl', 'wb') as f:\n",
    "    pkl.dump(orders_with_order_products,f)"
   ]
  },
  {
   "cell_type": "code",
   "execution_count": 269,
   "id": "4bc87238-c0c9-4962-998e-3b9ee71e60d3",
   "metadata": {},
   "outputs": [],
   "source": [
    "with open('orders_with_order_products_new4.pkl', 'rb') as f:\n",
    "    orders_with_order_products= pkl.load(f)"
   ]
  },
  {
   "cell_type": "code",
   "execution_count": 270,
   "id": "a07df8f9-b86e-400d-bba2-8f2749953a1b",
   "metadata": {},
   "outputs": [
    {
     "data": {
      "text/html": [
       "<div>\n",
       "<style scoped>\n",
       "    .dataframe tbody tr th:only-of-type {\n",
       "        vertical-align: middle;\n",
       "    }\n",
       "\n",
       "    .dataframe tbody tr th {\n",
       "        vertical-align: top;\n",
       "    }\n",
       "\n",
       "    .dataframe thead th {\n",
       "        text-align: right;\n",
       "    }\n",
       "</style>\n",
       "<table border=\"1\" class=\"dataframe\">\n",
       "  <thead>\n",
       "    <tr style=\"text-align: right;\">\n",
       "      <th></th>\n",
       "      <th>order_id</th>\n",
       "      <th>cstno</th>\n",
       "      <th>order_number</th>\n",
       "      <th>week_day</th>\n",
       "      <th>order_hour</th>\n",
       "      <th>order_interval</th>\n",
       "      <th>add_order</th>\n",
       "      <th>is_reordered</th>\n",
       "      <th>product_id</th>\n",
       "      <th>last_order_yn</th>\n",
       "      <th>...</th>\n",
       "      <th>category_name</th>\n",
       "      <th>division_name</th>\n",
       "      <th>num_orders</th>\n",
       "      <th>order_length</th>\n",
       "      <th>order_importance</th>\n",
       "      <th>product_importance</th>\n",
       "      <th>importance_score</th>\n",
       "      <th>importance_score_sum</th>\n",
       "      <th>reordered_count</th>\n",
       "      <th>reorder_ratio</th>\n",
       "    </tr>\n",
       "  </thead>\n",
       "  <tbody>\n",
       "    <tr>\n",
       "      <th>0</th>\n",
       "      <td>717029</td>\n",
       "      <td>196613</td>\n",
       "      <td>15</td>\n",
       "      <td>1</td>\n",
       "      <td>9</td>\n",
       "      <td>3</td>\n",
       "      <td>5</td>\n",
       "      <td>0</td>\n",
       "      <td>41220</td>\n",
       "      <td>0</td>\n",
       "      <td>...</td>\n",
       "      <td>fresh vegetables</td>\n",
       "      <td>produce</td>\n",
       "      <td>70</td>\n",
       "      <td>2</td>\n",
       "      <td>0.214286</td>\n",
       "      <td>-1.0</td>\n",
       "      <td>-0.214286</td>\n",
       "      <td>-0.714286</td>\n",
       "      <td>161</td>\n",
       "      <td>0.793103</td>\n",
       "    </tr>\n",
       "    <tr>\n",
       "      <th>1</th>\n",
       "      <td>2325772</td>\n",
       "      <td>196613</td>\n",
       "      <td>35</td>\n",
       "      <td>6</td>\n",
       "      <td>11</td>\n",
       "      <td>2</td>\n",
       "      <td>7</td>\n",
       "      <td>1</td>\n",
       "      <td>41220</td>\n",
       "      <td>0</td>\n",
       "      <td>...</td>\n",
       "      <td>fresh vegetables</td>\n",
       "      <td>produce</td>\n",
       "      <td>70</td>\n",
       "      <td>3</td>\n",
       "      <td>0.500000</td>\n",
       "      <td>-1.0</td>\n",
       "      <td>-0.500000</td>\n",
       "      <td>-0.714286</td>\n",
       "      <td>161</td>\n",
       "      <td>0.793103</td>\n",
       "    </tr>\n",
       "    <tr>\n",
       "      <th>2</th>\n",
       "      <td>642668</td>\n",
       "      <td>196613</td>\n",
       "      <td>69</td>\n",
       "      <td>2</td>\n",
       "      <td>16</td>\n",
       "      <td>2</td>\n",
       "      <td>11</td>\n",
       "      <td>1</td>\n",
       "      <td>4210</td>\n",
       "      <td>0</td>\n",
       "      <td>...</td>\n",
       "      <td>milk</td>\n",
       "      <td>dairy eggs</td>\n",
       "      <td>70</td>\n",
       "      <td>5</td>\n",
       "      <td>0.985714</td>\n",
       "      <td>-1.0</td>\n",
       "      <td>-0.985714</td>\n",
       "      <td>-3.042857</td>\n",
       "      <td>161</td>\n",
       "      <td>0.793103</td>\n",
       "    </tr>\n",
       "    <tr>\n",
       "      <th>3</th>\n",
       "      <td>1326515</td>\n",
       "      <td>196613</td>\n",
       "      <td>61</td>\n",
       "      <td>3</td>\n",
       "      <td>19</td>\n",
       "      <td>3</td>\n",
       "      <td>3</td>\n",
       "      <td>1</td>\n",
       "      <td>4210</td>\n",
       "      <td>0</td>\n",
       "      <td>...</td>\n",
       "      <td>milk</td>\n",
       "      <td>dairy eggs</td>\n",
       "      <td>70</td>\n",
       "      <td>2</td>\n",
       "      <td>0.871429</td>\n",
       "      <td>0.0</td>\n",
       "      <td>0.000000</td>\n",
       "      <td>-3.042857</td>\n",
       "      <td>161</td>\n",
       "      <td>0.793103</td>\n",
       "    </tr>\n",
       "    <tr>\n",
       "      <th>4</th>\n",
       "      <td>1437845</td>\n",
       "      <td>196613</td>\n",
       "      <td>36</td>\n",
       "      <td>3</td>\n",
       "      <td>15</td>\n",
       "      <td>4</td>\n",
       "      <td>16</td>\n",
       "      <td>0</td>\n",
       "      <td>4210</td>\n",
       "      <td>0</td>\n",
       "      <td>...</td>\n",
       "      <td>milk</td>\n",
       "      <td>dairy eggs</td>\n",
       "      <td>70</td>\n",
       "      <td>3</td>\n",
       "      <td>0.514286</td>\n",
       "      <td>-4.0</td>\n",
       "      <td>-2.057143</td>\n",
       "      <td>-3.042857</td>\n",
       "      <td>161</td>\n",
       "      <td>0.793103</td>\n",
       "    </tr>\n",
       "  </tbody>\n",
       "</table>\n",
       "<p>5 rows × 23 columns</p>\n",
       "</div>"
      ],
      "text/plain": [
       "  order_id   cstno  order_number  week_day  order_hour  order_interval  \\\n",
       "0   717029  196613            15         1           9               3   \n",
       "1  2325772  196613            35         6          11               2   \n",
       "2   642668  196613            69         2          16               2   \n",
       "3  1326515  196613            61         3          19               3   \n",
       "4  1437845  196613            36         3          15               4   \n",
       "\n",
       "   add_order  is_reordered product_id  last_order_yn  ...     category_name  \\\n",
       "0          5             0      41220              0  ...  fresh vegetables   \n",
       "1          7             1      41220              0  ...  fresh vegetables   \n",
       "2         11             1       4210              0  ...              milk   \n",
       "3          3             1       4210              0  ...              milk   \n",
       "4         16             0       4210              0  ...              milk   \n",
       "\n",
       "  division_name num_orders order_length order_importance  product_importance  \\\n",
       "0       produce         70            2         0.214286                -1.0   \n",
       "1       produce         70            3         0.500000                -1.0   \n",
       "2    dairy eggs         70            5         0.985714                -1.0   \n",
       "3    dairy eggs         70            2         0.871429                 0.0   \n",
       "4    dairy eggs         70            3         0.514286                -4.0   \n",
       "\n",
       "   importance_score  importance_score_sum  reordered_count  reorder_ratio  \n",
       "0         -0.214286             -0.714286              161       0.793103  \n",
       "1         -0.500000             -0.714286              161       0.793103  \n",
       "2         -0.985714             -3.042857              161       0.793103  \n",
       "3          0.000000             -3.042857              161       0.793103  \n",
       "4         -2.057143             -3.042857              161       0.793103  \n",
       "\n",
       "[5 rows x 23 columns]"
      ]
     },
     "execution_count": 270,
     "metadata": {},
     "output_type": "execute_result"
    }
   ],
   "source": [
    "orders_with_order_products.head()"
   ]
  },
  {
   "cell_type": "code",
   "execution_count": 231,
   "id": "aa45af11-fa63-4288-bfa2-f1e6b1dd9c85",
   "metadata": {},
   "outputs": [],
   "source": [
    "#droppint is_reordered\n",
    "Y= orders_with_order_products['is_reordered']\n",
    "orders_with_order_products= orders_with_order_products.drop('is_reordered', axis=1)"
   ]
  },
  {
   "cell_type": "code",
   "execution_count": 271,
   "id": "ad73d08b-f570-44a1-ac72-fb11ffb8c90c",
   "metadata": {},
   "outputs": [],
   "source": [
    "with open('X.pkl', 'wb') as f:\n",
    "    pkl.dump(orders_with_order_products,f)\n",
    "with open('Y.pkl', 'wb') as f:\n",
    "    pkl.dump(Y,f)"
   ]
  },
  {
   "cell_type": "code",
   "execution_count": 272,
   "id": "bf1018a9-2a47-4f88-848f-c66ed0057d20",
   "metadata": {},
   "outputs": [],
   "source": [
    "with open('X.pkl', 'rb') as f:\n",
    "    X= pkl.load(f)\n",
    "with open('Y.pkl', 'rb') as f:\n",
    "    Y= pkl.load(f)"
   ]
  },
  {
   "cell_type": "markdown",
   "id": "17e846e1-e3e7-467b-884b-ebc35bac1735",
   "metadata": {},
   "source": [
    ">Univariate analysis"
   ]
  },
  {
   "cell_type": "code",
   "execution_count": 273,
   "id": "1bcc71b5-a866-410b-b9a3-c85928f4d616",
   "metadata": {},
   "outputs": [
    {
     "data": {
      "text/html": [
       "<div>\n",
       "<style scoped>\n",
       "    .dataframe tbody tr th:only-of-type {\n",
       "        vertical-align: middle;\n",
       "    }\n",
       "\n",
       "    .dataframe tbody tr th {\n",
       "        vertical-align: top;\n",
       "    }\n",
       "\n",
       "    .dataframe thead th {\n",
       "        text-align: right;\n",
       "    }\n",
       "</style>\n",
       "<table border=\"1\" class=\"dataframe\">\n",
       "  <thead>\n",
       "    <tr style=\"text-align: right;\">\n",
       "      <th></th>\n",
       "      <th>order_id</th>\n",
       "      <th>cstno</th>\n",
       "      <th>order_number</th>\n",
       "      <th>week_day</th>\n",
       "      <th>order_hour</th>\n",
       "      <th>order_interval</th>\n",
       "      <th>add_order</th>\n",
       "      <th>is_reordered</th>\n",
       "      <th>product_id</th>\n",
       "      <th>last_order_yn</th>\n",
       "      <th>...</th>\n",
       "      <th>category_name</th>\n",
       "      <th>division_name</th>\n",
       "      <th>num_orders</th>\n",
       "      <th>order_length</th>\n",
       "      <th>order_importance</th>\n",
       "      <th>product_importance</th>\n",
       "      <th>importance_score</th>\n",
       "      <th>importance_score_sum</th>\n",
       "      <th>reordered_count</th>\n",
       "      <th>reorder_ratio</th>\n",
       "    </tr>\n",
       "  </thead>\n",
       "  <tbody>\n",
       "    <tr>\n",
       "      <th>0</th>\n",
       "      <td>717029</td>\n",
       "      <td>196613</td>\n",
       "      <td>15</td>\n",
       "      <td>1</td>\n",
       "      <td>9</td>\n",
       "      <td>3</td>\n",
       "      <td>5</td>\n",
       "      <td>0</td>\n",
       "      <td>41220</td>\n",
       "      <td>0</td>\n",
       "      <td>...</td>\n",
       "      <td>fresh vegetables</td>\n",
       "      <td>produce</td>\n",
       "      <td>70</td>\n",
       "      <td>2</td>\n",
       "      <td>0.214286</td>\n",
       "      <td>-1.0</td>\n",
       "      <td>-0.214286</td>\n",
       "      <td>-0.714286</td>\n",
       "      <td>161</td>\n",
       "      <td>0.793103</td>\n",
       "    </tr>\n",
       "    <tr>\n",
       "      <th>1</th>\n",
       "      <td>2325772</td>\n",
       "      <td>196613</td>\n",
       "      <td>35</td>\n",
       "      <td>6</td>\n",
       "      <td>11</td>\n",
       "      <td>2</td>\n",
       "      <td>7</td>\n",
       "      <td>1</td>\n",
       "      <td>41220</td>\n",
       "      <td>0</td>\n",
       "      <td>...</td>\n",
       "      <td>fresh vegetables</td>\n",
       "      <td>produce</td>\n",
       "      <td>70</td>\n",
       "      <td>3</td>\n",
       "      <td>0.500000</td>\n",
       "      <td>-1.0</td>\n",
       "      <td>-0.500000</td>\n",
       "      <td>-0.714286</td>\n",
       "      <td>161</td>\n",
       "      <td>0.793103</td>\n",
       "    </tr>\n",
       "    <tr>\n",
       "      <th>2</th>\n",
       "      <td>642668</td>\n",
       "      <td>196613</td>\n",
       "      <td>69</td>\n",
       "      <td>2</td>\n",
       "      <td>16</td>\n",
       "      <td>2</td>\n",
       "      <td>11</td>\n",
       "      <td>1</td>\n",
       "      <td>4210</td>\n",
       "      <td>0</td>\n",
       "      <td>...</td>\n",
       "      <td>milk</td>\n",
       "      <td>dairy eggs</td>\n",
       "      <td>70</td>\n",
       "      <td>5</td>\n",
       "      <td>0.985714</td>\n",
       "      <td>-1.0</td>\n",
       "      <td>-0.985714</td>\n",
       "      <td>-3.042857</td>\n",
       "      <td>161</td>\n",
       "      <td>0.793103</td>\n",
       "    </tr>\n",
       "    <tr>\n",
       "      <th>3</th>\n",
       "      <td>1326515</td>\n",
       "      <td>196613</td>\n",
       "      <td>61</td>\n",
       "      <td>3</td>\n",
       "      <td>19</td>\n",
       "      <td>3</td>\n",
       "      <td>3</td>\n",
       "      <td>1</td>\n",
       "      <td>4210</td>\n",
       "      <td>0</td>\n",
       "      <td>...</td>\n",
       "      <td>milk</td>\n",
       "      <td>dairy eggs</td>\n",
       "      <td>70</td>\n",
       "      <td>2</td>\n",
       "      <td>0.871429</td>\n",
       "      <td>0.0</td>\n",
       "      <td>0.000000</td>\n",
       "      <td>-3.042857</td>\n",
       "      <td>161</td>\n",
       "      <td>0.793103</td>\n",
       "    </tr>\n",
       "    <tr>\n",
       "      <th>4</th>\n",
       "      <td>1437845</td>\n",
       "      <td>196613</td>\n",
       "      <td>36</td>\n",
       "      <td>3</td>\n",
       "      <td>15</td>\n",
       "      <td>4</td>\n",
       "      <td>16</td>\n",
       "      <td>0</td>\n",
       "      <td>4210</td>\n",
       "      <td>0</td>\n",
       "      <td>...</td>\n",
       "      <td>milk</td>\n",
       "      <td>dairy eggs</td>\n",
       "      <td>70</td>\n",
       "      <td>3</td>\n",
       "      <td>0.514286</td>\n",
       "      <td>-4.0</td>\n",
       "      <td>-2.057143</td>\n",
       "      <td>-3.042857</td>\n",
       "      <td>161</td>\n",
       "      <td>0.793103</td>\n",
       "    </tr>\n",
       "  </tbody>\n",
       "</table>\n",
       "<p>5 rows × 23 columns</p>\n",
       "</div>"
      ],
      "text/plain": [
       "  order_id   cstno  order_number  week_day  order_hour  order_interval  \\\n",
       "0   717029  196613            15         1           9               3   \n",
       "1  2325772  196613            35         6          11               2   \n",
       "2   642668  196613            69         2          16               2   \n",
       "3  1326515  196613            61         3          19               3   \n",
       "4  1437845  196613            36         3          15               4   \n",
       "\n",
       "   add_order  is_reordered product_id  last_order_yn  ...     category_name  \\\n",
       "0          5             0      41220              0  ...  fresh vegetables   \n",
       "1          7             1      41220              0  ...  fresh vegetables   \n",
       "2         11             1       4210              0  ...              milk   \n",
       "3          3             1       4210              0  ...              milk   \n",
       "4         16             0       4210              0  ...              milk   \n",
       "\n",
       "  division_name num_orders order_length order_importance  product_importance  \\\n",
       "0       produce         70            2         0.214286                -1.0   \n",
       "1       produce         70            3         0.500000                -1.0   \n",
       "2    dairy eggs         70            5         0.985714                -1.0   \n",
       "3    dairy eggs         70            2         0.871429                 0.0   \n",
       "4    dairy eggs         70            3         0.514286                -4.0   \n",
       "\n",
       "   importance_score  importance_score_sum  reordered_count  reorder_ratio  \n",
       "0         -0.214286             -0.714286              161       0.793103  \n",
       "1         -0.500000             -0.714286              161       0.793103  \n",
       "2         -0.985714             -3.042857              161       0.793103  \n",
       "3          0.000000             -3.042857              161       0.793103  \n",
       "4         -2.057143             -3.042857              161       0.793103  \n",
       "\n",
       "[5 rows x 23 columns]"
      ]
     },
     "execution_count": 273,
     "metadata": {},
     "output_type": "execute_result"
    }
   ],
   "source": [
    "orders_with_order_products.head()"
   ]
  },
  {
   "cell_type": "code",
   "execution_count": 274,
   "id": "6a961db2-5063-4454-9cc7-93dea9132918",
   "metadata": {},
   "outputs": [
    {
     "name": "stderr",
     "output_type": "stream",
     "text": [
      "/opt/conda/envs/python3.6/lib/python3.6/site-packages/seaborn/distributions.py:2619: FutureWarning: `distplot` is a deprecated function and will be removed in a future version. Please adapt your code to use either `displot` (a figure-level function with similar flexibility) or `histplot` (an axes-level function for histograms).\n",
      "  warnings.warn(msg, FutureWarning)\n",
      "/opt/conda/envs/python3.6/lib/python3.6/site-packages/matplotlib/cbook/__init__.py:1402: FutureWarning: Support for multi-dimensional indexing (e.g. `obj[:, None]`) is deprecated and will be removed in a future version.  Convert to a numpy array before indexing instead.\n",
      "  x[:, None]\n",
      "/opt/conda/envs/python3.6/lib/python3.6/site-packages/matplotlib/axes/_base.py:276: FutureWarning: Support for multi-dimensional indexing (e.g. `obj[:, None]`) is deprecated and will be removed in a future version.  Convert to a numpy array before indexing instead.\n",
      "  x = x[:, np.newaxis]\n",
      "/opt/conda/envs/python3.6/lib/python3.6/site-packages/matplotlib/axes/_base.py:278: FutureWarning: Support for multi-dimensional indexing (e.g. `obj[:, None]`) is deprecated and will be removed in a future version.  Convert to a numpy array before indexing instead.\n",
      "  y = y[:, np.newaxis]\n",
      "/opt/conda/envs/python3.6/lib/python3.6/site-packages/seaborn/distributions.py:2619: FutureWarning: `distplot` is a deprecated function and will be removed in a future version. Please adapt your code to use either `displot` (a figure-level function with similar flexibility) or `histplot` (an axes-level function for histograms).\n",
      "  warnings.warn(msg, FutureWarning)\n",
      "/opt/conda/envs/python3.6/lib/python3.6/site-packages/matplotlib/cbook/__init__.py:1402: FutureWarning: Support for multi-dimensional indexing (e.g. `obj[:, None]`) is deprecated and will be removed in a future version.  Convert to a numpy array before indexing instead.\n",
      "  x[:, None]\n",
      "/opt/conda/envs/python3.6/lib/python3.6/site-packages/matplotlib/axes/_base.py:276: FutureWarning: Support for multi-dimensional indexing (e.g. `obj[:, None]`) is deprecated and will be removed in a future version.  Convert to a numpy array before indexing instead.\n",
      "  x = x[:, np.newaxis]\n",
      "/opt/conda/envs/python3.6/lib/python3.6/site-packages/matplotlib/axes/_base.py:278: FutureWarning: Support for multi-dimensional indexing (e.g. `obj[:, None]`) is deprecated and will be removed in a future version.  Convert to a numpy array before indexing instead.\n",
      "  y = y[:, np.newaxis]\n"
     ]
    },
    {
     "data": {
      "image/png": "[encoded data removed]",
      "text/plain": [
       "<Figure size 358.625x288 with 1 Axes>"
      ]
     },
     "metadata": {},
     "output_type": "display_data"
    }
   ],
   "source": [
    "# 구매요일\n",
    "plt.close()\n",
    "sns.set_style(\"whitegrid\")\n",
    "sns.FacetGrid(orders_with_order_products, hue=\"is_reordered\", height=4).map(sns.distplot,\"week_day\").add_legend()\n",
    "plt.title('histogram and pdf of order_dow distribution', pad=10)\n",
    "plt.show()"
   ]
  },
  {
   "cell_type": "code",
   "execution_count": 156,
   "id": "4bfebf0b-a0f9-47b2-bea9-72b39f76dc42",
   "metadata": {},
   "outputs": [
    {
     "data": {
      "image/png": "[encoded data removed]",
      "text/plain": [
       "<Figure size 432x288 with 1 Axes>"
      ]
     },
     "metadata": {},
     "output_type": "display_data"
    }
   ],
   "source": [
    "sns.boxplot(x='is_reordered',y='num_orders',data= orders_with_order_products) \n",
    "plt.title('box plot of num_orders feature',pad=20)\n",
    "plt.show()"
   ]
  },
  {
   "cell_type": "code",
   "execution_count": 153,
   "id": "9af715f8-dfeb-4a54-b17e-8eb106d3c998",
   "metadata": {},
   "outputs": [
    {
     "name": "stderr",
     "output_type": "stream",
     "text": [
      "/opt/conda/envs/python3.6/lib/python3.6/site-packages/seaborn/distributions.py:2619: FutureWarning: `distplot` is a deprecated function and will be removed in a future version. Please adapt your code to use either `displot` (a figure-level function with similar flexibility) or `histplot` (an axes-level function for histograms).\n",
      "  warnings.warn(msg, FutureWarning)\n",
      "/opt/conda/envs/python3.6/lib/python3.6/site-packages/matplotlib/cbook/__init__.py:1402: FutureWarning: Support for multi-dimensional indexing (e.g. `obj[:, None]`) is deprecated and will be removed in a future version.  Convert to a numpy array before indexing instead.\n",
      "  x[:, None]\n",
      "/opt/conda/envs/python3.6/lib/python3.6/site-packages/matplotlib/axes/_base.py:276: FutureWarning: Support for multi-dimensional indexing (e.g. `obj[:, None]`) is deprecated and will be removed in a future version.  Convert to a numpy array before indexing instead.\n",
      "  x = x[:, np.newaxis]\n",
      "/opt/conda/envs/python3.6/lib/python3.6/site-packages/matplotlib/axes/_base.py:278: FutureWarning: Support for multi-dimensional indexing (e.g. `obj[:, None]`) is deprecated and will be removed in a future version.  Convert to a numpy array before indexing instead.\n",
      "  y = y[:, np.newaxis]\n",
      "/opt/conda/envs/python3.6/lib/python3.6/site-packages/seaborn/distributions.py:2619: FutureWarning: `distplot` is a deprecated function and will be removed in a future version. Please adapt your code to use either `displot` (a figure-level function with similar flexibility) or `histplot` (an axes-level function for histograms).\n",
      "  warnings.warn(msg, FutureWarning)\n",
      "/opt/conda/envs/python3.6/lib/python3.6/site-packages/matplotlib/cbook/__init__.py:1402: FutureWarning: Support for multi-dimensional indexing (e.g. `obj[:, None]`) is deprecated and will be removed in a future version.  Convert to a numpy array before indexing instead.\n",
      "  x[:, None]\n",
      "/opt/conda/envs/python3.6/lib/python3.6/site-packages/matplotlib/axes/_base.py:276: FutureWarning: Support for multi-dimensional indexing (e.g. `obj[:, None]`) is deprecated and will be removed in a future version.  Convert to a numpy array before indexing instead.\n",
      "  x = x[:, np.newaxis]\n",
      "/opt/conda/envs/python3.6/lib/python3.6/site-packages/matplotlib/axes/_base.py:278: FutureWarning: Support for multi-dimensional indexing (e.g. `obj[:, None]`) is deprecated and will be removed in a future version.  Convert to a numpy array before indexing instead.\n",
      "  y = y[:, np.newaxis]\n"
     ]
    },
    {
     "data": {
      "image/png": "[encoded data removed]",
      "text/plain": [
       "<Figure size 358.625x288 with 1 Axes>"
      ]
     },
     "metadata": {},
     "output_type": "display_data"
    }
   ],
   "source": [
    "#num_orders\n",
    "plt.close()\n",
    "sns.set_style(\"whitegrid\")\n",
    "sns.FacetGrid(orders_with_order_products,hue=\"is_reordered\",height=4).map(sns.distplot,\"num_orders\").add_legend()\n",
    "plt.title('histogram and pdf of num_orders distribution',pad=20)\n",
    "plt.show()"
   ]
  },
  {
   "cell_type": "code",
   "execution_count": 155,
   "id": "cc1c4120-c442-420f-9162-b58712eefd06",
   "metadata": {},
   "outputs": [
    {
     "data": {
      "image/png": "[encoded data removed]",
      "text/plain": [
       "<Figure size 432x288 with 1 Axes>"
      ]
     },
     "metadata": {},
     "output_type": "display_data"
    }
   ],
   "source": [
    "sns.boxplot(x='is_reordered',y='num_orders',data= orders_with_order_products) \n",
    "plt.title('box plot of num_orders feature',pad=20)\n",
    "plt.show()"
   ]
  },
  {
   "cell_type": "code",
   "execution_count": 162,
   "id": "b8f9769a-ce08-4622-bc70-7f8644798b12",
   "metadata": {},
   "outputs": [
    {
     "name": "stderr",
     "output_type": "stream",
     "text": [
      "/opt/conda/envs/python3.6/lib/python3.6/site-packages/seaborn/distributions.py:2619: FutureWarning: `distplot` is a deprecated function and will be removed in a future version. Please adapt your code to use either `displot` (a figure-level function with similar flexibility) or `histplot` (an axes-level function for histograms).\n",
      "  warnings.warn(msg, FutureWarning)\n",
      "/opt/conda/envs/python3.6/lib/python3.6/site-packages/matplotlib/cbook/__init__.py:1402: FutureWarning: Support for multi-dimensional indexing (e.g. `obj[:, None]`) is deprecated and will be removed in a future version.  Convert to a numpy array before indexing instead.\n",
      "  x[:, None]\n",
      "/opt/conda/envs/python3.6/lib/python3.6/site-packages/matplotlib/axes/_base.py:276: FutureWarning: Support for multi-dimensional indexing (e.g. `obj[:, None]`) is deprecated and will be removed in a future version.  Convert to a numpy array before indexing instead.\n",
      "  x = x[:, np.newaxis]\n",
      "/opt/conda/envs/python3.6/lib/python3.6/site-packages/matplotlib/axes/_base.py:278: FutureWarning: Support for multi-dimensional indexing (e.g. `obj[:, None]`) is deprecated and will be removed in a future version.  Convert to a numpy array before indexing instead.\n",
      "  y = y[:, np.newaxis]\n",
      "/opt/conda/envs/python3.6/lib/python3.6/site-packages/seaborn/distributions.py:2619: FutureWarning: `distplot` is a deprecated function and will be removed in a future version. Please adapt your code to use either `displot` (a figure-level function with similar flexibility) or `histplot` (an axes-level function for histograms).\n",
      "  warnings.warn(msg, FutureWarning)\n",
      "/opt/conda/envs/python3.6/lib/python3.6/site-packages/matplotlib/cbook/__init__.py:1402: FutureWarning: Support for multi-dimensional indexing (e.g. `obj[:, None]`) is deprecated and will be removed in a future version.  Convert to a numpy array before indexing instead.\n",
      "  x[:, None]\n",
      "/opt/conda/envs/python3.6/lib/python3.6/site-packages/matplotlib/axes/_base.py:276: FutureWarning: Support for multi-dimensional indexing (e.g. `obj[:, None]`) is deprecated and will be removed in a future version.  Convert to a numpy array before indexing instead.\n",
      "  x = x[:, np.newaxis]\n",
      "/opt/conda/envs/python3.6/lib/python3.6/site-packages/matplotlib/axes/_base.py:278: FutureWarning: Support for multi-dimensional indexing (e.g. `obj[:, None]`) is deprecated and will be removed in a future version.  Convert to a numpy array before indexing instead.\n",
      "  y = y[:, np.newaxis]\n"
     ]
    },
    {
     "data": {
      "image/png": "[encoded data removed]",
      "text/plain": [
       "<Figure size 358.625x288 with 1 Axes>"
      ]
     },
     "metadata": {},
     "output_type": "display_data"
    }
   ],
   "source": [
    "#add_order(cart)\n",
    "plt.close()\n",
    "sns.set_style(\"whitegrid\")\n",
    "sns.FacetGrid(orders_with_order_products,hue=\"is_reordered\",height=4).map(sns.distplot,\"add_order\").add_legend()\n",
    "plt.title('histogram and pdf of add_order distribution',pad=20)\n",
    "plt.show()"
   ]
  },
  {
   "cell_type": "code",
   "execution_count": 163,
   "id": "683187f4-496a-43c6-a5ea-6a0cbae0d82f",
   "metadata": {},
   "outputs": [
    {
     "data": {
      "image/png": "[encoded data removed]",
      "text/plain": [
       "<Figure size 432x288 with 1 Axes>"
      ]
     },
     "metadata": {},
     "output_type": "display_data"
    }
   ],
   "source": [
    "# Remove outliers i.e above 90th perecntile.\n",
    "sns.boxplot(x='is_reordered',y='add_order',data= orders_with_order_products) # we are taking axil_node feature bcoz we saw it was most interpretable.\n",
    "plt.title('box plot of add_order feature',pad=20)\n",
    "plt.show()\n",
    "# sns.boxplot(x='reordered',y='order_dow',data= df) # we are taking axil_node feature bcoz we saw it was most interpretable.\n",
    "# plt.title('box plot of age feature',pad=20)\n",
    "# plt.show()"
   ]
  },
  {
   "cell_type": "code",
   "execution_count": 164,
   "id": "3395f32b-961d-4ea8-9b33-485991e29de0",
   "metadata": {},
   "outputs": [
    {
     "data": {
      "image/png": "[encoded data removed]",
      "text/plain": [
       "<Figure size 432x288 with 1 Axes>"
      ]
     },
     "metadata": {},
     "output_type": "display_data"
    }
   ],
   "source": [
    "sns.violinplot(x=\"is_reordered\",y=\"add_order\",data=orders_with_order_products)\n",
    "plt.title('violin plot of add_order feature',pad=20)\n",
    "plt.show()"
   ]
  },
  {
   "cell_type": "code",
   "execution_count": 167,
   "id": "1cba8373-0ed0-470e-9998-06c1bf72b0a4",
   "metadata": {},
   "outputs": [
    {
     "name": "stderr",
     "output_type": "stream",
     "text": [
      "/opt/conda/envs/python3.6/lib/python3.6/site-packages/seaborn/distributions.py:2619: FutureWarning: `distplot` is a deprecated function and will be removed in a future version. Please adapt your code to use either `displot` (a figure-level function with similar flexibility) or `histplot` (an axes-level function for histograms).\n",
      "  warnings.warn(msg, FutureWarning)\n",
      "/opt/conda/envs/python3.6/lib/python3.6/site-packages/matplotlib/cbook/__init__.py:1402: FutureWarning: Support for multi-dimensional indexing (e.g. `obj[:, None]`) is deprecated and will be removed in a future version.  Convert to a numpy array before indexing instead.\n",
      "  x[:, None]\n",
      "/opt/conda/envs/python3.6/lib/python3.6/site-packages/matplotlib/axes/_base.py:276: FutureWarning: Support for multi-dimensional indexing (e.g. `obj[:, None]`) is deprecated and will be removed in a future version.  Convert to a numpy array before indexing instead.\n",
      "  x = x[:, np.newaxis]\n",
      "/opt/conda/envs/python3.6/lib/python3.6/site-packages/matplotlib/axes/_base.py:278: FutureWarning: Support for multi-dimensional indexing (e.g. `obj[:, None]`) is deprecated and will be removed in a future version.  Convert to a numpy array before indexing instead.\n",
      "  y = y[:, np.newaxis]\n",
      "/opt/conda/envs/python3.6/lib/python3.6/site-packages/seaborn/distributions.py:2619: FutureWarning: `distplot` is a deprecated function and will be removed in a future version. Please adapt your code to use either `displot` (a figure-level function with similar flexibility) or `histplot` (an axes-level function for histograms).\n",
      "  warnings.warn(msg, FutureWarning)\n",
      "/opt/conda/envs/python3.6/lib/python3.6/site-packages/matplotlib/cbook/__init__.py:1402: FutureWarning: Support for multi-dimensional indexing (e.g. `obj[:, None]`) is deprecated and will be removed in a future version.  Convert to a numpy array before indexing instead.\n",
      "  x[:, None]\n",
      "/opt/conda/envs/python3.6/lib/python3.6/site-packages/matplotlib/axes/_base.py:276: FutureWarning: Support for multi-dimensional indexing (e.g. `obj[:, None]`) is deprecated and will be removed in a future version.  Convert to a numpy array before indexing instead.\n",
      "  x = x[:, np.newaxis]\n",
      "/opt/conda/envs/python3.6/lib/python3.6/site-packages/matplotlib/axes/_base.py:278: FutureWarning: Support for multi-dimensional indexing (e.g. `obj[:, None]`) is deprecated and will be removed in a future version.  Convert to a numpy array before indexing instead.\n",
      "  y = y[:, np.newaxis]\n"
     ]
    },
    {
     "data": {
      "image/png": "[encoded data removed]",
      "text/plain": [
       "<Figure size 358.625x288 with 1 Axes>"
      ]
     },
     "metadata": {},
     "output_type": "display_data"
    }
   ],
   "source": [
    "#order_interval\n",
    "plt.close()\n",
    "sns.set_style(\"whitegrid\")\n",
    "sns.FacetGrid(orders_with_order_products,hue=\"is_reordered\",height=4).map(sns.distplot,\"order_interval\").add_legend()\n",
    "plt.title('histogram and pdf of order_interval distribution',pad=20)\n",
    "plt.show()"
   ]
  },
  {
   "cell_type": "code",
   "execution_count": 168,
   "id": "49a6907f-3a69-4f4f-a650-1c103ebf7d9a",
   "metadata": {},
   "outputs": [
    {
     "data": {
      "image/png": "[encoded data removed]",
      "text/plain": [
       "<Figure size 432x288 with 1 Axes>"
      ]
     },
     "metadata": {},
     "output_type": "display_data"
    }
   ],
   "source": [
    "sns.boxplot(x='is_reordered',y='order_interval',data= orders_with_order_products) # we are taking axil_node feature bcoz we saw it was most interpretable.\n",
    "plt.title('box plot of order_interval feature',pad=20)\n",
    "plt.show()\n",
    "# sns.boxplot(x='reordered',y='order_dow',data= df) # we are taking axil_node feature bcoz we saw it was most interpretable.\n",
    "# plt.title('box plot of age feature',pad=20)\n",
    "# plt.show()"
   ]
  },
  {
   "cell_type": "code",
   "execution_count": 169,
   "id": "ec6ce011-3d4b-4969-b1b7-6da1b57dc958",
   "metadata": {},
   "outputs": [
    {
     "data": {
      "image/png": "[encoded data removed]",
      "text/plain": [
       "<Figure size 432x288 with 1 Axes>"
      ]
     },
     "metadata": {},
     "output_type": "display_data"
    }
   ],
   "source": [
    "sns.violinplot(x=\"is_reordered\",y=\"order_interval\",data=orders_with_order_products)\n",
    "plt.title('violin plot of order_interval feature',pad=20)\n",
    "plt.show()"
   ]
  },
  {
   "cell_type": "code",
   "execution_count": 278,
   "id": "fe8ce19f-d897-41e0-a041-d25edb3cc59a",
   "metadata": {},
   "outputs": [
    {
     "name": "stderr",
     "output_type": "stream",
     "text": [
      "/opt/conda/envs/python3.6/lib/python3.6/site-packages/seaborn/distributions.py:2619: FutureWarning: `distplot` is a deprecated function and will be removed in a future version. Please adapt your code to use either `displot` (a figure-level function with similar flexibility) or `histplot` (an axes-level function for histograms).\n",
      "  warnings.warn(msg, FutureWarning)\n",
      "/opt/conda/envs/python3.6/lib/python3.6/site-packages/matplotlib/cbook/__init__.py:1402: FutureWarning: Support for multi-dimensional indexing (e.g. `obj[:, None]`) is deprecated and will be removed in a future version.  Convert to a numpy array before indexing instead.\n",
      "  x[:, None]\n",
      "/opt/conda/envs/python3.6/lib/python3.6/site-packages/matplotlib/axes/_base.py:276: FutureWarning: Support for multi-dimensional indexing (e.g. `obj[:, None]`) is deprecated and will be removed in a future version.  Convert to a numpy array before indexing instead.\n",
      "  x = x[:, np.newaxis]\n",
      "/opt/conda/envs/python3.6/lib/python3.6/site-packages/matplotlib/axes/_base.py:278: FutureWarning: Support for multi-dimensional indexing (e.g. `obj[:, None]`) is deprecated and will be removed in a future version.  Convert to a numpy array before indexing instead.\n",
      "  y = y[:, np.newaxis]\n",
      "/opt/conda/envs/python3.6/lib/python3.6/site-packages/seaborn/distributions.py:2619: FutureWarning: `distplot` is a deprecated function and will be removed in a future version. Please adapt your code to use either `displot` (a figure-level function with similar flexibility) or `histplot` (an axes-level function for histograms).\n",
      "  warnings.warn(msg, FutureWarning)\n",
      "/opt/conda/envs/python3.6/lib/python3.6/site-packages/matplotlib/cbook/__init__.py:1402: FutureWarning: Support for multi-dimensional indexing (e.g. `obj[:, None]`) is deprecated and will be removed in a future version.  Convert to a numpy array before indexing instead.\n",
      "  x[:, None]\n",
      "/opt/conda/envs/python3.6/lib/python3.6/site-packages/matplotlib/axes/_base.py:276: FutureWarning: Support for multi-dimensional indexing (e.g. `obj[:, None]`) is deprecated and will be removed in a future version.  Convert to a numpy array before indexing instead.\n",
      "  x = x[:, np.newaxis]\n",
      "/opt/conda/envs/python3.6/lib/python3.6/site-packages/matplotlib/axes/_base.py:278: FutureWarning: Support for multi-dimensional indexing (e.g. `obj[:, None]`) is deprecated and will be removed in a future version.  Convert to a numpy array before indexing instead.\n",
      "  y = y[:, np.newaxis]\n"
     ]
    },
    {
     "data": {
      "image/png": "[encoded data removed]",
      "text/plain": [
       "<Figure size 358.625x288 with 1 Axes>"
      ]
     },
     "metadata": {},
     "output_type": "display_data"
    }
   ],
   "source": [
    "#division_id (대분류)\n",
    "plt.close()\n",
    "sns.set_style(\"whitegrid\")\n",
    "sns.FacetGrid(orders_with_order_products,hue=\"is_reordered\",height=4).map(sns.distplot,\"division_id\").add_legend()\n",
    "plt.title('histogram and pdf of division_id distribution',pad=20)\n",
    "plt.show()"
   ]
  },
  {
   "cell_type": "code",
   "execution_count": 279,
   "id": "f47b1b11-c5b8-49db-850b-e6de92ebd4d1",
   "metadata": {},
   "outputs": [
    {
     "data": {
      "image/png": "[encoded data removed]",
      "text/plain": [
       "<Figure size 432x288 with 1 Axes>"
      ]
     },
     "metadata": {},
     "output_type": "display_data"
    }
   ],
   "source": [
    "sns.boxplot(x='is_reordered',y='division_id',data= orders_with_order_products) # we are taking axil_node feature bcoz we saw it was most interpretable.\n",
    "plt.title('box plot of division_id feature',pad=20)\n",
    "plt.show()\n",
    "# sns.boxplot(x='reordered',y='order_dow',data= df) # we are taking axil_node feature bcoz we saw it was most interpretable.\n",
    "# plt.title('box plot of age feature',pad=20)\n",
    "# plt.show()"
   ]
  },
  {
   "cell_type": "code",
   "execution_count": null,
   "id": "8733b252-569d-473b-86a2-a5953319ad71",
   "metadata": {},
   "outputs": [],
   "source": []
  },
  {
   "cell_type": "code",
   "execution_count": null,
   "id": "a3873456-4298-47ad-9a9d-0602bae7545f",
   "metadata": {},
   "outputs": [],
   "source": []
  },
  {
   "cell_type": "code",
   "execution_count": null,
   "id": "9eaae6cc-95ca-478b-b06c-6b0fad1fb2c3",
   "metadata": {},
   "outputs": [],
   "source": []
  },
  {
   "cell_type": "markdown",
   "id": "6656e94e-486e-4d4c-aa16-cc5771cedfa7",
   "metadata": {
    "tags": []
   },
   "source": [
    "# 4. 모델링 및 결과"
   ]
  },
  {
   "cell_type": "code",
   "execution_count": 280,
   "id": "e08e4884-cbe5-44ff-9ba8-64c9428ec554",
   "metadata": {},
   "outputs": [],
   "source": [
    "with open('X.pkl', 'rb') as f:\n",
    "    X= pkl.load(f)\n",
    "with open('Y.pkl', 'rb') as f:\n",
    "    Y= pkl.load(f)"
   ]
  },
  {
   "cell_type": "code",
   "execution_count": 281,
   "id": "d8de6dee-9b66-44f7-8216-3ec3904f7e93",
   "metadata": {},
   "outputs": [
    {
     "data": {
      "text/plain": [
       "(1253972, 23)"
      ]
     },
     "execution_count": 281,
     "metadata": {},
     "output_type": "execute_result"
    }
   ],
   "source": [
    "X.shape"
   ]
  },
  {
   "cell_type": "code",
   "execution_count": 283,
   "id": "4735848c-da40-4c84-a945-572a9303731a",
   "metadata": {},
   "outputs": [
    {
     "data": {
      "text/html": [
       "<div>\n",
       "<style scoped>\n",
       "    .dataframe tbody tr th:only-of-type {\n",
       "        vertical-align: middle;\n",
       "    }\n",
       "\n",
       "    .dataframe tbody tr th {\n",
       "        vertical-align: top;\n",
       "    }\n",
       "\n",
       "    .dataframe thead th {\n",
       "        text-align: right;\n",
       "    }\n",
       "</style>\n",
       "<table border=\"1\" class=\"dataframe\">\n",
       "  <thead>\n",
       "    <tr style=\"text-align: right;\">\n",
       "      <th></th>\n",
       "      <th>cstno</th>\n",
       "      <th>product_id</th>\n",
       "      <th>last_order_yn</th>\n",
       "      <th>name</th>\n",
       "      <th>division_id</th>\n",
       "      <th>category_name</th>\n",
       "      <th>division_name</th>\n",
       "      <th>num_orders</th>\n",
       "      <th>order_length</th>\n",
       "      <th>importance_score_sum</th>\n",
       "      <th>reordered_count</th>\n",
       "      <th>reorder_ratio</th>\n",
       "    </tr>\n",
       "  </thead>\n",
       "  <tbody>\n",
       "    <tr>\n",
       "      <th>0</th>\n",
       "      <td>196613</td>\n",
       "      <td>41220</td>\n",
       "      <td>0</td>\n",
       "      <td>Organic Romaine Lettuce</td>\n",
       "      <td>4</td>\n",
       "      <td>fresh vegetables</td>\n",
       "      <td>produce</td>\n",
       "      <td>70</td>\n",
       "      <td>2</td>\n",
       "      <td>-0.714286</td>\n",
       "      <td>161</td>\n",
       "      <td>0.793103</td>\n",
       "    </tr>\n",
       "    <tr>\n",
       "      <th>1</th>\n",
       "      <td>196613</td>\n",
       "      <td>41220</td>\n",
       "      <td>0</td>\n",
       "      <td>Organic Romaine Lettuce</td>\n",
       "      <td>4</td>\n",
       "      <td>fresh vegetables</td>\n",
       "      <td>produce</td>\n",
       "      <td>70</td>\n",
       "      <td>3</td>\n",
       "      <td>-0.714286</td>\n",
       "      <td>161</td>\n",
       "      <td>0.793103</td>\n",
       "    </tr>\n",
       "    <tr>\n",
       "      <th>2</th>\n",
       "      <td>196613</td>\n",
       "      <td>4210</td>\n",
       "      <td>0</td>\n",
       "      <td>Whole Milk</td>\n",
       "      <td>16</td>\n",
       "      <td>milk</td>\n",
       "      <td>dairy eggs</td>\n",
       "      <td>70</td>\n",
       "      <td>5</td>\n",
       "      <td>-3.042857</td>\n",
       "      <td>161</td>\n",
       "      <td>0.793103</td>\n",
       "    </tr>\n",
       "    <tr>\n",
       "      <th>3</th>\n",
       "      <td>196613</td>\n",
       "      <td>4210</td>\n",
       "      <td>0</td>\n",
       "      <td>Whole Milk</td>\n",
       "      <td>16</td>\n",
       "      <td>milk</td>\n",
       "      <td>dairy eggs</td>\n",
       "      <td>70</td>\n",
       "      <td>2</td>\n",
       "      <td>-3.042857</td>\n",
       "      <td>161</td>\n",
       "      <td>0.793103</td>\n",
       "    </tr>\n",
       "    <tr>\n",
       "      <th>4</th>\n",
       "      <td>196613</td>\n",
       "      <td>4210</td>\n",
       "      <td>0</td>\n",
       "      <td>Whole Milk</td>\n",
       "      <td>16</td>\n",
       "      <td>milk</td>\n",
       "      <td>dairy eggs</td>\n",
       "      <td>70</td>\n",
       "      <td>3</td>\n",
       "      <td>-3.042857</td>\n",
       "      <td>161</td>\n",
       "      <td>0.793103</td>\n",
       "    </tr>\n",
       "  </tbody>\n",
       "</table>\n",
       "</div>"
      ],
      "text/plain": [
       "    cstno product_id  last_order_yn                     name division_id  \\\n",
       "0  196613      41220              0  Organic Romaine Lettuce           4   \n",
       "1  196613      41220              0  Organic Romaine Lettuce           4   \n",
       "2  196613       4210              0               Whole Milk          16   \n",
       "3  196613       4210              0               Whole Milk          16   \n",
       "4  196613       4210              0               Whole Milk          16   \n",
       "\n",
       "      category_name division_name  num_orders  order_length  \\\n",
       "0  fresh vegetables       produce          70             2   \n",
       "1  fresh vegetables       produce          70             3   \n",
       "2              milk    dairy eggs          70             5   \n",
       "3              milk    dairy eggs          70             2   \n",
       "4              milk    dairy eggs          70             3   \n",
       "\n",
       "   importance_score_sum  reordered_count  reorder_ratio  \n",
       "0             -0.714286              161       0.793103  \n",
       "1             -0.714286              161       0.793103  \n",
       "2             -3.042857              161       0.793103  \n",
       "3             -3.042857              161       0.793103  \n",
       "4             -3.042857              161       0.793103  "
      ]
     },
     "execution_count": 283,
     "metadata": {},
     "output_type": "execute_result"
    }
   ],
   "source": [
    "# removing useless features. We need only user related with each product for each order.\n",
    "orders_with_order_products = orders_with_order_products.drop(['order_interval', 'order_id','order_number', 'week_day', 'order_hour',\n",
    "                                                             'add_order', 'category_id', 'order_importance',\n",
    "                                                             'product_importance', 'importance_score', 'is_reordered'], axis=1) \n",
    "orders_with_order_products.head()"
   ]
  },
  {
   "cell_type": "code",
   "execution_count": 284,
   "id": "c5e13db1-7f8e-4a40-81c2-6660aeae17b4",
   "metadata": {},
   "outputs": [
    {
     "data": {
      "text/html": [
       "<div>\n",
       "<style scoped>\n",
       "    .dataframe tbody tr th:only-of-type {\n",
       "        vertical-align: middle;\n",
       "    }\n",
       "\n",
       "    .dataframe tbody tr th {\n",
       "        vertical-align: top;\n",
       "    }\n",
       "\n",
       "    .dataframe thead th {\n",
       "        text-align: right;\n",
       "    }\n",
       "</style>\n",
       "<table border=\"1\" class=\"dataframe\">\n",
       "  <thead>\n",
       "    <tr style=\"text-align: right;\">\n",
       "      <th></th>\n",
       "      <th>cstno</th>\n",
       "      <th>mean_order_length_user</th>\n",
       "    </tr>\n",
       "  </thead>\n",
       "  <tbody>\n",
       "    <tr>\n",
       "      <th>0</th>\n",
       "      <td>10000</td>\n",
       "      <td>6.610465</td>\n",
       "    </tr>\n",
       "    <tr>\n",
       "      <th>1</th>\n",
       "      <td>100001</td>\n",
       "      <td>6.784884</td>\n",
       "    </tr>\n",
       "    <tr>\n",
       "      <th>2</th>\n",
       "      <td>100046</td>\n",
       "      <td>4.931330</td>\n",
       "    </tr>\n",
       "    <tr>\n",
       "      <th>3</th>\n",
       "      <td>100071</td>\n",
       "      <td>5.554545</td>\n",
       "    </tr>\n",
       "    <tr>\n",
       "      <th>4</th>\n",
       "      <td>100108</td>\n",
       "      <td>3.751445</td>\n",
       "    </tr>\n",
       "  </tbody>\n",
       "</table>\n",
       "</div>"
      ],
      "text/plain": [
       "    cstno  mean_order_length_user\n",
       "0   10000                6.610465\n",
       "1  100001                6.784884\n",
       "2  100046                4.931330\n",
       "3  100071                5.554545\n",
       "4  100108                3.751445"
      ]
     },
     "execution_count": 284,
     "metadata": {},
     "output_type": "execute_result"
    }
   ],
   "source": [
    "mean_order_len_user = orders_with_order_products.groupby('cstno')['order_length'].mean().reset_index()\n",
    "mean_order_len_user.rename(columns={'order_length':'mean_order_length_user'},inplace=True)\n",
    "mean_order_len_user.head()"
   ]
  },
  {
   "cell_type": "code",
   "execution_count": 285,
   "id": "5adc0219-5469-4301-9065-1736b521591f",
   "metadata": {},
   "outputs": [
    {
     "data": {
      "text/html": [
       "<div>\n",
       "<style scoped>\n",
       "    .dataframe tbody tr th:only-of-type {\n",
       "        vertical-align: middle;\n",
       "    }\n",
       "\n",
       "    .dataframe tbody tr th {\n",
       "        vertical-align: top;\n",
       "    }\n",
       "\n",
       "    .dataframe thead th {\n",
       "        text-align: right;\n",
       "    }\n",
       "</style>\n",
       "<table border=\"1\" class=\"dataframe\">\n",
       "  <thead>\n",
       "    <tr style=\"text-align: right;\">\n",
       "      <th></th>\n",
       "      <th>cstno</th>\n",
       "      <th>product_id</th>\n",
       "      <th>last_order_yn</th>\n",
       "      <th>name</th>\n",
       "      <th>division_id</th>\n",
       "      <th>category_name</th>\n",
       "      <th>division_name</th>\n",
       "      <th>num_orders</th>\n",
       "      <th>order_length</th>\n",
       "      <th>importance_score_sum</th>\n",
       "      <th>reordered_count</th>\n",
       "      <th>reorder_ratio</th>\n",
       "      <th>mean_order_length_user</th>\n",
       "    </tr>\n",
       "  </thead>\n",
       "  <tbody>\n",
       "    <tr>\n",
       "      <th>0</th>\n",
       "      <td>196613</td>\n",
       "      <td>41220</td>\n",
       "      <td>0</td>\n",
       "      <td>Organic Romaine Lettuce</td>\n",
       "      <td>4</td>\n",
       "      <td>fresh vegetables</td>\n",
       "      <td>produce</td>\n",
       "      <td>70</td>\n",
       "      <td>2</td>\n",
       "      <td>-0.714286</td>\n",
       "      <td>161</td>\n",
       "      <td>0.793103</td>\n",
       "      <td>3.699507</td>\n",
       "    </tr>\n",
       "    <tr>\n",
       "      <th>1</th>\n",
       "      <td>196613</td>\n",
       "      <td>41220</td>\n",
       "      <td>0</td>\n",
       "      <td>Organic Romaine Lettuce</td>\n",
       "      <td>4</td>\n",
       "      <td>fresh vegetables</td>\n",
       "      <td>produce</td>\n",
       "      <td>70</td>\n",
       "      <td>3</td>\n",
       "      <td>-0.714286</td>\n",
       "      <td>161</td>\n",
       "      <td>0.793103</td>\n",
       "      <td>3.699507</td>\n",
       "    </tr>\n",
       "    <tr>\n",
       "      <th>2</th>\n",
       "      <td>196613</td>\n",
       "      <td>4210</td>\n",
       "      <td>0</td>\n",
       "      <td>Whole Milk</td>\n",
       "      <td>16</td>\n",
       "      <td>milk</td>\n",
       "      <td>dairy eggs</td>\n",
       "      <td>70</td>\n",
       "      <td>5</td>\n",
       "      <td>-3.042857</td>\n",
       "      <td>161</td>\n",
       "      <td>0.793103</td>\n",
       "      <td>3.699507</td>\n",
       "    </tr>\n",
       "    <tr>\n",
       "      <th>3</th>\n",
       "      <td>196613</td>\n",
       "      <td>4210</td>\n",
       "      <td>0</td>\n",
       "      <td>Whole Milk</td>\n",
       "      <td>16</td>\n",
       "      <td>milk</td>\n",
       "      <td>dairy eggs</td>\n",
       "      <td>70</td>\n",
       "      <td>2</td>\n",
       "      <td>-3.042857</td>\n",
       "      <td>161</td>\n",
       "      <td>0.793103</td>\n",
       "      <td>3.699507</td>\n",
       "    </tr>\n",
       "    <tr>\n",
       "      <th>4</th>\n",
       "      <td>196613</td>\n",
       "      <td>4210</td>\n",
       "      <td>0</td>\n",
       "      <td>Whole Milk</td>\n",
       "      <td>16</td>\n",
       "      <td>milk</td>\n",
       "      <td>dairy eggs</td>\n",
       "      <td>70</td>\n",
       "      <td>3</td>\n",
       "      <td>-3.042857</td>\n",
       "      <td>161</td>\n",
       "      <td>0.793103</td>\n",
       "      <td>3.699507</td>\n",
       "    </tr>\n",
       "  </tbody>\n",
       "</table>\n",
       "</div>"
      ],
      "text/plain": [
       "    cstno product_id  last_order_yn                     name division_id  \\\n",
       "0  196613      41220              0  Organic Romaine Lettuce           4   \n",
       "1  196613      41220              0  Organic Romaine Lettuce           4   \n",
       "2  196613       4210              0               Whole Milk          16   \n",
       "3  196613       4210              0               Whole Milk          16   \n",
       "4  196613       4210              0               Whole Milk          16   \n",
       "\n",
       "      category_name division_name  num_orders  order_length  \\\n",
       "0  fresh vegetables       produce          70             2   \n",
       "1  fresh vegetables       produce          70             3   \n",
       "2              milk    dairy eggs          70             5   \n",
       "3              milk    dairy eggs          70             2   \n",
       "4              milk    dairy eggs          70             3   \n",
       "\n",
       "   importance_score_sum  reordered_count  reorder_ratio  \\\n",
       "0             -0.714286              161       0.793103   \n",
       "1             -0.714286              161       0.793103   \n",
       "2             -3.042857              161       0.793103   \n",
       "3             -3.042857              161       0.793103   \n",
       "4             -3.042857              161       0.793103   \n",
       "\n",
       "   mean_order_length_user  \n",
       "0                3.699507  \n",
       "1                3.699507  \n",
       "2                3.699507  \n",
       "3                3.699507  \n",
       "4                3.699507  "
      ]
     },
     "execution_count": 285,
     "metadata": {},
     "output_type": "execute_result"
    }
   ],
   "source": [
    "orders_with_order_products= orders_with_order_products.merge(mean_order_len_user, on='cstno', how='left')\n",
    "orders_with_order_products.head()"
   ]
  },
  {
   "cell_type": "code",
   "execution_count": 286,
   "id": "caadb480-24a2-4233-905b-f5cc88daadb5",
   "metadata": {},
   "outputs": [
    {
     "data": {
      "text/html": [
       "<div>\n",
       "<style scoped>\n",
       "    .dataframe tbody tr th:only-of-type {\n",
       "        vertical-align: middle;\n",
       "    }\n",
       "\n",
       "    .dataframe tbody tr th {\n",
       "        vertical-align: top;\n",
       "    }\n",
       "\n",
       "    .dataframe thead th {\n",
       "        text-align: right;\n",
       "    }\n",
       "</style>\n",
       "<table border=\"1\" class=\"dataframe\">\n",
       "  <thead>\n",
       "    <tr style=\"text-align: right;\">\n",
       "      <th></th>\n",
       "      <th>cstno</th>\n",
       "      <th>product_id</th>\n",
       "      <th>last_order_yn</th>\n",
       "      <th>name</th>\n",
       "      <th>division_id</th>\n",
       "      <th>category_name</th>\n",
       "      <th>division_name</th>\n",
       "      <th>num_orders</th>\n",
       "      <th>importance_score_sum</th>\n",
       "      <th>reordered_count</th>\n",
       "      <th>reorder_ratio</th>\n",
       "      <th>mean_order_length_user</th>\n",
       "    </tr>\n",
       "  </thead>\n",
       "  <tbody>\n",
       "    <tr>\n",
       "      <th>0</th>\n",
       "      <td>196613</td>\n",
       "      <td>41220</td>\n",
       "      <td>0</td>\n",
       "      <td>Organic Romaine Lettuce</td>\n",
       "      <td>4</td>\n",
       "      <td>fresh vegetables</td>\n",
       "      <td>produce</td>\n",
       "      <td>70</td>\n",
       "      <td>-0.714286</td>\n",
       "      <td>161</td>\n",
       "      <td>0.793103</td>\n",
       "      <td>3.699507</td>\n",
       "    </tr>\n",
       "    <tr>\n",
       "      <th>2</th>\n",
       "      <td>196613</td>\n",
       "      <td>4210</td>\n",
       "      <td>0</td>\n",
       "      <td>Whole Milk</td>\n",
       "      <td>16</td>\n",
       "      <td>milk</td>\n",
       "      <td>dairy eggs</td>\n",
       "      <td>70</td>\n",
       "      <td>-3.042857</td>\n",
       "      <td>161</td>\n",
       "      <td>0.793103</td>\n",
       "      <td>3.699507</td>\n",
       "    </tr>\n",
       "    <tr>\n",
       "      <th>5</th>\n",
       "      <td>196613</td>\n",
       "      <td>38689</td>\n",
       "      <td>0</td>\n",
       "      <td>Organic Reduced Fat Milk</td>\n",
       "      <td>16</td>\n",
       "      <td>milk</td>\n",
       "      <td>dairy eggs</td>\n",
       "      <td>70</td>\n",
       "      <td>-7.666905</td>\n",
       "      <td>161</td>\n",
       "      <td>0.793103</td>\n",
       "      <td>3.699507</td>\n",
       "    </tr>\n",
       "    <tr>\n",
       "      <th>22</th>\n",
       "      <td>196613</td>\n",
       "      <td>43122</td>\n",
       "      <td>0</td>\n",
       "      <td>Organic Bartlett Pear</td>\n",
       "      <td>4</td>\n",
       "      <td>fresh fruits</td>\n",
       "      <td>produce</td>\n",
       "      <td>70</td>\n",
       "      <td>-0.632143</td>\n",
       "      <td>161</td>\n",
       "      <td>0.793103</td>\n",
       "      <td>3.699507</td>\n",
       "    </tr>\n",
       "    <tr>\n",
       "      <th>24</th>\n",
       "      <td>196613</td>\n",
       "      <td>46906</td>\n",
       "      <td>0</td>\n",
       "      <td>Grape White/Green Seedless</td>\n",
       "      <td>4</td>\n",
       "      <td>fresh fruits</td>\n",
       "      <td>produce</td>\n",
       "      <td>70</td>\n",
       "      <td>-3.783810</td>\n",
       "      <td>161</td>\n",
       "      <td>0.793103</td>\n",
       "      <td>3.699507</td>\n",
       "    </tr>\n",
       "  </tbody>\n",
       "</table>\n",
       "</div>"
      ],
      "text/plain": [
       "     cstno product_id  last_order_yn                        name division_id  \\\n",
       "0   196613      41220              0     Organic Romaine Lettuce           4   \n",
       "2   196613       4210              0                  Whole Milk          16   \n",
       "5   196613      38689              0    Organic Reduced Fat Milk          16   \n",
       "22  196613      43122              0       Organic Bartlett Pear           4   \n",
       "24  196613      46906              0  Grape White/Green Seedless           4   \n",
       "\n",
       "       category_name division_name  num_orders  importance_score_sum  \\\n",
       "0   fresh vegetables       produce          70             -0.714286   \n",
       "2               milk    dairy eggs          70             -3.042857   \n",
       "5               milk    dairy eggs          70             -7.666905   \n",
       "22      fresh fruits       produce          70             -0.632143   \n",
       "24      fresh fruits       produce          70             -3.783810   \n",
       "\n",
       "    reordered_count  reorder_ratio  mean_order_length_user  \n",
       "0               161       0.793103                3.699507  \n",
       "2               161       0.793103                3.699507  \n",
       "5               161       0.793103                3.699507  \n",
       "22              161       0.793103                3.699507  \n",
       "24              161       0.793103                3.699507  "
      ]
     },
     "execution_count": 286,
     "metadata": {},
     "output_type": "execute_result"
    }
   ],
   "source": [
    "orders_with_order_products= orders_with_order_products.drop(['order_length'], axis=1)\n",
    "orders_with_order_products= orders_with_order_products.drop_duplicates()\n",
    "orders_with_order_products.head()"
   ]
  },
  {
   "cell_type": "code",
   "execution_count": 287,
   "id": "1c382ce7-5fa0-4ea5-95e2-53743e0bb962",
   "metadata": {},
   "outputs": [],
   "source": [
    "with open('orders_with_order_products_new50.pkl', 'wb') as f:\n",
    "    pkl.dump(orders_with_order_products,f)"
   ]
  },
  {
   "cell_type": "code",
   "execution_count": 288,
   "id": "737876e4-7692-4bf7-a748-ada8c8bb1c8b",
   "metadata": {},
   "outputs": [],
   "source": [
    "with open('orders_with_order_products_new50.pkl', 'rb') as f:\n",
    "    orders_with_order_products= pkl.load(f)"
   ]
  },
  {
   "cell_type": "code",
   "execution_count": 289,
   "id": "410ce178-fcfb-4040-89c5-2a47f3fe49d5",
   "metadata": {},
   "outputs": [],
   "source": [
    "with open('orders_with_order_products_new5.pkl', 'wb') as f:\n",
    "    pkl.dump(orders_with_order_products,f)"
   ]
  },
  {
   "cell_type": "code",
   "execution_count": 290,
   "id": "4d201aee-8ed9-4091-85a5-ee46f74f0f54",
   "metadata": {},
   "outputs": [],
   "source": [
    "with open('orders_with_order_products_new5.pkl', 'rb') as f:\n",
    "    orders_with_order_products= pkl.load(f)"
   ]
  },
  {
   "cell_type": "code",
   "execution_count": 294,
   "id": "3d930c28-91d0-4f63-afb9-dde43e5c1c96",
   "metadata": {},
   "outputs": [
    {
     "data": {
      "text/html": [
       "<div>\n",
       "<style scoped>\n",
       "    .dataframe tbody tr th:only-of-type {\n",
       "        vertical-align: middle;\n",
       "    }\n",
       "\n",
       "    .dataframe tbody tr th {\n",
       "        vertical-align: top;\n",
       "    }\n",
       "\n",
       "    .dataframe thead th {\n",
       "        text-align: right;\n",
       "    }\n",
       "</style>\n",
       "<table border=\"1\" class=\"dataframe\">\n",
       "  <thead>\n",
       "    <tr style=\"text-align: right;\">\n",
       "      <th></th>\n",
       "      <th>cstno</th>\n",
       "      <th>product_id</th>\n",
       "      <th>division_id</th>\n",
       "      <th>num_orders</th>\n",
       "      <th>importance_score_sum</th>\n",
       "      <th>reordered_count</th>\n",
       "      <th>reorder_ratio</th>\n",
       "      <th>mean_order_length_user</th>\n",
       "    </tr>\n",
       "  </thead>\n",
       "  <tbody>\n",
       "    <tr>\n",
       "      <th>0</th>\n",
       "      <td>196613</td>\n",
       "      <td>41220</td>\n",
       "      <td>4</td>\n",
       "      <td>70</td>\n",
       "      <td>-0.714286</td>\n",
       "      <td>161</td>\n",
       "      <td>0.793103</td>\n",
       "      <td>3.699507</td>\n",
       "    </tr>\n",
       "    <tr>\n",
       "      <th>2</th>\n",
       "      <td>196613</td>\n",
       "      <td>4210</td>\n",
       "      <td>16</td>\n",
       "      <td>70</td>\n",
       "      <td>-3.042857</td>\n",
       "      <td>161</td>\n",
       "      <td>0.793103</td>\n",
       "      <td>3.699507</td>\n",
       "    </tr>\n",
       "    <tr>\n",
       "      <th>5</th>\n",
       "      <td>196613</td>\n",
       "      <td>38689</td>\n",
       "      <td>16</td>\n",
       "      <td>70</td>\n",
       "      <td>-7.666905</td>\n",
       "      <td>161</td>\n",
       "      <td>0.793103</td>\n",
       "      <td>3.699507</td>\n",
       "    </tr>\n",
       "    <tr>\n",
       "      <th>22</th>\n",
       "      <td>196613</td>\n",
       "      <td>43122</td>\n",
       "      <td>4</td>\n",
       "      <td>70</td>\n",
       "      <td>-0.632143</td>\n",
       "      <td>161</td>\n",
       "      <td>0.793103</td>\n",
       "      <td>3.699507</td>\n",
       "    </tr>\n",
       "    <tr>\n",
       "      <th>24</th>\n",
       "      <td>196613</td>\n",
       "      <td>46906</td>\n",
       "      <td>4</td>\n",
       "      <td>70</td>\n",
       "      <td>-3.783810</td>\n",
       "      <td>161</td>\n",
       "      <td>0.793103</td>\n",
       "      <td>3.699507</td>\n",
       "    </tr>\n",
       "  </tbody>\n",
       "</table>\n",
       "</div>"
      ],
      "text/plain": [
       "     cstno product_id division_id  num_orders  importance_score_sum  \\\n",
       "0   196613      41220           4          70             -0.714286   \n",
       "2   196613       4210          16          70             -3.042857   \n",
       "5   196613      38689          16          70             -7.666905   \n",
       "22  196613      43122           4          70             -0.632143   \n",
       "24  196613      46906           4          70             -3.783810   \n",
       "\n",
       "    reordered_count  reorder_ratio  mean_order_length_user  \n",
       "0               161       0.793103                3.699507  \n",
       "2               161       0.793103                3.699507  \n",
       "5               161       0.793103                3.699507  \n",
       "22              161       0.793103                3.699507  \n",
       "24              161       0.793103                3.699507  "
      ]
     },
     "execution_count": 294,
     "metadata": {},
     "output_type": "execute_result"
    }
   ],
   "source": [
    "orders_with_order_products.head()"
   ]
  },
  {
   "cell_type": "code",
   "execution_count": 295,
   "id": "474495ad-9429-4cc8-b0c3-9a50704d0dc3",
   "metadata": {},
   "outputs": [
    {
     "data": {
      "text/plain": [
       "5859"
      ]
     },
     "execution_count": 295,
     "metadata": {},
     "output_type": "execute_result"
    }
   ],
   "source": [
    "num_unique_user= orders_with_order_products['cstno'].nunique()\n",
    "num_unique_user"
   ]
  },
  {
   "cell_type": "code",
   "execution_count": 296,
   "id": "8919a14a-242b-4ac9-96a3-e7e89413c847",
   "metadata": {},
   "outputs": [
    {
     "data": {
      "text/plain": [
       "(170198, 8)"
      ]
     },
     "execution_count": 296,
     "metadata": {},
     "output_type": "execute_result"
    }
   ],
   "source": [
    "orders_with_order_products.shape"
   ]
  },
  {
   "cell_type": "code",
   "execution_count": 297,
   "id": "521699de-0c17-4c35-9951-764126a5548e",
   "metadata": {},
   "outputs": [
    {
     "data": {
      "text/html": [
       "<div>\n",
       "<style scoped>\n",
       "    .dataframe tbody tr th:only-of-type {\n",
       "        vertical-align: middle;\n",
       "    }\n",
       "\n",
       "    .dataframe tbody tr th {\n",
       "        vertical-align: top;\n",
       "    }\n",
       "\n",
       "    .dataframe thead th {\n",
       "        text-align: right;\n",
       "    }\n",
       "</style>\n",
       "<table border=\"1\" class=\"dataframe\">\n",
       "  <thead>\n",
       "    <tr style=\"text-align: right;\">\n",
       "      <th></th>\n",
       "      <th>cstno</th>\n",
       "      <th>product_id</th>\n",
       "      <th>division_id</th>\n",
       "      <th>num_orders</th>\n",
       "      <th>importance_score_sum</th>\n",
       "      <th>reordered_count</th>\n",
       "      <th>reorder_ratio</th>\n",
       "      <th>mean_order_length_user</th>\n",
       "    </tr>\n",
       "  </thead>\n",
       "  <tbody>\n",
       "    <tr>\n",
       "      <th>0</th>\n",
       "      <td>196613</td>\n",
       "      <td>41220</td>\n",
       "      <td>4</td>\n",
       "      <td>70</td>\n",
       "      <td>-0.714286</td>\n",
       "      <td>161</td>\n",
       "      <td>0.793103</td>\n",
       "      <td>3.699507</td>\n",
       "    </tr>\n",
       "    <tr>\n",
       "      <th>2</th>\n",
       "      <td>196613</td>\n",
       "      <td>4210</td>\n",
       "      <td>16</td>\n",
       "      <td>70</td>\n",
       "      <td>-3.042857</td>\n",
       "      <td>161</td>\n",
       "      <td>0.793103</td>\n",
       "      <td>3.699507</td>\n",
       "    </tr>\n",
       "    <tr>\n",
       "      <th>5</th>\n",
       "      <td>196613</td>\n",
       "      <td>38689</td>\n",
       "      <td>16</td>\n",
       "      <td>70</td>\n",
       "      <td>-7.666905</td>\n",
       "      <td>161</td>\n",
       "      <td>0.793103</td>\n",
       "      <td>3.699507</td>\n",
       "    </tr>\n",
       "    <tr>\n",
       "      <th>22</th>\n",
       "      <td>196613</td>\n",
       "      <td>43122</td>\n",
       "      <td>4</td>\n",
       "      <td>70</td>\n",
       "      <td>-0.632143</td>\n",
       "      <td>161</td>\n",
       "      <td>0.793103</td>\n",
       "      <td>3.699507</td>\n",
       "    </tr>\n",
       "    <tr>\n",
       "      <th>24</th>\n",
       "      <td>196613</td>\n",
       "      <td>46906</td>\n",
       "      <td>4</td>\n",
       "      <td>70</td>\n",
       "      <td>-3.783810</td>\n",
       "      <td>161</td>\n",
       "      <td>0.793103</td>\n",
       "      <td>3.699507</td>\n",
       "    </tr>\n",
       "  </tbody>\n",
       "</table>\n",
       "</div>"
      ],
      "text/plain": [
       "     cstno product_id division_id  num_orders  importance_score_sum  \\\n",
       "0   196613      41220           4          70             -0.714286   \n",
       "2   196613       4210          16          70             -3.042857   \n",
       "5   196613      38689          16          70             -7.666905   \n",
       "22  196613      43122           4          70             -0.632143   \n",
       "24  196613      46906           4          70             -3.783810   \n",
       "\n",
       "    reordered_count  reorder_ratio  mean_order_length_user  \n",
       "0               161       0.793103                3.699507  \n",
       "2               161       0.793103                3.699507  \n",
       "5               161       0.793103                3.699507  \n",
       "22              161       0.793103                3.699507  \n",
       "24              161       0.793103                3.699507  "
      ]
     },
     "execution_count": 297,
     "metadata": {},
     "output_type": "execute_result"
    }
   ],
   "source": [
    "orders_with_order_products.head()"
   ]
  },
  {
   "cell_type": "markdown",
   "id": "9564df9e-52b9-471d-8f7b-f3d883ff8e68",
   "metadata": {},
   "source": [
    "> creat train and test data"
   ]
  },
  {
   "cell_type": "code",
   "execution_count": null,
   "id": "30ad54f2-cce5-4331-9b8a-42cf7493a433",
   "metadata": {},
   "outputs": [],
   "source": []
  },
  {
   "cell_type": "code",
   "execution_count": null,
   "id": "a34899ae-d0d8-4d09-b955-d86b5735551c",
   "metadata": {},
   "outputs": [],
   "source": []
  },
  {
   "cell_type": "code",
   "execution_count": null,
   "id": "1f5fac31-9b3d-427d-b4a2-d4123e5bb298",
   "metadata": {},
   "outputs": [],
   "source": []
  },
  {
   "cell_type": "code",
   "execution_count": null,
   "id": "f4c562ae-a64d-4833-baee-baaf24465a02",
   "metadata": {},
   "outputs": [],
   "source": []
  },
  {
   "cell_type": "code",
   "execution_count": null,
   "id": "0b0295d9-6f54-4ad4-80b5-c895f75198c1",
   "metadata": {},
   "outputs": [],
   "source": []
  },
  {
   "cell_type": "code",
   "execution_count": 3,
   "id": "15e7bee3-ec6a-432a-a209-194b3e4a5370",
   "metadata": {},
   "outputs": [],
   "source": [
    "df.to_pickle('./train_y.pickle')"
   ]
  },
  {
   "cell_type": "code",
   "execution_count": 5,
   "id": "71ea1562-0b67-40ac-82b6-de535202f58c",
   "metadata": {},
   "outputs": [],
   "source": [
    "y1 = pd.read_pickle('./train_y.pickle')"
   ]
  },
  {
   "cell_type": "code",
   "execution_count": null,
   "id": "59b432ad-84cb-431c-a550-bb2ca2db26f7",
   "metadata": {},
   "outputs": [],
   "source": [
    "#예시1\n",
    "df.to_csv(‘./output파일명.csv’, encoding='CP949')\n",
    "\n",
    "\n",
    "#예시2\n",
    "df.to_csv(f'./output파일명_{가변변수명}.csv’, encoding='CP949')"
   ]
  }
 ],
 "metadata": {
  "kernelspec": {
   "display_name": "Python 3",
   "language": "python",
   "name": "python3"
  },
  "language_info": {
   "codemirror_mode": {
    "name": "ipython",
    "version": 3
   },
   "file_extension": ".py",
   "mimetype": "text/x-python",
   "name": "python",
   "nbconvert_exporter": "python",
   "pygments_lexer": "ipython3",
   "version": "3.6.13"
  },
  "toc-autonumbering": true,
  "toc-showcode": true
 },
 "nbformat": 4,
 "nbformat_minor": 5
}
