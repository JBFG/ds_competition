{
 "cells": [
  {
   "cell_type": "code",
   "execution_count": 150,
   "id": "a7e80962-7eef-4f78-a6f6-7fb63e9e3bac",
   "metadata": {},
   "outputs": [],
   "source": [
    "from jbfg.pandas_utils import *\n",
    "import pandas as pd\n",
    "import numpy as np\n",
    "import matplotlib.pyplot as plt"
   ]
  },
  {
   "cell_type": "code",
   "execution_count": 151,
   "id": "18696c7c-7069-4bcc-a507-0c68e7586276",
   "metadata": {},
   "outputs": [],
   "source": [
    "schema = 'l2_kjbk_extnl'"
   ]
  },
  {
   "cell_type": "code",
   "execution_count": 152,
   "id": "985f83e2-6701-40bc-86a0-7c83eb94601f",
   "metadata": {},
   "outputs": [],
   "source": [
    "sql = 'select * from products_info'"
   ]
  },
  {
   "cell_type": "code",
   "execution_count": 153,
   "id": "e0d28b5a-60ff-458a-bdcb-c0b6a0d6bbf0",
   "metadata": {},
   "outputs": [
    {
     "data": {
      "text/html": [
       "<div>\n",
       "<style scoped>\n",
       "    .dataframe tbody tr th:only-of-type {\n",
       "        vertical-align: middle;\n",
       "    }\n",
       "\n",
       "    .dataframe tbody tr th {\n",
       "        vertical-align: top;\n",
       "    }\n",
       "\n",
       "    .dataframe thead th {\n",
       "        text-align: right;\n",
       "    }\n",
       "</style>\n",
       "<table border=\"1\" class=\"dataframe\">\n",
       "  <thead>\n",
       "    <tr style=\"text-align: right;\">\n",
       "      <th></th>\n",
       "      <th>product_id</th>\n",
       "      <th>name</th>\n",
       "      <th>category_id</th>\n",
       "      <th>division_id</th>\n",
       "      <th>category_name</th>\n",
       "      <th>division_name</th>\n",
       "    </tr>\n",
       "  </thead>\n",
       "  <tbody>\n",
       "    <tr>\n",
       "      <th>0</th>\n",
       "      <td>21709</td>\n",
       "      <td>Sparkling Lemon Water</td>\n",
       "      <td>115</td>\n",
       "      <td>7</td>\n",
       "      <td>water seltzer sparkling water</td>\n",
       "      <td>beverages</td>\n",
       "    </tr>\n",
       "    <tr>\n",
       "      <th>1</th>\n",
       "      <td>20995</td>\n",
       "      <td>Organic Broccoli Florets</td>\n",
       "      <td>116</td>\n",
       "      <td>1</td>\n",
       "      <td>frozen produce</td>\n",
       "      <td>frozen</td>\n",
       "    </tr>\n",
       "    <tr>\n",
       "      <th>2</th>\n",
       "      <td>33000</td>\n",
       "      <td>Pure Irish Butter</td>\n",
       "      <td>36</td>\n",
       "      <td>16</td>\n",
       "      <td>butter</td>\n",
       "      <td>dairy eggs</td>\n",
       "    </tr>\n",
       "    <tr>\n",
       "      <th>3</th>\n",
       "      <td>7781</td>\n",
       "      <td>Organic Sticks Low Moisture Part Skim Mozzarel...</td>\n",
       "      <td>21</td>\n",
       "      <td>16</td>\n",
       "      <td>packaged cheese</td>\n",
       "      <td>dairy eggs</td>\n",
       "    </tr>\n",
       "    <tr>\n",
       "      <th>4</th>\n",
       "      <td>47144</td>\n",
       "      <td>Unsweetened Original Almond Breeze Almond Milk</td>\n",
       "      <td>91</td>\n",
       "      <td>16</td>\n",
       "      <td>soy lactosefree</td>\n",
       "      <td>dairy eggs</td>\n",
       "    </tr>\n",
       "    <tr>\n",
       "      <th>...</th>\n",
       "      <td>...</td>\n",
       "      <td>...</td>\n",
       "      <td>...</td>\n",
       "      <td>...</td>\n",
       "      <td>...</td>\n",
       "      <td>...</td>\n",
       "    </tr>\n",
       "    <tr>\n",
       "      <th>95</th>\n",
       "      <td>47209</td>\n",
       "      <td>Organic Hass Avocado</td>\n",
       "      <td>24</td>\n",
       "      <td>4</td>\n",
       "      <td>fresh fruits</td>\n",
       "      <td>produce</td>\n",
       "    </tr>\n",
       "    <tr>\n",
       "      <th>96</th>\n",
       "      <td>21903</td>\n",
       "      <td>Organic Baby Spinach</td>\n",
       "      <td>123</td>\n",
       "      <td>4</td>\n",
       "      <td>packaged vegetables fruits</td>\n",
       "      <td>produce</td>\n",
       "    </tr>\n",
       "    <tr>\n",
       "      <th>97</th>\n",
       "      <td>21137</td>\n",
       "      <td>Organic Strawberries</td>\n",
       "      <td>24</td>\n",
       "      <td>4</td>\n",
       "      <td>fresh fruits</td>\n",
       "      <td>produce</td>\n",
       "    </tr>\n",
       "    <tr>\n",
       "      <th>98</th>\n",
       "      <td>13176</td>\n",
       "      <td>Bag of Organic Bananas</td>\n",
       "      <td>24</td>\n",
       "      <td>4</td>\n",
       "      <td>fresh fruits</td>\n",
       "      <td>produce</td>\n",
       "    </tr>\n",
       "    <tr>\n",
       "      <th>99</th>\n",
       "      <td>24852</td>\n",
       "      <td>Banana</td>\n",
       "      <td>24</td>\n",
       "      <td>4</td>\n",
       "      <td>fresh fruits</td>\n",
       "      <td>produce</td>\n",
       "    </tr>\n",
       "  </tbody>\n",
       "</table>\n",
       "<p>100 rows × 6 columns</p>\n",
       "</div>"
      ],
      "text/plain": [
       "   product_id                                               name category_id  \\\n",
       "0       21709                              Sparkling Lemon Water         115   \n",
       "1       20995                           Organic Broccoli Florets         116   \n",
       "2       33000                                  Pure Irish Butter          36   \n",
       "3        7781  Organic Sticks Low Moisture Part Skim Mozzarel...          21   \n",
       "4       47144     Unsweetened Original Almond Breeze Almond Milk          91   \n",
       "..        ...                                                ...         ...   \n",
       "95      47209                               Organic Hass Avocado          24   \n",
       "96      21903                               Organic Baby Spinach         123   \n",
       "97      21137                               Organic Strawberries          24   \n",
       "98      13176                             Bag of Organic Bananas          24   \n",
       "99      24852                                             Banana          24   \n",
       "\n",
       "   division_id                  category_name division_name  \n",
       "0            7  water seltzer sparkling water     beverages  \n",
       "1            1                 frozen produce        frozen  \n",
       "2           16                         butter    dairy eggs  \n",
       "3           16                packaged cheese    dairy eggs  \n",
       "4           16                soy lactosefree    dairy eggs  \n",
       "..         ...                            ...           ...  \n",
       "95           4                   fresh fruits       produce  \n",
       "96           4     packaged vegetables fruits       produce  \n",
       "97           4                   fresh fruits       produce  \n",
       "98           4                   fresh fruits       produce  \n",
       "99           4                   fresh fruits       produce  \n",
       "\n",
       "[100 rows x 6 columns]"
      ]
     },
     "execution_count": 153,
     "metadata": {},
     "output_type": "execute_result"
    }
   ],
   "source": [
    "# 상품정보 데이터 조회\n",
    "df_products_info = get_df(sql, schema)\n",
    "df_products_info"
   ]
  },
  {
   "cell_type": "code",
   "execution_count": 155,
   "id": "863b8dee-8bb6-4973-8ecb-79752208f960",
   "metadata": {},
   "outputs": [
    {
     "data": {
      "text/html": [
       "<div>\n",
       "<style scoped>\n",
       "    .dataframe tbody tr th:only-of-type {\n",
       "        vertical-align: middle;\n",
       "    }\n",
       "\n",
       "    .dataframe tbody tr th {\n",
       "        vertical-align: top;\n",
       "    }\n",
       "\n",
       "    .dataframe thead th {\n",
       "        text-align: right;\n",
       "    }\n",
       "</style>\n",
       "<table border=\"1\" class=\"dataframe\">\n",
       "  <thead>\n",
       "    <tr style=\"text-align: right;\">\n",
       "      <th></th>\n",
       "      <th>order_id</th>\n",
       "      <th>cstno</th>\n",
       "      <th>order_number</th>\n",
       "      <th>week_day</th>\n",
       "      <th>order_hour</th>\n",
       "      <th>order_interval</th>\n",
       "      <th>add_order</th>\n",
       "      <th>is_reordered</th>\n",
       "      <th>product_id</th>\n",
       "    </tr>\n",
       "  </thead>\n",
       "  <tbody>\n",
       "    <tr>\n",
       "      <th>1253967</th>\n",
       "      <td>1902783</td>\n",
       "      <td>163819</td>\n",
       "      <td>47</td>\n",
       "      <td>0</td>\n",
       "      <td>19</td>\n",
       "      <td>13.0</td>\n",
       "      <td>2</td>\n",
       "      <td>1</td>\n",
       "      <td>24852</td>\n",
       "    </tr>\n",
       "    <tr>\n",
       "      <th>1253968</th>\n",
       "      <td>1969590</td>\n",
       "      <td>163819</td>\n",
       "      <td>42</td>\n",
       "      <td>1</td>\n",
       "      <td>15</td>\n",
       "      <td>6.0</td>\n",
       "      <td>3</td>\n",
       "      <td>1</td>\n",
       "      <td>24852</td>\n",
       "    </tr>\n",
       "    <tr>\n",
       "      <th>1253969</th>\n",
       "      <td>2549215</td>\n",
       "      <td>163819</td>\n",
       "      <td>9</td>\n",
       "      <td>1</td>\n",
       "      <td>11</td>\n",
       "      <td>7.0</td>\n",
       "      <td>1</td>\n",
       "      <td>1</td>\n",
       "      <td>24852</td>\n",
       "    </tr>\n",
       "    <tr>\n",
       "      <th>1253970</th>\n",
       "      <td>3103211</td>\n",
       "      <td>163819</td>\n",
       "      <td>39</td>\n",
       "      <td>1</td>\n",
       "      <td>14</td>\n",
       "      <td>7.0</td>\n",
       "      <td>3</td>\n",
       "      <td>1</td>\n",
       "      <td>24852</td>\n",
       "    </tr>\n",
       "    <tr>\n",
       "      <th>1253971</th>\n",
       "      <td>3207262</td>\n",
       "      <td>163819</td>\n",
       "      <td>8</td>\n",
       "      <td>1</td>\n",
       "      <td>12</td>\n",
       "      <td>7.0</td>\n",
       "      <td>1</td>\n",
       "      <td>1</td>\n",
       "      <td>24852</td>\n",
       "    </tr>\n",
       "  </tbody>\n",
       "</table>\n",
       "</div>"
      ],
      "text/plain": [
       "        order_id   cstno order_number week_day order_hour order_interval  \\\n",
       "1253967  1902783  163819           47        0         19           13.0   \n",
       "1253968  1969590  163819           42        1         15            6.0   \n",
       "1253969  2549215  163819            9        1         11            7.0   \n",
       "1253970  3103211  163819           39        1         14            7.0   \n",
       "1253971  3207262  163819            8        1         12            7.0   \n",
       "\n",
       "        add_order is_reordered product_id  \n",
       "1253967         2            1      24852  \n",
       "1253968         3            1      24852  \n",
       "1253969         1            1      24852  \n",
       "1253970         3            1      24852  \n",
       "1253971         1            1      24852  "
      ]
     },
     "execution_count": 155,
     "metadata": {},
     "output_type": "execute_result"
    }
   ],
   "source": [
    "# 과거 구매 이력 데이터 조회\n",
    "sql2 = 'SELECT * FROM train_x_past'\n",
    "# SELECT order_id, cstno, order_number, week_day, order_hour, decode(order_interval,'',0) as order_interval, add_order, is_reordered, product_id FROM train_x_past\n",
    "# 형변환 고민해보기\n",
    "df_train_x_past = get_df(sql2, schema)\n",
    "df_train_x_past.tail()"
   ]
  },
  {
   "cell_type": "code",
   "execution_count": 37,
   "id": "1df008eb-2509-43c7-a6c0-0c7f64a10a4e",
   "metadata": {},
   "outputs": [],
   "source": [
    "sql3 = 'select * from train_x_current'\n",
    "df_train_x_current = get_df(sql3, schema)\n",
    "sql4 = 'select * from train_y'\n",
    "df_train_y = get_df(sql4, schema)\n",
    "sql5 = 'select * from test_x_past'\n",
    "df_test_x_past = get_df(sql5, schema)\n",
    "sql6 = 'select * from test_x_current'\n",
    "df_test_x_current = get_df(sql6, schema)\n",
    "#df_test_x_current"
   ]
  },
  {
   "cell_type": "code",
   "execution_count": 38,
   "id": "cba96227-373e-4d34-a1f7-ec945b506a83",
   "metadata": {},
   "outputs": [
    {
     "data": {
      "text/plain": [
       "product_id       0\n",
       "name             0\n",
       "category_id      0\n",
       "division_id      0\n",
       "category_name    0\n",
       "division_name    0\n",
       "dtype: int64"
      ]
     },
     "execution_count": 38,
     "metadata": {},
     "output_type": "execute_result"
    }
   ],
   "source": [
    "# products_info\n",
    "len(df_products_info)-df_products_info.count()"
   ]
  },
  {
   "cell_type": "code",
   "execution_count": 39,
   "id": "3996c683-d022-4fd3-8a8c-2400c1b0c48c",
   "metadata": {},
   "outputs": [
    {
     "data": {
      "text/plain": [
       "order_id          0\n",
       "cstno             0\n",
       "order_number      0\n",
       "week_day          0\n",
       "order_hour        0\n",
       "order_interval    0\n",
       "add_order         0\n",
       "is_reordered      0\n",
       "product_id        0\n",
       "dtype: int64"
      ]
     },
     "execution_count": 39,
     "metadata": {},
     "output_type": "execute_result"
    }
   ],
   "source": [
    "len(df_train_x_past)-df_train_x_past.count()"
   ]
  },
  {
   "cell_type": "code",
   "execution_count": 40,
   "id": "0b35e956-e4dd-4aff-b793-663a7f9ad910",
   "metadata": {},
   "outputs": [
    {
     "data": {
      "text/plain": [
       "order_id          0\n",
       "cstno             0\n",
       "order_number      0\n",
       "week_day          0\n",
       "order_hour        0\n",
       "order_interval    0\n",
       "add_order         0\n",
       "is_reordered      0\n",
       "dtype: int64"
      ]
     },
     "execution_count": 40,
     "metadata": {},
     "output_type": "execute_result"
    }
   ],
   "source": [
    "len(df_train_x_current)-df_train_x_current.count()"
   ]
  },
  {
   "cell_type": "code",
   "execution_count": 41,
   "id": "58fb5dc2-ddb6-4b94-a68e-5dea4adb1186",
   "metadata": {},
   "outputs": [
    {
     "data": {
      "text/plain": [
       "product_id    0\n",
       "dtype: int64"
      ]
     },
     "execution_count": 41,
     "metadata": {},
     "output_type": "execute_result"
    }
   ],
   "source": [
    "len(df_train_y)-df_train_y.count()"
   ]
  },
  {
   "cell_type": "code",
   "execution_count": 42,
   "id": "bf7eed8e-49f1-439c-915f-9592803c1d1e",
   "metadata": {},
   "outputs": [
    {
     "data": {
      "text/plain": [
       "order_id          0\n",
       "cstno             0\n",
       "order_number      0\n",
       "week_day          0\n",
       "order_hour        0\n",
       "order_interval    0\n",
       "add_order         0\n",
       "is_reordered      0\n",
       "product_id        0\n",
       "dtype: int64"
      ]
     },
     "execution_count": 42,
     "metadata": {},
     "output_type": "execute_result"
    }
   ],
   "source": [
    "len(df_test_x_past)-df_test_x_past.count()"
   ]
  },
  {
   "cell_type": "code",
   "execution_count": 43,
   "id": "a81c1960-5029-4056-9dad-9071313fedb3",
   "metadata": {},
   "outputs": [
    {
     "data": {
      "text/plain": [
       "order_id          0\n",
       "cstno             0\n",
       "order_number      0\n",
       "week_day          0\n",
       "order_hour        0\n",
       "order_interval    0\n",
       "add_order         0\n",
       "is_reordered      0\n",
       "dtype: int64"
      ]
     },
     "execution_count": 43,
     "metadata": {},
     "output_type": "execute_result"
    }
   ],
   "source": [
    "len(df_test_x_current)-df_test_x_current.count()"
   ]
  },
  {
   "cell_type": "code",
   "execution_count": 52,
   "id": "a4f6c5d8-c61b-4a38-bd7a-e050f705f536",
   "metadata": {},
   "outputs": [
    {
     "data": {
      "text/plain": [
       "1253972"
      ]
     },
     "execution_count": 52,
     "metadata": {},
     "output_type": "execute_result"
    }
   ],
   "source": [
    "# 데이터 양이 많으니 테스트 데이터 만들기\n",
    "len(df_train_x_past)"
   ]
  },
  {
   "cell_type": "code",
   "execution_count": 53,
   "id": "b4734aa1-ae1c-4f87-8513-0e760af0e6bc",
   "metadata": {},
   "outputs": [],
   "source": [
    "def split_test_data(data, test_ratio):\n",
    "    shuffled_indices = np.random.permutation(len(data))\n",
    "    test_set_size = int(len(data) * test_ratio)\n",
    "    test_indices = shuffled_indices[:test_set_size]\n",
    "    train_indices = shuffled_indices[test_set_size:]\n",
    "    return data.iloc[train_indices], data.iloc[test_indices]"
   ]
  },
  {
   "cell_type": "code",
   "execution_count": 71,
   "id": "db7caf01-ca38-4714-a05b-e2801f5dbc65",
   "metadata": {},
   "outputs": [
    {
     "data": {
      "text/plain": [
       "12539"
      ]
     },
     "execution_count": 71,
     "metadata": {},
     "output_type": "execute_result"
    }
   ],
   "source": [
    "train_set, x_past_test_set = split_test_data(df_train_x_past, 0.01)\n",
    "len(x_past_test_set)"
   ]
  },
  {
   "cell_type": "code",
   "execution_count": 68,
   "id": "64056a70-2083-4707-bd50-f8c4dfa68c6c",
   "metadata": {},
   "outputs": [
    {
     "data": {
      "text/plain": [
       "24424"
      ]
     },
     "execution_count": 68,
     "metadata": {},
     "output_type": "execute_result"
    }
   ],
   "source": [
    "len(df_train_x_current)"
   ]
  },
  {
   "cell_type": "code",
   "execution_count": 72,
   "id": "fce6cc69-3eaa-49e0-8221-0dcd3e55c1f2",
   "metadata": {},
   "outputs": [
    {
     "data": {
      "text/plain": [
       "244"
      ]
     },
     "execution_count": 72,
     "metadata": {},
     "output_type": "execute_result"
    }
   ],
   "source": [
    "x_current_train_set, x_current_test_set = split_test_data(df_train_x_current, 0.01)\n",
    "len(x_current_test_set)"
   ]
  },
  {
   "cell_type": "code",
   "execution_count": 73,
   "id": "0f9b9900-98f5-4ce0-a6ec-8f4e804f5d00",
   "metadata": {},
   "outputs": [
    {
     "data": {
      "text/plain": [
       "244"
      ]
     },
     "execution_count": 73,
     "metadata": {},
     "output_type": "execute_result"
    }
   ],
   "source": [
    "y_train_set, y_train_test_set = split_test_data(df_train_y, 0.01)\n",
    "len(y_train_test_set)"
   ]
  },
  {
   "cell_type": "code",
   "execution_count": 83,
   "id": "7b0dcf11-c6f2-4663-8561-8157038aeca1",
   "metadata": {},
   "outputs": [
    {
     "name": "stdout",
     "output_type": "stream",
     "text": [
      "과거 구매 고객 몇명? 4897\n",
      "현재 구매 고객 몇명? 234\n"
     ]
    }
   ],
   "source": [
    "# x_past_test_set 4897명 고객들의 과거 구매 이력\n",
    "# x_current_test_set 234명 고객들의 최근 주문 정보\n",
    "# y_train_test_set train_y 5,859명 고객들의 최근 주문 상품 (train_x_current의 각 row에 매핑되는 상품 정보)\n",
    "print(\"과거 구매 고객 몇명?\",len(x_past_test_set['cstno'].unique()))\n",
    "print(\"현재 구매 고객 몇명?\",len(x_current_test_set['cstno'].unique()))"
   ]
  },
  {
   "cell_type": "code",
   "execution_count": 92,
   "id": "7b1fc705-b141-41f1-92db-2c4479fe80f0",
   "metadata": {},
   "outputs": [
    {
     "data": {
      "text/html": [
       "<div>\n",
       "<style scoped>\n",
       "    .dataframe tbody tr th:only-of-type {\n",
       "        vertical-align: middle;\n",
       "    }\n",
       "\n",
       "    .dataframe tbody tr th {\n",
       "        vertical-align: top;\n",
       "    }\n",
       "\n",
       "    .dataframe thead th {\n",
       "        text-align: right;\n",
       "    }\n",
       "</style>\n",
       "<table border=\"1\" class=\"dataframe\">\n",
       "  <thead>\n",
       "    <tr style=\"text-align: right;\">\n",
       "      <th></th>\n",
       "      <th>order_id</th>\n",
       "      <th>cstno</th>\n",
       "      <th>order_number</th>\n",
       "      <th>week_day</th>\n",
       "      <th>order_hour</th>\n",
       "      <th>order_interval</th>\n",
       "      <th>add_order</th>\n",
       "      <th>is_reordered</th>\n",
       "      <th>product_id</th>\n",
       "    </tr>\n",
       "  </thead>\n",
       "  <tbody>\n",
       "    <tr>\n",
       "      <th>0</th>\n",
       "      <td>820692</td>\n",
       "      <td>25409</td>\n",
       "      <td>31</td>\n",
       "      <td>6</td>\n",
       "      <td>18</td>\n",
       "      <td>4.0</td>\n",
       "      <td>2</td>\n",
       "      <td>1</td>\n",
       "      <td>49235</td>\n",
       "    </tr>\n",
       "    <tr>\n",
       "      <th>1</th>\n",
       "      <td>1847162</td>\n",
       "      <td>25409</td>\n",
       "      <td>61</td>\n",
       "      <td>5</td>\n",
       "      <td>11</td>\n",
       "      <td>3.0</td>\n",
       "      <td>1</td>\n",
       "      <td>0</td>\n",
       "      <td>45066</td>\n",
       "    </tr>\n",
       "    <tr>\n",
       "      <th>2</th>\n",
       "      <td>3370356</td>\n",
       "      <td>25409</td>\n",
       "      <td>15</td>\n",
       "      <td>5</td>\n",
       "      <td>9</td>\n",
       "      <td>4.0</td>\n",
       "      <td>2</td>\n",
       "      <td>1</td>\n",
       "      <td>49235</td>\n",
       "    </tr>\n",
       "    <tr>\n",
       "      <th>3</th>\n",
       "      <td>3288547</td>\n",
       "      <td>25409</td>\n",
       "      <td>54</td>\n",
       "      <td>5</td>\n",
       "      <td>10</td>\n",
       "      <td>4.0</td>\n",
       "      <td>1</td>\n",
       "      <td>1</td>\n",
       "      <td>49235</td>\n",
       "    </tr>\n",
       "    <tr>\n",
       "      <th>4</th>\n",
       "      <td>3204084</td>\n",
       "      <td>25409</td>\n",
       "      <td>51</td>\n",
       "      <td>5</td>\n",
       "      <td>15</td>\n",
       "      <td>8.0</td>\n",
       "      <td>1</td>\n",
       "      <td>1</td>\n",
       "      <td>49235</td>\n",
       "    </tr>\n",
       "    <tr>\n",
       "      <th>...</th>\n",
       "      <td>...</td>\n",
       "      <td>...</td>\n",
       "      <td>...</td>\n",
       "      <td>...</td>\n",
       "      <td>...</td>\n",
       "      <td>...</td>\n",
       "      <td>...</td>\n",
       "      <td>...</td>\n",
       "      <td>...</td>\n",
       "    </tr>\n",
       "    <tr>\n",
       "      <th>138</th>\n",
       "      <td>1666330</td>\n",
       "      <td>25409</td>\n",
       "      <td>82</td>\n",
       "      <td>1</td>\n",
       "      <td>16</td>\n",
       "      <td>0.0</td>\n",
       "      <td>7</td>\n",
       "      <td>1</td>\n",
       "      <td>49235</td>\n",
       "    </tr>\n",
       "    <tr>\n",
       "      <th>139</th>\n",
       "      <td>1756060</td>\n",
       "      <td>25409</td>\n",
       "      <td>85</td>\n",
       "      <td>1</td>\n",
       "      <td>10</td>\n",
       "      <td>3.0</td>\n",
       "      <td>1</td>\n",
       "      <td>1</td>\n",
       "      <td>13176</td>\n",
       "    </tr>\n",
       "    <tr>\n",
       "      <th>140</th>\n",
       "      <td>955348</td>\n",
       "      <td>25409</td>\n",
       "      <td>87</td>\n",
       "      <td>1</td>\n",
       "      <td>10</td>\n",
       "      <td>4.0</td>\n",
       "      <td>2</td>\n",
       "      <td>1</td>\n",
       "      <td>37646</td>\n",
       "    </tr>\n",
       "    <tr>\n",
       "      <th>141</th>\n",
       "      <td>2136528</td>\n",
       "      <td>25409</td>\n",
       "      <td>70</td>\n",
       "      <td>1</td>\n",
       "      <td>10</td>\n",
       "      <td>3.0</td>\n",
       "      <td>2</td>\n",
       "      <td>1</td>\n",
       "      <td>5876</td>\n",
       "    </tr>\n",
       "    <tr>\n",
       "      <th>142</th>\n",
       "      <td>2513548</td>\n",
       "      <td>25409</td>\n",
       "      <td>23</td>\n",
       "      <td>1</td>\n",
       "      <td>8</td>\n",
       "      <td>10.0</td>\n",
       "      <td>1</td>\n",
       "      <td>1</td>\n",
       "      <td>49235</td>\n",
       "    </tr>\n",
       "  </tbody>\n",
       "</table>\n",
       "<p>143 rows × 9 columns</p>\n",
       "</div>"
      ],
      "text/plain": [
       "    order_id  cstno order_number week_day order_hour order_interval add_order  \\\n",
       "0     820692  25409           31        6         18            4.0         2   \n",
       "1    1847162  25409           61        5         11            3.0         1   \n",
       "2    3370356  25409           15        5          9            4.0         2   \n",
       "3    3288547  25409           54        5         10            4.0         1   \n",
       "4    3204084  25409           51        5         15            8.0         1   \n",
       "..       ...    ...          ...      ...        ...            ...       ...   \n",
       "138  1666330  25409           82        1         16            0.0         7   \n",
       "139  1756060  25409           85        1         10            3.0         1   \n",
       "140   955348  25409           87        1         10            4.0         2   \n",
       "141  2136528  25409           70        1         10            3.0         2   \n",
       "142  2513548  25409           23        1          8           10.0         1   \n",
       "\n",
       "    is_reordered product_id  \n",
       "0              1      49235  \n",
       "1              0      45066  \n",
       "2              1      49235  \n",
       "3              1      49235  \n",
       "4              1      49235  \n",
       "..           ...        ...  \n",
       "138            1      49235  \n",
       "139            1      13176  \n",
       "140            1      37646  \n",
       "141            1       5876  \n",
       "142            1      49235  \n",
       "\n",
       "[143 rows x 9 columns]"
      ]
     },
     "execution_count": 92,
     "metadata": {},
     "output_type": "execute_result"
    }
   ],
   "source": [
    "sql_when = 'select cstno, week_day, count(order_id) from train_x_past group by cstno, week_day order by 3 desc'\n",
    "df_when = get_df(sql_when, schema)\n",
    "df_when.tail()\n",
    "\n",
    "sql_test = 'select * from train_x_past where cstno = \"25409\" order by week_day desc'\n",
    "df_test = get_df(sql_test, schema)\n",
    "df_test"
   ]
  },
  {
   "cell_type": "code",
   "execution_count": 95,
   "id": "58570353-21d4-466a-839d-d476645e51c8",
   "metadata": {},
   "outputs": [],
   "source": [
    "sql_max_day = 'select x.*, y.week_day as max_day from train_x_past x , ( select cstno, week_day from ( select cstno, week_day, cnt, row_number() over(partition by cstno order by cnt desc) as rk from (select cstno, week_day, count(order_id) as cnt from train_x_past group by cstno, week_day) a) b where rk = 1 ) y where x.cstno = y.cstno'"
   ]
  },
  {
   "cell_type": "code",
   "execution_count": 97,
   "id": "2cbc8a78-face-49b3-ac85-54d6d9211f1c",
   "metadata": {},
   "outputs": [
    {
     "data": {
      "text/html": [
       "<div>\n",
       "<style scoped>\n",
       "    .dataframe tbody tr th:only-of-type {\n",
       "        vertical-align: middle;\n",
       "    }\n",
       "\n",
       "    .dataframe tbody tr th {\n",
       "        vertical-align: top;\n",
       "    }\n",
       "\n",
       "    .dataframe thead th {\n",
       "        text-align: right;\n",
       "    }\n",
       "</style>\n",
       "<table border=\"1\" class=\"dataframe\">\n",
       "  <thead>\n",
       "    <tr style=\"text-align: right;\">\n",
       "      <th></th>\n",
       "      <th>order_id</th>\n",
       "      <th>cstno</th>\n",
       "      <th>order_number</th>\n",
       "      <th>week_day</th>\n",
       "      <th>order_hour</th>\n",
       "      <th>order_interval</th>\n",
       "      <th>add_order</th>\n",
       "      <th>is_reordered</th>\n",
       "      <th>product_id</th>\n",
       "      <th>max_day</th>\n",
       "    </tr>\n",
       "  </thead>\n",
       "  <tbody>\n",
       "    <tr>\n",
       "      <th>1253967</th>\n",
       "      <td>1902783</td>\n",
       "      <td>163819</td>\n",
       "      <td>47</td>\n",
       "      <td>0</td>\n",
       "      <td>19</td>\n",
       "      <td>13.0</td>\n",
       "      <td>2</td>\n",
       "      <td>1</td>\n",
       "      <td>24852</td>\n",
       "      <td>1</td>\n",
       "    </tr>\n",
       "    <tr>\n",
       "      <th>1253968</th>\n",
       "      <td>1969590</td>\n",
       "      <td>163819</td>\n",
       "      <td>42</td>\n",
       "      <td>1</td>\n",
       "      <td>15</td>\n",
       "      <td>6.0</td>\n",
       "      <td>3</td>\n",
       "      <td>1</td>\n",
       "      <td>24852</td>\n",
       "      <td>1</td>\n",
       "    </tr>\n",
       "    <tr>\n",
       "      <th>1253969</th>\n",
       "      <td>2549215</td>\n",
       "      <td>163819</td>\n",
       "      <td>9</td>\n",
       "      <td>1</td>\n",
       "      <td>11</td>\n",
       "      <td>7.0</td>\n",
       "      <td>1</td>\n",
       "      <td>1</td>\n",
       "      <td>24852</td>\n",
       "      <td>1</td>\n",
       "    </tr>\n",
       "    <tr>\n",
       "      <th>1253970</th>\n",
       "      <td>3103211</td>\n",
       "      <td>163819</td>\n",
       "      <td>39</td>\n",
       "      <td>1</td>\n",
       "      <td>14</td>\n",
       "      <td>7.0</td>\n",
       "      <td>3</td>\n",
       "      <td>1</td>\n",
       "      <td>24852</td>\n",
       "      <td>1</td>\n",
       "    </tr>\n",
       "    <tr>\n",
       "      <th>1253971</th>\n",
       "      <td>3207262</td>\n",
       "      <td>163819</td>\n",
       "      <td>8</td>\n",
       "      <td>1</td>\n",
       "      <td>12</td>\n",
       "      <td>7.0</td>\n",
       "      <td>1</td>\n",
       "      <td>1</td>\n",
       "      <td>24852</td>\n",
       "      <td>1</td>\n",
       "    </tr>\n",
       "  </tbody>\n",
       "</table>\n",
       "</div>"
      ],
      "text/plain": [
       "        order_id   cstno order_number week_day order_hour order_interval  \\\n",
       "1253967  1902783  163819           47        0         19           13.0   \n",
       "1253968  1969590  163819           42        1         15            6.0   \n",
       "1253969  2549215  163819            9        1         11            7.0   \n",
       "1253970  3103211  163819           39        1         14            7.0   \n",
       "1253971  3207262  163819            8        1         12            7.0   \n",
       "\n",
       "        add_order is_reordered product_id max_day  \n",
       "1253967         2            1      24852       1  \n",
       "1253968         3            1      24852       1  \n",
       "1253969         1            1      24852       1  \n",
       "1253970         3            1      24852       1  \n",
       "1253971         1            1      24852       1  "
      ]
     },
     "execution_count": 97,
     "metadata": {},
     "output_type": "execute_result"
    }
   ],
   "source": [
    "df_max_day = get_df(sql_max_day, schema)\n",
    "df_max_day.tail()"
   ]
  },
  {
   "cell_type": "code",
   "execution_count": 140,
   "id": "b495a21d-cb88-4489-97d8-3743220fbe1c",
   "metadata": {},
   "outputs": [
    {
     "data": {
      "text/plain": [
       "12539"
      ]
     },
     "execution_count": 140,
     "metadata": {},
     "output_type": "execute_result"
    }
   ],
   "source": [
    "max_day_train_set, max_day_test_set = split_test_data(df_max_day, 0.01)\n",
    "len(max_day_test_set)"
   ]
  },
  {
   "cell_type": "code",
   "execution_count": 103,
   "id": "910fbca1-ad81-4570-a8f3-c6f93a8cdfb1",
   "metadata": {},
   "outputs": [
    {
     "data": {
      "text/plain": [
       "order_id          0\n",
       "cstno             0\n",
       "order_number      0\n",
       "week_day          0\n",
       "order_hour        0\n",
       "order_interval    0\n",
       "add_order         0\n",
       "is_reordered      0\n",
       "product_id        0\n",
       "max_day           0\n",
       "dtype: int64"
      ]
     },
     "execution_count": 103,
     "metadata": {},
     "output_type": "execute_result"
    }
   ],
   "source": [
    "# 결측 데이터 제거\n",
    "max_day_test_set.isnull().sum()"
   ]
  },
  {
   "cell_type": "code",
   "execution_count": 104,
   "id": "3d9a1a56-3a49-473b-987c-11a5f0439124",
   "metadata": {},
   "outputs": [
    {
     "data": {
      "text/plain": [
       "<matplotlib.axes._subplots.AxesSubplot at 0x7fea2a7f74e0>"
      ]
     },
     "execution_count": 104,
     "metadata": {},
     "output_type": "execute_result"
    },
    {
     "data": {
      "image/png": "[encoded data removed]",
      "text/plain": [
       "<Figure size 432x288 with 1 Axes>"
      ]
     },
     "metadata": {
      "needs_background": "light"
     },
     "output_type": "display_data"
    }
   ],
   "source": [
    "# 요일별 총 거래 횟수 탐색\n",
    "week_order_series = max_day_test_set.groupby('week_day')['order_id'].nunique()\n",
    "week_order_series.plot()"
   ]
  },
  {
   "cell_type": "code",
   "execution_count": 109,
   "id": "1127262f-dbbf-4591-bf8c-a9bc05e511dd",
   "metadata": {},
   "outputs": [],
   "source": [
    "# 요일별 구매 상품의 unique한 갯수(상품 거래 다양성 탐색)\n",
    "# 1, 100 = plt.ylim()\n",
    "#week_unique_product_series = max_day_test_set.groupby('week_day')['product_id'].nunique()\n",
    "#week_unique_product_series.plot()"
   ]
  },
  {
   "cell_type": "code",
   "execution_count": 118,
   "id": "6d1f5c00-b75b-4bde-9e8e-fe97b650e8a8",
   "metadata": {},
   "outputs": [
    {
     "data": {
      "text/plain": [
       "count    4830.000000\n",
       "mean        2.536853\n",
       "std         1.607663\n",
       "min         1.000000\n",
       "25%         1.000000\n",
       "50%         2.000000\n",
       "75%         3.000000\n",
       "max        14.000000\n",
       "Name: order_id, dtype: float64"
      ]
     },
     "execution_count": 118,
     "metadata": {},
     "output_type": "execute_result"
    }
   ],
   "source": [
    "# 고객별 주문횟수 탐색\n",
    "cstno_unique_order_series = max_day_test_set.groupby('cstno')['order_id'].nunique()\n",
    "cstno_unique_order_series.describe()"
   ]
  },
  {
   "cell_type": "code",
   "execution_count": 119,
   "id": "a99c6f38-a609-423b-8266-c318246f3e03",
   "metadata": {},
   "outputs": [
    {
     "data": {
      "image/png": "[encoded data removed]",
      "text/plain": [
       "<Figure size 432x288 with 1 Axes>"
      ]
     },
     "metadata": {
      "needs_background": "light"
     },
     "output_type": "display_data"
    }
   ],
   "source": [
    "# 고객별 주문횟수 상자 그림 시각화\n",
    "plt.boxplot(cstno_unique_order_series.values)\n",
    "plt.show()"
   ]
  },
  {
   "cell_type": "code",
   "execution_count": null,
   "id": "5008e8e7-ad3e-4054-a33f-d4f8c845bfe7",
   "metadata": {},
   "outputs": [],
   "source": [
    "cstno_under_14 = cstno_unique_order_series[cstno_unique_order_series<14].index\n",
    "max_day_test_set_under_14 = max_day_test_set[max_day_test_set['cstno'].isin(cstno_under_14)]"
   ]
  },
  {
   "cell_type": "code",
   "execution_count": 120,
   "id": "cff9e3d8-409f-4023-bf01-f75ad93c6df7",
   "metadata": {},
   "outputs": [
    {
     "data": {
      "text/plain": [
       "product_id\n",
       "24852    764\n",
       "13176    698\n",
       "21137    523\n",
       "47209    399\n",
       "21903    398\n",
       "27845    304\n",
       "27966    293\n",
       "47766    234\n",
       "26209    216\n",
       "47626    208\n",
       "Name: order_id, dtype: int64"
      ]
     },
     "execution_count": 120,
     "metadata": {},
     "output_type": "execute_result"
    }
   ],
   "source": [
    "# 가장 주문이 많은 상품 top 10\n",
    "max_day_test_set.groupby('product_id')['order_id'].nunique().sort_values(ascending=False)[:10]"
   ]
  },
  {
   "cell_type": "code",
   "execution_count": 141,
   "id": "08beb367-4eba-44cb-8c7b-56278d2644ca",
   "metadata": {},
   "outputs": [
    {
     "data": {
      "text/plain": [
       "order_id          object\n",
       "cstno             object\n",
       "order_number      object\n",
       "week_day          object\n",
       "order_hour        object\n",
       "order_interval    object\n",
       "add_order         object\n",
       "is_reordered      object\n",
       "product_id        object\n",
       "max_day           object\n",
       "dtype: object"
      ]
     },
     "execution_count": 141,
     "metadata": {},
     "output_type": "execute_result"
    }
   ],
   "source": [
    "max_day_test_set.dtypes"
   ]
  },
  {
   "cell_type": "code",
   "execution_count": 145,
   "id": "68caedb5-01bb-427b-9759-1c9ccbf0855e",
   "metadata": {},
   "outputs": [
    {
     "data": {
      "text/html": [
       "<div>\n",
       "<style scoped>\n",
       "    .dataframe tbody tr th:only-of-type {\n",
       "        vertical-align: middle;\n",
       "    }\n",
       "\n",
       "    .dataframe tbody tr th {\n",
       "        vertical-align: top;\n",
       "    }\n",
       "\n",
       "    .dataframe thead th {\n",
       "        text-align: right;\n",
       "    }\n",
       "</style>\n",
       "<table border=\"1\" class=\"dataframe\">\n",
       "  <thead>\n",
       "    <tr style=\"text-align: right;\">\n",
       "      <th></th>\n",
       "      <th>order_id</th>\n",
       "      <th>cstno</th>\n",
       "      <th>order_number</th>\n",
       "      <th>week_day</th>\n",
       "      <th>order_hour</th>\n",
       "      <th>order_interval</th>\n",
       "      <th>add_order</th>\n",
       "      <th>is_reordered</th>\n",
       "      <th>product_id</th>\n",
       "      <th>max_day</th>\n",
       "    </tr>\n",
       "  </thead>\n",
       "  <tbody>\n",
       "    <tr>\n",
       "      <th>337399</th>\n",
       "      <td>723248</td>\n",
       "      <td>73506</td>\n",
       "      <td>49</td>\n",
       "      <td>2</td>\n",
       "      <td>18</td>\n",
       "      <td>7.0</td>\n",
       "      <td>7</td>\n",
       "      <td>1</td>\n",
       "      <td>24838</td>\n",
       "      <td>1</td>\n",
       "    </tr>\n",
       "    <tr>\n",
       "      <th>863974</th>\n",
       "      <td>1157628</td>\n",
       "      <td>87242</td>\n",
       "      <td>44</td>\n",
       "      <td>0</td>\n",
       "      <td>9</td>\n",
       "      <td>2.0</td>\n",
       "      <td>4</td>\n",
       "      <td>1</td>\n",
       "      <td>30391</td>\n",
       "      <td>5</td>\n",
       "    </tr>\n",
       "    <tr>\n",
       "      <th>705649</th>\n",
       "      <td>472586</td>\n",
       "      <td>115797</td>\n",
       "      <td>44</td>\n",
       "      <td>5</td>\n",
       "      <td>10</td>\n",
       "      <td>5.0</td>\n",
       "      <td>6</td>\n",
       "      <td>1</td>\n",
       "      <td>27966</td>\n",
       "      <td>0</td>\n",
       "    </tr>\n",
       "    <tr>\n",
       "      <th>328725</th>\n",
       "      <td>90531</td>\n",
       "      <td>7809</td>\n",
       "      <td>9</td>\n",
       "      <td>3</td>\n",
       "      <td>22</td>\n",
       "      <td>3.0</td>\n",
       "      <td>3</td>\n",
       "      <td>1</td>\n",
       "      <td>9076</td>\n",
       "      <td>6</td>\n",
       "    </tr>\n",
       "    <tr>\n",
       "      <th>693936</th>\n",
       "      <td>142331</td>\n",
       "      <td>49902</td>\n",
       "      <td>45</td>\n",
       "      <td>5</td>\n",
       "      <td>16</td>\n",
       "      <td>4.0</td>\n",
       "      <td>5</td>\n",
       "      <td>1</td>\n",
       "      <td>26209</td>\n",
       "      <td>0</td>\n",
       "    </tr>\n",
       "    <tr>\n",
       "      <th>...</th>\n",
       "      <td>...</td>\n",
       "      <td>...</td>\n",
       "      <td>...</td>\n",
       "      <td>...</td>\n",
       "      <td>...</td>\n",
       "      <td>...</td>\n",
       "      <td>...</td>\n",
       "      <td>...</td>\n",
       "      <td>...</td>\n",
       "      <td>...</td>\n",
       "    </tr>\n",
       "    <tr>\n",
       "      <th>559422</th>\n",
       "      <td>2021961</td>\n",
       "      <td>111788</td>\n",
       "      <td>23</td>\n",
       "      <td>0</td>\n",
       "      <td>13</td>\n",
       "      <td>9.0</td>\n",
       "      <td>25</td>\n",
       "      <td>0</td>\n",
       "      <td>40706</td>\n",
       "      <td>2</td>\n",
       "    </tr>\n",
       "    <tr>\n",
       "      <th>702034</th>\n",
       "      <td>3117053</td>\n",
       "      <td>50095</td>\n",
       "      <td>49</td>\n",
       "      <td>6</td>\n",
       "      <td>21</td>\n",
       "      <td>21.0</td>\n",
       "      <td>10</td>\n",
       "      <td>1</td>\n",
       "      <td>24852</td>\n",
       "      <td>6</td>\n",
       "    </tr>\n",
       "    <tr>\n",
       "      <th>1102016</th>\n",
       "      <td>1314624</td>\n",
       "      <td>28510</td>\n",
       "      <td>46</td>\n",
       "      <td>4</td>\n",
       "      <td>12</td>\n",
       "      <td>16.0</td>\n",
       "      <td>4</td>\n",
       "      <td>1</td>\n",
       "      <td>24852</td>\n",
       "      <td>1</td>\n",
       "    </tr>\n",
       "    <tr>\n",
       "      <th>1157621</th>\n",
       "      <td>1309369</td>\n",
       "      <td>30030</td>\n",
       "      <td>35</td>\n",
       "      <td>0</td>\n",
       "      <td>21</td>\n",
       "      <td>0.0</td>\n",
       "      <td>12</td>\n",
       "      <td>1</td>\n",
       "      <td>31717</td>\n",
       "      <td>0</td>\n",
       "    </tr>\n",
       "    <tr>\n",
       "      <th>968027</th>\n",
       "      <td>1840290</td>\n",
       "      <td>122847</td>\n",
       "      <td>70</td>\n",
       "      <td>2</td>\n",
       "      <td>7</td>\n",
       "      <td>1.0</td>\n",
       "      <td>4</td>\n",
       "      <td>1</td>\n",
       "      <td>16797</td>\n",
       "      <td>5</td>\n",
       "    </tr>\n",
       "  </tbody>\n",
       "</table>\n",
       "<p>12539 rows × 10 columns</p>\n",
       "</div>"
      ],
      "text/plain": [
       "        order_id   cstno  order_number week_day order_hour order_interval  \\\n",
       "337399    723248   73506            49        2         18            7.0   \n",
       "863974   1157628   87242            44        0          9            2.0   \n",
       "705649    472586  115797            44        5         10            5.0   \n",
       "328725     90531    7809             9        3         22            3.0   \n",
       "693936    142331   49902            45        5         16            4.0   \n",
       "...          ...     ...           ...      ...        ...            ...   \n",
       "559422   2021961  111788            23        0         13            9.0   \n",
       "702034   3117053   50095            49        6         21           21.0   \n",
       "1102016  1314624   28510            46        4         12           16.0   \n",
       "1157621  1309369   30030            35        0         21            0.0   \n",
       "968027   1840290  122847            70        2          7            1.0   \n",
       "\n",
       "        add_order is_reordered product_id max_day  \n",
       "337399          7            1      24838       1  \n",
       "863974          4            1      30391       5  \n",
       "705649          6            1      27966       0  \n",
       "328725          3            1       9076       6  \n",
       "693936          5            1      26209       0  \n",
       "...           ...          ...        ...     ...  \n",
       "559422         25            0      40706       2  \n",
       "702034         10            1      24852       6  \n",
       "1102016         4            1      24852       1  \n",
       "1157621        12            1      31717       0  \n",
       "968027          4            1      16797       5  \n",
       "\n",
       "[12539 rows x 10 columns]"
      ]
     },
     "execution_count": 145,
     "metadata": {},
     "output_type": "execute_result"
    }
   ],
   "source": [
    "max_day_test_set.astype({'order_number':'int'})\n",
    "#,'order_interval':float,'add_order':float"
   ]
  },
  {
   "cell_type": "code",
   "execution_count": 143,
   "id": "bac2eb7d-c4e8-4eac-88da-470699eb332f",
   "metadata": {},
   "outputs": [
    {
     "data": {
      "text/plain": [
       "order_id          object\n",
       "cstno             object\n",
       "order_number      object\n",
       "week_day          object\n",
       "order_hour        object\n",
       "order_interval    object\n",
       "add_order         object\n",
       "is_reordered      object\n",
       "product_id        object\n",
       "max_day           object\n",
       "dtype: object"
      ]
     },
     "execution_count": 143,
     "metadata": {},
     "output_type": "execute_result"
    }
   ],
   "source": [
    "#형변환에 대한 고민\n",
    "max_day_test_set.dtypes"
   ]
  },
  {
   "cell_type": "code",
   "execution_count": null,
   "id": "7da3fe86-4132-4c06-8141-40dba05ea665",
   "metadata": {},
   "outputs": [],
   "source": []
  }
 ],
 "metadata": {
  "kernelspec": {
   "display_name": "Python 3",
   "language": "python",
   "name": "python3"
  },
  "language_info": {
   "codemirror_mode": {
    "name": "ipython",
    "version": 3
   },
   "file_extension": ".py",
   "mimetype": "text/x-python",
   "name": "python",
   "nbconvert_exporter": "python",
   "pygments_lexer": "ipython3",
   "version": "3.6.13"
  }
 },
 "nbformat": 4,
 "nbformat_minor": 5
}
